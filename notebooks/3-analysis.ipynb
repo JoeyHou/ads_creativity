{
 "cells": [
  {
   "cell_type": "markdown",
   "id": "f7baf77f-384a-48e0-8bb8-9cda6b975422",
   "metadata": {},
   "source": [
    "# 0 Setup"
   ]
  },
  {
   "cell_type": "code",
   "execution_count": 4,
   "id": "ae09f6cd-96d9-4aae-afbe-75a979124dae",
   "metadata": {},
   "outputs": [],
   "source": [
    "import pickle\n",
    "import pandas as pd\n",
    "import numpy as np\n",
    "from scipy import stats\n",
    "import pickle\n",
    "import copy\n",
    "from math import log2"
   ]
  },
  {
   "cell_type": "code",
   "execution_count": 5,
   "id": "77d750d6-c057-4b33-88b1-a06f6f21efe1",
   "metadata": {},
   "outputs": [],
   "source": [
    "curr_dir = '/ihome/xli/joh227/developer/ads/workspace/'\n",
    "\n",
    "mturk_data_dir = curr_dir + 'data/mturk_data/'\n",
    "output_dir = curr_dir + 'data/outputs/'\n",
    "pickles_dir = output_dir + 'pickles/'\n",
    "original_data_dir = curr_dir + 'data/original_data/'"
   ]
  },
  {
   "cell_type": "code",
   "execution_count": 6,
   "id": "46fc20fb-2b92-49d9-8010-3563d378a431",
   "metadata": {},
   "outputs": [],
   "source": [
    "task_list = [\n",
    "    \"creativity\", \n",
    "    \"originality\",\n",
    "    \"atypicality\", \n",
    "]"
   ]
  },
  {
   "cell_type": "code",
   "execution_count": 7,
   "id": "9b835bbe-430f-4c68-8b4b-33b3abb8102f",
   "metadata": {},
   "outputs": [],
   "source": [
    "def read_pickle(checkpoint):\n",
    "    return pickle.load(open(pickles_dir + 'batch_pred_' + checkpoint + '.pkl', 'rb'))\n",
    "\n",
    "# def write_pickle(checkpoint):\n",
    "#     return pickle.dump(open(output_dir + 'cleaned/' + checkpoint + '.pkl', 'wb'))"
   ]
  },
  {
   "cell_type": "code",
   "execution_count": null,
   "id": "60153a20-0468-488d-b038-f090a6f28852",
   "metadata": {},
   "outputs": [],
   "source": []
  },
  {
   "cell_type": "markdown",
   "id": "fc2075b0-d071-444a-83a2-09fe2fb2ad02",
   "metadata": {
    "jp-MarkdownHeadingCollapsed": true
   },
   "source": [
    "# 1 Data Clean UP"
   ]
  },
  {
   "cell_type": "markdown",
   "id": "11acb750-45a6-4898-8325-566f4455235c",
   "metadata": {},
   "source": [
    "## 1.1 MTurk Data"
   ]
  },
  {
   "cell_type": "markdown",
   "id": "ff9b6a0f-e4a9-45ee-83d5-0b5a6ca24326",
   "metadata": {},
   "source": [
    "- **mturk data, gpt4 model: merge two checkpoints**"
   ]
  },
  {
   "cell_type": "code",
   "execution_count": 5,
   "id": "430d05ba-6172-4aac-b729-68a4798b49e8",
   "metadata": {},
   "outputs": [
    {
     "name": "stdout",
     "output_type": "stream",
     "text": [
      "updated!\n",
      "updated!\n",
      "updated!\n",
      "updated!\n",
      "updated!\n",
      "updated!\n",
      "updated!\n",
      "updated!\n"
     ]
    }
   ],
   "source": [
    "gpt4_mturk_base = read_pickle('gpt4_0612_205705')\n",
    "gpt4_mturk_disagreement = read_pickle('gpt4_0612_214338')\n",
    "\n",
    "for i in range(20):\n",
    "    for task in task_list:\n",
    "        correct_disagreement = gpt4_mturk_disagreement['intrinsic'][task][i]['disagreements']\n",
    "        if gpt4_mturk_base['intrinsic'][task][i]['disagreements'][0] != correct_disagreement[0]:\n",
    "            print('updated!')\n",
    "        gpt4_mturk_base['intrinsic'][task][i]['disagreements'] = copy.deepcopy(correct_disagreement)\n",
    "        \n",
    "        if gpt4_mturk_disagreement['intrinsic'][task][i]['true_disagreement'] != \\\n",
    "            gpt4_mturk_base['intrinsic'][task][i]['true_disagreement']: print('???')\n",
    "\n",
    "# pickle.dump(gpt4_mturk_base, open(output_dir + 'cleaned/mturk_gpt4_0612_205705.pkl', 'wb'))"
   ]
  },
  {
   "cell_type": "code",
   "execution_count": null,
   "id": "15d15d96-8479-4b94-8d09-d403c4073315",
   "metadata": {},
   "outputs": [],
   "source": []
  },
  {
   "cell_type": "code",
   "execution_count": 6,
   "id": "a89897ff-9717-4986-af9c-0acf191706a2",
   "metadata": {},
   "outputs": [],
   "source": [
    "gpt4_mturk_pairwise = read_pickle('gpt4_0613_214108')\n",
    "\n",
    "# pickle.dump(gpt4_mturk_pairwise, open(output_dir + 'cleaned/mturk_gpt4_pairwise_0613_214108.pkl', 'wb'))"
   ]
  },
  {
   "cell_type": "code",
   "execution_count": null,
   "id": "07cc3120-9375-4b20-a7aa-ccfb7273ba29",
   "metadata": {},
   "outputs": [],
   "source": []
  },
  {
   "cell_type": "markdown",
   "id": "41b59dd9-a114-47c9-b8d7-d0877640aac8",
   "metadata": {},
   "source": [
    "- **mturk data, llava 7b: merge 2 checkpoints**"
   ]
  },
  {
   "cell_type": "code",
   "execution_count": 7,
   "id": "d0ca8d1d-593b-4608-a706-f6e256d17111",
   "metadata": {},
   "outputs": [
    {
     "name": "stdout",
     "output_type": "stream",
     "text": [
      "20\n",
      "20\n",
      "20\n"
     ]
    }
   ],
   "source": [
    "\n",
    "llava7b_first = read_pickle('llava-hf-llava-v1.6-mistral-7b-hf_0612_222102')\n",
    "llava7b_other = read_pickle('llava-hf-llava-v1.6-mistral-7b-hf_0612_232503')\n",
    "\n",
    "len(llava7b_first['intrinsic']['creativity']), len(llava7b_other['intrinsic']['creativity'])\n",
    "\n",
    "for task in task_list:\n",
    "    llava7b_other['intrinsic'][task] = [copy.deepcopy(llava7b_first['intrinsic'][task][0])] + \\\n",
    "                                            llava7b_other['intrinsic'][task]\n",
    "    print(len(llava7b_other['intrinsic'][task]))\n",
    "    \n",
    "# pickle.dump(llava7b_other, open(output_dir + 'cleaned/mturk_llava7b_intrinsic_0612_232503.pkl', 'wb'))"
   ]
  },
  {
   "cell_type": "code",
   "execution_count": 8,
   "id": "fee9a2f8-cfcc-467a-bdfb-8a777bd73cbe",
   "metadata": {
    "scrolled": true
   },
   "outputs": [
    {
     "data": {
      "text/plain": [
       "21"
      ]
     },
     "execution_count": 8,
     "metadata": {},
     "output_type": "execute_result"
    }
   ],
   "source": [
    "len([llava7b_first['intrinsic']['creativity'][0]] + llava7b_other['intrinsic']['creativity'])"
   ]
  },
  {
   "cell_type": "code",
   "execution_count": null,
   "id": "70dfbf9c-a9d2-467c-b663-03a3fc32edd1",
   "metadata": {},
   "outputs": [],
   "source": []
  },
  {
   "cell_type": "markdown",
   "id": "618b3b17-7555-44b9-8935-218ba1e60937",
   "metadata": {},
   "source": [
    "- **mturk data, llava 7b: check pairwise output**"
   ]
  },
  {
   "cell_type": "code",
   "execution_count": 9,
   "id": "9f8d4681-e796-45a1-b59f-6ca7b762c073",
   "metadata": {},
   "outputs": [
    {
     "name": "stdout",
     "output_type": "stream",
     "text": [
      "creativity 58\n",
      "atypicality 119\n",
      "originality 106\n"
     ]
    }
   ],
   "source": [
    "llava7b_pairwise = read_pickle('llava-hf-llava-v1.6-mistral-7b-hf_0612_221414')\n",
    "\n",
    "for key in llava7b_pairwise['pairwise']:\n",
    "    print(key, len(llava7b_pairwise['pairwise'][key]))\n",
    "\n",
    "# pickle.dump(llava7b_pairwise, open(output_dir + 'cleaned/mturk_llava7b_pairwise_0612_221414.pkl', 'wb'))"
   ]
  },
  {
   "cell_type": "code",
   "execution_count": 10,
   "id": "cf224627-b19f-4e46-aad9-bc5ba73e4fa8",
   "metadata": {},
   "outputs": [],
   "source": [
    "# [pred['labels'][0] for pred in llava7b_pairwise['pairwise']['creativity']]"
   ]
  },
  {
   "cell_type": "code",
   "execution_count": null,
   "id": "016a8bce-9da1-4e81-9f4b-7c3bb87c7607",
   "metadata": {},
   "outputs": [],
   "source": []
  },
  {
   "cell_type": "code",
   "execution_count": null,
   "id": "ad21cae3-663d-4bec-a0c4-6d061fa5df60",
   "metadata": {},
   "outputs": [],
   "source": []
  },
  {
   "cell_type": "markdown",
   "id": "e5246176-eabe-4c8e-b345-ee1171f3e254",
   "metadata": {},
   "source": [
    "- **Mturk Data, llava 13b: check output**"
   ]
  },
  {
   "cell_type": "code",
   "execution_count": 60,
   "id": "3db5663e-7adb-4fb3-9846-c19b0019864e",
   "metadata": {},
   "outputs": [
    {
     "name": "stdout",
     "output_type": "stream",
     "text": [
      "creativity 20\n",
      "atypicality 20\n",
      "originality 20\n"
     ]
    }
   ],
   "source": [
    "llava13b_intrinsic = read_pickle('llava-hf-llava-v1.6-vicuna-13b-hf_0612_230716')\n",
    "# batch_pred_llava-hf-llava-v1.6-vicuna-13b-hf_0612_230716\n",
    "for key in llava13b_intrinsic['intrinsic']:\n",
    "    print(key, len(llava13b_intrinsic['intrinsic'][key]))\n",
    "\n",
    "# llava13b_pairwise = read_pickle('llava-hf-llava-v1.6-vicuna-13b-hf_0612_230716')\n",
    "# # batch_pred_llava-hf-llava-v1.6-vicuna-13b-hf_0612_230716\n",
    "# for key in llava13b_pairwise['intrinsic']:\n",
    "#     print(key, len(llava13b_pairwise['intrinsic'][key]))\n",
    "    \n",
    "# pickle.dump(llava13b_intrinsic, open(output_dir + 'cleaned/mturk_llava13b_intrinsic_0612_230716.pkl', 'wb'))"
   ]
  },
  {
   "cell_type": "code",
   "execution_count": 61,
   "id": "3b8a5811",
   "metadata": {},
   "outputs": [],
   "source": [
    "from collections import Counter"
   ]
  },
  {
   "cell_type": "code",
   "execution_count": 62,
   "id": "ea172c96",
   "metadata": {},
   "outputs": [
    {
     "data": {
      "text/plain": [
       "Counter({3: 10, 2: 8, 1: 2})"
      ]
     },
     "execution_count": 62,
     "metadata": {},
     "output_type": "execute_result"
    }
   ],
   "source": [
    "Counter([dp['labels'][0] for dp in llava13b_intrinsic['intrinsic']['creativity']])"
   ]
  },
  {
   "cell_type": "code",
   "execution_count": 63,
   "id": "28d92dde-4abb-44cd-b5d4-0c22a3015b40",
   "metadata": {},
   "outputs": [
    {
     "data": {
      "text/plain": [
       "Counter({2: 9, 3: 7, 1: 4})"
      ]
     },
     "execution_count": 63,
     "metadata": {},
     "output_type": "execute_result"
    }
   ],
   "source": [
    "Counter([dp['labels'][0] for dp in llava13b_intrinsic['intrinsic']['atypicality']])"
   ]
  },
  {
   "cell_type": "code",
   "execution_count": 29,
   "id": "46b835c7",
   "metadata": {},
   "outputs": [
    {
     "data": {
      "text/plain": [
       "1"
      ]
     },
     "execution_count": 29,
     "metadata": {},
     "output_type": "execute_result"
    }
   ],
   "source": [
    "llava13b_intrinsic['intrinsic']['atypicality'][2]['labels'][0]"
   ]
  },
  {
   "cell_type": "code",
   "execution_count": 32,
   "id": "4f0544df",
   "metadata": {},
   "outputs": [
    {
     "name": "stdout",
     "output_type": "stream",
     "text": [
      " the advertisement features a beer can being held by a robotic arm or prosthetic limb, which is not an abnormal or atypical connotation related to beer or safety. it is a normal depiction of a can being held.\n"
     ]
    }
   ],
   "source": [
    "print(llava13b_intrinsic['intrinsic']['atypicality'][2]['labels'][1].lower().split('explanation:')[1])"
   ]
  },
  {
   "cell_type": "code",
   "execution_count": 34,
   "id": "a38ae8f4",
   "metadata": {},
   "outputs": [],
   "source": [
    "# llava13b_intrinsic['intrinsic']['atypicality'][0].keys()"
   ]
  },
  {
   "cell_type": "markdown",
   "id": "fbe65903",
   "metadata": {},
   "source": [
    "- checking the output from vllm v.s. hf original "
   ]
  },
  {
   "cell_type": "code",
   "execution_count": 67,
   "id": "2284bdf9",
   "metadata": {},
   "outputs": [],
   "source": [
    "hf_outputs = [dp['labels'] for dp in llava13b_intrinsic['intrinsic']['atypicality']]"
   ]
  },
  {
   "cell_type": "code",
   "execution_count": 68,
   "id": "c207bc23",
   "metadata": {},
   "outputs": [],
   "source": [
    "vllm_outputs = pickle.load(open('majority_batch_outputs_new.pkl', 'rb'))\n",
    "# vllm_outputs"
   ]
  },
  {
   "cell_type": "code",
   "execution_count": 69,
   "id": "9d5c44e6",
   "metadata": {},
   "outputs": [
    {
     "data": {
      "text/plain": [
       "20"
      ]
     },
     "execution_count": 69,
     "metadata": {},
     "output_type": "execute_result"
    }
   ],
   "source": [
    "ads_ids = ['0/109120.jpg', '0/139270.jpg', '0/159310.jpg', '0/25580.jpg', '0/52390.jpg'\n",
    ", '0/81460.jpg', '0/84620.jpg', '0/85300.jpg', '0/95250.jpg', '1/108011.jpg'\n",
    ", '1/112831.jpg', '1/116521.jpg', '1/119501.jpg', '1/121071.jpg'\n",
    ", '1/130741.jpg', '1/84431.jpg', '2/122412.jpg', '2/124812.jpg', '2/18052.jpg'\n",
    ", '2/69422.jpg']\n",
    "len(ads_ids)"
   ]
  },
  {
   "cell_type": "code",
   "execution_count": 70,
   "id": "d5b77616",
   "metadata": {},
   "outputs": [],
   "source": [
    "pd.DataFrame({\n",
    "    'ads_id': ads_ids,\n",
    "    'vllm': [v[1] for v in vllm_outputs],\n",
    "    'hf': [v[1].lower().split('answer:')[1] for v in hf_outputs],\n",
    "}).to_csv('tmp_hf_vllm_comp.csv', index = False)"
   ]
  },
  {
   "cell_type": "markdown",
   "id": "34b2ad65-47db-453c-bfae-b2aa87a9f13f",
   "metadata": {},
   "source": [
    "## 1.2 Original Data"
   ]
  },
  {
   "cell_type": "markdown",
   "id": "1c11a21c-b6df-49fa-a790-2bef45630e79",
   "metadata": {},
   "source": [
    "- **original data, gpt4: merge 2 checkpoints**"
   ]
  },
  {
   "cell_type": "code",
   "execution_count": 12,
   "id": "2c0a55d6-6654-41d7-9064-8dcab34c244d",
   "metadata": {},
   "outputs": [
    {
     "name": "stdout",
     "output_type": "stream",
     "text": [
      "167 135\n",
      "300 135\n"
     ]
    }
   ],
   "source": [
    "gpt4_first = read_pickle('gpt4_0612_220511')\n",
    "gpt4_second = read_pickle('gpt4_0612_224413')\n",
    "\n",
    "print(len(gpt4_first['intrinsic']['atypicality']), len(gpt4_second['intrinsic']['atypicality']))\n",
    "\n",
    "gpt4_first['intrinsic']['atypicality'] = copy.deepcopy(gpt4_first['intrinsic']['atypicality'][:-2]) + \\\n",
    "                                    copy.deepcopy(gpt4_second['intrinsic']['atypicality'])\n",
    "\n",
    "print(len(gpt4_first['intrinsic']['atypicality']), len(gpt4_second['intrinsic']['atypicality']))\n",
    "\n",
    "# pickle.dump(gpt4_first, open(output_dir + 'cleaned/original_gpt4_0612_220511.pkl', 'wb'))"
   ]
  },
  {
   "cell_type": "code",
   "execution_count": 13,
   "id": "5867e60d-a387-45ec-a075-1d568f1358fc",
   "metadata": {},
   "outputs": [],
   "source": [
    "# gpt4_first['intrinsic'].keys()"
   ]
  },
  {
   "cell_type": "code",
   "execution_count": null,
   "id": "819401d6-fe61-45a8-97db-5992b1f84880",
   "metadata": {},
   "outputs": [],
   "source": []
  },
  {
   "cell_type": "markdown",
   "id": "f5e1505a-4d4d-425c-b6bc-c138330d40eb",
   "metadata": {},
   "source": [
    "- **original data, gpt4: pairwise data (done)**"
   ]
  },
  {
   "cell_type": "code",
   "execution_count": 14,
   "id": "45090443-240c-4d79-93f7-4cb726a0c77f",
   "metadata": {},
   "outputs": [
    {
     "name": "stdout",
     "output_type": "stream",
     "text": [
      "510 490\n",
      "1000\n"
     ]
    }
   ],
   "source": [
    "od_gpt4_pairwise_old = read_pickle('gpt4_0612_224413')\n",
    "od_gpt4_pairwise_new = read_pickle('gpt4_0613_154616')\n",
    "\n",
    "print(len(od_gpt4_pairwise_old['pairwise']['atypicality']), len(od_gpt4_pairwise_new['pairwise']['atypicality']))\n",
    "\n",
    "old_ids = [pred['ads_ids'] for pred in od_gpt4_pairwise_old['pairwise']['atypicality']]\n",
    "for pred in od_gpt4_pairwise_new['pairwise']['atypicality']:\n",
    "    # print(pred['ads_ids'], old_ids[0])\n",
    "    if pred['ads_ids'] in old_ids: print(1)\n",
    "\n",
    "od_gpt4_pairwise_old['pairwise']['atypicality'] = copy.deepcopy(od_gpt4_pairwise_old['pairwise']['atypicality']) + \\\n",
    "                                            copy.deepcopy(od_gpt4_pairwise_new['pairwise']['atypicality']) \n",
    "print(len(od_gpt4_pairwise_old['pairwise']['atypicality']))\n",
    "\n",
    "# pickle.dump(od_gpt4_pairwise_old, open(output_dir + 'cleaned/original_gpt4_pairwise_0612_224413.pkl', 'wb'))"
   ]
  },
  {
   "cell_type": "code",
   "execution_count": null,
   "id": "f43fee38-2424-4efd-9d03-43848d320c59",
   "metadata": {},
   "outputs": [],
   "source": []
  },
  {
   "cell_type": "code",
   "execution_count": null,
   "id": "1dd92a63-425b-4b7e-9f9b-143f3956c2d9",
   "metadata": {},
   "outputs": [],
   "source": []
  },
  {
   "cell_type": "markdown",
   "id": "738f0653-b9d8-454d-9243-493090b106c9",
   "metadata": {},
   "source": [
    "- **original data, llava7b: check intrinsic data**"
   ]
  },
  {
   "cell_type": "code",
   "execution_count": 15,
   "id": "a9057cb0-7f85-4aa2-a54f-880f3e093489",
   "metadata": {},
   "outputs": [
    {
     "name": "stdout",
     "output_type": "stream",
     "text": [
      "atypicality 300\n"
     ]
    }
   ],
   "source": [
    "llava7b_intrinsic = read_pickle('llava-hf-llava-v1.6-mistral-7b-hf_0612_233034')\n",
    "\n",
    "for key in llava7b_intrinsic['intrinsic']:\n",
    "    print(key, len(llava7b_intrinsic['intrinsic'][key]))\n",
    "\n",
    "# pickle.dump(llava7b_intrinsic, open(output_dir + 'cleaned/original_llava7b_intrinsic_0612_233034.pkl', 'wb'))"
   ]
  },
  {
   "cell_type": "code",
   "execution_count": null,
   "id": "a1c18304-18d4-415d-9533-bef37023c8b6",
   "metadata": {},
   "outputs": [],
   "source": []
  },
  {
   "cell_type": "code",
   "execution_count": null,
   "id": "c5adcd2d-2f09-4646-bc01-4d180c03eb4e",
   "metadata": {},
   "outputs": [],
   "source": []
  },
  {
   "cell_type": "markdown",
   "id": "ce43658f-faa7-42ae-a97e-7ed89455be2f",
   "metadata": {},
   "source": [
    "- **original data, llava7b: pairwise data (done)**"
   ]
  },
  {
   "cell_type": "code",
   "execution_count": 16,
   "id": "42149df1-6230-4922-8689-2877be34c026",
   "metadata": {},
   "outputs": [
    {
     "name": "stdout",
     "output_type": "stream",
     "text": [
      "580 420\n",
      "1000\n"
     ]
    }
   ],
   "source": [
    "od_llava7b_pairwise = read_pickle('llava-hf-llava-v1.6-mistral-7b-hf_0612_233034')\n",
    "od_llava7b_pairwise_new = read_pickle('llava-hf-llava-v1.6-mistral-7b-hf_0613_151333')\n",
    "\n",
    "print(len(od_llava7b_pairwise['pairwise']['atypicality']), len(od_llava7b_pairwise_new['pairwise']['atypicality']))\n",
    "\n",
    "old_ids = [pred['ads_ids'] for pred in od_llava7b_pairwise['pairwise']['atypicality']]\n",
    "for pred in od_llava7b_pairwise_new['pairwise']['atypicality']:\n",
    "    if pred['ads_ids'] in old_ids: print(1)\n",
    "\n",
    "od_llava7b_pairwise['pairwise']['atypicality'] = copy.deepcopy(od_llava7b_pairwise['pairwise']['atypicality']) + \\\n",
    "                                            copy.deepcopy(od_llava7b_pairwise_new['pairwise']['atypicality']) \n",
    "print(len(od_llava7b_pairwise['pairwise']['atypicality']))\n",
    "\n",
    "# pickle.dump(od_llava7b_pairwise, open(output_dir + 'cleaned/original_llava7b_pairwise_0612_233034.pkl', 'wb'))"
   ]
  },
  {
   "cell_type": "code",
   "execution_count": 17,
   "id": "077e0afe-d124-4688-97e1-60f873c44bd2",
   "metadata": {},
   "outputs": [],
   "source": [
    "# 500/33*10/60\n",
    "# 1000 * 10 /60 "
   ]
  },
  {
   "cell_type": "code",
   "execution_count": null,
   "id": "4215e0ae-2482-453a-9307-9a9629d566b8",
   "metadata": {},
   "outputs": [],
   "source": []
  },
  {
   "cell_type": "markdown",
   "id": "ae2f8ab2-44e4-444f-b716-b9915e444e2d",
   "metadata": {},
   "source": [
    "- **original data, llava 13b: intrinsic data (on going)**"
   ]
  },
  {
   "cell_type": "code",
   "execution_count": null,
   "id": "b6de88ef-ff92-4c34-abf4-2c0e3e3731cb",
   "metadata": {},
   "outputs": [],
   "source": []
  },
  {
   "cell_type": "code",
   "execution_count": 18,
   "id": "59b7ff90-9e87-4ac3-b5d3-2d8e3bc9d229",
   "metadata": {},
   "outputs": [
    {
     "name": "stdout",
     "output_type": "stream",
     "text": [
      "300\n"
     ]
    }
   ],
   "source": [
    "od_llava_13b_intrinsic = read_pickle('llava-hf-llava-v1.6-vicuna-13b-hf_0613_113553')\n",
    "print(len(od_llava_13b_intrinsic['intrinsic']['atypicality']))\n",
    "\n",
    "# pickle.dump(od_llava_13b_intrinsic, open(output_dir + 'cleaned/original_llava13b_intrinsic_0613_113553.pkl', 'wb'))"
   ]
  },
  {
   "cell_type": "code",
   "execution_count": null,
   "id": "cc26f469-1a28-4443-aed5-4fa162d2ecd4",
   "metadata": {},
   "outputs": [],
   "source": []
  },
  {
   "cell_type": "markdown",
   "id": "aa800f59-c54f-43d2-bbb5-76924f0bc735",
   "metadata": {},
   "source": [
    "- **original data, llava 13b: pairwise data (done)**"
   ]
  },
  {
   "cell_type": "code",
   "execution_count": 19,
   "id": "a8ff2197-620c-4e7a-9ce6-7baddd500c36",
   "metadata": {},
   "outputs": [
    {
     "name": "stdout",
     "output_type": "stream",
     "text": [
      "1000\n"
     ]
    }
   ],
   "source": [
    "od_llava_13b_pairwise = read_pickle('llava-hf-llava-v1.6-vicuna-13b-hf_0613_152712')\n",
    "print(len(od_llava_13b_pairwise['pairwise']['atypicality']))\n",
    "\n",
    "# pickle.dump(od_llava_13b_pairwise, open(output_dir + 'cleaned/original_llava13b_pairwise_0613_152712.pkl', 'wb'))"
   ]
  },
  {
   "cell_type": "code",
   "execution_count": null,
   "id": "73a69b55-2e73-4489-88d2-aef08ac02769",
   "metadata": {},
   "outputs": [],
   "source": []
  },
  {
   "cell_type": "markdown",
   "id": "d24060c4-43ae-4b7a-9c23-d115a04b7253",
   "metadata": {},
   "source": [
    "# 2 Intrinsic Eval"
   ]
  },
  {
   "cell_type": "code",
   "execution_count": 17,
   "id": "8f18a25b-29eb-4c0f-b4b2-792424f33971",
   "metadata": {},
   "outputs": [],
   "source": [
    "from sklearn.metrics import accuracy_score, f1_score"
   ]
  },
  {
   "cell_type": "code",
   "execution_count": 29,
   "id": "8d2eb4ad-89bb-4ae8-a027-27198ab404b0",
   "metadata": {},
   "outputs": [],
   "source": [
    "def get_prob(raw_values, unique_values = [1, 2, 3]):\n",
    "    # unique_values = sorted(list(np.unique(kl_div)))\n",
    "    # prob = []\n",
    "    return np.array([\n",
    "        (sum(np.array(raw_values) == k) + 1) / (len(raw_values) + len(unique_values))\n",
    "        for k in unique_values\n",
    "    ])\n",
    "\n",
    "# # calculate the kl divergence\n",
    "# def kl_divergence(true, pred):\n",
    "#     q = get_prob(pred)\n",
    "#     p = get_prob(true)\n",
    "#     return sum(p[i] * log2(p[i]/q[i]) for i in range(len(p)))\n",
    "\n",
    "# def js_divergence(true, pred):\n",
    "#     q = get_prob(pred)\n",
    "#     p = get_prob(true)\n",
    "#     m = 0.5 * (p + q)\n",
    "#     return 0.5 * kl_divergence(p, m) + 0.5 * kl_divergence(q, m)\n",
    "\n",
    "# calculate the kl divergence\n",
    "def kl_divergence(p, q):\n",
    "    return sum(p[i] * log2(p[i]/q[i]) for i in range(len(p)))\n",
    "\n",
    " \n",
    "# calculate the js divergence\n",
    "def js_divergence(p, q):\n",
    "    m = 0.5 * (p + q)\n",
    "    return 0.5 * kl_divergence(p, m) + 0.5 * kl_divergence(q, m)\n",
    "\n",
    "def eval_intrinsic(intrinsic_pred, intrinsic_data, task):\n",
    "    intrinsic_pred_task = intrinsic_pred[task]\n",
    "    \n",
    "    # single_label - correlation\n",
    "    majority_labels = intrinsic_data[task + '_majority'].values\n",
    "    true_labels = [pred['true_average'] for pred in intrinsic_pred_task]\n",
    "    pred_labels = [pred['labels'][0] for pred in intrinsic_pred_task]\n",
    "    single_label_corr = stats.spearmanr(true_labels, pred_labels) # get pearson r\n",
    "    \n",
    "    # single_label - accuracy\n",
    "    single_label_acc = accuracy_score(majority_labels, pred_labels)\n",
    "    single_label_f1 = f1_score(majority_labels, pred_labels, average = 'weighted')\n",
    "    \n",
    "    # distribution - KL\n",
    "    kl = []\n",
    "    # js =[]\n",
    "    pred_distributions = [[p[0] for p in pred['label_distribution']] for pred in intrinsic_pred_task]\n",
    "    true_distributions = [eval(lst) for lst in intrinsic_data[task + '_distribution'].values]\n",
    "    # print(len(pred_distributions[0]), len(true_distributions[0]))\n",
    "    if len(pred_distributions) > 0 and len(pred_distributions[0]) > 0:\n",
    "        for i in range(len(pred_distributions)):\n",
    "            q = get_prob(pred_distributions[i])\n",
    "            p = get_prob(true_distributions[i])\n",
    "            kl.append(kl_divergence(p, q))\n",
    "            # js.append(js_divergence(p, q))\n",
    "            \n",
    "\n",
    "    # disagreement\n",
    "    # pred_disagreements = [pred['disagreements'][0] for pred in intrinsic_pred_task]\n",
    "    # true_disagreements = intrinsic_data[task + '_disagreement'].values\n",
    "    # disagreement_corr = stats.spearmanr(pred_disagreements, true_disagreements) #.statistic # get pearson r\n",
    "\n",
    "    return {\n",
    "        \"single_label_acc\": round(single_label_acc, 4),\n",
    "        \"single_label_f1\": round(single_label_f1, 4),\n",
    "        \"single_label_corr\": round(single_label_corr.statistic, 4),\n",
    "        \"single_label_corr_p\": round(single_label_corr.pvalue, 4),\n",
    "        \"kl_avg\": round(np.mean(kl), 4) if len(kl) > 0 else None,\n",
    "        # \"js_avg\": round(np.mean(js), 4) if len(js) > 0 else None,\n",
    "        \"pred_distributions\": pred_distributions,\n",
    "        \"true_distributions\": true_distributions,\n",
    "        \"all_kl\": kl,\n",
    "        # \"disagreement_corr\": round(disagreement_corr.statistic, 4),\n",
    "        # \"disagreement_corr_p\": round(disagreement_corr.pvalue, 4),\n",
    "    }\n",
    "        \n",
    "def eval_batch_intrinsic(batch_pred, original = False):\n",
    "    intrinsic_pred = batch_pred['intrinsic']\n",
    "    task_list = [\n",
    "        \"creativity\", \n",
    "        \"atypicality\", \n",
    "        \"originality\"\n",
    "    ]\n",
    "    data_path = \"./data/mturk_data/subset_0.5/\" \n",
    "    intrinsic_data = pd.read_csv(data_path + \"modeling_instrinsic_data.csv\")\n",
    "    if original: \n",
    "        task_list = ['atypicality']\n",
    "        data_path = \"./data/\" \n",
    "        intrinsic_data = pd.read_csv(data_path + \"modeling_instrinsic_atypicality_train.csv\")\n",
    "\n",
    "    eval_results = []\n",
    "    for task in task_list:\n",
    "        tmp_result = eval_intrinsic(intrinsic_pred, intrinsic_data, task)\n",
    "        tmp_result['task'] = task\n",
    "        eval_results.append(tmp_result)\n",
    "    eval_result_df = pd.DataFrame(eval_results)\n",
    "    # display(eval_result_df)\n",
    "    return eval_result_df\n"
   ]
  },
  {
   "cell_type": "code",
   "execution_count": 32,
   "id": "1d198cd6-575a-43a9-a3d2-e8f03f05ad62",
   "metadata": {},
   "outputs": [
    {
     "data": {
      "text/plain": [
       "(20, 19)"
      ]
     },
     "execution_count": 32,
     "metadata": {},
     "output_type": "execute_result"
    }
   ],
   "source": [
    "data_path = \"./data/mturk_data/subset_0.5/\"\n",
    "intrinsic_data = pd.read_csv(data_path + \"modeling_instrinsic_data.csv\")\n",
    "# intrinsic_data.iloc[[10, 14]]\n",
    "intrinsic_data.shape"
   ]
  },
  {
   "cell_type": "code",
   "execution_count": 59,
   "id": "c1b49c6b",
   "metadata": {},
   "outputs": [],
   "source": [
    "tmp_output = pickle.load(open(\n",
    "        output_dir + 'pickles/batch_pred_llava-hf-llava-v1.6-vicuna-13b-hf_1204_235115.pkl', 'rb'\n",
    "    ))"
   ]
  },
  {
   "cell_type": "code",
   "execution_count": 60,
   "id": "f6f1bccf",
   "metadata": {},
   "outputs": [
    {
     "data": {
      "text/html": [
       "<div>\n",
       "<style scoped>\n",
       "    .dataframe tbody tr th:only-of-type {\n",
       "        vertical-align: middle;\n",
       "    }\n",
       "\n",
       "    .dataframe tbody tr th {\n",
       "        vertical-align: top;\n",
       "    }\n",
       "\n",
       "    .dataframe thead th {\n",
       "        text-align: right;\n",
       "    }\n",
       "</style>\n",
       "<table border=\"1\" class=\"dataframe\">\n",
       "  <thead>\n",
       "    <tr style=\"text-align: right;\">\n",
       "      <th></th>\n",
       "      <th>ads_id</th>\n",
       "      <th>creativity_distribution</th>\n",
       "      <th>creativity_value_count</th>\n",
       "      <th>creativity_average</th>\n",
       "      <th>creativity_disagreement</th>\n",
       "      <th>creativity_majority</th>\n",
       "      <th>creativity_majority_percentage</th>\n",
       "      <th>atypicality_distribution</th>\n",
       "      <th>atypicality_value_count</th>\n",
       "      <th>atypicality_average</th>\n",
       "      <th>atypicality_disagreement</th>\n",
       "      <th>atypicality_majority</th>\n",
       "      <th>atypicality_majority_percentage</th>\n",
       "      <th>originality_distribution</th>\n",
       "      <th>originality_value_count</th>\n",
       "      <th>originality_average</th>\n",
       "      <th>originality_disagreement</th>\n",
       "      <th>originality_majority</th>\n",
       "      <th>originality_majority_percentage</th>\n",
       "    </tr>\n",
       "    <tr>\n",
       "      <th>ads_id</th>\n",
       "      <th></th>\n",
       "      <th></th>\n",
       "      <th></th>\n",
       "      <th></th>\n",
       "      <th></th>\n",
       "      <th></th>\n",
       "      <th></th>\n",
       "      <th></th>\n",
       "      <th></th>\n",
       "      <th></th>\n",
       "      <th></th>\n",
       "      <th></th>\n",
       "      <th></th>\n",
       "      <th></th>\n",
       "      <th></th>\n",
       "      <th></th>\n",
       "      <th></th>\n",
       "      <th></th>\n",
       "      <th></th>\n",
       "    </tr>\n",
       "  </thead>\n",
       "  <tbody>\n",
       "    <tr>\n",
       "      <th>0/109120.jpg</th>\n",
       "      <td>0/109120.jpg</td>\n",
       "      <td>[3, 3, 1, 2, 2, 2, 2, 1, 2, 2, 2, 2, 2, 2, 2, ...</td>\n",
       "      <td>{1: 2, 2: 19, 3: 4}</td>\n",
       "      <td>2.08</td>\n",
       "      <td>0.2336</td>\n",
       "      <td>2</td>\n",
       "      <td>0.76</td>\n",
       "      <td>[3, 1, 1, 1, 1, 1, 1, 1, 1, 1, 1, 1, 1, 1, 1, ...</td>\n",
       "      <td>{1: 21, 3: 4}</td>\n",
       "      <td>1.32</td>\n",
       "      <td>0.5376</td>\n",
       "      <td>1</td>\n",
       "      <td>0.84</td>\n",
       "      <td>[3, 2, 1, 1, 1, 2, 2, 1, 1, 2, 1, 2, 1, 1, 3, ...</td>\n",
       "      <td>{1: 12, 2: 9, 3: 4}</td>\n",
       "      <td>1.68</td>\n",
       "      <td>0.5376</td>\n",
       "      <td>1</td>\n",
       "      <td>0.48</td>\n",
       "    </tr>\n",
       "    <tr>\n",
       "      <th>0/139270.jpg</th>\n",
       "      <td>0/139270.jpg</td>\n",
       "      <td>[1, 1, 2, 2, 2, 3, 2, 2, 3, 2, 2, 2, 2, 2, 2, ...</td>\n",
       "      <td>{1: 3, 2: 18, 3: 4}</td>\n",
       "      <td>2.04</td>\n",
       "      <td>0.2784</td>\n",
       "      <td>2</td>\n",
       "      <td>0.72</td>\n",
       "      <td>[3, 1, 2, 1, 3, 2, 1, 2, 2, 2, 3, 2, 2, 1, 1, ...</td>\n",
       "      <td>{1: 7, 2: 8, 3: 10}</td>\n",
       "      <td>2.12</td>\n",
       "      <td>0.6656</td>\n",
       "      <td>3</td>\n",
       "      <td>0.40</td>\n",
       "      <td>[3, 2, 3, 3, 3, 2, 2, 1, 1, 2, 3, 3, 2, 3, 1, ...</td>\n",
       "      <td>{1: 7, 2: 6, 3: 12}</td>\n",
       "      <td>2.20</td>\n",
       "      <td>0.7200</td>\n",
       "      <td>3</td>\n",
       "      <td>0.48</td>\n",
       "    </tr>\n",
       "  </tbody>\n",
       "</table>\n",
       "</div>"
      ],
      "text/plain": [
       "                    ads_id                            creativity_distribution  \\\n",
       "ads_id                                                                          \n",
       "0/109120.jpg  0/109120.jpg  [3, 3, 1, 2, 2, 2, 2, 1, 2, 2, 2, 2, 2, 2, 2, ...   \n",
       "0/139270.jpg  0/139270.jpg  [1, 1, 2, 2, 2, 3, 2, 2, 3, 2, 2, 2, 2, 2, 2, ...   \n",
       "\n",
       "             creativity_value_count  creativity_average  \\\n",
       "ads_id                                                    \n",
       "0/109120.jpg    {1: 2, 2: 19, 3: 4}                2.08   \n",
       "0/139270.jpg    {1: 3, 2: 18, 3: 4}                2.04   \n",
       "\n",
       "              creativity_disagreement  creativity_majority  \\\n",
       "ads_id                                                       \n",
       "0/109120.jpg                   0.2336                    2   \n",
       "0/139270.jpg                   0.2784                    2   \n",
       "\n",
       "              creativity_majority_percentage  \\\n",
       "ads_id                                         \n",
       "0/109120.jpg                            0.76   \n",
       "0/139270.jpg                            0.72   \n",
       "\n",
       "                                       atypicality_distribution  \\\n",
       "ads_id                                                            \n",
       "0/109120.jpg  [3, 1, 1, 1, 1, 1, 1, 1, 1, 1, 1, 1, 1, 1, 1, ...   \n",
       "0/139270.jpg  [3, 1, 2, 1, 3, 2, 1, 2, 2, 2, 3, 2, 2, 1, 1, ...   \n",
       "\n",
       "             atypicality_value_count  atypicality_average  \\\n",
       "ads_id                                                      \n",
       "0/109120.jpg           {1: 21, 3: 4}                 1.32   \n",
       "0/139270.jpg     {1: 7, 2: 8, 3: 10}                 2.12   \n",
       "\n",
       "              atypicality_disagreement  atypicality_majority  \\\n",
       "ads_id                                                         \n",
       "0/109120.jpg                    0.5376                     1   \n",
       "0/139270.jpg                    0.6656                     3   \n",
       "\n",
       "              atypicality_majority_percentage  \\\n",
       "ads_id                                          \n",
       "0/109120.jpg                             0.84   \n",
       "0/139270.jpg                             0.40   \n",
       "\n",
       "                                       originality_distribution  \\\n",
       "ads_id                                                            \n",
       "0/109120.jpg  [3, 2, 1, 1, 1, 2, 2, 1, 1, 2, 1, 2, 1, 1, 3, ...   \n",
       "0/139270.jpg  [3, 2, 3, 3, 3, 2, 2, 1, 1, 2, 3, 3, 2, 3, 1, ...   \n",
       "\n",
       "             originality_value_count  originality_average  \\\n",
       "ads_id                                                      \n",
       "0/109120.jpg     {1: 12, 2: 9, 3: 4}                 1.68   \n",
       "0/139270.jpg     {1: 7, 2: 6, 3: 12}                 2.20   \n",
       "\n",
       "              originality_disagreement  originality_majority  \\\n",
       "ads_id                                                         \n",
       "0/109120.jpg                    0.5376                     1   \n",
       "0/139270.jpg                    0.7200                     3   \n",
       "\n",
       "              originality_majority_percentage  \n",
       "ads_id                                         \n",
       "0/109120.jpg                             0.48  \n",
       "0/139270.jpg                             0.48  "
      ]
     },
     "execution_count": 60,
     "metadata": {},
     "output_type": "execute_result"
    }
   ],
   "source": [
    "data_path = \"./data/mturk_data/subset_0.5/\" \n",
    "intrinsic_data = pd.read_csv(data_path + \"modeling_instrinsic_data.csv\")\n",
    "intrinsic_data.index = intrinsic_data['ads_id']\n",
    "intrinsic_data.head(2)"
   ]
  },
  {
   "cell_type": "code",
   "execution_count": 61,
   "id": "b9b0e164",
   "metadata": {},
   "outputs": [
    {
     "data": {
      "text/plain": [
       "20"
      ]
     },
     "execution_count": 61,
     "metadata": {},
     "output_type": "execute_result"
    }
   ],
   "source": [
    "len(tmp_output['intrinsic']['atypicality']['ads_ids'])"
   ]
  },
  {
   "cell_type": "code",
   "execution_count": 62,
   "id": "01d813a6",
   "metadata": {},
   "outputs": [],
   "source": [
    "# (tmp_output['intrinsic']['atypicality']['label_distribution'])[0]"
   ]
  },
  {
   "cell_type": "code",
   "execution_count": 63,
   "id": "89244d31",
   "metadata": {},
   "outputs": [],
   "source": [
    "# eval_batch_intrinsic(\n",
    "#     pickle.load(open(\n",
    "#         output_dir + 'pickles/batch_pred_llava-hf-llava-v1.6-vicuna-13b-hf_1204_235115.pkl', 'rb'\n",
    "#     ))\n",
    "# )"
   ]
  },
  {
   "cell_type": "code",
   "execution_count": 64,
   "id": "bd6577b3",
   "metadata": {},
   "outputs": [],
   "source": [
    "task_list = [\"atypicality\", \"creativity\", \"originality\"]\n",
    "tmp_output_intr_transformed = {task: [] for task in task_list}\n",
    "for i in range(20):\n",
    "    for task in task_list:\n",
    "        ads_id = tmp_output['intrinsic'][task]['ads_ids'][i]\n",
    "        true_average = intrinsic_data.loc[ads_id][task + '_average']\n",
    "        true_distribution = intrinsic_data.loc[ads_id][task + '_distribution']\n",
    "        true_disagreement = intrinsic_data.loc[ads_id][task + '_disagreement']\n",
    "        tmp_dp = {\n",
    "            'ads_id': ads_id,\n",
    "            'labels': tmp_output['intrinsic'][task]['labels'][i],\n",
    "            'label_distribution': tmp_output['intrinsic'][task]['label_distribution'][i],\n",
    "            'disagreements': tmp_output['intrinsic'][task]['disagreements'][i],\n",
    "            'true_average': true_average,\n",
    "            'true_distribution': true_distribution,\n",
    "            'true_disagreement': true_disagreement,\n",
    "        }\n",
    "        tmp_output_intr_transformed[task].append(tmp_dp)"
   ]
  },
  {
   "cell_type": "code",
   "execution_count": 65,
   "id": "36ae2816",
   "metadata": {},
   "outputs": [],
   "source": [
    "tmp_output['intrinsic'] = tmp_output_intr_transformed"
   ]
  },
  {
   "cell_type": "code",
   "execution_count": 66,
   "id": "0443a318",
   "metadata": {},
   "outputs": [
    {
     "data": {
      "text/html": [
       "<div>\n",
       "<style scoped>\n",
       "    .dataframe tbody tr th:only-of-type {\n",
       "        vertical-align: middle;\n",
       "    }\n",
       "\n",
       "    .dataframe tbody tr th {\n",
       "        vertical-align: top;\n",
       "    }\n",
       "\n",
       "    .dataframe thead th {\n",
       "        text-align: right;\n",
       "    }\n",
       "</style>\n",
       "<table border=\"1\" class=\"dataframe\">\n",
       "  <thead>\n",
       "    <tr style=\"text-align: right;\">\n",
       "      <th></th>\n",
       "      <th>single_label_acc</th>\n",
       "      <th>single_label_f1</th>\n",
       "      <th>single_label_corr</th>\n",
       "      <th>single_label_corr_p</th>\n",
       "      <th>kl_avg</th>\n",
       "      <th>pred_distributions</th>\n",
       "      <th>true_distributions</th>\n",
       "      <th>all_kl</th>\n",
       "      <th>task</th>\n",
       "    </tr>\n",
       "  </thead>\n",
       "  <tbody>\n",
       "    <tr>\n",
       "      <th>0</th>\n",
       "      <td>0.20</td>\n",
       "      <td>0.1332</td>\n",
       "      <td>0.3934</td>\n",
       "      <td>0.0861</td>\n",
       "      <td>0.7694</td>\n",
       "      <td>[[2, 3, 3, 3, 3, 2, 3, 3, 3, 3, 3, 3, 2, 3, 3,...</td>\n",
       "      <td>[[3, 3, 1, 2, 2, 2, 2, 1, 2, 2, 2, 2, 2, 2, 2,...</td>\n",
       "      <td>[0.8270584575681375, 0.4597093425408186, 0.175...</td>\n",
       "      <td>creativity</td>\n",
       "    </tr>\n",
       "    <tr>\n",
       "      <th>1</th>\n",
       "      <td>0.45</td>\n",
       "      <td>0.3375</td>\n",
       "      <td>0.4912</td>\n",
       "      <td>0.0279</td>\n",
       "      <td>0.8364</td>\n",
       "      <td>[[3, 2, 3, 3, 3, 3, 2, 2, 2, 3, 3, 2, 2, 2, 1,...</td>\n",
       "      <td>[[3, 1, 1, 1, 1, 1, 1, 1, 1, 1, 1, 1, 1, 1, 1,...</td>\n",
       "      <td>[2.154869483161003, 0.2383199017521784, 0.7560...</td>\n",
       "      <td>atypicality</td>\n",
       "    </tr>\n",
       "    <tr>\n",
       "      <th>2</th>\n",
       "      <td>0.70</td>\n",
       "      <td>0.7194</td>\n",
       "      <td>0.8072</td>\n",
       "      <td>0.0000</td>\n",
       "      <td>0.6075</td>\n",
       "      <td>[[2, 3, 2, 2, 3, 2, 2, 3, 2, 2, 3, 2, 3, 3, 3,...</td>\n",
       "      <td>[[3, 2, 1, 1, 1, 2, 2, 1, 1, 2, 1, 2, 1, 1, 3,...</td>\n",
       "      <td>[0.7246137391680343, 0.4827073712960889, 0.012...</td>\n",
       "      <td>originality</td>\n",
       "    </tr>\n",
       "  </tbody>\n",
       "</table>\n",
       "</div>"
      ],
      "text/plain": [
       "   single_label_acc  single_label_f1  single_label_corr  single_label_corr_p  \\\n",
       "0              0.20           0.1332             0.3934               0.0861   \n",
       "1              0.45           0.3375             0.4912               0.0279   \n",
       "2              0.70           0.7194             0.8072               0.0000   \n",
       "\n",
       "   kl_avg                                 pred_distributions  \\\n",
       "0  0.7694  [[2, 3, 3, 3, 3, 2, 3, 3, 3, 3, 3, 3, 2, 3, 3,...   \n",
       "1  0.8364  [[3, 2, 3, 3, 3, 3, 2, 2, 2, 3, 3, 2, 2, 2, 1,...   \n",
       "2  0.6075  [[2, 3, 2, 2, 3, 2, 2, 3, 2, 2, 3, 2, 3, 3, 3,...   \n",
       "\n",
       "                                  true_distributions  \\\n",
       "0  [[3, 3, 1, 2, 2, 2, 2, 1, 2, 2, 2, 2, 2, 2, 2,...   \n",
       "1  [[3, 1, 1, 1, 1, 1, 1, 1, 1, 1, 1, 1, 1, 1, 1,...   \n",
       "2  [[3, 2, 1, 1, 1, 2, 2, 1, 1, 2, 1, 2, 1, 1, 3,...   \n",
       "\n",
       "                                              all_kl         task  \n",
       "0  [0.8270584575681375, 0.4597093425408186, 0.175...   creativity  \n",
       "1  [2.154869483161003, 0.2383199017521784, 0.7560...  atypicality  \n",
       "2  [0.7246137391680343, 0.4827073712960889, 0.012...  originality  "
      ]
     },
     "execution_count": 66,
     "metadata": {},
     "output_type": "execute_result"
    }
   ],
   "source": [
    "eval_batch_intrinsic(tmp_output)"
   ]
  },
  {
   "cell_type": "code",
   "execution_count": 67,
   "id": "e2b5cbc9",
   "metadata": {},
   "outputs": [
    {
     "data": {
      "text/html": [
       "<div>\n",
       "<style scoped>\n",
       "    .dataframe tbody tr th:only-of-type {\n",
       "        vertical-align: middle;\n",
       "    }\n",
       "\n",
       "    .dataframe tbody tr th {\n",
       "        vertical-align: top;\n",
       "    }\n",
       "\n",
       "    .dataframe thead th {\n",
       "        text-align: right;\n",
       "    }\n",
       "</style>\n",
       "<table border=\"1\" class=\"dataframe\">\n",
       "  <thead>\n",
       "    <tr style=\"text-align: right;\">\n",
       "      <th></th>\n",
       "      <th>single_label_acc</th>\n",
       "      <th>single_label_f1</th>\n",
       "      <th>single_label_corr</th>\n",
       "      <th>single_label_corr_p</th>\n",
       "      <th>kl_avg</th>\n",
       "      <th>pred_distributions</th>\n",
       "      <th>true_distributions</th>\n",
       "      <th>all_kl</th>\n",
       "      <th>task</th>\n",
       "    </tr>\n",
       "  </thead>\n",
       "  <tbody>\n",
       "    <tr>\n",
       "      <th>0</th>\n",
       "      <td>0.45</td>\n",
       "      <td>0.4605</td>\n",
       "      <td>0.2970</td>\n",
       "      <td>0.2034</td>\n",
       "      <td>0.3045</td>\n",
       "      <td>[[2, 2, 3, 2, 2, 3, 2, 2, 2, 3, 3, 2, 2, 3, 3,...</td>\n",
       "      <td>[[3, 3, 1, 2, 2, 2, 2, 1, 2, 2, 2, 2, 2, 2, 2,...</td>\n",
       "      <td>[0.1966404207557515, 0.3385114685737499, 0.157...</td>\n",
       "      <td>creativity</td>\n",
       "    </tr>\n",
       "    <tr>\n",
       "      <th>1</th>\n",
       "      <td>0.50</td>\n",
       "      <td>0.5618</td>\n",
       "      <td>0.4938</td>\n",
       "      <td>0.0269</td>\n",
       "      <td>0.5513</td>\n",
       "      <td>[[3, 1, 1, 2, 3, 1, 2, 2, 2, 2, 3, 1, 2, 3, 3,...</td>\n",
       "      <td>[[3, 1, 1, 1, 1, 1, 1, 1, 1, 1, 1, 1, 1, 1, 1,...</td>\n",
       "      <td>[1.075399938101587, 0.5479504914216776, 0.2256...</td>\n",
       "      <td>atypicality</td>\n",
       "    </tr>\n",
       "    <tr>\n",
       "      <th>2</th>\n",
       "      <td>0.30</td>\n",
       "      <td>0.3519</td>\n",
       "      <td>0.0824</td>\n",
       "      <td>0.7297</td>\n",
       "      <td>0.6640</td>\n",
       "      <td>[[2, 3, 2, 2, 2, 2, 2, 2, 2, 2, 2, 2, 1, 1, 2,...</td>\n",
       "      <td>[[3, 2, 1, 1, 1, 2, 2, 1, 1, 2, 1, 2, 1, 1, 3,...</td>\n",
       "      <td>[0.4898341717953933, 0.4783004209865406, 1.207...</td>\n",
       "      <td>originality</td>\n",
       "    </tr>\n",
       "  </tbody>\n",
       "</table>\n",
       "</div>"
      ],
      "text/plain": [
       "   single_label_acc  single_label_f1  single_label_corr  single_label_corr_p  \\\n",
       "0              0.45           0.4605             0.2970               0.2034   \n",
       "1              0.50           0.5618             0.4938               0.0269   \n",
       "2              0.30           0.3519             0.0824               0.7297   \n",
       "\n",
       "   kl_avg                                 pred_distributions  \\\n",
       "0  0.3045  [[2, 2, 3, 2, 2, 3, 2, 2, 2, 3, 3, 2, 2, 3, 3,...   \n",
       "1  0.5513  [[3, 1, 1, 2, 3, 1, 2, 2, 2, 2, 3, 1, 2, 3, 3,...   \n",
       "2  0.6640  [[2, 3, 2, 2, 2, 2, 2, 2, 2, 2, 2, 2, 1, 1, 2,...   \n",
       "\n",
       "                                  true_distributions  \\\n",
       "0  [[3, 3, 1, 2, 2, 2, 2, 1, 2, 2, 2, 2, 2, 2, 2,...   \n",
       "1  [[3, 1, 1, 1, 1, 1, 1, 1, 1, 1, 1, 1, 1, 1, 1,...   \n",
       "2  [[3, 2, 1, 1, 1, 2, 2, 1, 1, 2, 1, 2, 1, 1, 3,...   \n",
       "\n",
       "                                              all_kl         task  \n",
       "0  [0.1966404207557515, 0.3385114685737499, 0.157...   creativity  \n",
       "1  [1.075399938101587, 0.5479504914216776, 0.2256...  atypicality  \n",
       "2  [0.4898341717953933, 0.4783004209865406, 1.207...  originality  "
      ]
     },
     "execution_count": 67,
     "metadata": {},
     "output_type": "execute_result"
    }
   ],
   "source": [
    "batch_pred_llava_13b = pickle.load(open(output_dir + 'cleaned/mturk_llava13b_intrinsic_0612_230716.pkl', 'rb'))\n",
    "llava_13b_eval_df = eval_batch_intrinsic(batch_pred_llava_13b)\n",
    "llava_13b_eval_df"
   ]
  },
  {
   "cell_type": "markdown",
   "id": "10d1b9ae-9dbb-4c34-a018-381fe11b6655",
   "metadata": {},
   "source": [
    "- **mturk data**"
   ]
  },
  {
   "cell_type": "code",
   "execution_count": null,
   "id": "97ac971c-fe1b-4749-886f-96b7c9b62e99",
   "metadata": {},
   "outputs": [],
   "source": [
    "# gpt4 - done\n",
    "batch_pred_gpt4 = pickle.load(open(output_dir + 'cleaned/mturk_gpt4_0612_205705.pkl', 'rb'))\n",
    "# eval_batch_intrinsic(batch_pred_gpt4).to_csv('./data/outputs/csv/mturk_gpt4_intrinsic.csv', index = False)"
   ]
  },
  {
   "cell_type": "code",
   "execution_count": 27,
   "id": "4b7dfa0c-f08e-40b8-8b8d-94617e870d59",
   "metadata": {},
   "outputs": [
    {
     "name": "stderr",
     "output_type": "stream",
     "text": [
      "/scratch/slurm-920708/ipykernel_53095/428204867.py:61: ConstantInputWarning: An input array is constant; the correlation coefficient is not defined.\n",
      "  disagreement_corr = stats.spearmanr(pred_disagreements, true_disagreements) #.statistic # get pearson r\n"
     ]
    },
    {
     "data": {
      "text/html": [
       "<div>\n",
       "<style scoped>\n",
       "    .dataframe tbody tr th:only-of-type {\n",
       "        vertical-align: middle;\n",
       "    }\n",
       "\n",
       "    .dataframe tbody tr th {\n",
       "        vertical-align: top;\n",
       "    }\n",
       "\n",
       "    .dataframe thead th {\n",
       "        text-align: right;\n",
       "    }\n",
       "</style>\n",
       "<table border=\"1\" class=\"dataframe\">\n",
       "  <thead>\n",
       "    <tr style=\"text-align: right;\">\n",
       "      <th></th>\n",
       "      <th>single_label_acc</th>\n",
       "      <th>single_label_f1</th>\n",
       "      <th>single_label_corr</th>\n",
       "      <th>single_label_corr_p</th>\n",
       "      <th>kl_avg</th>\n",
       "      <th>pred_distributions</th>\n",
       "      <th>true_distributions</th>\n",
       "      <th>all_kl</th>\n",
       "      <th>disagreement_corr</th>\n",
       "      <th>disagreement_corr_p</th>\n",
       "      <th>task</th>\n",
       "    </tr>\n",
       "  </thead>\n",
       "  <tbody>\n",
       "    <tr>\n",
       "      <th>0</th>\n",
       "      <td>0.5</td>\n",
       "      <td>0.5515</td>\n",
       "      <td>0.6697</td>\n",
       "      <td>0.0012</td>\n",
       "      <td>None</td>\n",
       "      <td>[[], [], [], [], [], [], [], [], [], [], [], [...</td>\n",
       "      <td>[[3, 3, 1, 2, 2, 2, 2, 1, 2, 2, 2, 2, 2, 2, 2,...</td>\n",
       "      <td>[]</td>\n",
       "      <td>NaN</td>\n",
       "      <td>NaN</td>\n",
       "      <td>creativity</td>\n",
       "    </tr>\n",
       "    <tr>\n",
       "      <th>1</th>\n",
       "      <td>0.7</td>\n",
       "      <td>0.7387</td>\n",
       "      <td>0.7200</td>\n",
       "      <td>0.0003</td>\n",
       "      <td>None</td>\n",
       "      <td>[[], [], [], [], [], [], [], [], [], [], [], [...</td>\n",
       "      <td>[[3, 1, 1, 1, 1, 1, 1, 1, 1, 1, 1, 1, 1, 1, 1,...</td>\n",
       "      <td>[]</td>\n",
       "      <td>0.3934</td>\n",
       "      <td>0.0862</td>\n",
       "      <td>atypicality</td>\n",
       "    </tr>\n",
       "    <tr>\n",
       "      <th>2</th>\n",
       "      <td>0.5</td>\n",
       "      <td>0.5765</td>\n",
       "      <td>0.7008</td>\n",
       "      <td>0.0006</td>\n",
       "      <td>None</td>\n",
       "      <td>[[], [], [], [], [], [], [], [], [], [], [], [...</td>\n",
       "      <td>[[3, 2, 1, 1, 1, 2, 2, 1, 1, 2, 1, 2, 1, 1, 3,...</td>\n",
       "      <td>[]</td>\n",
       "      <td>0.0995</td>\n",
       "      <td>0.6765</td>\n",
       "      <td>originality</td>\n",
       "    </tr>\n",
       "  </tbody>\n",
       "</table>\n",
       "</div>"
      ],
      "text/plain": [
       "   single_label_acc  single_label_f1  single_label_corr  single_label_corr_p  \\\n",
       "0               0.5           0.5515             0.6697               0.0012   \n",
       "1               0.7           0.7387             0.7200               0.0003   \n",
       "2               0.5           0.5765             0.7008               0.0006   \n",
       "\n",
       "  kl_avg                                 pred_distributions  \\\n",
       "0   None  [[], [], [], [], [], [], [], [], [], [], [], [...   \n",
       "1   None  [[], [], [], [], [], [], [], [], [], [], [], [...   \n",
       "2   None  [[], [], [], [], [], [], [], [], [], [], [], [...   \n",
       "\n",
       "                                  true_distributions all_kl  \\\n",
       "0  [[3, 3, 1, 2, 2, 2, 2, 1, 2, 2, 2, 2, 2, 2, 2,...     []   \n",
       "1  [[3, 1, 1, 1, 1, 1, 1, 1, 1, 1, 1, 1, 1, 1, 1,...     []   \n",
       "2  [[3, 2, 1, 1, 1, 2, 2, 1, 1, 2, 1, 2, 1, 1, 3,...     []   \n",
       "\n",
       "   disagreement_corr  disagreement_corr_p         task  \n",
       "0                NaN                  NaN   creativity  \n",
       "1             0.3934               0.0862  atypicality  \n",
       "2             0.0995               0.6765  originality  "
      ]
     },
     "execution_count": 27,
     "metadata": {},
     "output_type": "execute_result"
    }
   ],
   "source": [
    "eval_batch_intrinsic(batch_pred_gpt4)"
   ]
  },
  {
   "cell_type": "code",
   "execution_count": 28,
   "id": "8fd37c25-186f-4404-92b5-bba89a735f0d",
   "metadata": {
    "scrolled": true
   },
   "outputs": [
    {
     "name": "stderr",
     "output_type": "stream",
     "text": [
      "/scratch/slurm-920708/ipykernel_53095/428204867.py:61: ConstantInputWarning: An input array is constant; the correlation coefficient is not defined.\n",
      "  disagreement_corr = stats.spearmanr(pred_disagreements, true_disagreements) #.statistic # get pearson r\n",
      "/scratch/slurm-920708/ipykernel_53095/428204867.py:61: ConstantInputWarning: An input array is constant; the correlation coefficient is not defined.\n",
      "  disagreement_corr = stats.spearmanr(pred_disagreements, true_disagreements) #.statistic # get pearson r\n",
      "/scratch/slurm-920708/ipykernel_53095/428204867.py:61: ConstantInputWarning: An input array is constant; the correlation coefficient is not defined.\n",
      "  disagreement_corr = stats.spearmanr(pred_disagreements, true_disagreements) #.statistic # get pearson r\n"
     ]
    }
   ],
   "source": [
    "# llava 7b - done\n",
    "batch_pred_llava_7b = pickle.load(open(output_dir + 'cleaned/mturk_llava7b_intrinsic_0612_232503.pkl', 'rb'))\n",
    "llava_7b_eval_df = eval_batch_intrinsic(batch_pred_llava_7b)\n",
    "llava_7b_eval_df.to_csv('../data/outputs/csv/mturk_llava7b_intrinsic.csv', index = False)"
   ]
  },
  {
   "cell_type": "code",
   "execution_count": 29,
   "id": "3240516c-0036-437d-9a34-4b90e01bddfb",
   "metadata": {},
   "outputs": [
    {
     "data": {
      "text/plain": [
       "[(10, 0.045615050094035076),\n",
       " (2, 0.06387291716425916),\n",
       " (11, 0.0644557372345779),\n",
       " (19, 0.1003158656748904),\n",
       " (8, 0.15326655202125591),\n",
       " (3, 0.16632486328160462),\n",
       " (9, 0.17784723290308618),\n",
       " (7, 0.46041649116532934),\n",
       " (0, 0.48623062505719944),\n",
       " (15, 0.5434173134228528),\n",
       " (5, 0.6113802730860578),\n",
       " (13, 0.6138161820914145),\n",
       " (6, 0.7029357251905705),\n",
       " (16, 0.708261222538149),\n",
       " (17, 0.7272888047785038),\n",
       " (4, 0.836142435596134),\n",
       " (1, 1.168236526979576),\n",
       " (12, 1.5166441446160346),\n",
       " (18, 1.6467972796737167),\n",
       " (14, 1.6844650993032482)]"
      ]
     },
     "execution_count": 29,
     "metadata": {},
     "output_type": "execute_result"
    }
   ],
   "source": [
    "llava_7b_kl_lst = dict(zip(range(len(llava_7b_eval_df.all_kl.values[0])) , llava_7b_eval_df.all_kl.values[0] ))\n",
    "sorted(llava_7b_kl_lst.items(), key = lambda x: x[1] )"
   ]
  },
  {
   "cell_type": "code",
   "execution_count": 30,
   "id": "85dc3a37-8e77-4a9e-a051-874b7f336241",
   "metadata": {},
   "outputs": [],
   "source": [
    "# llava 13b - done\n",
    "batch_pred_llava_13b = pickle.load(open(output_dir + 'cleaned/mturk_llava13b_intrinsic_0612_230716.pkl', 'rb'))\n",
    "llava_13b_eval_df = eval_batch_intrinsic(batch_pred_llava_13b)\n",
    "llava_13b_eval_df.to_csv('../data/outputs/csv/mturk_llava13b_intrinsic.csv', index = False)"
   ]
  },
  {
   "cell_type": "code",
   "execution_count": 31,
   "id": "57aef5b6-7dbc-45e7-ad44-0e208173a3fe",
   "metadata": {},
   "outputs": [
    {
     "data": {
      "text/plain": [
       "[(8, 0.02957628428585954),\n",
       " (10, 0.03666061188453232),\n",
       " (9, 0.039621543276147544),\n",
       " (5, 0.04028092725778645),\n",
       " (3, 0.0720387670910051),\n",
       " (16, 0.15020080719947973),\n",
       " (2, 0.1578126991157358),\n",
       " (15, 0.1748514660890451),\n",
       " (11, 0.18419890699717512),\n",
       " (0, 0.1966404207557515),\n",
       " (6, 0.22162937862805115),\n",
       " (7, 0.2633955996102595),\n",
       " (19, 0.3274714680669624),\n",
       " (1, 0.3385114685737499),\n",
       " (4, 0.3496179858282828),\n",
       " (17, 0.43059978620199),\n",
       " (13, 0.4408756716831094),\n",
       " (12, 0.6885448073661928),\n",
       " (18, 0.9599737809576955),\n",
       " (14, 0.9884555895749307)]"
      ]
     },
     "execution_count": 31,
     "metadata": {},
     "output_type": "execute_result"
    }
   ],
   "source": [
    "llava_13b_kl_lst = dict(zip(range(len(llava_13b_eval_df.all_kl.values[0])) , llava_13b_eval_df.all_kl.values[0] ))\n",
    "sorted(llava_13b_kl_lst.items(), key = lambda x: x[1] )"
   ]
  },
  {
   "cell_type": "code",
   "execution_count": 78,
   "id": "e3eb2050-5bad-49c7-a922-f4771442640e",
   "metadata": {},
   "outputs": [
    {
     "data": {
      "text/plain": [
       "['creativity', 'atypicality', 'originality']"
      ]
     },
     "execution_count": 78,
     "metadata": {},
     "output_type": "execute_result"
    }
   ],
   "source": [
    "# !pip install seaborn\n",
    "task_list"
   ]
  },
  {
   "cell_type": "code",
   "execution_count": 33,
   "id": "1d09d70d-b721-454f-aa8d-4311f5da63a2",
   "metadata": {},
   "outputs": [],
   "source": [
    "import seaborn as sns"
   ]
  },
  {
   "cell_type": "code",
   "execution_count": 82,
   "id": "e2f012f7-11e2-4a9e-830f-ad7606f1e553",
   "metadata": {},
   "outputs": [
    {
     "name": "stdout",
     "output_type": "stream",
     "text": [
      "idx: 10\n",
      "kl divergence (7b, 13b): 0.0456 0.0367\n",
      "creativity human avg: 2.6 ; pred_13b: 3 ; pred_7b: 2 ; pred_gpt4: 3\n",
      "originality human avg: 2.92 ; pred_13b: 2 ; pred_7b: 3 ; pred_gpt4: 3\n",
      "atypicality human avg: 2.92 ; pred_13b: 3 ; pred_7b: 3 ; pred_gpt4: 3\n",
      "\n",
      "-----------\n",
      "idx: 15\n",
      "kl divergence (7b, 13b): 0.5434 0.1749\n",
      "creativity human avg: 1.84 ; pred_13b: 3 ; pred_7b: 3 ; pred_gpt4: 2\n",
      "originality human avg: 1.44 ; pred_13b: 2 ; pred_7b: 3 ; pred_gpt4: 1\n",
      "atypicality human avg: 1.28 ; pred_13b: 1 ; pred_7b: 2 ; pred_gpt4: 1\n",
      "\n",
      "-----------\n",
      "idx: 14\n",
      "kl divergence (7b, 13b): 1.6845 0.9885\n",
      "creativity human avg: 1.6 ; pred_13b: 2 ; pred_7b: 3 ; pred_gpt4: 2\n",
      "originality human avg: 1.4 ; pred_13b: 2 ; pred_7b: 3 ; pred_gpt4: 1\n",
      "atypicality human avg: 1.2 ; pred_13b: 1 ; pred_7b: 2 ; pred_gpt4: 1\n",
      "\n",
      "-----------\n"
     ]
    }
   ],
   "source": [
    "low_kl_idx = 10\n",
    "mid_kl_idx = 15\n",
    "hig_kl_idx = 14\n",
    "\n",
    "for i in [\n",
    "    low_kl_idx, mid_kl_idx, hig_kl_idx\n",
    "]:\n",
    "    print('idx:', i)\n",
    "    print('kl divergence (7b, 13b):', round(llava_7b_kl_lst[i], 4), round(llava_13b_kl_lst[i], 4))\n",
    "    for task in task_list:\n",
    "        pred_13b = batch_pred_llava_13b['intrinsic'][task][i]['labels'][0]\n",
    "        pred_7b = batch_pred_llava_7b['intrinsic'][task][i]['labels'][0]\n",
    "        pred_gpt4 = batch_pred_gpt4['intrinsic'][task][i]['labels'][0]\n",
    "        avg = intrinsic_data[task + '_average'].iloc[i]\n",
    "        print(task, 'human avg:', avg, '; pred_13b:', pred_13b, '; pred_7b:', pred_7b, '; pred_gpt4:', pred_gpt4,)\n",
    "\n",
    "    print('\\n-----------')"
   ]
  },
  {
   "cell_type": "code",
   "execution_count": 69,
   "id": "0fd32ec4-5a0c-416c-8cc5-074990a47b08",
   "metadata": {},
   "outputs": [
    {
     "data": {
      "text/html": [
       "<div>\n",
       "<style scoped>\n",
       "    .dataframe tbody tr th:only-of-type {\n",
       "        vertical-align: middle;\n",
       "    }\n",
       "\n",
       "    .dataframe tbody tr th {\n",
       "        vertical-align: top;\n",
       "    }\n",
       "\n",
       "    .dataframe thead th {\n",
       "        text-align: right;\n",
       "    }\n",
       "</style>\n",
       "<table border=\"1\" class=\"dataframe\">\n",
       "  <thead>\n",
       "    <tr style=\"text-align: right;\">\n",
       "      <th></th>\n",
       "      <th>ads_id</th>\n",
       "      <th>creativity_distribution</th>\n",
       "      <th>creativity_value_count</th>\n",
       "      <th>creativity_average</th>\n",
       "      <th>creativity_disagreement</th>\n",
       "      <th>creativity_majority</th>\n",
       "      <th>creativity_majority_percentage</th>\n",
       "      <th>atypicality_distribution</th>\n",
       "      <th>atypicality_value_count</th>\n",
       "      <th>atypicality_average</th>\n",
       "      <th>atypicality_disagreement</th>\n",
       "      <th>atypicality_majority</th>\n",
       "      <th>atypicality_majority_percentage</th>\n",
       "      <th>originality_distribution</th>\n",
       "      <th>originality_value_count</th>\n",
       "      <th>originality_average</th>\n",
       "      <th>originality_disagreement</th>\n",
       "      <th>originality_majority</th>\n",
       "      <th>originality_majority_percentage</th>\n",
       "    </tr>\n",
       "  </thead>\n",
       "  <tbody>\n",
       "    <tr>\n",
       "      <th>10</th>\n",
       "      <td>1/112831.jpg</td>\n",
       "      <td>[2, 3, 3, 3, 3, 3, 2, 2, 2, 2, 3, 2, 3, 3, 3, ...</td>\n",
       "      <td>{1: 1, 2: 8, 3: 16}</td>\n",
       "      <td>2.60</td>\n",
       "      <td>0.3200</td>\n",
       "      <td>3</td>\n",
       "      <td>0.64</td>\n",
       "      <td>[3, 3, 3, 3, 3, 3, 3, 3, 3, 3, 3, 3, 3, 3, 3, ...</td>\n",
       "      <td>{2: 2, 3: 23}</td>\n",
       "      <td>2.92</td>\n",
       "      <td>0.0736</td>\n",
       "      <td>3</td>\n",
       "      <td>0.92</td>\n",
       "      <td>[3, 3, 3, 3, 3, 3, 3, 3, 3, 3, 3, 3, 3, 3, 2, ...</td>\n",
       "      <td>{2: 2, 3: 23}</td>\n",
       "      <td>2.92</td>\n",
       "      <td>0.0736</td>\n",
       "      <td>3</td>\n",
       "      <td>0.92</td>\n",
       "    </tr>\n",
       "    <tr>\n",
       "      <th>15</th>\n",
       "      <td>1/84431.jpg</td>\n",
       "      <td>[2, 2, 1, 2, 2, 1, 3, 2, 3, 1, 2, 3, 2, 1, 2, ...</td>\n",
       "      <td>{1: 8, 2: 13, 3: 4}</td>\n",
       "      <td>1.84</td>\n",
       "      <td>0.4544</td>\n",
       "      <td>2</td>\n",
       "      <td>0.52</td>\n",
       "      <td>[1, 2, 1, 1, 1, 1, 1, 1, 1, 1, 1, 2, 1, 1, 1, ...</td>\n",
       "      <td>{1: 20, 2: 3, 3: 2}</td>\n",
       "      <td>1.28</td>\n",
       "      <td>0.3616</td>\n",
       "      <td>1</td>\n",
       "      <td>0.80</td>\n",
       "      <td>[1, 2, 1, 1, 1, 1, 1, 1, 1, 1, 1, 3, 2, 1, 1, ...</td>\n",
       "      <td>{1: 18, 2: 3, 3: 4}</td>\n",
       "      <td>1.44</td>\n",
       "      <td>0.5664</td>\n",
       "      <td>1</td>\n",
       "      <td>0.72</td>\n",
       "    </tr>\n",
       "    <tr>\n",
       "      <th>14</th>\n",
       "      <td>1/130741.jpg</td>\n",
       "      <td>[2, 1, 2, 1, 2, 1, 2, 2, 1, 2, 2, 2, 2, 1, 2, ...</td>\n",
       "      <td>{1: 10, 2: 15}</td>\n",
       "      <td>1.60</td>\n",
       "      <td>0.2400</td>\n",
       "      <td>2</td>\n",
       "      <td>0.60</td>\n",
       "      <td>[1, 1, 1, 1, 1, 1, 1, 1, 1, 1, 1, 1, 1, 1, 1, ...</td>\n",
       "      <td>{1: 21, 2: 3, 3: 1}</td>\n",
       "      <td>1.20</td>\n",
       "      <td>0.2400</td>\n",
       "      <td>1</td>\n",
       "      <td>0.84</td>\n",
       "      <td>[1, 1, 1, 1, 2, 1, 1, 1, 1, 1, 1, 1, 1, 1, 2, ...</td>\n",
       "      <td>{1: 18, 2: 4, 3: 3}</td>\n",
       "      <td>1.40</td>\n",
       "      <td>0.4800</td>\n",
       "      <td>1</td>\n",
       "      <td>0.72</td>\n",
       "    </tr>\n",
       "  </tbody>\n",
       "</table>\n",
       "</div>"
      ],
      "text/plain": [
       "          ads_id                            creativity_distribution  \\\n",
       "10  1/112831.jpg  [2, 3, 3, 3, 3, 3, 2, 2, 2, 2, 3, 2, 3, 3, 3, ...   \n",
       "15   1/84431.jpg  [2, 2, 1, 2, 2, 1, 3, 2, 3, 1, 2, 3, 2, 1, 2, ...   \n",
       "14  1/130741.jpg  [2, 1, 2, 1, 2, 1, 2, 2, 1, 2, 2, 2, 2, 1, 2, ...   \n",
       "\n",
       "   creativity_value_count  creativity_average  creativity_disagreement  \\\n",
       "10    {1: 1, 2: 8, 3: 16}                2.60                   0.3200   \n",
       "15    {1: 8, 2: 13, 3: 4}                1.84                   0.4544   \n",
       "14         {1: 10, 2: 15}                1.60                   0.2400   \n",
       "\n",
       "    creativity_majority  creativity_majority_percentage  \\\n",
       "10                    3                            0.64   \n",
       "15                    2                            0.52   \n",
       "14                    2                            0.60   \n",
       "\n",
       "                             atypicality_distribution atypicality_value_count  \\\n",
       "10  [3, 3, 3, 3, 3, 3, 3, 3, 3, 3, 3, 3, 3, 3, 3, ...           {2: 2, 3: 23}   \n",
       "15  [1, 2, 1, 1, 1, 1, 1, 1, 1, 1, 1, 2, 1, 1, 1, ...     {1: 20, 2: 3, 3: 2}   \n",
       "14  [1, 1, 1, 1, 1, 1, 1, 1, 1, 1, 1, 1, 1, 1, 1, ...     {1: 21, 2: 3, 3: 1}   \n",
       "\n",
       "    atypicality_average  atypicality_disagreement  atypicality_majority  \\\n",
       "10                 2.92                    0.0736                     3   \n",
       "15                 1.28                    0.3616                     1   \n",
       "14                 1.20                    0.2400                     1   \n",
       "\n",
       "    atypicality_majority_percentage  \\\n",
       "10                             0.92   \n",
       "15                             0.80   \n",
       "14                             0.84   \n",
       "\n",
       "                             originality_distribution originality_value_count  \\\n",
       "10  [3, 3, 3, 3, 3, 3, 3, 3, 3, 3, 3, 3, 3, 3, 2, ...           {2: 2, 3: 23}   \n",
       "15  [1, 2, 1, 1, 1, 1, 1, 1, 1, 1, 1, 3, 2, 1, 1, ...     {1: 18, 2: 3, 3: 4}   \n",
       "14  [1, 1, 1, 1, 2, 1, 1, 1, 1, 1, 1, 1, 1, 1, 2, ...     {1: 18, 2: 4, 3: 3}   \n",
       "\n",
       "    originality_average  originality_disagreement  originality_majority  \\\n",
       "10                 2.92                    0.0736                     3   \n",
       "15                 1.44                    0.5664                     1   \n",
       "14                 1.40                    0.4800                     1   \n",
       "\n",
       "    originality_majority_percentage  \n",
       "10                             0.92  \n",
       "15                             0.72  \n",
       "14                             0.72  "
      ]
     },
     "execution_count": 69,
     "metadata": {},
     "output_type": "execute_result"
    }
   ],
   "source": [
    "data_path = \"../data/mturk_data/subset_0.5/\"\n",
    "intrinsic_data = pd.read_csv(data_path + \"modeling_instrinsic_data.csv\")\n",
    "intrinsic_data.iloc[[low_kl_idx, mid_kl_idx, hig_kl_idx]]"
   ]
  },
  {
   "cell_type": "code",
   "execution_count": null,
   "id": "e440572a-13b2-423f-9424-40b543b63a55",
   "metadata": {},
   "outputs": [],
   "source": []
  },
  {
   "cell_type": "code",
   "execution_count": null,
   "id": "4df04795-20b6-4250-86a4-9ea53b857851",
   "metadata": {},
   "outputs": [],
   "source": []
  },
  {
   "cell_type": "code",
   "execution_count": 51,
   "id": "63e7ccfb-f1bc-4880-9333-c87184a29e94",
   "metadata": {},
   "outputs": [],
   "source": [
    "low_kl_pred = {\n",
    "    '13B': llava_13b_eval_df.pred_distributions.values[0][low_kl_idx],\n",
    "    '7B': llava_7b_eval_df.pred_distributions.values[0][low_kl_idx],\n",
    "    'human': llava_7b_eval_df['true_distributions'].values[0][low_kl_idx]\n",
    "}\n",
    "\n",
    "mid_kl_pred = {\n",
    "    '13B': llava_13b_eval_df.pred_distributions.values[0][mid_kl_idx],\n",
    "    '7B': llava_7b_eval_df.pred_distributions.values[0][mid_kl_idx],\n",
    "    'human': llava_7b_eval_df['true_distributions'].values[0][mid_kl_idx]\n",
    "}\n",
    "\n",
    "hig_kl_pred = {\n",
    "    '13B': llava_13b_eval_df.pred_distributions.values[0][hig_kl_idx],\n",
    "    '7B': llava_7b_eval_df.pred_distributions.values[0][hig_kl_idx],\n",
    "    'human': llava_7b_eval_df['true_distributions'].values[0][hig_kl_idx]\n",
    "}"
   ]
  },
  {
   "cell_type": "code",
   "execution_count": 72,
   "id": "70c338e5-8703-4ffc-b5c4-04cc06abb14e",
   "metadata": {},
   "outputs": [
    {
     "data": {
      "text/plain": [
       "dict_keys(['labels', 'label_distribution', 'disagreements', 'true_average', 'true_distribution', 'true_disagreement'])"
      ]
     },
     "execution_count": 72,
     "metadata": {},
     "output_type": "execute_result"
    }
   ],
   "source": []
  },
  {
   "cell_type": "code",
   "execution_count": null,
   "id": "1fa236cc-b041-4acc-af8e-e62899a884f8",
   "metadata": {},
   "outputs": [],
   "source": []
  },
  {
   "cell_type": "code",
   "execution_count": null,
   "id": "ef1b754b-04bb-4a37-909c-91951fc54c90",
   "metadata": {},
   "outputs": [],
   "source": []
  },
  {
   "cell_type": "code",
   "execution_count": null,
   "id": "0b25d866-0ebc-46ca-8e6a-8b90d44c399c",
   "metadata": {},
   "outputs": [],
   "source": []
  },
  {
   "cell_type": "code",
   "execution_count": null,
   "id": "3b92e3b0-9c7a-4d9a-8115-677cc011fc91",
   "metadata": {},
   "outputs": [],
   "source": []
  },
  {
   "cell_type": "code",
   "execution_count": null,
   "id": "8d9218b0-f6d1-4b64-b1be-06cae04dd65d",
   "metadata": {},
   "outputs": [],
   "source": []
  },
  {
   "cell_type": "code",
   "execution_count": null,
   "id": "451d4014-f732-4187-a6d1-1fb5d8ff58c0",
   "metadata": {},
   "outputs": [],
   "source": []
  },
  {
   "cell_type": "code",
   "execution_count": null,
   "id": "09293bf1-e5b1-4b5c-ab76-436a95de7b8e",
   "metadata": {},
   "outputs": [],
   "source": []
  },
  {
   "cell_type": "code",
   "execution_count": null,
   "id": "47198617-9709-4e26-950d-1913f59be9a3",
   "metadata": {},
   "outputs": [],
   "source": []
  },
  {
   "cell_type": "code",
   "execution_count": null,
   "id": "4bd90ef9-87d0-4f97-8434-b77bd9248ef6",
   "metadata": {},
   "outputs": [],
   "source": []
  },
  {
   "cell_type": "code",
   "execution_count": 54,
   "id": "ad7607b4-3a00-418c-8b00-5324c227244a",
   "metadata": {},
   "outputs": [],
   "source": [
    "colors = {\n",
    "    '13B': 'yellow', \n",
    "    '7B': 'pink', \n",
    "    'human': 'blue'\n",
    "}\n",
    "sns.set_theme(rc={'figure.figsize':(8,5)})"
   ]
  },
  {
   "cell_type": "code",
   "execution_count": 55,
   "id": "0bb03608-0f91-4e9e-abd9-ae1f4171be80",
   "metadata": {},
   "outputs": [
    {
     "data": {
      "text/plain": [
       "<Axes: xlabel='labels', ylabel='Count'>"
      ]
     },
     "execution_count": 55,
     "metadata": {},
     "output_type": "execute_result"
    },
    {
     "data": {
      "image/png": "[encoded data removed]",
      "text/plain": [
       "<Figure size 800x500 with 1 Axes>"
      ]
     },
     "metadata": {},
     "output_type": "display_data"
    }
   ],
   "source": [
    "low_kl_pred_df = pd.DataFrame([low_kl_pred]).T\n",
    "low_kl_pred_df['model'] = low_kl_pred_df.index\n",
    "low_kl_pred_df['labels'] = low_kl_pred_df[0]\n",
    "low_kl_pred_df = low_kl_pred_df[['model', 'labels']]\n",
    "low_kl_pred_df = low_kl_pred_df.explode('labels')\n",
    "\n",
    "sns.histplot(\n",
    "    data = low_kl_pred_df, \n",
    "    x = 'labels', \n",
    "    hue = 'model', \n",
    "    palette = colors,\n",
    "    # binwidth = 0.6\n",
    "    bins = [0.5, 1.5, 2.5, 3.5],\n",
    "    kde = True\n",
    ")"
   ]
  },
  {
   "cell_type": "code",
   "execution_count": null,
   "id": "e5c8c268-5fd0-416c-b9ea-19944af0ce5f",
   "metadata": {},
   "outputs": [],
   "source": []
  },
  {
   "cell_type": "code",
   "execution_count": 56,
   "id": "9aca86ca-c511-491e-9986-a38ce2d885f7",
   "metadata": {},
   "outputs": [
    {
     "data": {
      "text/plain": [
       "<Axes: xlabel='labels', ylabel='Count'>"
      ]
     },
     "execution_count": 56,
     "metadata": {},
     "output_type": "execute_result"
    },
    {
     "data": {
      "image/png": "[encoded data removed]",
      "text/plain": [
       "<Figure size 800x500 with 1 Axes>"
      ]
     },
     "metadata": {},
     "output_type": "display_data"
    }
   ],
   "source": [
    "mid_kl_pred_df = pd.DataFrame([mid_kl_pred]).T\n",
    "mid_kl_pred_df['model'] = mid_kl_pred_df.index\n",
    "mid_kl_pred_df['labels'] = mid_kl_pred_df[0]\n",
    "mid_kl_pred_df = mid_kl_pred_df[['model', 'labels']]\n",
    "mid_kl_pred_df = mid_kl_pred_df.explode('labels')\n",
    "\n",
    "sns.histplot(\n",
    "    data = mid_kl_pred_df, \n",
    "    x = 'labels', \n",
    "    hue = 'model', \n",
    "    palette = colors,\n",
    "    # binwidth = 0.6\n",
    "    bins = [0.5, 1.5, 2.5, 3.5],\n",
    "    kde = True\n",
    ")"
   ]
  },
  {
   "cell_type": "code",
   "execution_count": 57,
   "id": "a797c07a-16a0-4c04-a92b-be536296b31a",
   "metadata": {},
   "outputs": [
    {
     "data": {
      "text/plain": [
       "<Axes: xlabel='labels', ylabel='Count'>"
      ]
     },
     "execution_count": 57,
     "metadata": {},
     "output_type": "execute_result"
    },
    {
     "data": {
      "image/png": "[encoded data removed]",
      "text/plain": [
       "<Figure size 800x500 with 1 Axes>"
      ]
     },
     "metadata": {},
     "output_type": "display_data"
    }
   ],
   "source": [
    "hig_kl_pred_df = pd.DataFrame([hig_kl_pred]).T\n",
    "hig_kl_pred_df['model'] = hig_kl_pred_df.index\n",
    "hig_kl_pred_df['labels'] = hig_kl_pred_df[0]\n",
    "hig_kl_pred_df = hig_kl_pred_df[['model', 'labels']]\n",
    "hig_kl_pred_df = hig_kl_pred_df.explode('labels')\n",
    "\n",
    "sns.histplot(\n",
    "    data = hig_kl_pred_df, \n",
    "    x = 'labels', \n",
    "    hue = 'model', \n",
    "    palette = colors,\n",
    "    # binwidth = 0.6\n",
    "    bins = [0.5, 1.5, 2.5, 3.5],\n",
    "    kde = True\n",
    ")"
   ]
  },
  {
   "cell_type": "code",
   "execution_count": null,
   "id": "9773791a-81f3-41bd-b226-69c2d516d4ac",
   "metadata": {},
   "outputs": [],
   "source": []
  },
  {
   "cell_type": "code",
   "execution_count": null,
   "id": "22c729cd-9956-4e71-9c23-83bf394db1bd",
   "metadata": {},
   "outputs": [],
   "source": []
  },
  {
   "cell_type": "code",
   "execution_count": null,
   "id": "fd7c273d-8ca7-4343-a57b-1822575c8784",
   "metadata": {},
   "outputs": [],
   "source": []
  },
  {
   "cell_type": "markdown",
   "id": "9d619845-7908-4be7-bcec-b3a88b765d07",
   "metadata": {},
   "source": [
    "- **original data**"
   ]
  },
  {
   "cell_type": "code",
   "execution_count": 166,
   "id": "d3c48bbf-b6e6-4a70-b997-d15d23baf91e",
   "metadata": {},
   "outputs": [],
   "source": [
    "# gpt4 - done\n",
    "batch_pred_gpt4 = pickle.load(open(output_dir + 'cleaned/original_gpt4_0612_220511.pkl', 'rb'))\n",
    "eval_batch_intrinsic(batch_pred_gpt4, original = True).to_csv('../data/outputs/csv/mturk_gpt4_intrinsic_od.csv', index = False)"
   ]
  },
  {
   "cell_type": "code",
   "execution_count": 167,
   "id": "f3cf5abd-9e75-44d9-b320-79c33cb07e76",
   "metadata": {},
   "outputs": [
    {
     "name": "stderr",
     "output_type": "stream",
     "text": [
      "/scratch/slurm-919139/ipykernel_59350/1596976171.py:61: ConstantInputWarning: An input array is constant; the correlation coefficient is not defined.\n",
      "  disagreement_corr = stats.spearmanr(pred_disagreements, true_disagreements) #.statistic # get pearson r\n"
     ]
    }
   ],
   "source": [
    "# llava 7b - done\n",
    "batch_pred_llava_7b_od = pickle.load(open(output_dir + 'cleaned/original_llava7b_intrinsic_0612_233034.pkl', 'rb'))\n",
    "eval_batch_intrinsic(batch_pred_llava_7b_od, original = True).to_csv('../data/outputs/csv/mturk_llava7b_intrinsic_od.csv', index = False)"
   ]
  },
  {
   "cell_type": "code",
   "execution_count": 168,
   "id": "c1311cf6-f8b1-43b5-b375-6a4165676657",
   "metadata": {},
   "outputs": [],
   "source": [
    "# llava 13b - TODO, not finished\n",
    "batch_pred_llava_13b_od = pickle.load(open(output_dir + 'cleaned/original_llava13b_intrinsic_0613_113553.pkl', 'rb'))\n",
    "eval_batch_intrinsic(batch_pred_llava_13b_od, original = True).to_csv('../data/outputs/csv/mturk_llava13b_intrinsic_od.csv', index = False)"
   ]
  },
  {
   "cell_type": "code",
   "execution_count": null,
   "id": "edc46da5-1ed5-41ae-a873-2ed3973113b8",
   "metadata": {},
   "outputs": [],
   "source": []
  },
  {
   "cell_type": "code",
   "execution_count": null,
   "id": "b438ce8e-1018-4e23-8d55-3e65578cfacf",
   "metadata": {},
   "outputs": [],
   "source": []
  },
  {
   "cell_type": "code",
   "execution_count": null,
   "id": "4c79dd6d-a718-4691-a48f-667a5acc8fdb",
   "metadata": {},
   "outputs": [],
   "source": []
  },
  {
   "cell_type": "code",
   "execution_count": null,
   "id": "b902d210-8d38-4560-acde-8849d61be21d",
   "metadata": {},
   "outputs": [],
   "source": []
  },
  {
   "cell_type": "code",
   "execution_count": null,
   "id": "dee39290-0189-4c68-8603-c8e765858ef4",
   "metadata": {},
   "outputs": [],
   "source": []
  },
  {
   "cell_type": "code",
   "execution_count": null,
   "id": "5dda15cf-63ee-43de-8b7b-cdf69df2fcfe",
   "metadata": {},
   "outputs": [],
   "source": []
  },
  {
   "cell_type": "code",
   "execution_count": null,
   "id": "2cf649f8-adb3-4c6c-a859-b67b4a6cc769",
   "metadata": {},
   "outputs": [],
   "source": []
  },
  {
   "cell_type": "code",
   "execution_count": null,
   "id": "ab554db3-719d-4cc1-bf9d-86f3907c77d3",
   "metadata": {},
   "outputs": [],
   "source": []
  },
  {
   "cell_type": "code",
   "execution_count": null,
   "id": "b95c1412-8d65-4d53-a276-3d5897c2832c",
   "metadata": {},
   "outputs": [],
   "source": []
  },
  {
   "cell_type": "code",
   "execution_count": null,
   "id": "87842963-2843-4509-be24-fa13a650f2b2",
   "metadata": {},
   "outputs": [],
   "source": []
  },
  {
   "cell_type": "code",
   "execution_count": null,
   "id": "046a6af7-9461-4177-963d-56a7c6342bae",
   "metadata": {},
   "outputs": [],
   "source": []
  },
  {
   "cell_type": "code",
   "execution_count": null,
   "id": "8da90253-2c77-4a17-96c4-d22ae55b0d79",
   "metadata": {},
   "outputs": [],
   "source": []
  },
  {
   "cell_type": "markdown",
   "id": "c3605340-1d5f-4cb0-ae5c-01beb9516e0c",
   "metadata": {},
   "source": [
    "# 3 Pairwise Eval"
   ]
  },
  {
   "cell_type": "code",
   "execution_count": 1,
   "id": "21d44ecd-a416-49c2-903a-1a207442a9f0",
   "metadata": {},
   "outputs": [],
   "source": [
    "from sklearn.metrics import accuracy_score, f1_score"
   ]
  },
  {
   "cell_type": "code",
   "execution_count": 2,
   "id": "192bc48a-15bf-4be4-bb1a-d97d749cbcac",
   "metadata": {},
   "outputs": [],
   "source": [
    "def eval_pairwise_single(pairwise_pred_task):\n",
    "    \n",
    "    # print(len(pairwise_pred_task))\n",
    "    correct = 0\n",
    "    all_target = []\n",
    "    all_pred = [pred['labels'][0] for pred in pairwise_pred_task]\n",
    "    for pred in pairwise_pred_task:\n",
    "        if pred['true'] > 0:\n",
    "            all_target.append(1)\n",
    "        else:\n",
    "            all_target.append(2)\n",
    "\n",
    "    # filter out str predictions \n",
    "    all_pred_cleaned = []\n",
    "    all_target_cleaned = []\n",
    "    num_dropped = 0\n",
    "    for i in range(len(all_pred)):\n",
    "        if isinstance(all_pred[i], str): \n",
    "            num_dropped += 1\n",
    "            continue \n",
    "        all_pred_cleaned.append(all_pred[i])\n",
    "        all_target_cleaned.append(all_target[i])\n",
    "    # print('# of dp dropped:', num_dropped)\n",
    "    \n",
    "    all_pred = all_pred_cleaned\n",
    "    all_target = all_target_cleaned\n",
    "    \n",
    "    if len(pairwise_pred_task) == 0: return 0, 0, 0\n",
    "\n",
    "    print('unique_pred:', np.unique(all_pred))\n",
    "    print('unique_target:', np.unique(all_target))\n",
    "    acc = round(accuracy_score(all_target, all_pred), 4)\n",
    "    f1 = round(f1_score(all_target, all_pred), 4)\n",
    "    return acc, f1, num_dropped\n",
    "\n",
    "def eval_batch_pairwise(batch_pred, original = False):\n",
    "    task_list = [\n",
    "        \"creativity\", \n",
    "        \"atypicality\", \n",
    "        \"originality\"\n",
    "    ]\n",
    "    if original: task_list = ['atypicality']\n",
    "        \n",
    "    pairwise_pred = batch_pred['pairwise']\n",
    "    eval_results = []\n",
    "    for task in task_list:\n",
    "        tmp_result = {'task': task}\n",
    "        acc, f1, num_dropped = eval_pairwise_single(pairwise_pred[task])\n",
    "        print('task:', task, '# of dp dropped:', num_dropped)\n",
    "        tmp_result['pairwise_accuracy'] = acc\n",
    "        tmp_result['pairwise_f1'] = f1\n",
    "        if len(batch_pred['pairwise'][task]) > 0:\n",
    "            tmp_result['pred_1'] = sum([pred['labels'][0] == 1 for pred in batch_pred['pairwise'][task]]) / len(batch_pred['pairwise'][task])\n",
    "            tmp_result['pos_labels'] = sum([pred['true'] > 0 for pred in batch_pred['pairwise'][task]]) / len(batch_pred['pairwise'][task])\n",
    "        \n",
    "        tmp_result['dp_count'] = len(batch_pred['pairwise'][task])\n",
    "        eval_results.append(tmp_result)\n",
    "    eval_result_df = pd.DataFrame(eval_results)\n",
    "    return eval_result_df"
   ]
  },
  {
   "cell_type": "markdown",
   "id": "b378c9a8-2f9b-4cb8-903b-26d5d5cb87dc",
   "metadata": {},
   "source": [
    "- **MTurk Data**"
   ]
  },
  {
   "cell_type": "code",
   "execution_count": 9,
   "id": "d11e882f-8927-46df-95c9-5bf373d14ff0",
   "metadata": {},
   "outputs": [
    {
     "name": "stdout",
     "output_type": "stream",
     "text": [
      "unique_pred: [1 2]\n",
      "unique_target: [1 2]\n",
      "task: creativity # of dp dropped: 0\n",
      "unique_pred: [1 2]\n",
      "unique_target: [1 2]\n",
      "task: atypicality # of dp dropped: 0\n",
      "unique_pred: [1 2]\n",
      "unique_target: [1 2]\n",
      "task: originality # of dp dropped: 1\n"
     ]
    },
    {
     "data": {
      "text/html": [
       "<div>\n",
       "<style scoped>\n",
       "    .dataframe tbody tr th:only-of-type {\n",
       "        vertical-align: middle;\n",
       "    }\n",
       "\n",
       "    .dataframe tbody tr th {\n",
       "        vertical-align: top;\n",
       "    }\n",
       "\n",
       "    .dataframe thead th {\n",
       "        text-align: right;\n",
       "    }\n",
       "</style>\n",
       "<table border=\"1\" class=\"dataframe\">\n",
       "  <thead>\n",
       "    <tr style=\"text-align: right;\">\n",
       "      <th></th>\n",
       "      <th>task</th>\n",
       "      <th>pairwise_accuracy</th>\n",
       "      <th>pairwise_f1</th>\n",
       "      <th>pred_1</th>\n",
       "      <th>pos_labels</th>\n",
       "      <th>dp_count</th>\n",
       "    </tr>\n",
       "  </thead>\n",
       "  <tbody>\n",
       "    <tr>\n",
       "      <th>0</th>\n",
       "      <td>creativity</td>\n",
       "      <td>0.7455</td>\n",
       "      <td>0.7200</td>\n",
       "      <td>0.400000</td>\n",
       "      <td>0.509091</td>\n",
       "      <td>55</td>\n",
       "    </tr>\n",
       "    <tr>\n",
       "      <th>1</th>\n",
       "      <td>atypicality</td>\n",
       "      <td>0.8142</td>\n",
       "      <td>0.7835</td>\n",
       "      <td>0.424779</td>\n",
       "      <td>0.433628</td>\n",
       "      <td>113</td>\n",
       "    </tr>\n",
       "    <tr>\n",
       "      <th>2</th>\n",
       "      <td>originality</td>\n",
       "      <td>0.7196</td>\n",
       "      <td>0.7581</td>\n",
       "      <td>0.601852</td>\n",
       "      <td>0.546296</td>\n",
       "      <td>108</td>\n",
       "    </tr>\n",
       "  </tbody>\n",
       "</table>\n",
       "</div>"
      ],
      "text/plain": [
       "          task  pairwise_accuracy  pairwise_f1    pred_1  pos_labels  dp_count\n",
       "0   creativity             0.7455       0.7200  0.400000    0.509091        55\n",
       "1  atypicality             0.8142       0.7835  0.424779    0.433628       113\n",
       "2  originality             0.7196       0.7581  0.601852    0.546296       108"
      ]
     },
     "execution_count": 9,
     "metadata": {},
     "output_type": "execute_result"
    }
   ],
   "source": [
    "## done \n",
    "batch_pred_llava_7b_pairwise = pickle.load(\n",
    "    open(output_dir + 'pickles/batch_pred_llava-hf-llava-v1.6-mistral-7b-hf_0613_231131.pkl', 'rb')\n",
    ")\n",
    "llava_7b_pairwise_df = eval_batch_pairwise(batch_pred_llava_7b_pairwise)\n",
    "# llava_7b_pairwise_df.to_csv('../data/outputs/csv/mturk_llava7b_pairwise.csv', index = False)\n",
    "llava_7b_pairwise_df"
   ]
  },
  {
   "cell_type": "code",
   "execution_count": 12,
   "id": "f1131f2c-eef3-4200-8ec8-70f775001593",
   "metadata": {},
   "outputs": [
    {
     "name": "stdout",
     "output_type": "stream",
     "text": [
      "unique_pred: [1 2]\n",
      "unique_target: [1 2]\n",
      "task: creativity # of dp dropped: 15\n",
      "unique_pred: [1 2]\n",
      "unique_target: [1 2]\n",
      "task: atypicality # of dp dropped: 5\n",
      "unique_pred: [1 2]\n",
      "unique_target: [1 2]\n",
      "task: originality # of dp dropped: 24\n"
     ]
    },
    {
     "data": {
      "text/html": [
       "<div>\n",
       "<style scoped>\n",
       "    .dataframe tbody tr th:only-of-type {\n",
       "        vertical-align: middle;\n",
       "    }\n",
       "\n",
       "    .dataframe tbody tr th {\n",
       "        vertical-align: top;\n",
       "    }\n",
       "\n",
       "    .dataframe thead th {\n",
       "        text-align: right;\n",
       "    }\n",
       "</style>\n",
       "<table border=\"1\" class=\"dataframe\">\n",
       "  <thead>\n",
       "    <tr style=\"text-align: right;\">\n",
       "      <th></th>\n",
       "      <th>task</th>\n",
       "      <th>pairwise_accuracy</th>\n",
       "      <th>pairwise_f1</th>\n",
       "      <th>pred_1</th>\n",
       "      <th>pos_labels</th>\n",
       "      <th>dp_count</th>\n",
       "    </tr>\n",
       "  </thead>\n",
       "  <tbody>\n",
       "    <tr>\n",
       "      <th>0</th>\n",
       "      <td>creativity</td>\n",
       "      <td>0.6500</td>\n",
       "      <td>0.7083</td>\n",
       "      <td>0.527273</td>\n",
       "      <td>0.509091</td>\n",
       "      <td>55</td>\n",
       "    </tr>\n",
       "    <tr>\n",
       "      <th>1</th>\n",
       "      <td>atypicality</td>\n",
       "      <td>0.6667</td>\n",
       "      <td>0.7188</td>\n",
       "      <td>0.707965</td>\n",
       "      <td>0.433628</td>\n",
       "      <td>113</td>\n",
       "    </tr>\n",
       "    <tr>\n",
       "      <th>2</th>\n",
       "      <td>originality</td>\n",
       "      <td>0.6190</td>\n",
       "      <td>0.7576</td>\n",
       "      <td>0.759259</td>\n",
       "      <td>0.546296</td>\n",
       "      <td>108</td>\n",
       "    </tr>\n",
       "  </tbody>\n",
       "</table>\n",
       "</div>"
      ],
      "text/plain": [
       "          task  pairwise_accuracy  pairwise_f1    pred_1  pos_labels  dp_count\n",
       "0   creativity             0.6500       0.7083  0.527273    0.509091        55\n",
       "1  atypicality             0.6667       0.7188  0.707965    0.433628       113\n",
       "2  originality             0.6190       0.7576  0.759259    0.546296       108"
      ]
     },
     "execution_count": 12,
     "metadata": {},
     "output_type": "execute_result"
    }
   ],
   "source": [
    "## done\n",
    "batch_pred_llava_13b_pairwise = pickle.load(\n",
    "    open(output_dir + 'pickles/batch_pred_llava-hf-llava-v1.6-vicuna-13b-hf_0613_231148.pkl', 'rb')\n",
    ")\n",
    "eval_batch_pairwise(batch_pred_llava_13b_pairwise)#.to_csv('../data/outputs/csv/mturk_llava13b_pairwise.csv', index = False)"
   ]
  },
  {
   "cell_type": "code",
   "execution_count": 13,
   "id": "a2e8df88-0565-4406-8939-55a8df393a91",
   "metadata": {},
   "outputs": [
    {
     "name": "stdout",
     "output_type": "stream",
     "text": [
      "unique_pred: [1 2]\n",
      "unique_target: [1 2]\n",
      "task: creativity # of dp dropped: 0\n",
      "unique_pred: [1 2]\n",
      "unique_target: [1 2]\n",
      "task: atypicality # of dp dropped: 0\n",
      "unique_pred: [1 2]\n",
      "unique_target: [1 2]\n",
      "task: originality # of dp dropped: 0\n"
     ]
    },
    {
     "data": {
      "text/html": [
       "<div>\n",
       "<style scoped>\n",
       "    .dataframe tbody tr th:only-of-type {\n",
       "        vertical-align: middle;\n",
       "    }\n",
       "\n",
       "    .dataframe tbody tr th {\n",
       "        vertical-align: top;\n",
       "    }\n",
       "\n",
       "    .dataframe thead th {\n",
       "        text-align: right;\n",
       "    }\n",
       "</style>\n",
       "<table border=\"1\" class=\"dataframe\">\n",
       "  <thead>\n",
       "    <tr style=\"text-align: right;\">\n",
       "      <th></th>\n",
       "      <th>task</th>\n",
       "      <th>pairwise_accuracy</th>\n",
       "      <th>pairwise_f1</th>\n",
       "      <th>pred_1</th>\n",
       "      <th>pos_labels</th>\n",
       "      <th>dp_count</th>\n",
       "    </tr>\n",
       "  </thead>\n",
       "  <tbody>\n",
       "    <tr>\n",
       "      <th>0</th>\n",
       "      <td>creativity</td>\n",
       "      <td>0.9091</td>\n",
       "      <td>0.9020</td>\n",
       "      <td>0.418182</td>\n",
       "      <td>0.509091</td>\n",
       "      <td>55</td>\n",
       "    </tr>\n",
       "    <tr>\n",
       "      <th>1</th>\n",
       "      <td>atypicality</td>\n",
       "      <td>0.9027</td>\n",
       "      <td>0.8764</td>\n",
       "      <td>0.353982</td>\n",
       "      <td>0.433628</td>\n",
       "      <td>113</td>\n",
       "    </tr>\n",
       "    <tr>\n",
       "      <th>2</th>\n",
       "      <td>originality</td>\n",
       "      <td>0.9722</td>\n",
       "      <td>0.9744</td>\n",
       "      <td>0.537037</td>\n",
       "      <td>0.546296</td>\n",
       "      <td>108</td>\n",
       "    </tr>\n",
       "  </tbody>\n",
       "</table>\n",
       "</div>"
      ],
      "text/plain": [
       "          task  pairwise_accuracy  pairwise_f1    pred_1  pos_labels  dp_count\n",
       "0   creativity             0.9091       0.9020  0.418182    0.509091        55\n",
       "1  atypicality             0.9027       0.8764  0.353982    0.433628       113\n",
       "2  originality             0.9722       0.9744  0.537037    0.546296       108"
      ]
     },
     "execution_count": 13,
     "metadata": {},
     "output_type": "execute_result"
    }
   ],
   "source": [
    "## gpt4 - done \n",
    "batch_pred_gpt4_pairwise = pickle.load(open(output_dir + 'pickles/batch_pred_gpt4_0614_000722.pkl', 'rb'))\n",
    "eval_batch_pairwise(batch_pred_gpt4_pairwise)#.to_csv('../data/outputs/csv/mturk_gpt4_pairwise.csv', index = False)"
   ]
  },
  {
   "cell_type": "code",
   "execution_count": 14,
   "id": "048f6c1b-cb71-4ab2-a62a-0a577e8617fd",
   "metadata": {},
   "outputs": [],
   "source": [
    "def eval_pairwise(pkl_dir):\n",
    "    batch_pred_pairwise = pickle.load(\n",
    "        open(pkl_dir, 'rb')\n",
    "    )\n",
    "    return eval_batch_pairwise(batch_pred_pairwise)"
   ]
  },
  {
   "cell_type": "code",
   "execution_count": null,
   "id": "32417e02-3396-4915-819b-0fe782464151",
   "metadata": {},
   "outputs": [
    {
     "name": "stdout",
     "output_type": "stream",
     "text": [
      "unique_pred: [1 2]\n",
      "unique_target: [1 2]\n",
      "task: creativity # of dp dropped: 2\n",
      "unique_pred: [1 2]\n",
      "unique_target: [1 2]\n",
      "task: atypicality # of dp dropped: 0\n",
      "unique_pred: [1 2]\n",
      "unique_target: [1 2]\n",
      "task: originality # of dp dropped: 21\n"
     ]
    },
    {
     "data": {
      "text/html": [
       "<div>\n",
       "<style scoped>\n",
       "    .dataframe tbody tr th:only-of-type {\n",
       "        vertical-align: middle;\n",
       "    }\n",
       "\n",
       "    .dataframe tbody tr th {\n",
       "        vertical-align: top;\n",
       "    }\n",
       "\n",
       "    .dataframe thead th {\n",
       "        text-align: right;\n",
       "    }\n",
       "</style>\n",
       "<table border=\"1\" class=\"dataframe\">\n",
       "  <thead>\n",
       "    <tr style=\"text-align: right;\">\n",
       "      <th></th>\n",
       "      <th>task</th>\n",
       "      <th>pairwise_accuracy</th>\n",
       "      <th>pairwise_f1</th>\n",
       "      <th>pred_1</th>\n",
       "      <th>pos_labels</th>\n",
       "      <th>dp_count</th>\n",
       "    </tr>\n",
       "  </thead>\n",
       "  <tbody>\n",
       "    <tr>\n",
       "      <th>0</th>\n",
       "      <td>creativity</td>\n",
       "      <td>0.6226</td>\n",
       "      <td>0.7143</td>\n",
       "      <td>0.800000</td>\n",
       "      <td>0.509091</td>\n",
       "      <td>55</td>\n",
       "    </tr>\n",
       "    <tr>\n",
       "      <th>1</th>\n",
       "      <td>atypicality</td>\n",
       "      <td>0.6549</td>\n",
       "      <td>0.7023</td>\n",
       "      <td>0.725664</td>\n",
       "      <td>0.433628</td>\n",
       "      <td>113</td>\n",
       "    </tr>\n",
       "    <tr>\n",
       "      <th>2</th>\n",
       "      <td>originality</td>\n",
       "      <td>0.6207</td>\n",
       "      <td>0.7273</td>\n",
       "      <td>0.712963</td>\n",
       "      <td>0.546296</td>\n",
       "      <td>108</td>\n",
       "    </tr>\n",
       "  </tbody>\n",
       "</table>\n",
       "</div>"
      ],
      "text/plain": [
       "          task  pairwise_accuracy  pairwise_f1    pred_1  pos_labels  dp_count\n",
       "0   creativity             0.6226       0.7143  0.800000    0.509091        55\n",
       "1  atypicality             0.6549       0.7023  0.725664    0.433628       113\n",
       "2  originality             0.6207       0.7273  0.712963    0.546296       108"
      ]
     },
     "execution_count": 16,
     "metadata": {},
     "output_type": "execute_result"
    }
   ],
   "source": [
    "eval_pairwise(\n",
    "    output_dir + 'pickles/batch_pred_llava-hf-llava-v1.6-vicuna-13b-hf_1204_232222.pkl'\n",
    ")"
   ]
  },
  {
   "cell_type": "code",
   "execution_count": null,
   "id": "21a170d8-da66-4659-81e0-974b1630cae0",
   "metadata": {},
   "outputs": [],
   "source": []
  },
  {
   "cell_type": "markdown",
   "id": "a2e8949d-4780-4963-84ee-d921d9bb44d0",
   "metadata": {},
   "source": [
    "- **Original Data**"
   ]
  },
  {
   "cell_type": "code",
   "execution_count": 175,
   "id": "4071ff5b-e392-4e36-8777-9fa2aa218dfa",
   "metadata": {},
   "outputs": [
    {
     "name": "stdout",
     "output_type": "stream",
     "text": [
      "unique_pred: [1 2]\n",
      "unique_target: [1 2]\n",
      "task: atypicality # of dp dropped: 1\n"
     ]
    }
   ],
   "source": [
    "# gpt4 - todo\n",
    "od_batch_pred_gpt4_pairwise = pickle.load(open(output_dir + 'cleaned/original_gpt4_pairwise_0612_224413.pkl', 'rb')) \n",
    "eval_batch_pairwise(od_batch_pred_gpt4_pairwise, True).to_csv('../data/outputs/csv/mturk_gpt4_pairwise_od.csv', index = False)"
   ]
  },
  {
   "cell_type": "code",
   "execution_count": 176,
   "id": "4c1de8f3-b5c5-4a3a-98d2-9b41f8250bc7",
   "metadata": {},
   "outputs": [
    {
     "name": "stdout",
     "output_type": "stream",
     "text": [
      "unique_pred: [1 2]\n",
      "unique_target: [1 2]\n",
      "task: atypicality # of dp dropped: 2\n"
     ]
    }
   ],
   "source": [
    "# llava 7b\n",
    "# od_batch_pred_llava7b_pairwise = pickle.load(open(output_dir + 'cleaned/original_llava7b_pairwise_0612_233034.pkl', 'rb'))\n",
    "\n",
    "od_batch_pred_llava7b_pairwise = pickle.load(\n",
    "    open(output_dir + 'pickles/batch_pred_llava-hf-llava-v1.6-mistral-7b-hf_0614_012513.pkl', 'rb')\n",
    ")\n",
    "eval_batch_pairwise(od_batch_pred_llava7b_pairwise, True).to_csv('../data/outputs/csv/mturk_llava7b_pairwise_od.csv', index = False)"
   ]
  },
  {
   "cell_type": "code",
   "execution_count": 391,
   "id": "66650ff2-638f-4211-9988-c5d1953127fb",
   "metadata": {},
   "outputs": [],
   "source": [
    "# # llava 13b \n",
    "# od_batch_pred_llava13b_pairwise = pickle.load(open(output_dir + 'cleaned/original_llava13b_pairwise_0613_152712.pkl', 'rb'))\n",
    "# eval_batch_pairwise(od_batch_pred_llava13b_pairwise, True)"
   ]
  },
  {
   "cell_type": "code",
   "execution_count": 177,
   "id": "8c7b787b-ee3e-4bae-805a-6e25b0cb814f",
   "metadata": {},
   "outputs": [
    {
     "name": "stdout",
     "output_type": "stream",
     "text": [
      "unique_pred: [1 2]\n",
      "unique_target: [1 2]\n",
      "task: atypicality # of dp dropped: 49\n"
     ]
    }
   ],
   "source": [
    "# llava 13b \n",
    "od_batch_pred_llava13b_pairwise = pickle.load(\n",
    "    open(output_dir + 'pickles/batch_pred_llava-hf-llava-v1.6-vicuna-13b-hf_0614_012145.pkl', 'rb')\n",
    ")\n",
    "eval_batch_pairwise(od_batch_pred_llava13b_pairwise, True).to_csv('../data/outputs/csv/mturk_llava13b_pairwise_od.csv', index = False)"
   ]
  },
  {
   "cell_type": "code",
   "execution_count": null,
   "id": "588917f2-1bce-4fe7-8e8c-11bdb20b4e53",
   "metadata": {},
   "outputs": [],
   "source": []
  }
 ],
 "metadata": {
  "kernelspec": {
   "display_name": "ads_dev",
   "language": "python",
   "name": "python3"
  },
  "language_info": {
   "codemirror_mode": {
    "name": "ipython",
    "version": 3
   },
   "file_extension": ".py",
   "mimetype": "text/x-python",
   "name": "python",
   "nbconvert_exporter": "python",
   "pygments_lexer": "ipython3",
   "version": "3.10.15"
  }
 },
 "nbformat": 4,
 "nbformat_minor": 5
}
