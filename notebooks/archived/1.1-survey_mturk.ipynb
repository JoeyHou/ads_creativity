{
 "cells": [
  {
   "cell_type": "code",
   "execution_count": 11,
   "metadata": {},
   "outputs": [],
   "source": [
    "import json\n",
    "import jsonlines\n",
    "# from datetime import datetime\n",
    "\n",
    "import numpy as np\n",
    "import pandas as pd\n",
    "import seaborn as sns\n",
    "import statsmodels.stats.inter_rater\n",
    "\n",
    "import random\n",
    "random.seed(1)\n",
    "\n",
    "import copy\n",
    "import pickle\n",
    "import os\n",
    "import re"
   ]
  },
  {
   "cell_type": "code",
   "execution_count": 12,
   "metadata": {},
   "outputs": [],
   "source": [
    "import sys \n",
    "sys.path.insert(1, '../src/')\n",
    "\n",
    "from utils import (\n",
    "    load_json,\n",
    "    write_json,\n",
    "    load_jsonl,\n",
    "    write_jsonl\n",
    ")"
   ]
  },
  {
   "cell_type": "code",
   "execution_count": 13,
   "metadata": {},
   "outputs": [],
   "source": [
    "data_dir = '../../pitt_ads/'\n",
    "mturk_data_dir = '../../pitt_ads/mturk_data/'\n",
    "annotation_dir = data_dir + 'annotations_images/image/'"
   ]
  },
  {
   "cell_type": "markdown",
   "metadata": {},
   "source": [
    "# 1 Read Data"
   ]
  },
  {
   "cell_type": "code",
   "execution_count": 4,
   "metadata": {},
   "outputs": [],
   "source": [
    "sampled_ads_id_200 = pickle.load(open(mturk_data_dir + 'sampled_ads_id_200.pkl', 'rb'))\n",
    "atypicality_df = pd.read_csv(data_dir + 'atypicality_annotations_final_csv.csv').dropna(subset = ['image_url'])"
   ]
  },
  {
   "cell_type": "code",
   "execution_count": 123,
   "metadata": {},
   "outputs": [],
   "source": [
    "# sampled_ads_id_200[0]"
   ]
  },
  {
   "cell_type": "code",
   "execution_count": 124,
   "metadata": {},
   "outputs": [],
   "source": [
    "# sampled_ads_id_200"
   ]
  },
  {
   "cell_type": "code",
   "execution_count": 125,
   "metadata": {},
   "outputs": [],
   "source": [
    "qa_action_json = load_json(annotation_dir + 'QA_Action.json')\n",
    "# qa_action_json.keys()\n",
    "\n",
    "annotation_data = {}\n",
    "annotation_data['sentiment'] = load_json(annotation_dir + 'Sentiments.json')\n",
    "annotation_data['symbol'] = load_json(annotation_dir + 'Symbols.json')\n",
    "annotation_data['topic'] = load_json(annotation_dir + 'Topics.json')\n",
    "annotation_data['action_reason'] = load_json(annotation_dir + 'QA_Combined_Action_Reason.json')\n",
    "annotation_data['action'] = load_json(annotation_dir + 'QA_Action.json')\n",
    "annotation_data['reason'] = load_json(annotation_dir + 'QA_Reason.json')\n",
    "annotation_data['slogan'] = load_json(annotation_dir + 'Slogans.json')\n",
    "\n",
    "def parse_list(list_file):\n",
    "    data_dict = {}\n",
    "    with open(list_file, 'r', encoding='unicode_escape') as f:\n",
    "        for line in f.readlines():\n",
    "            if line.strip() == '':\n",
    "                continue\n",
    "            # get number\n",
    "            # print(line)\n",
    "            idx, label = line.split('. ')\n",
    "            # re.match(pattern='\\d{1,2}', string=line).group()\n",
    "            # get key\n",
    "            # label = re.sub('[^A-Za-z]', '', line.split('ABBREVIATION')[1])\n",
    "            data_dict[idx] = label\n",
    "    return data_dict\n",
    "\n",
    "def get_most_frequent(lst):\n",
    "    label, counts = np.unique(lst, return_counts = True)\n",
    "    return sorted(zip(label, counts), key = lambda x: x[1], reverse = True)[0][0].strip()\n",
    "\n",
    "def get_longest(lst):\n",
    "    length = [len(label) for label in lst]\n",
    "    return sorted(zip(lst, length), key = lambda x: x[1], reverse = True)[0][0].strip()\n",
    "\n",
    "def get_ads_data(ads_key):\n",
    "    ads_data = {'ads_id': ads_key}\n",
    "    for key in annotation_data.keys():\n",
    "        # print('key:', key)\n",
    "        try:\n",
    "            ads_data[key] = annotation_data[key][ads_key]\n",
    "            if key == 'sentiment':\n",
    "                ads_data[key] = [sentiment_key[l[0]] for l in ads_data[key]]\n",
    "            if key == 'topic':\n",
    "                ads_data[key] = [topic_key[i] for i in ads_data[key]]\n",
    "        except:\n",
    "            pass\n",
    "    return ads_data\n",
    "# get_image_data(\"10/170741.png\")\n",
    "\n",
    "sentiment_key = parse_list(annotation_dir + 'Sentiments_List.txt')\n",
    "topic_key = parse_list(annotation_dir + 'topics.txt')\n",
    "# topic_key\n",
    "# sentiment_key"
   ]
  },
  {
   "cell_type": "code",
   "execution_count": 11,
   "metadata": {},
   "outputs": [],
   "source": [
    "# annotation_data"
   ]
  },
  {
   "cell_type": "markdown",
   "metadata": {},
   "source": [
    "# 2. Prep Data for MTurk"
   ]
  },
  {
   "cell_type": "code",
   "execution_count": 12,
   "metadata": {},
   "outputs": [],
   "source": [
    "# required fields\n",
    "# required_data_template = {\n",
    "#     'image_url': '',\n",
    "#     'topic': '',\n",
    "#     'action_a': '',\n",
    "#     'action_b': '',\n",
    "#     'action_c': '',\n",
    "#     'action_d': '',\n",
    "#     'action_e': ''\n",
    "# }"
   ]
  },
  {
   "cell_type": "code",
   "execution_count": 139,
   "metadata": {},
   "outputs": [
    {
     "data": {
      "text/plain": [
       "64140"
      ]
     },
     "execution_count": 139,
     "metadata": {},
     "output_type": "execute_result"
    }
   ],
   "source": [
    "all_ads_id = np.unique(list(annotation_data['action_reason'].keys()) + list(annotation_data['action'].keys()))\n",
    "len(all_ads_id)"
   ]
  },
  {
   "cell_type": "code",
   "execution_count": 140,
   "metadata": {},
   "outputs": [
    {
     "data": {
      "text/plain": [
       "[('I should wear Liz Claiborne Clothing', 0),\n",
       " ('I should drive a toyota', 0),\n",
       " ('I should be upset with Starbucks.', 1),\n",
       " ('I should try this fragrance', 0),\n",
       " ('I should buy this new Maybelline foundation.', 0)]"
      ]
     },
     "execution_count": 140,
     "metadata": {},
     "output_type": "execute_result"
    }
   ],
   "source": [
    "def clean_topic(topic):\n",
    "    return re.sub(r'\\(ABBREVIATION: \".+\"\\)', '', topic)\n",
    "\n",
    "def get_action_reason_lst(ads_data, annotation_data, count = 12, all_ads_id = all_ads_id):\n",
    "    negatives = list(copy.deepcopy(all_ads_id))\n",
    "    # print(ads_data['ads_id'], negatives, )\n",
    "    if ads_data['ads_id'] in negatives:\n",
    "        negatives.remove(ads_data['ads_id'])\n",
    "    negatives = random.sample(negatives, count)\n",
    "    # print(negatives)\n",
    "    negative_action_reasons = []\n",
    "    for ads_id in negatives:\n",
    "        if ads_id in annotation_data['action_reason']:\n",
    "            negative_action_reasons.append(annotation_data['action_reason'][ads_id][0])\n",
    "        else:\n",
    "            negative_action_reasons.append(annotation_data['action'][ads_id][0]) # + ' ' + annotation_data['reason'][ads_id][0])\n",
    "    # negatives = [annotation_data['action_reason'][ads_id][0] for ads_id in negatives]\n",
    "    # print(ads_data)\n",
    "    if 'action' in ads_data:\n",
    "        positive_action_reason = [get_longest([\n",
    "            ads_data['action'][i] \n",
    "            # + ' ' + ads_data['reason'][i] \n",
    "            for i in range(len(ads_data['action']))\n",
    "        ])]\n",
    "    else:\n",
    "        positive_action_reason = [get_longest([\n",
    "            ads_data['action_reason'][i].split('because')[0].strip()\n",
    "            # + ' ' + ads_data['reason'][i] \n",
    "            for i in range(len(ads_data['action_reason']))\n",
    "        ])]\n",
    "\n",
    "    candidates = negative_action_reasons + positive_action_reason\n",
    "    labels = [0] *  len(negative_action_reasons) + [1]\n",
    "\n",
    "    data = list(zip(candidates, labels))\n",
    "    random.shuffle(data)\n",
    "    \n",
    "    return data \n",
    "\n",
    "get_action_reason_lst(get_ads_data('2/140062.jpg'), annotation_data, count = 4)"
   ]
  },
  {
   "cell_type": "code",
   "execution_count": 15,
   "metadata": {},
   "outputs": [
    {
     "data": {
      "text/plain": [
       "{'ads_id': '2/140062.jpg',\n",
       " 'sentiment': ['\"Active\"(energetic, adventurous, vibrant, enthusiastic, playful)\" (ABBREVIATION: \"active\")\\n',\n",
       "  '\"Educated\"(informed, enlightened, smart, savvy, intelligent)\" (ABBREVIATION: \"educated\")\\n',\n",
       "  '\"Calm\"(soothed, peaceful, comforted, fullfilled, cozy)\" (ABBREVIATION: \"calm\")\\n'],\n",
       " 'symbol': [[21.0, 8.0, 216.0, 213.0, 'death'],\n",
       "  [242.0, 0.0, 484.0, 228.0, 'Death'],\n",
       "  [473.0, 463.0, 41.0, 20.0, 'Fear'],\n",
       "  [257.0, 4.0, 495.0, 226.0, 'Disaster'],\n",
       "  [36.0, 13.0, 380.0, 500.0, 'pollution ']],\n",
       " 'topic': ['\"Restaurants, cafe, fast food\" (ABBREVIATION: \"restaurant\")\\n',\n",
       "  '\"Coffee, tea\" (ABBREVIATION: \"coffee\")\\n',\n",
       "  '\"Coffee, tea\" (ABBREVIATION: \"coffee\")\\n'],\n",
       " 'action': ['I should go to starbucks.',\n",
       "  'I should be upset with Starbucks.',\n",
       "  'I should remember 9/11 '],\n",
       " 'reason': ['Because it is peaceful.',\n",
       "  'Because their ad supposedly looks like 9/11 imagery.',\n",
       "  'Because Starbucks says so ']}"
      ]
     },
     "execution_count": 15,
     "metadata": {},
     "output_type": "execute_result"
    }
   ],
   "source": [
    "get_ads_data('2/140062.jpg')"
   ]
  },
  {
   "cell_type": "markdown",
   "metadata": {},
   "source": [
    "## 2.1 Create new subset"
   ]
  },
  {
   "cell_type": "code",
   "execution_count": null,
   "metadata": {},
   "outputs": [],
   "source": []
  },
  {
   "cell_type": "markdown",
   "metadata": {},
   "source": [
    "### 2.1.1 randomly sample (older method)"
   ]
  },
  {
   "cell_type": "code",
   "execution_count": 114,
   "metadata": {},
   "outputs": [],
   "source": [
    "existing_subsets = ['0.1', '0.2', '0.3', '0.4', '1.1', '1.2']\n",
    "# new_subset_name = '0.5'\n",
    "subset_count = 80\n",
    "\n",
    "sampled_ads_id_200 = pickle.load(open(mturk_data_dir + 'sampled_ads_id_200.pkl', 'rb'))"
   ]
  },
  {
   "cell_type": "code",
   "execution_count": 115,
   "metadata": {},
   "outputs": [
    {
     "name": "stdout",
     "output_type": "stream",
     "text": [
      "exiting data shape: (160, 14)\n",
      "available ads id to choose from: 61 (typical), 66 (atypical)\n",
      "numer of new sample: 80 [np.str_('0/12880.jpg'), np.str_('0/149460.jpg'), np.str_('0/147410.jpg'), np.str_('0/102990.jpg'), np.str_('2/18052.jpg')]\n"
     ]
    }
   ],
   "source": [
    "### get sample ads_id ### \n",
    "new_subset_ads_id_lst = []\n",
    "\n",
    "existing_data = pd.concat([pd.read_csv(mturk_data_dir + 'subset_{}/subset_ads_data_{}.csv'.format(subset, subset)) for subset in existing_subsets])\n",
    "existing_ads_ids = set(existing_data.ads_id.values)\n",
    "print('exiting data shape:', existing_data.shape) \n",
    "\n",
    "sampled_ads_id_200_typical = [dp for dp in sampled_ads_id_200 if dp[1] == 'normal' and dp[0] not in existing_ads_ids]\n",
    "sampled_ads_id_200_atypical = [dp for dp in sampled_ads_id_200 if dp[1] == 'atypical' and dp[0] not in existing_ads_ids]\n",
    "print('available ads id to choose from: {} (typical), {} (atypical)'.format(len(sampled_ads_id_200_typical), len(sampled_ads_id_200_atypical)))\n",
    "\n",
    "new_subset_ads_id_lst = random.sample(sampled_ads_id_200_typical, int(subset_count / 2)) + random.sample(sampled_ads_id_200_atypical, int(subset_count / 2))\n",
    "new_subset_ads_id_lst = [dp[0] for dp in new_subset_ads_id_lst]\n",
    "random.shuffle(new_subset_ads_id_lst)\n",
    "\n",
    "print('numer of new sample:', len(new_subset_ads_id_lst), new_subset_ads_id_lst[:5])"
   ]
  },
  {
   "cell_type": "code",
   "execution_count": null,
   "metadata": {},
   "outputs": [],
   "source": []
  },
  {
   "cell_type": "markdown",
   "metadata": {},
   "source": [
    "### 2.1.2 sample by category"
   ]
  },
  {
   "cell_type": "code",
   "execution_count": 117,
   "metadata": {},
   "outputs": [
    {
     "data": {
      "text/plain": [
       "10"
      ]
     },
     "execution_count": 117,
     "metadata": {},
     "output_type": "execute_result"
    }
   ],
   "source": [
    "existing_data_count = {\n",
    "    'clothing': 10,\n",
    "    'food': 10,\n",
    "    'automobile': 10,\n",
    "    'beauty': 10,\n",
    "    'leisure': 10,\n",
    "    'electronics': 10,\n",
    "    'drinks': 10,\n",
    "    'service': 10,\n",
    "    'non-commercial': 10,\n",
    "    'healthcare': 10\n",
    "}\n",
    "available_ads_df = pd.read_csv('../../pitt_ads/mturk_data/available_ads_102024.csv')\n",
    "\n",
    "super_topic_list = list(available_ads_df.super_topic.value_counts().iloc[:10].index)\n",
    "\n",
    "annotation_plan = {k: 10 for k in super_topic_list}\n",
    "for k in super_topic_list:\n",
    "    if k in existing_data_count:\n",
    "        annotation_plan[k] = 11 - existing_data_count[k]\n",
    "sum(annotation_plan.values())"
   ]
  },
  {
   "cell_type": "code",
   "execution_count": 118,
   "metadata": {},
   "outputs": [
    {
     "data": {
      "text/plain": [
       "{'food': 1,\n",
       " 'drinks': 1,\n",
       " 'clothing': 1,\n",
       " 'non-commercial': 1,\n",
       " 'automobile': 1,\n",
       " 'beauty': 1,\n",
       " 'service': 1,\n",
       " 'leisure': 1,\n",
       " 'electronics': 1,\n",
       " 'healthcare': 1}"
      ]
     },
     "execution_count": 118,
     "metadata": {},
     "output_type": "execute_result"
    }
   ],
   "source": [
    "annotation_plan"
   ]
  },
  {
   "cell_type": "code",
   "execution_count": 126,
   "metadata": {},
   "outputs": [
    {
     "data": {
      "text/plain": [
       "(3710, 4)"
      ]
     },
     "execution_count": 126,
     "metadata": {},
     "output_type": "execute_result"
    }
   ],
   "source": [
    "# tot = tot_w_action = tot_w_action_reason = 0\n",
    "# for ads_id in available_ads_df.ads_id.values:\n",
    "#     tmp_ads_data = get_ads_data(ads_id)\n",
    "#     if 'action' in tmp_ads_data: \n",
    "#         tot_w_action += 1\n",
    "#     if 'action_reason' in tmp_ads_data:\n",
    "#         tot_w_action_reason += 1\n",
    "#     tot += 1\n",
    "# tot, tot_w_action, tot_w_action_reason\n",
    "\n",
    "\n",
    "### Filter out ads without action / action reason annotation\n",
    "available_ads_df = available_ads_df.loc[available_ads_df.ads_id.apply(lambda x: 'action_reason' in get_ads_data(x))]\n",
    "available_ads_df.shape"
   ]
  },
  {
   "cell_type": "code",
   "execution_count": 127,
   "metadata": {},
   "outputs": [
    {
     "data": {
      "text/plain": [
       "(2101, 4)"
      ]
     },
     "execution_count": 127,
     "metadata": {},
     "output_type": "execute_result"
    }
   ],
   "source": [
    "### Filter out low-resolution ads\n",
    "from PIL import Image \n",
    "  \n",
    "# loading the image \n",
    "def high_resolution(image_file_path):\n",
    "    img = Image.open(image_file_path)     \n",
    "    wid, hgt = img.size \n",
    "    if wid < 512 or hgt < 512:\n",
    "        return False\n",
    "    else:\n",
    "        return True\n",
    "# high_resolution('../../pitt_ads/mturk_data/subset_1.1/10/170823.png')\n",
    "\n",
    "available_ads_df = available_ads_df.loc[available_ads_df.ads_id.apply(lambda x: high_resolution('../../pitt_ads/original_data/' + x))]\n",
    "available_ads_df.shape"
   ]
  },
  {
   "cell_type": "code",
   "execution_count": 128,
   "metadata": {},
   "outputs": [],
   "source": [
    "# high_resolution('../../pitt_ads/mturk_data/subset_1.1/10/170840.png')"
   ]
  },
  {
   "cell_type": "code",
   "execution_count": 129,
   "metadata": {},
   "outputs": [
    {
     "data": {
      "text/plain": [
       "{'food': 1,\n",
       " 'drinks': 1,\n",
       " 'clothing': 1,\n",
       " 'non-commercial': 1,\n",
       " 'automobile': 1,\n",
       " 'beauty': 1,\n",
       " 'service': 1,\n",
       " 'leisure': 1,\n",
       " 'electronics': 1,\n",
       " 'healthcare': 1}"
      ]
     },
     "execution_count": 129,
     "metadata": {},
     "output_type": "execute_result"
    }
   ],
   "source": [
    "annotation_plan"
   ]
  },
  {
   "cell_type": "code",
   "execution_count": 130,
   "metadata": {},
   "outputs": [
    {
     "data": {
      "text/plain": [
       "(10, 4)"
      ]
     },
     "execution_count": 130,
     "metadata": {},
     "output_type": "execute_result"
    }
   ],
   "source": [
    "selected_data = []\n",
    "for k in annotation_plan:\n",
    "    # tmp_available_ids = list(available_ads_df.query('super_topic == \"{}\"'.format(k)).ads_id.values)\n",
    "\n",
    "    selected_data.append(available_ads_df.query('super_topic == \"{}\"'.format(k)).sample(annotation_plan[k]))\n",
    "    # selected_ids.extend(random.sample(tmp_available_ids, k = annotation_plan[k]))\n",
    "# len(selected_ids)\n",
    "selected_data_df = pd.concat(selected_data)\n",
    "selected_data_df.shape"
   ]
  },
  {
   "cell_type": "code",
   "execution_count": 131,
   "metadata": {},
   "outputs": [],
   "source": [
    "# subset_lst = np.array([1] * 30 + [2] * 50)\n",
    "# np.random.shuffle(subset_lst)\n",
    "# selected_data_df['subset'] = subset_lst\n",
    "# selected_data_df"
   ]
  },
  {
   "cell_type": "code",
   "execution_count": 132,
   "metadata": {},
   "outputs": [],
   "source": [
    "selected_data_df.index = selected_data_df.ads_id "
   ]
  },
  {
   "cell_type": "markdown",
   "metadata": {},
   "source": [
    "### 2.1.3 Copy data to folder (BE EXTRA CAREFUL HERE!)"
   ]
  },
  {
   "cell_type": "code",
   "execution_count": 133,
   "metadata": {},
   "outputs": [],
   "source": [
    "# new_subset_ads_id_lst = selected_data_df.query('subset == 1').ads_id.values\n",
    "new_subset_ads_id_lst = selected_data_df.ads_id.values\n",
    "new_subset_name = '1.0'"
   ]
  },
  {
   "cell_type": "code",
   "execution_count": 134,
   "metadata": {},
   "outputs": [
    {
     "data": {
      "text/plain": [
       "10"
      ]
     },
     "execution_count": 134,
     "metadata": {},
     "output_type": "execute_result"
    }
   ],
   "source": [
    "len(new_subset_ads_id_lst)"
   ]
  },
  {
   "cell_type": "code",
   "execution_count": 135,
   "metadata": {},
   "outputs": [],
   "source": [
    "### do the copying ### \n",
    "### WARNING: CAREFUL! ###\n",
    "for ads_id in new_subset_ads_id_lst:\n",
    "    try:\n",
    "        subset_dir = mturk_data_dir + 'subset_{}/'.format(new_subset_name)\n",
    "        os.makedirs(subset_dir, exist_ok = True)\n",
    "        \n",
    "        ads_dir, ads_name = ads_id.split('/')\n",
    "        subset_split_dir = mturk_data_dir + 'subset_{}/{}/'.format(new_subset_name, ads_dir)\n",
    "        os.makedirs(subset_split_dir, exist_ok = True)\n",
    "\n",
    "        original_file = data_dir + 'original_data/{}/{}'.format(ads_dir, ads_name)\n",
    "        new_file = subset_split_dir + ads_name\n",
    "        os.system('cp {} {}'.format(original_file, new_file))\n",
    "        # counter += 1\n",
    "    except:\n",
    "        continue "
   ]
  },
  {
   "cell_type": "markdown",
   "metadata": {},
   "source": [
    "## 2.2 Prep meta data for the subset "
   ]
  },
  {
   "cell_type": "code",
   "execution_count": 136,
   "metadata": {},
   "outputs": [],
   "source": [
    "# new_subset_name = '0.5'"
   ]
  },
  {
   "cell_type": "code",
   "execution_count": 141,
   "metadata": {},
   "outputs": [
    {
     "data": {
      "text/plain": [
       "{'ads_id': '10/172932.png',\n",
       " 'image_url': 'https://people.cs.pitt.edu/~mzhang/image_ads/10/172932.png',\n",
       " 'topic': np.int64(19),\n",
       " 'example_1': 'https://people.cs.pitt.edu/~mzhang/image_ads/10/171001.png',\n",
       " 'example_2': 'https://people.cs.pitt.edu/~mzhang/image_ads/0/10290.jpg',\n",
       " 'action_a': \"I should wear Levi's\",\n",
       " 'action_b': \"I should be vegan because i'll look like an anorexic supermodel.\",\n",
       " 'action_c': 'I should buy this phone',\n",
       " 'action_d': 'I should buy shoes and handbags from Nine West',\n",
       " 'action_e': 'I should buy these shoes.',\n",
       " 'action_correct': 'd',\n",
       " 'topic_text': '\"Clothing and accessories (jeans, shoes, eye glasses, handbags, watches, jewelry)\"',\n",
       " 'super_topic': 'clothing'}"
      ]
     },
     "execution_count": 141,
     "metadata": {},
     "output_type": "execute_result"
    }
   ],
   "source": [
    "subset_ads_data = []\n",
    "\n",
    "subset_dir = mturk_data_dir + 'subset_{}/'.format(new_subset_name)\n",
    "for dir in os.listdir(subset_dir):\n",
    "    if (dir == '.DS_Store') or ('.csv' in dir): continue \n",
    "    subset_split_dir = subset_dir + dir + '/'\n",
    "    for img in os.listdir(subset_split_dir):\n",
    "        if dir == '.DS_Store': continue \n",
    "        tmp_data = {} # copy.deepcopy(required_data_template)\n",
    "        ads_id = dir + '/' + img\n",
    "        ads_data = get_ads_data(ads_id)\n",
    "\n",
    "        tmp_data['ads_id'] = dir + '/' + img\n",
    "        for pair in sampled_ads_id_200:\n",
    "            if pair[0] == tmp_data['ads_id']:\n",
    "                tmp_data['atypical'] = (pair[1] == 'atypical')\n",
    "                break \n",
    "\n",
    "        tmp_data['image_url'] = 'https://people.cs.pitt.edu/~mzhang/image_ads/{}/{}'.format(dir, img)\n",
    "        tmp_data['topic'] = clean_topic(get_most_frequent(ads_data['topic']))\n",
    "        tmp_data['example_1'] = 'https://people.cs.pitt.edu/~mzhang/image_ads/10/171001.png'\n",
    "        tmp_data['example_2'] = 'https://people.cs.pitt.edu/~mzhang/image_ads/0/10290.jpg'\n",
    "\n",
    "        actions = get_action_reason_lst(get_ads_data(ads_id), annotation_data, count = 4)\n",
    "        option_labels = ['a', 'b', 'c', 'd', 'e']\n",
    "        correct = ''\n",
    "        for i in range(len(option_labels)):\n",
    "            tmp_data['action_{}'.format(option_labels[i])] = actions[i][0]\n",
    "            if actions[i][1] == 1:\n",
    "                correct = option_labels[i]\n",
    "        tmp_data['action_correct'] = correct\n",
    "        \n",
    "        other_info = dict(selected_data_df.loc[ads_id])\n",
    "        tmp_data.update(other_info)\n",
    "\n",
    "        subset_ads_data.append(tmp_data)\n",
    "subset_ads_data[0]"
   ]
  },
  {
   "cell_type": "code",
   "execution_count": 142,
   "metadata": {},
   "outputs": [
    {
     "data": {
      "text/plain": [
       "{'ads_id': '10/173848.png',\n",
       " 'sentiment': ['\"Educated\"(informed, enlightened, smart, savvy, intelligent)\" (ABBREVIATION: \"educated\")\\n',\n",
       "  '\"Educated\"(informed, enlightened, smart, savvy, intelligent)\" (ABBREVIATION: \"educated\")\\n',\n",
       "  '\"Active\"(energetic, adventurous, vibrant, enthusiastic, playful)\" (ABBREVIATION: \"active\")\\n'],\n",
       " 'symbol': [[292.0, 197.0, 89.0, 91.0, 'user'],\n",
       "  [20.0, 51.0, 242.0, 216.0, 'Ease'],\n",
       "  [11.0, 61.0, 479.0, 438.0, 'value/features']],\n",
       " 'topic': ['\"Electronics (computers, laptops, tablets, cellphones, TVs, etc.)\" (ABBREVIATION: \"electronics\")\\n',\n",
       "  '\"Electronics (computers, laptops, tablets, cellphones, TVs, etc.)\" (ABBREVIATION: \"electronics\")\\n',\n",
       "  '\"Electronics (computers, laptops, tablets, cellphones, TVs, etc.)\" (ABBREVIATION: \"electronics\")\\n'],\n",
       " 'action_reason': [\"I should get this laptop because it's a good price\",\n",
       "  'I should buy because its the newest brand to have.',\n",
       "  'Please provide a one-sentence answer to the question “Why should you buy this product, according to this ad?” (if it is a product ad) or “What should I do, according to this ad?” (if it is a public service announcement); for exa'],\n",
       " 'slogan': ['More buck for your bang',\n",
       "  'Your computer slower then move it over in purchase faster in better tech.',\n",
       "  'Please make up and write down an advertising slogan for the ad (for example, “Red Bull gives you wings”). Do NOT directly use text that the ad includes, as your slogan.']}"
      ]
     },
     "execution_count": 142,
     "metadata": {},
     "output_type": "execute_result"
    }
   ],
   "source": [
    "get_ads_data('10/173848.png')"
   ]
  },
  {
   "cell_type": "code",
   "execution_count": 143,
   "metadata": {},
   "outputs": [],
   "source": [
    "pd.DataFrame(subset_ads_data).to_csv(subset_dir + 'subset_ads_data_{}.csv'.format(new_subset_name), index = False)"
   ]
  },
  {
   "cell_type": "code",
   "execution_count": null,
   "metadata": {},
   "outputs": [],
   "source": []
  },
  {
   "cell_type": "code",
   "execution_count": null,
   "metadata": {},
   "outputs": [],
   "source": []
  },
  {
   "cell_type": "markdown",
   "metadata": {},
   "source": [
    "# 3 Post-processing"
   ]
  },
  {
   "cell_type": "markdown",
   "metadata": {},
   "source": [
    "## 3.0 Cleaning"
   ]
  },
  {
   "cell_type": "code",
   "execution_count": null,
   "metadata": {},
   "outputs": [
    {
     "data": {
      "text/plain": [
       "(2500, 105)"
      ]
     },
     "execution_count": 39,
     "metadata": {},
     "output_type": "execute_result"
    }
   ],
   "source": [
    "# mturk_raw_data = pd.read_csv(mturk_data_dir + 'subset_0.5/mturk_raw_results.0.5.1.csv')\n",
    "# mturk_raw_data.shape #, mturk_groundtruth.shape\n",
    "\n",
    "file_lst = [\n",
    "    mturk_data_dir + 'subset_0.5/mturk_raw_results.0.5.1.csv',\n",
    "    mturk_data_dir + 'subset_0.5/mturk_raw_results.0.5.csv',\n",
    "    mturk_data_dir + 'subset_1.2/mturk_raw_results.1.2.csv',\n",
    "    mturk_data_dir + 'subset_1.2/mturk_raw_results.1.2.1.csv',\n",
    "    mturk_data_dir + 'subset_1.1/mturk_raw_results.1.1.csv'\n",
    "    # mturk_data_dir + 'subset_1.1/Batch_5263776_batch_results.csv'\n",
    "]\n",
    "mturk_raw_data = []\n",
    "for file in file_lst:\n",
    "    tmp_df = pd.read_csv(file)\n",
    "    mturk_raw_data.append(tmp_df)\n",
    "mturk_raw_data = pd.concat(mturk_raw_data)\n",
    "mturk_raw_data.shape"
   ]
  },
  {
   "cell_type": "markdown",
   "metadata": {},
   "source": [
    "- drop some datapoints"
   ]
  },
  {
   "cell_type": "code",
   "execution_count": 40,
   "metadata": {},
   "outputs": [
    {
     "data": {
      "text/plain": [
       "(2500, 105)"
      ]
     },
     "execution_count": 40,
     "metadata": {},
     "output_type": "execute_result"
    }
   ],
   "source": [
    "ids_to_drop = []\n",
    "# ids_to_drop = [\"0/52390.jpg\", \"0/85300.jpg\"]\n",
    "mturk_raw_data = mturk_raw_data.loc[mturk_raw_data['Input.ads_id'].apply(lambda x: x not in ids_to_drop)].reset_index(drop=True)\n",
    "mturk_raw_data.shape"
   ]
  },
  {
   "cell_type": "code",
   "execution_count": 41,
   "metadata": {},
   "outputs": [
    {
     "data": {
      "text/plain": [
       "43"
      ]
     },
     "execution_count": 41,
     "metadata": {},
     "output_type": "execute_result"
    }
   ],
   "source": [
    "mturk_raw_data.WorkerId.nunique()"
   ]
  },
  {
   "cell_type": "code",
   "execution_count": 42,
   "metadata": {},
   "outputs": [],
   "source": [
    "# mturk_raw_data[['Input.ads_id', 'WorkerId']].groupby('Input.ads_id').agg('count').query('WorkerId < 25')"
   ]
  },
  {
   "cell_type": "code",
   "execution_count": null,
   "metadata": {},
   "outputs": [],
   "source": [
    "mturk_raw_data.colum"
   ]
  },
  {
   "cell_type": "markdown",
   "metadata": {},
   "source": [
    "## 3.1 Demographic "
   ]
  },
  {
   "cell_type": "markdown",
   "metadata": {},
   "source": [
    "### 3.1.1 Age"
   ]
  },
  {
   "cell_type": "code",
   "execution_count": 53,
   "metadata": {},
   "outputs": [],
   "source": [
    "age_columns = [\n",
    "    'Answer.age.age_18', \n",
    "    'Answer.age.age_18_24', \n",
    "    'Answer.age.age_25_34', \n",
    "    'Answer.age.age_35_44', \n",
    "    'Answer.age.age_45_54', \n",
    "    'Answer.age.age_55_64', \n",
    "    'Answer.age.age_65', \n",
    "    # 'Answer.age.unknown'\n",
    "]\n",
    "\n",
    "def get_age(s):\n",
    "    age = np.nan\n",
    "    for col in age_columns:\n",
    "        if s[col]:\n",
    "            age = col.split('.')[-1].replace('age_', '')\n",
    "            break\n",
    "    if pd.isna(age):\n",
    "        return age \n",
    "    if age == '65':\n",
    "        age = 'Above 65'\n",
    "    age = age.replace('_', '~')\n",
    "    return age\n",
    "mturk_raw_data['demo_age'] = mturk_raw_data.apply(lambda s: get_age(s), axis = 1)"
   ]
  },
  {
   "cell_type": "code",
   "execution_count": null,
   "metadata": {},
   "outputs": [],
   "source": []
  },
  {
   "cell_type": "code",
   "execution_count": null,
   "metadata": {},
   "outputs": [],
   "source": []
  },
  {
   "cell_type": "code",
   "execution_count": 54,
   "metadata": {},
   "outputs": [
    {
     "data": {
      "text/html": [
       "<div>\n",
       "<style scoped>\n",
       "    .dataframe tbody tr th:only-of-type {\n",
       "        vertical-align: middle;\n",
       "    }\n",
       "\n",
       "    .dataframe tbody tr th {\n",
       "        vertical-align: top;\n",
       "    }\n",
       "\n",
       "    .dataframe thead th {\n",
       "        text-align: right;\n",
       "    }\n",
       "</style>\n",
       "<table border=\"1\" class=\"dataframe\">\n",
       "  <thead>\n",
       "    <tr style=\"text-align: right;\">\n",
       "      <th></th>\n",
       "      <th>WorkerId</th>\n",
       "      <th>demo_age</th>\n",
       "    </tr>\n",
       "  </thead>\n",
       "  <tbody>\n",
       "    <tr>\n",
       "      <th>0</th>\n",
       "      <td>a</td>\n",
       "      <td>NaN</td>\n",
       "    </tr>\n",
       "    <tr>\n",
       "      <th>1</th>\n",
       "      <td>a</td>\n",
       "      <td>1.0</td>\n",
       "    </tr>\n",
       "    <tr>\n",
       "      <th>2</th>\n",
       "      <td>a</td>\n",
       "      <td>1.0</td>\n",
       "    </tr>\n",
       "    <tr>\n",
       "      <th>3</th>\n",
       "      <td>b</td>\n",
       "      <td>NaN</td>\n",
       "    </tr>\n",
       "    <tr>\n",
       "      <th>4</th>\n",
       "      <td>b</td>\n",
       "      <td>NaN</td>\n",
       "    </tr>\n",
       "  </tbody>\n",
       "</table>\n",
       "</div>"
      ],
      "text/plain": [
       "  WorkerId  demo_age\n",
       "0        a       NaN\n",
       "1        a       1.0\n",
       "2        a       1.0\n",
       "3        b       NaN\n",
       "4        b       NaN"
      ]
     },
     "metadata": {},
     "output_type": "display_data"
    },
    {
     "data": {
      "text/plain": [
       "['b']"
      ]
     },
     "execution_count": 54,
     "metadata": {},
     "output_type": "execute_result"
    }
   ],
   "source": [
    "def find_missing(df, data_col, worker_id_col):\n",
    "    worker_list = list(df[worker_id_col].unique())\n",
    "    missing_worker_id = []\n",
    "    for worker_id in worker_list:\n",
    "        if df[[data_col, worker_id_col]].query(worker_id_col + ' == \"{}\"'.format(worker_id)).dropna().shape[0] == 0:\n",
    "            missing_worker_id.append(worker_id)\n",
    "    return missing_worker_id\n",
    "\n",
    "tmp_df = pd.DataFrame({\n",
    "    'WorkerId': ['a', 'a', 'a', 'b', 'b'],\n",
    "    'demo_age': [np.nan, 1, 1, np.nan, np.nan]\n",
    "})\n",
    "display(tmp_df)\n",
    "\n",
    "find_missing(tmp_df, 'demo_age', 'WorkerId')"
   ]
  },
  {
   "cell_type": "code",
   "execution_count": 55,
   "metadata": {},
   "outputs": [
    {
     "data": {
      "text/plain": [
       "[]"
      ]
     },
     "execution_count": 55,
     "metadata": {},
     "output_type": "execute_result"
    }
   ],
   "source": [
    "find_missing(mturk_raw_data, 'demo_age', 'WorkerId')"
   ]
  },
  {
   "cell_type": "markdown",
   "metadata": {},
   "source": [
    "### 3.1.2 Race"
   ]
  },
  {
   "cell_type": "code",
   "execution_count": 56,
   "metadata": {},
   "outputs": [],
   "source": [
    "race_columns = [\n",
    "    'Answer.race.american_indian',\n",
    "    'Answer.race.asian',\n",
    "    'Answer.race.black',\n",
    "    'Answer.race.hawaiian',\n",
    "    'Answer.race.not_say',\n",
    "    'Answer.race.other_race',\n",
    "    'Answer.race.white',\n",
    "]\n",
    "\n",
    "def get_race(s):\n",
    "    race = np.nan\n",
    "    for col in race_columns:\n",
    "        if s[col]:\n",
    "            race = col.split('.')[-1]\n",
    "            break\n",
    "    if pd.isna(race):\n",
    "        return race \n",
    "    return race\n",
    "mturk_raw_data['demo_race'] = mturk_raw_data.apply(lambda s: get_race(s), axis = 1)"
   ]
  },
  {
   "cell_type": "code",
   "execution_count": 57,
   "metadata": {},
   "outputs": [
    {
     "data": {
      "text/plain": [
       "[]"
      ]
     },
     "execution_count": 57,
     "metadata": {},
     "output_type": "execute_result"
    }
   ],
   "source": [
    "find_missing(mturk_raw_data, 'demo_race', 'WorkerId')"
   ]
  },
  {
   "cell_type": "markdown",
   "metadata": {},
   "source": [
    "### 3.1.3 Ethnicity"
   ]
  },
  {
   "cell_type": "code",
   "execution_count": null,
   "metadata": {},
   "outputs": [],
   "source": []
  },
  {
   "cell_type": "code",
   "execution_count": 58,
   "metadata": {},
   "outputs": [],
   "source": [
    "hispanic_columns = [\n",
    "    'Answer.ethnicity.no',\n",
    "    'Answer.ethnicity.not_say',\n",
    "    'Answer.ethnicity.yes',\n",
    "]\n",
    "\n",
    "def get_hispanic(s):\n",
    "    hispanic = np.nan\n",
    "    for col in hispanic_columns:\n",
    "        if s[col]:\n",
    "            hispanic = col.split('.')[-1]\n",
    "            break\n",
    "    if pd.isna(hispanic):\n",
    "        return hispanic \n",
    "    return hispanic\n",
    "mturk_raw_data['demo_hispanic'] = mturk_raw_data.apply(lambda s: get_hispanic(s), axis = 1)"
   ]
  },
  {
   "cell_type": "code",
   "execution_count": 59,
   "metadata": {},
   "outputs": [
    {
     "data": {
      "text/plain": [
       "[]"
      ]
     },
     "execution_count": 59,
     "metadata": {},
     "output_type": "execute_result"
    }
   ],
   "source": [
    "find_missing(mturk_raw_data, 'demo_hispanic', 'WorkerId')"
   ]
  },
  {
   "cell_type": "code",
   "execution_count": 60,
   "metadata": {},
   "outputs": [],
   "source": [
    "# mturk_raw_data['demo_hispanic'].dropna().shape"
   ]
  },
  {
   "cell_type": "markdown",
   "metadata": {},
   "source": [
    "### 3.1.4 Gender"
   ]
  },
  {
   "cell_type": "code",
   "execution_count": 61,
   "metadata": {},
   "outputs": [],
   "source": [
    "gender_columns = [\n",
    "    'Answer.gender.female',\n",
    "    'Answer.gender.male',\n",
    "    'Answer.gender.nb',\n",
    "    'Answer.gender.not_say',\n",
    "]\n",
    "\n",
    "def get_gender(s):\n",
    "    gender = np.nan\n",
    "    for col in gender_columns:\n",
    "        if s[col]:\n",
    "            gender = col.split('.')[-1]\n",
    "            break\n",
    "    if pd.isna(gender):\n",
    "        return gender \n",
    "    return gender\n",
    "mturk_raw_data['demo_gender'] = mturk_raw_data.apply(lambda s: get_gender(s), axis = 1)"
   ]
  },
  {
   "cell_type": "code",
   "execution_count": 62,
   "metadata": {},
   "outputs": [
    {
     "data": {
      "text/plain": [
       "[]"
      ]
     },
     "execution_count": 62,
     "metadata": {},
     "output_type": "execute_result"
    }
   ],
   "source": [
    "find_missing(mturk_raw_data, 'demo_gender', 'WorkerId')"
   ]
  },
  {
   "cell_type": "code",
   "execution_count": null,
   "metadata": {},
   "outputs": [],
   "source": []
  },
  {
   "cell_type": "code",
   "execution_count": null,
   "metadata": {},
   "outputs": [],
   "source": []
  },
  {
   "cell_type": "code",
   "execution_count": null,
   "metadata": {},
   "outputs": [],
   "source": []
  },
  {
   "cell_type": "code",
   "execution_count": null,
   "metadata": {},
   "outputs": [],
   "source": []
  },
  {
   "cell_type": "code",
   "execution_count": null,
   "metadata": {},
   "outputs": [],
   "source": []
  },
  {
   "cell_type": "code",
   "execution_count": null,
   "metadata": {},
   "outputs": [],
   "source": []
  },
  {
   "cell_type": "code",
   "execution_count": null,
   "metadata": {},
   "outputs": [],
   "source": []
  },
  {
   "cell_type": "code",
   "execution_count": null,
   "metadata": {},
   "outputs": [],
   "source": []
  },
  {
   "cell_type": "code",
   "execution_count": null,
   "metadata": {},
   "outputs": [],
   "source": []
  },
  {
   "cell_type": "code",
   "execution_count": null,
   "metadata": {},
   "outputs": [],
   "source": []
  },
  {
   "cell_type": "code",
   "execution_count": null,
   "metadata": {},
   "outputs": [],
   "source": []
  },
  {
   "cell_type": "code",
   "execution_count": null,
   "metadata": {},
   "outputs": [],
   "source": []
  },
  {
   "cell_type": "code",
   "execution_count": null,
   "metadata": {},
   "outputs": [],
   "source": []
  },
  {
   "cell_type": "code",
   "execution_count": null,
   "metadata": {},
   "outputs": [],
   "source": []
  },
  {
   "cell_type": "code",
   "execution_count": null,
   "metadata": {},
   "outputs": [],
   "source": []
  },
  {
   "cell_type": "code",
   "execution_count": null,
   "metadata": {},
   "outputs": [],
   "source": []
  },
  {
   "cell_type": "code",
   "execution_count": null,
   "metadata": {},
   "outputs": [],
   "source": []
  },
  {
   "cell_type": "code",
   "execution_count": 8,
   "metadata": {},
   "outputs": [],
   "source": [
    "age_columns = [\n",
    "    'Answer.age.age_18', \n",
    "    'Answer.age.age_18_24', \n",
    "    'Answer.age.age_25_34', \n",
    "    'Answer.age.age_35_44', \n",
    "    'Answer.age.age_45_54', \n",
    "    'Answer.age.age_55_64', \n",
    "    'Answer.age.age_65', \n",
    "    'Answer.age.unknown'\n",
    "]\n",
    "\n",
    "def get_age(s):\n",
    "    for col in age_columns:\n",
    "        if s[col]:\n",
    "            age = col.split('.')[-1].replace('age_', '')\n",
    "            break\n",
    "    if age == '65':\n",
    "        age = 'Above 65'\n",
    "    age = age.replace('_', '~')\n",
    "    return age\n",
    "mturk_raw_data['age'] = mturk_raw_data.apply(lambda s: get_age(s), axis = 1)"
   ]
  },
  {
   "cell_type": "code",
   "execution_count": 9,
   "metadata": {},
   "outputs": [
    {
     "data": {
      "text/plain": [
       "31"
      ]
     },
     "execution_count": 9,
     "metadata": {},
     "output_type": "execute_result"
    }
   ],
   "source": [
    "tmp_worker_age_df = mturk_raw_data[['WorkerId', 'age']].drop_duplicates().reset_index(drop = True)\n",
    "\n",
    "tmp_worker_ids = tmp_worker_age_df.WorkerId.values\n",
    "tmp_worker_age = tmp_worker_age_df['age'].values\n",
    "worker_age_dict = dict(zip(tmp_worker_ids, tmp_worker_age))\n",
    "len(worker_age_dict)\n",
    "# all_worker_ids = mturk_raw_data.WorkerId.nunique()"
   ]
  },
  {
   "cell_type": "code",
   "execution_count": 10,
   "metadata": {},
   "outputs": [],
   "source": [
    "import matplotlib.pyplot as plt \n",
    "import seaborn \n",
    "from collections import Counter"
   ]
  },
  {
   "cell_type": "code",
   "execution_count": 11,
   "metadata": {},
   "outputs": [
    {
     "data": {
      "image/png": "[encoded data removed]",
      "text/plain": [
       "<Figure size 4800x2400 with 1 Axes>"
      ]
     },
     "metadata": {},
     "output_type": "display_data"
    }
   ],
   "source": [
    "worker_age_dict_counts = Counter(worker_age_dict.values())\n",
    "\n",
    "plt.figure(figsize=(8, 4), dpi = 600) \n",
    "\n",
    "# declaring data \n",
    "data = list(dict(worker_age_dict_counts).values())\n",
    "keys = list(dict(worker_age_dict_counts).keys())\n",
    "  \n",
    "# define Seaborn color palette to use \n",
    "# palette_color = seaborn.color_palette('bright') \n",
    "palette_color = sns.color_palette(\"Set2\")\n",
    "\n",
    "# plotting data on chart \n",
    "ax = plt.pie(data, labels=keys, colors=palette_color, autopct='%.0f%%') \n",
    "\n",
    "# ax.set(xlabel='Scores', ylabel='Count')\n",
    "# displaying chart \n",
    "plt.show() "
   ]
  },
  {
   "cell_type": "code",
   "execution_count": null,
   "metadata": {},
   "outputs": [],
   "source": []
  },
  {
   "cell_type": "code",
   "execution_count": null,
   "metadata": {},
   "outputs": [],
   "source": []
  },
  {
   "cell_type": "code",
   "execution_count": null,
   "metadata": {},
   "outputs": [],
   "source": []
  },
  {
   "cell_type": "code",
   "execution_count": null,
   "metadata": {},
   "outputs": [],
   "source": []
  },
  {
   "cell_type": "code",
   "execution_count": null,
   "metadata": {},
   "outputs": [],
   "source": []
  },
  {
   "cell_type": "code",
   "execution_count": 12,
   "metadata": {},
   "outputs": [
    {
     "data": {
      "text/plain": [
       "Answer.worker_location_live\n",
       "USA                         205\n",
       "United States               102\n",
       "Canada                       40\n",
       "India                        37\n",
       "United States of America     20\n",
       "Portugal                     20\n",
       "Venezuela                    20\n",
       "US                           18\n",
       "England                      14\n",
       "usa                          13\n",
       "united states                11\n",
       "Name: count, dtype: int64"
      ]
     },
     "execution_count": 12,
     "metadata": {},
     "output_type": "execute_result"
    }
   ],
   "source": [
    "mturk_raw_data['Answer.worker_location_live'].value_counts()"
   ]
  },
  {
   "cell_type": "code",
   "execution_count": 13,
   "metadata": {},
   "outputs": [
    {
     "data": {
      "text/plain": [
       "31"
      ]
     },
     "execution_count": 13,
     "metadata": {},
     "output_type": "execute_result"
    }
   ],
   "source": [
    "tmp_worker_loc_df = mturk_raw_data[['Answer.worker_location_live', 'WorkerId']].drop_duplicates()\n",
    "tmp_worker_ids = tmp_worker_loc_df.WorkerId.values\n",
    "tmp_worker_loc = tmp_worker_loc_df['Answer.worker_location_live'].values\n",
    "worker_loc_dict = dict(zip(tmp_worker_ids, tmp_worker_loc))\n",
    "len(worker_loc_dict)\n",
    "# all_worker_ids = mturk_raw_data.WorkerId.nunique()"
   ]
  },
  {
   "cell_type": "code",
   "execution_count": 14,
   "metadata": {},
   "outputs": [
    {
     "data": {
      "text/plain": [
       "{'A1DMXEJGJY02E1': 'US',\n",
       " 'A3RVHUY67SVXQV': 'US',\n",
       " 'A41APS6V2Z1FJ': 'US',\n",
       " 'A15X8ATAWSRXIF': 'US',\n",
       " 'A2XZLEY2RCF5VM': 'Canada',\n",
       " 'A5WWHKD82I8UE': 'US',\n",
       " 'A34YDGVZKRJ0LZ': 'US',\n",
       " 'A3B7TNVOISSZ2O': 'US',\n",
       " 'A3PUUVUDORJS8W': 'England',\n",
       " 'A3W0SCW5UYEB0F': 'US',\n",
       " 'AAGBW25TZVAX7': 'US',\n",
       " 'A377LTGWJKY2IW': 'Canada',\n",
       " 'A2COPP4Y0UYN0B': 'Portugal',\n",
       " 'A3I9XLIHPPWPN1': 'US',\n",
       " 'A2R1GDWV4RLIUY': 'US',\n",
       " 'A2VO8C41JJIQY9': 'India',\n",
       " 'AZLZA0Q87TJZO': 'US',\n",
       " 'A9HQ3E0F2AGVO': 'US',\n",
       " 'A2I4PRZ9IZMKON': 'US',\n",
       " 'A1OZPLHNIU1519': 'US',\n",
       " 'A2FP41BSPG0Y4A': 'US',\n",
       " 'A31PW970Z2PC5P': 'US',\n",
       " 'AKQAI78JTXXC9': 'US',\n",
       " 'A3F5YHQWKPC5MX': 'US',\n",
       " 'A2BK45LZGGWPLX': 'US',\n",
       " 'A1TTSDPGBHOO9P': 'US',\n",
       " 'A3NGN0SM7SBYB9': 'US',\n",
       " 'A2Y7FD1D7PUGBL': 'Venezuela',\n",
       " 'ACI8PUCF5OPDC': 'India',\n",
       " 'A16184N1RO5OJV': 'US',\n",
       " 'AFPMG8TLP1TND': 'US'}"
      ]
     },
     "execution_count": 14,
     "metadata": {},
     "output_type": "execute_result"
    }
   ],
   "source": [
    "for k in worker_loc_dict:\n",
    "    if worker_loc_dict[k].lower() in ['united states', 'usa', 'us', 'united states of america']:\n",
    "        worker_loc_dict[k] = 'US'\n",
    "worker_loc_dict"
   ]
  },
  {
   "cell_type": "code",
   "execution_count": null,
   "metadata": {},
   "outputs": [],
   "source": []
  },
  {
   "cell_type": "code",
   "execution_count": 15,
   "metadata": {},
   "outputs": [],
   "source": [
    "worker_loc_dict_counts = Counter(worker_loc_dict.values())"
   ]
  },
  {
   "cell_type": "code",
   "execution_count": 16,
   "metadata": {},
   "outputs": [
    {
     "data": {
      "text/plain": [
       "dict_values([24, 2, 1, 1, 2, 1])"
      ]
     },
     "execution_count": 16,
     "metadata": {},
     "output_type": "execute_result"
    }
   ],
   "source": [
    "dict(worker_loc_dict_counts).values()"
   ]
  },
  {
   "cell_type": "code",
   "execution_count": 17,
   "metadata": {},
   "outputs": [
    {
     "data": {
      "image/png": "[encoded data removed]",
      "text/plain": [
       "<Figure size 4800x2400 with 1 Axes>"
      ]
     },
     "metadata": {},
     "output_type": "display_data"
    }
   ],
   "source": [
    "plt.figure(figsize=(8, 4), dpi = 600) \n",
    "\n",
    "# declaring data \n",
    "data = list(dict(worker_loc_dict_counts).values())\n",
    "keys = list(dict(worker_loc_dict_counts).keys())\n",
    "  \n",
    "# define Seaborn color palette to use \n",
    "# palette_color = seaborn.color_palette('bright') \n",
    "palette_color = sns.color_palette(\"Set2\")\n",
    "\n",
    "# plotting data on chart \n",
    "ax = plt.pie(data, labels=keys, colors=palette_color, autopct='%.0f%%') \n",
    "\n",
    "# ax.set(xlabel='Scores', ylabel='Count')\n",
    "# displaying chart \n",
    "plt.show() "
   ]
  },
  {
   "cell_type": "code",
   "execution_count": null,
   "metadata": {},
   "outputs": [],
   "source": []
  },
  {
   "cell_type": "code",
   "execution_count": 18,
   "metadata": {},
   "outputs": [],
   "source": [
    "# mturk_raw_data.head()"
   ]
  },
  {
   "cell_type": "code",
   "execution_count": null,
   "metadata": {},
   "outputs": [],
   "source": []
  },
  {
   "cell_type": "code",
   "execution_count": null,
   "metadata": {},
   "outputs": [],
   "source": []
  },
  {
   "cell_type": "markdown",
   "metadata": {},
   "source": [
    "## 3.2 Agreement, Validation"
   ]
  },
  {
   "cell_type": "markdown",
   "metadata": {},
   "source": [
    "- drop some columns"
   ]
  },
  {
   "cell_type": "code",
   "execution_count": 43,
   "metadata": {},
   "outputs": [],
   "source": [
    "col_to_drop = [\n",
    "    'HITTypeId',\n",
    "    'Title',\n",
    "    'Description',\n",
    "    'Keywords',\n",
    "    'Reward',\n",
    "    'CreationTime',\n",
    "    'MaxAssignments',\n",
    "    'RequesterAnnotation',\n",
    "    'AssignmentDurationInSeconds',\n",
    "    'AutoApprovalDelayInSeconds',\n",
    "    'Expiration',\n",
    "    'NumberOfSimilarHITs',\n",
    "    'LifetimeInSeconds',\n",
    "    # 'AssignmentId',\n",
    "    'AssignmentStatus',\n",
    "    'AcceptTime',\n",
    "    'SubmitTime',\n",
    "    'AutoApprovalTime',\n",
    "    'ApprovalTime',\n",
    "    'RejectionTime',\n",
    "    'RequesterFeedback',\n",
    "    'WorkTimeInSeconds',\n",
    "    'LifetimeApprovalRate',\n",
    "    'Last30DaysApprovalRate',\n",
    "    'Last7DaysApprovalRate',\n",
    "    'Input.example_1',\n",
    "    'Input.example_2',\n",
    "    'Input.image_url',\n",
    "    'Approve',\n",
    "    'Reject'\n",
    "]"
   ]
  },
  {
   "cell_type": "code",
   "execution_count": 44,
   "metadata": {},
   "outputs": [
    {
     "data": {
      "text/plain": [
       "(2500, 76)"
      ]
     },
     "execution_count": 44,
     "metadata": {},
     "output_type": "execute_result"
    }
   ],
   "source": [
    "mturk_raw_data = mturk_raw_data.drop(columns=col_to_drop)\n",
    "mturk_raw_data.shape"
   ]
  },
  {
   "cell_type": "code",
   "execution_count": null,
   "metadata": {},
   "outputs": [],
   "source": []
  },
  {
   "cell_type": "markdown",
   "metadata": {},
   "source": [
    "- keep first k annotations (if annotation counts are different across ads_id )"
   ]
  },
  {
   "cell_type": "code",
   "execution_count": 45,
   "metadata": {},
   "outputs": [],
   "source": [
    "# first_k = int(mturk_raw_data[['Input.ads_id', 'HITId']].groupby('Input.ads_id').agg('count')['HITId'].min())\n",
    "# first_k"
   ]
  },
  {
   "cell_type": "code",
   "execution_count": 46,
   "metadata": {},
   "outputs": [],
   "source": [
    "# kept_data = []\n",
    "# for ads_id in mturk_raw_data['Input.ads_id'].unique():\n",
    "#     tmp_df = copy.deepcopy(mturk_raw_data.loc[mturk_raw_data['Input.ads_id'] == ads_id].iloc[:first_k])\n",
    "#     kept_data.append(tmp_df)\n",
    "# mturk_raw_data = pd.concat(kept_data).reset_index(drop = True)\n",
    "# mturk_raw_data.shape"
   ]
  },
  {
   "cell_type": "code",
   "execution_count": 47,
   "metadata": {},
   "outputs": [],
   "source": [
    "mturk_raw_data['unique_id'] = range(mturk_raw_data.shape[0])"
   ]
  },
  {
   "cell_type": "code",
   "execution_count": 48,
   "metadata": {},
   "outputs": [
    {
     "data": {
      "text/plain": [
       "0.9688"
      ]
     },
     "execution_count": 48,
     "metadata": {},
     "output_type": "execute_result"
    }
   ],
   "source": [
    "mturk_raw_data['effectiveness_correct'] = mturk_raw_data.apply(lambda x: x['Answer.effectiveness.' + x['Input.action_correct']], axis = 1)\n",
    "effectiveness_accuracy = sum(mturk_raw_data['effectiveness_correct']) / mturk_raw_data.shape[0]\n",
    "effectiveness_accuracy"
   ]
  },
  {
   "cell_type": "code",
   "execution_count": 49,
   "metadata": {},
   "outputs": [
    {
     "data": {
      "text/plain": [
       "2422"
      ]
     },
     "execution_count": 49,
     "metadata": {},
     "output_type": "execute_result"
    }
   ],
   "source": [
    "sum(mturk_raw_data['effectiveness_correct']) "
   ]
  },
  {
   "cell_type": "code",
   "execution_count": 50,
   "metadata": {},
   "outputs": [
    {
     "data": {
      "text/plain": [
       "array(['A1DMXEJGJY02E1', 'A3RVHUY67SVXQV', 'A41APS6V2Z1FJ',\n",
       "       'A15X8ATAWSRXIF', 'A2XZLEY2RCF5VM', 'A5WWHKD82I8UE',\n",
       "       'A34YDGVZKRJ0LZ', 'A3B7TNVOISSZ2O', 'A3PUUVUDORJS8W',\n",
       "       'A3W0SCW5UYEB0F', 'AAGBW25TZVAX7', 'A377LTGWJKY2IW',\n",
       "       'A2COPP4Y0UYN0B', 'A3I9XLIHPPWPN1', 'A2R1GDWV4RLIUY',\n",
       "       'A2VO8C41JJIQY9', 'AZLZA0Q87TJZO', 'A9HQ3E0F2AGVO',\n",
       "       'A2I4PRZ9IZMKON', 'A1OZPLHNIU1519', 'A2FP41BSPG0Y4A',\n",
       "       'A31PW970Z2PC5P', 'AKQAI78JTXXC9', 'A3F5YHQWKPC5MX',\n",
       "       'A2BK45LZGGWPLX', 'A1TTSDPGBHOO9P', 'A3NGN0SM7SBYB9',\n",
       "       'A2Y7FD1D7PUGBL', 'ACI8PUCF5OPDC', 'A16184N1RO5OJV',\n",
       "       'AFPMG8TLP1TND', 'A2K8HDNZZQCWU9', 'A21HRQPSI3REF9',\n",
       "       'A19Z68L0RHQVWL', 'A2RBF3IIJP15IH', 'A2BGAJTWL8F232',\n",
       "       'A2C9HJC2RDU10C', 'ATR6RB1RULOC0', 'ABO9F0JD9NN54',\n",
       "       'A15GLJU2DG7DLO', 'A1KTASRQIPL490', 'A374VECA56GM56',\n",
       "       'A1KWITRMPO7BUQ'], dtype=object)"
      ]
     },
     "execution_count": 50,
     "metadata": {},
     "output_type": "execute_result"
    }
   ],
   "source": [
    "mturk_raw_data['WorkerId'].unique()"
   ]
  },
  {
   "cell_type": "code",
   "execution_count": 27,
   "metadata": {},
   "outputs": [],
   "source": [
    "# mturk_raw_data[['WorkerId', 'effectiveness_correct']].groupby('WorkerId').agg('count')"
   ]
  },
  {
   "cell_type": "code",
   "execution_count": null,
   "metadata": {},
   "outputs": [],
   "source": []
  },
  {
   "cell_type": "code",
   "execution_count": 28,
   "metadata": {},
   "outputs": [],
   "source": [
    "# mturk_raw_data[['WorkerId', 'effectiveness_correct']].query('WorkerId == \"A1KTASRQIPL490\"')"
   ]
  },
  {
   "cell_type": "markdown",
   "metadata": {},
   "source": [
    "**post processing steps**\n",
    "1) merge counts (value translation + accumulation)\n",
    "2) normalize counts"
   ]
  },
  {
   "cell_type": "code",
   "execution_count": 112,
   "metadata": {},
   "outputs": [],
   "source": [
    "# mturk_raw_data['WorkerId']"
   ]
  },
  {
   "cell_type": "code",
   "execution_count": 62,
   "metadata": {},
   "outputs": [
    {
     "data": {
      "text/plain": [
       "(950, 115)"
      ]
     },
     "execution_count": 62,
     "metadata": {},
     "output_type": "execute_result"
    }
   ],
   "source": [
    "tmp_columns = ['pc', 'atypicality', 'artistic']\n",
    "answer_choices = {\n",
    "    'disagree': -1, \n",
    "    'neutral': 0, \n",
    "    'agree': 1\n",
    "}\n",
    "\n",
    "def helper_normalize_lst(lst, bin = 7): # normalize to bin = 7 (i.e. same as -3~3)\n",
    "    if max(lst) == min(lst): return [0] * len(lst)\n",
    "    \n",
    "    mean = np.mean(lst)\n",
    "    std = np.std(lst)\n",
    "    lst_norm = [(i - mean) / std for i in lst]\n",
    "    lst_norm_max = max(lst_norm)\n",
    "    lst_norm_min = min(lst_norm)\n",
    "    lst_norm = [\n",
    "        int((i - lst_norm_min) / (lst_norm_max - lst_norm_min) * bin - bin / 2)\n",
    "        for i in lst_norm\n",
    "    ]\n",
    "    return lst_norm\n",
    "    \n",
    "def find_acc_value(tmp_all_values, method, normalize_bin = 0):\n",
    "    if method == 'single_pos':\n",
    "        acc_values = [] \n",
    "        for i in range(len(tmp_all_values[0].values)):\n",
    "            item_value = 0\n",
    "            for lst in tmp_all_values:\n",
    "                lst = lst.values\n",
    "                if lst[i] == 1:\n",
    "                    item_value = 1\n",
    "            acc_values.append(item_value)\n",
    "        return acc_values\n",
    "    \n",
    "    tmp_sum_lst = []\n",
    "    for i in range(len(tmp_all_values[0].values)):\n",
    "        item_value = 0\n",
    "        tmp_sum = sum([lst.values[i] for lst in tmp_all_values])\n",
    "        tmp_sum_lst.append(tmp_sum)\n",
    "    \n",
    "    if normalize_bin:\n",
    "        tmp_sum_lst = helper_normalize_lst(tmp_sum_lst, normalize_bin)\n",
    "\n",
    "    acc_values = []\n",
    "    for tmp_sum in tmp_sum_lst:\n",
    "        if method == 'threshold_0' and tmp_sum > 0: item_value = 1\n",
    "        if method == 'threshold_3' and tmp_sum == 3: item_value = 1\n",
    "        if method == 'raw': item_value = tmp_sum\n",
    "        acc_values.append(item_value)\n",
    "    return acc_values\n",
    "\n",
    "normalize_bin = 3\n",
    "processed_data = []\n",
    "for worker_id in mturk_raw_data.WorkerId.unique():\n",
    "    tmp_df = copy.deepcopy(mturk_raw_data.query('WorkerId == \"{}\"'.format(worker_id)))\n",
    "    for col in tmp_columns:\n",
    "        # 1. value translation\n",
    "        tmp_all_values = []\n",
    "        for sub_question in ['_1', '_2', '_3']:\n",
    "            tmp_answer_values = []\n",
    "            for ans in answer_choices:\n",
    "                tmp_col = 'Answer.' + col + sub_question + '.' + ans\n",
    "                tmp_values = tmp_df[tmp_col].apply(lambda x: answer_choices[ans] if x else 0)\n",
    "                tmp_answer_values.append(tmp_values)\n",
    "            tmp_df['value_' + col + sub_question] = sum(tmp_answer_values)\n",
    "            tmp_all_values.append(sum(tmp_answer_values))\n",
    "        \n",
    "        # 2. value accumulation\n",
    "        tmp_df['acc_raw_' + col] = find_acc_value(tmp_all_values, method = 'raw')\n",
    "        tmp_df['acc_th0_' + col] = find_acc_value(tmp_all_values, method = 'threshold_0')\n",
    "        tmp_df['acc_th3_' + col] = find_acc_value(tmp_all_values, method = 'threshold_3')\n",
    "        tmp_df['acc_single_' + col] = find_acc_value(tmp_all_values, method = 'single_pos')\n",
    "\n",
    "        # 3. normalization \n",
    "\n",
    "        tmp_df['acc_norm_raw_' + col] = find_acc_value(tmp_all_values, method = 'raw', normalize_bin = normalize_bin)\n",
    "        tmp_df['acc_norm_th0_' + col] = find_acc_value(tmp_all_values, method = 'threshold_0', normalize_bin = normalize_bin)\n",
    "        tmp_df['acc_norm_th3_' + col] = find_acc_value(tmp_all_values, method = 'threshold_3', normalize_bin = normalize_bin)\n",
    "    processed_data.append(tmp_df)\n",
    "\n",
    "# mturk_raw_data.tail(2)\n",
    "mturk_processed_df = pd.concat(processed_data).sort_values(by = 'unique_id')\n",
    "\n",
    "effectiveness_map = {\n",
    "    'a': 'a',\n",
    "    'b': 'b',\n",
    "    'c': 'c',\n",
    "    'd': 'd',\n",
    "    'e': 'e'\n",
    "}\n",
    "age_map = {\n",
    "    'age_18': 18, \n",
    "    'age_18_24': 24, \n",
    "    'age_25_34': 30, \n",
    "    'age_35_44': 40, \n",
    "    'age_45_54': 50, \n",
    "    'age_55_64': 60, \n",
    "    'age_65': 70, \n",
    "    'unknown': -1, \n",
    "}\n",
    "overall_map = {str(i): i for i in range(1, 6)}\n",
    "\n",
    "def find_multi_choice(s, feature_map, feature):\n",
    "    for e in feature_map:\n",
    "        if s['Answer.{}.{}'.format(feature, e)]:\n",
    "            return feature_map[e]\n",
    "    return ''\n",
    "mturk_processed_df['value_effectiveness'] = mturk_processed_df.apply(lambda x: find_multi_choice(x, effectiveness_map, 'effectiveness'), axis = 1)\n",
    "mturk_processed_df['value_overall'] = mturk_processed_df.apply(lambda x: find_multi_choice(x, overall_map, 'overall'), axis = 1)\n",
    "\n",
    "# 3. demo data\n",
    "col_location = 'Answer.worker_location_live'\n",
    "mturk_processed_df['demo_location'] = mturk_processed_df[col_location]\n",
    "mturk_processed_df['demo_age'] = mturk_processed_df.apply(lambda x: find_multi_choice(x, age_map, 'age'), axis = 1)\n",
    "\n",
    "mturk_processed_df.shape"
   ]
  },
  {
   "cell_type": "code",
   "execution_count": 63,
   "metadata": {},
   "outputs": [
    {
     "data": {
      "text/html": [
       "<div>\n",
       "<style scoped>\n",
       "    .dataframe tbody tr th:only-of-type {\n",
       "        vertical-align: middle;\n",
       "    }\n",
       "\n",
       "    .dataframe tbody tr th {\n",
       "        vertical-align: top;\n",
       "    }\n",
       "\n",
       "    .dataframe thead th {\n",
       "        text-align: right;\n",
       "    }\n",
       "</style>\n",
       "<table border=\"1\" class=\"dataframe\">\n",
       "  <thead>\n",
       "    <tr style=\"text-align: right;\">\n",
       "      <th></th>\n",
       "      <th>unique_id</th>\n",
       "      <th>WorkerId</th>\n",
       "      <th>value_overall</th>\n",
       "    </tr>\n",
       "  </thead>\n",
       "  <tbody>\n",
       "    <tr>\n",
       "      <th>0</th>\n",
       "      <td>0</td>\n",
       "      <td>A1DMXEJGJY02E1</td>\n",
       "      <td>0</td>\n",
       "    </tr>\n",
       "    <tr>\n",
       "      <th>1</th>\n",
       "      <td>1</td>\n",
       "      <td>A3RVHUY67SVXQV</td>\n",
       "      <td>0</td>\n",
       "    </tr>\n",
       "    <tr>\n",
       "      <th>2</th>\n",
       "      <td>2</td>\n",
       "      <td>A41APS6V2Z1FJ</td>\n",
       "      <td>0</td>\n",
       "    </tr>\n",
       "    <tr>\n",
       "      <th>3</th>\n",
       "      <td>3</td>\n",
       "      <td>A15X8ATAWSRXIF</td>\n",
       "      <td>0</td>\n",
       "    </tr>\n",
       "    <tr>\n",
       "      <th>4</th>\n",
       "      <td>4</td>\n",
       "      <td>A2XZLEY2RCF5VM</td>\n",
       "      <td>0</td>\n",
       "    </tr>\n",
       "    <tr>\n",
       "      <th>5</th>\n",
       "      <td>5</td>\n",
       "      <td>A5WWHKD82I8UE</td>\n",
       "      <td>0</td>\n",
       "    </tr>\n",
       "    <tr>\n",
       "      <th>6</th>\n",
       "      <td>6</td>\n",
       "      <td>A34YDGVZKRJ0LZ</td>\n",
       "      <td>1</td>\n",
       "    </tr>\n",
       "    <tr>\n",
       "      <th>7</th>\n",
       "      <td>7</td>\n",
       "      <td>A3B7TNVOISSZ2O</td>\n",
       "      <td>0</td>\n",
       "    </tr>\n",
       "    <tr>\n",
       "      <th>8</th>\n",
       "      <td>8</td>\n",
       "      <td>A3PUUVUDORJS8W</td>\n",
       "      <td>0</td>\n",
       "    </tr>\n",
       "    <tr>\n",
       "      <th>9</th>\n",
       "      <td>9</td>\n",
       "      <td>A3W0SCW5UYEB0F</td>\n",
       "      <td>0</td>\n",
       "    </tr>\n",
       "  </tbody>\n",
       "</table>\n",
       "</div>"
      ],
      "text/plain": [
       "   unique_id        WorkerId  value_overall\n",
       "0          0  A1DMXEJGJY02E1              0\n",
       "1          1  A3RVHUY67SVXQV              0\n",
       "2          2   A41APS6V2Z1FJ              0\n",
       "3          3  A15X8ATAWSRXIF              0\n",
       "4          4  A2XZLEY2RCF5VM              0\n",
       "5          5   A5WWHKD82I8UE              0\n",
       "6          6  A34YDGVZKRJ0LZ              1\n",
       "7          7  A3B7TNVOISSZ2O              0\n",
       "8          8  A3PUUVUDORJS8W              0\n",
       "9          9  A3W0SCW5UYEB0F              0"
      ]
     },
     "execution_count": 63,
     "metadata": {},
     "output_type": "execute_result"
    }
   ],
   "source": [
    "all_overall_data = []\n",
    "mturk_processed_df_overall = mturk_processed_df[['unique_id', 'WorkerId', 'value_overall']]\n",
    "for worker_id in mturk_processed_df_overall.WorkerId.unique():\n",
    "    tmp_df = copy.deepcopy(mturk_processed_df_overall.query('WorkerId == \"{}\"'.format(worker_id)))\n",
    "    tmp_df['value_overall'] = helper_normalize_lst(tmp_df['value_overall'].values, bin = normalize_bin)\n",
    "    all_overall_data.append(tmp_df)\n",
    "all_overall_df = pd.concat(all_overall_data).sort_values(by = 'unique_id')\n",
    "all_overall_df.head(10)"
   ]
  },
  {
   "cell_type": "code",
   "execution_count": 64,
   "metadata": {},
   "outputs": [],
   "source": [
    "mturk_processed_df['value_overall_norm'] = all_overall_df['value_overall']"
   ]
  },
  {
   "cell_type": "code",
   "execution_count": 65,
   "metadata": {},
   "outputs": [],
   "source": [
    "# mturk_processed_df.to_csv(mturk_data_dir + 'subset_0.5/mturk_processed_df.csv', index = False)"
   ]
  },
  {
   "cell_type": "code",
   "execution_count": 66,
   "metadata": {},
   "outputs": [],
   "source": [
    "# mturk_raw_data.groupby('demo_location').agg('count')['Input.ads_id'] \n",
    "# mturk_processed_df[['WorkerId', 'Input.ads_id']].groupby('WorkerId').agg('count').rename(columns = {'Input.ads_id': 'count'}).to_csv(mturk_data_dir + 'subset_0.5/worker_hits_count.csv')"
   ]
  },
  {
   "cell_type": "code",
   "execution_count": 67,
   "metadata": {},
   "outputs": [
    {
     "data": {
      "text/plain": [
       "array([ 0,  1, -1])"
      ]
     },
     "execution_count": 67,
     "metadata": {},
     "output_type": "execute_result"
    }
   ],
   "source": [
    "mturk_processed_df['value_overall_norm'].unique()"
   ]
  },
  {
   "cell_type": "code",
   "execution_count": 68,
   "metadata": {},
   "outputs": [
    {
     "data": {
      "text/plain": [
       "value_overall_norm\n",
       " 0    627\n",
       " 1    176\n",
       "-1    147\n",
       "Name: count, dtype: int64"
      ]
     },
     "execution_count": 68,
     "metadata": {},
     "output_type": "execute_result"
    }
   ],
   "source": [
    "mturk_processed_df['value_overall_norm'].value_counts()"
   ]
  },
  {
   "cell_type": "code",
   "execution_count": 69,
   "metadata": {},
   "outputs": [],
   "source": [
    "# # first std, then min-max\n",
    "# def normalize_lst(lst, bin = 7): # normalize to bin = 7 (i.e. same as -3~3)\n",
    "#     if max(lst) == min(lst): return [0] * len(lst)\n",
    "    \n",
    "#     mean = np.mean(lst)\n",
    "#     std = np.std(lst)\n",
    "#     lst_norm = [(i - mean) / std for i in lst]\n",
    "#     lst_norm_max = max(lst_norm)\n",
    "#     lst_norm_min = min(lst_norm)\n",
    "#     lst_norm = [\n",
    "#         int((i - lst_norm_min) / (lst_norm_max - lst_norm_min) * bin - bin / 2)\n",
    "#         for i in lst_norm\n",
    "#     ]\n",
    "#     return lst_norm\n",
    "\n",
    "\n",
    "# acc_cols = [col for col in mturk_raw_data.columns if 'acc_' in col]\n",
    "# normalized_data = []\n",
    "# for worker_id in mturk_raw_data.WorkerId.unique():\n",
    "#     tmp_df = copy.deepcopy(mturk_raw_data[['unique_id', 'WorkerId'] + acc_cols].query('WorkerId == \"{}\"'.format(worker_id)))\n",
    "#     if tmp_df.shape[0] == 1: normalized_data.append(tmp_df.drop(columns=['WorkerId']))\n",
    "#     for col in acc_cols:\n",
    "#         tmp_df[col] = normalize_lst(tmp_df[col])\n",
    "#     normalized_data.append(tmp_df)\n",
    "# pd.concat(normalized_data)"
   ]
  },
  {
   "cell_type": "code",
   "execution_count": null,
   "metadata": {},
   "outputs": [],
   "source": []
  },
  {
   "cell_type": "code",
   "execution_count": 70,
   "metadata": {},
   "outputs": [],
   "source": [
    "def mturk_get_kappa_data(mturk_raw_data, column, data_maping = None):\n",
    "    # unique_values = accumulate_data[column + '_agree'].unique()\n",
    "    def count_kappa(data, data_maping):\n",
    "        if data_maping is None:\n",
    "            unique_values = data.unique()\n",
    "        else:\n",
    "            unique_values = list(data_maping.values())\n",
    "        result = {k: 0 for k in unique_values}\n",
    "        for v in data.values:\n",
    "            # v = int(v)\n",
    "            if data_maping is None:\n",
    "                if v in result: result[v] += 1\n",
    "            else:\n",
    "                if data_maping[v] in result: result[data_maping[v]] += 1\n",
    "        return result\n",
    "    kappa_data = mturk_raw_data[[column, 'Input.ads_id']].groupby('Input.ads_id').agg(lambda data: count_kappa(data, data_maping = data_maping))[column].values\n",
    "    kappa_data = pd.DataFrame(list(kappa_data)).fillna(0)\n",
    "    return kappa_data"
   ]
  },
  {
   "cell_type": "code",
   "execution_count": 71,
   "metadata": {},
   "outputs": [],
   "source": [
    "# tmp_kappa_data = mturk_get_kappa_data(mturk_raw_data, 'acc_single_atypicality')\n",
    "# statsmodels.stats.inter_rater.fleiss_kappa(tmp_kappa_data, 'fleiss')"
   ]
  },
  {
   "cell_type": "code",
   "execution_count": 72,
   "metadata": {},
   "outputs": [],
   "source": [
    "# mturk_raw_data.columns"
   ]
  },
  {
   "cell_type": "code",
   "execution_count": 73,
   "metadata": {},
   "outputs": [],
   "source": [
    "# np.unique(mturk_raw_data.value_overall.values, return_counts = True)"
   ]
  },
  {
   "cell_type": "code",
   "execution_count": 74,
   "metadata": {},
   "outputs": [
    {
     "data": {
      "text/plain": [
       "np.float64(0.9610526315789474)"
      ]
     },
     "execution_count": 74,
     "metadata": {},
     "output_type": "execute_result"
    }
   ],
   "source": [
    "# data validation \n",
    "effectiveness_correct = mturk_processed_df.apply(lambda x: x['Answer.effectiveness.' + x['Input.action_correct']], axis = 1)\n",
    "# raw_mturk_data['effectiveness_valid'] = effectiveness_correct\n",
    "effectiveness_acc = sum(effectiveness_correct.values) / mturk_processed_df.shape[0]\n",
    "effectiveness_acc"
   ]
  },
  {
   "cell_type": "code",
   "execution_count": 75,
   "metadata": {},
   "outputs": [
    {
     "name": "stdout",
     "output_type": "stream",
     "text": [
      "acc_norm_raw_artistic 0.1557\n",
      "acc_norm_raw_atypicality 0.3289\n",
      "acc_norm_raw_pc 0.2953\n",
      "acc_norm_th0_artistic 0.0555\n",
      "acc_norm_th0_atypicality 0.1871\n",
      "acc_norm_th0_pc 0.0344\n",
      "acc_norm_th3_artistic nan\n",
      "acc_norm_th3_atypicality nan\n",
      "acc_norm_th3_pc nan\n",
      "acc_raw_artistic 0.074\n",
      "acc_raw_atypicality 0.2775\n",
      "acc_raw_pc 0.1901\n",
      "acc_single_artistic 0.2798\n",
      "acc_single_atypicality 0.4161\n",
      "acc_single_pc 0.4478\n",
      "acc_th0_artistic 0.0237\n",
      "acc_th0_atypicality 0.1448\n",
      "acc_th0_pc 0.0487\n",
      "acc_th3_artistic 0.1942\n",
      "acc_th3_atypicality 0.1319\n",
      "acc_th3_pc 0.0468\n",
      "value_artistic_1 0.1869\n",
      "value_artistic_2 0.1063\n",
      "value_artistic_3 0.1287\n",
      "value_atypicality_1 0.3267\n",
      "value_atypicality_2 0.3416\n",
      "value_atypicality_3 0.3339\n",
      "value_effectiveness 0.9351\n",
      "value_overall 0.1089\n",
      "value_overall_norm 0.1362\n",
      "value_pc_1 0.3566\n",
      "value_pc_2 0.2279\n",
      "value_pc_3 0.2897\n"
     ]
    },
    {
     "name": "stderr",
     "output_type": "stream",
     "text": [
      "/Users/joeyhou/Developer/research/ads/.conda/lib/python3.10/site-packages/statsmodels/stats/inter_rater.py:266: RuntimeWarning: invalid value encountered in scalar divide\n",
      "  kappa = (p_mean - p_mean_exp) / (1- p_mean_exp)\n",
      "/Users/joeyhou/Developer/research/ads/.conda/lib/python3.10/site-packages/statsmodels/stats/inter_rater.py:266: RuntimeWarning: invalid value encountered in scalar divide\n",
      "  kappa = (p_mean - p_mean_exp) / (1- p_mean_exp)\n",
      "/Users/joeyhou/Developer/research/ads/.conda/lib/python3.10/site-packages/statsmodels/stats/inter_rater.py:266: RuntimeWarning: invalid value encountered in scalar divide\n",
      "  kappa = (p_mean - p_mean_exp) / (1- p_mean_exp)\n"
     ]
    }
   ],
   "source": [
    "fleiss_value_lst = []\n",
    "for col in sorted(list(mturk_processed_df.columns)):\n",
    "    if 'acc_' in col:\n",
    "        data_maping = None\n",
    "    elif 'value_' in col:\n",
    "        if 'effectiveness' in col or 'overall' in col:\n",
    "            data_maping = None\n",
    "        else:\n",
    "            # data_maping = {\n",
    "            #     0: 0,\n",
    "            #     -1: 0,\n",
    "            #     1: 1\n",
    "            # }\n",
    "            data_maping = None\n",
    "    else:\n",
    "        continue \n",
    "    tmp_kappa_data = mturk_get_kappa_data(mturk_processed_df, col, data_maping)\n",
    "    # display(tmp_kappa_data)\n",
    "    # fleiss_value = round(statsmodels.stats.inter_rater.fleiss_kappa(tmp_kappa_data, 'randolph'), 4)\n",
    "    fleiss_value = round(statsmodels.stats.inter_rater.fleiss_kappa(tmp_kappa_data), 4)\n",
    "    print(col, fleiss_value)\n",
    "    fleiss_value_lst.append({\n",
    "        'col': col,\n",
    "        'fleiss': fleiss_value,\n",
    "        'norm': 'norm' in col,\n",
    "        'acc': 'acc_' in col\n",
    "    })\n",
    "fleiss_value_df = pd.DataFrame(fleiss_value_lst)"
   ]
  },
  {
   "cell_type": "code",
   "execution_count": 76,
   "metadata": {},
   "outputs": [
    {
     "data": {
      "text/html": [
       "<div>\n",
       "<style scoped>\n",
       "    .dataframe tbody tr th:only-of-type {\n",
       "        vertical-align: middle;\n",
       "    }\n",
       "\n",
       "    .dataframe tbody tr th {\n",
       "        vertical-align: top;\n",
       "    }\n",
       "\n",
       "    .dataframe thead th {\n",
       "        text-align: right;\n",
       "    }\n",
       "</style>\n",
       "<table border=\"1\" class=\"dataframe\">\n",
       "  <thead>\n",
       "    <tr style=\"text-align: right;\">\n",
       "      <th></th>\n",
       "      <th>col</th>\n",
       "      <th>fleiss</th>\n",
       "      <th>norm</th>\n",
       "      <th>acc</th>\n",
       "    </tr>\n",
       "  </thead>\n",
       "  <tbody>\n",
       "    <tr>\n",
       "      <th>0</th>\n",
       "      <td>acc_norm_raw_artistic</td>\n",
       "      <td>0.1557</td>\n",
       "      <td>True</td>\n",
       "      <td>True</td>\n",
       "    </tr>\n",
       "    <tr>\n",
       "      <th>1</th>\n",
       "      <td>acc_norm_raw_atypicality</td>\n",
       "      <td>0.3289</td>\n",
       "      <td>True</td>\n",
       "      <td>True</td>\n",
       "    </tr>\n",
       "    <tr>\n",
       "      <th>2</th>\n",
       "      <td>acc_norm_raw_pc</td>\n",
       "      <td>0.2953</td>\n",
       "      <td>True</td>\n",
       "      <td>True</td>\n",
       "    </tr>\n",
       "    <tr>\n",
       "      <th>3</th>\n",
       "      <td>acc_norm_th0_artistic</td>\n",
       "      <td>0.0555</td>\n",
       "      <td>True</td>\n",
       "      <td>True</td>\n",
       "    </tr>\n",
       "    <tr>\n",
       "      <th>4</th>\n",
       "      <td>acc_norm_th0_atypicality</td>\n",
       "      <td>0.1871</td>\n",
       "      <td>True</td>\n",
       "      <td>True</td>\n",
       "    </tr>\n",
       "    <tr>\n",
       "      <th>5</th>\n",
       "      <td>acc_norm_th0_pc</td>\n",
       "      <td>0.0344</td>\n",
       "      <td>True</td>\n",
       "      <td>True</td>\n",
       "    </tr>\n",
       "    <tr>\n",
       "      <th>6</th>\n",
       "      <td>acc_norm_th3_artistic</td>\n",
       "      <td>NaN</td>\n",
       "      <td>True</td>\n",
       "      <td>True</td>\n",
       "    </tr>\n",
       "    <tr>\n",
       "      <th>7</th>\n",
       "      <td>acc_norm_th3_atypicality</td>\n",
       "      <td>NaN</td>\n",
       "      <td>True</td>\n",
       "      <td>True</td>\n",
       "    </tr>\n",
       "    <tr>\n",
       "      <th>8</th>\n",
       "      <td>acc_norm_th3_pc</td>\n",
       "      <td>NaN</td>\n",
       "      <td>True</td>\n",
       "      <td>True</td>\n",
       "    </tr>\n",
       "    <tr>\n",
       "      <th>29</th>\n",
       "      <td>value_overall_norm</td>\n",
       "      <td>0.1362</td>\n",
       "      <td>True</td>\n",
       "      <td>False</td>\n",
       "    </tr>\n",
       "  </tbody>\n",
       "</table>\n",
       "</div>"
      ],
      "text/plain": [
       "                         col  fleiss  norm    acc\n",
       "0      acc_norm_raw_artistic  0.1557  True   True\n",
       "1   acc_norm_raw_atypicality  0.3289  True   True\n",
       "2            acc_norm_raw_pc  0.2953  True   True\n",
       "3      acc_norm_th0_artistic  0.0555  True   True\n",
       "4   acc_norm_th0_atypicality  0.1871  True   True\n",
       "5            acc_norm_th0_pc  0.0344  True   True\n",
       "6      acc_norm_th3_artistic     NaN  True   True\n",
       "7   acc_norm_th3_atypicality     NaN  True   True\n",
       "8            acc_norm_th3_pc     NaN  True   True\n",
       "29        value_overall_norm  0.1362  True  False"
      ]
     },
     "execution_count": 76,
     "metadata": {},
     "output_type": "execute_result"
    }
   ],
   "source": [
    "fleiss_value_df.query('norm == True').sort_values(by = 'col')"
   ]
  },
  {
   "cell_type": "code",
   "execution_count": 77,
   "metadata": {},
   "outputs": [
    {
     "data": {
      "text/html": [
       "<div>\n",
       "<style scoped>\n",
       "    .dataframe tbody tr th:only-of-type {\n",
       "        vertical-align: middle;\n",
       "    }\n",
       "\n",
       "    .dataframe tbody tr th {\n",
       "        vertical-align: top;\n",
       "    }\n",
       "\n",
       "    .dataframe thead th {\n",
       "        text-align: right;\n",
       "    }\n",
       "</style>\n",
       "<table border=\"1\" class=\"dataframe\">\n",
       "  <thead>\n",
       "    <tr style=\"text-align: right;\">\n",
       "      <th></th>\n",
       "      <th>col</th>\n",
       "      <th>fleiss</th>\n",
       "      <th>norm</th>\n",
       "      <th>acc</th>\n",
       "    </tr>\n",
       "  </thead>\n",
       "  <tbody>\n",
       "    <tr>\n",
       "      <th>9</th>\n",
       "      <td>acc_raw_artistic</td>\n",
       "      <td>0.0740</td>\n",
       "      <td>False</td>\n",
       "      <td>True</td>\n",
       "    </tr>\n",
       "    <tr>\n",
       "      <th>10</th>\n",
       "      <td>acc_raw_atypicality</td>\n",
       "      <td>0.2775</td>\n",
       "      <td>False</td>\n",
       "      <td>True</td>\n",
       "    </tr>\n",
       "    <tr>\n",
       "      <th>11</th>\n",
       "      <td>acc_raw_pc</td>\n",
       "      <td>0.1901</td>\n",
       "      <td>False</td>\n",
       "      <td>True</td>\n",
       "    </tr>\n",
       "    <tr>\n",
       "      <th>12</th>\n",
       "      <td>acc_single_artistic</td>\n",
       "      <td>0.2798</td>\n",
       "      <td>False</td>\n",
       "      <td>True</td>\n",
       "    </tr>\n",
       "    <tr>\n",
       "      <th>13</th>\n",
       "      <td>acc_single_atypicality</td>\n",
       "      <td>0.4161</td>\n",
       "      <td>False</td>\n",
       "      <td>True</td>\n",
       "    </tr>\n",
       "    <tr>\n",
       "      <th>14</th>\n",
       "      <td>acc_single_pc</td>\n",
       "      <td>0.4478</td>\n",
       "      <td>False</td>\n",
       "      <td>True</td>\n",
       "    </tr>\n",
       "    <tr>\n",
       "      <th>15</th>\n",
       "      <td>acc_th0_artistic</td>\n",
       "      <td>0.0237</td>\n",
       "      <td>False</td>\n",
       "      <td>True</td>\n",
       "    </tr>\n",
       "    <tr>\n",
       "      <th>16</th>\n",
       "      <td>acc_th0_atypicality</td>\n",
       "      <td>0.1448</td>\n",
       "      <td>False</td>\n",
       "      <td>True</td>\n",
       "    </tr>\n",
       "    <tr>\n",
       "      <th>17</th>\n",
       "      <td>acc_th0_pc</td>\n",
       "      <td>0.0487</td>\n",
       "      <td>False</td>\n",
       "      <td>True</td>\n",
       "    </tr>\n",
       "    <tr>\n",
       "      <th>18</th>\n",
       "      <td>acc_th3_artistic</td>\n",
       "      <td>0.1942</td>\n",
       "      <td>False</td>\n",
       "      <td>True</td>\n",
       "    </tr>\n",
       "    <tr>\n",
       "      <th>19</th>\n",
       "      <td>acc_th3_atypicality</td>\n",
       "      <td>0.1319</td>\n",
       "      <td>False</td>\n",
       "      <td>True</td>\n",
       "    </tr>\n",
       "    <tr>\n",
       "      <th>20</th>\n",
       "      <td>acc_th3_pc</td>\n",
       "      <td>0.0468</td>\n",
       "      <td>False</td>\n",
       "      <td>True</td>\n",
       "    </tr>\n",
       "  </tbody>\n",
       "</table>\n",
       "</div>"
      ],
      "text/plain": [
       "                       col  fleiss   norm   acc\n",
       "9         acc_raw_artistic  0.0740  False  True\n",
       "10     acc_raw_atypicality  0.2775  False  True\n",
       "11              acc_raw_pc  0.1901  False  True\n",
       "12     acc_single_artistic  0.2798  False  True\n",
       "13  acc_single_atypicality  0.4161  False  True\n",
       "14           acc_single_pc  0.4478  False  True\n",
       "15        acc_th0_artistic  0.0237  False  True\n",
       "16     acc_th0_atypicality  0.1448  False  True\n",
       "17              acc_th0_pc  0.0487  False  True\n",
       "18        acc_th3_artistic  0.1942  False  True\n",
       "19     acc_th3_atypicality  0.1319  False  True\n",
       "20              acc_th3_pc  0.0468  False  True"
      ]
     },
     "execution_count": 77,
     "metadata": {},
     "output_type": "execute_result"
    }
   ],
   "source": [
    "fleiss_value_df.query('(norm == False) & (acc == True)').sort_values(by = 'col')"
   ]
  },
  {
   "cell_type": "code",
   "execution_count": null,
   "metadata": {},
   "outputs": [],
   "source": []
  },
  {
   "cell_type": "code",
   "execution_count": null,
   "metadata": {},
   "outputs": [],
   "source": []
  },
  {
   "cell_type": "code",
   "execution_count": null,
   "metadata": {},
   "outputs": [],
   "source": []
  },
  {
   "cell_type": "code",
   "execution_count": 46,
   "metadata": {},
   "outputs": [],
   "source": [
    "# np.unique(mturk_raw_data['value_overall'].values, return_counts = True)"
   ]
  },
  {
   "cell_type": "code",
   "execution_count": 78,
   "metadata": {},
   "outputs": [],
   "source": [
    "from scipy import stats"
   ]
  },
  {
   "cell_type": "code",
   "execution_count": 79,
   "metadata": {},
   "outputs": [
    {
     "name": "stdout",
     "output_type": "stream",
     "text": [
      "demo_age -> value_overall_norm: -0.0133 (p: 0.6829)\n",
      "acc_norm_raw_artistic -> value_overall_norm: 0.5462 (p: 0.0)\n",
      "acc_norm_raw_atypicality -> value_overall_norm: 0.4361 (p: 0.0)\n",
      "acc_norm_raw_pc -> value_overall_norm: 0.5265 (p: 0.0)\n",
      "acc_norm_th0_artistic -> value_overall_norm: 0.0412 (p: 0.2045)\n",
      "acc_norm_th0_atypicality -> value_overall_norm: 0.0212 (p: 0.5146)\n",
      "acc_norm_th0_pc -> value_overall_norm: 0.0009 (p: 0.977)\n",
      "acc_norm_th3_artistic -> value_overall_norm: nan (p: nan)\n",
      "acc_norm_th3_atypicality -> value_overall_norm: nan (p: nan)\n",
      "acc_norm_th3_pc -> value_overall_norm: nan (p: nan)\n"
     ]
    },
    {
     "name": "stderr",
     "output_type": "stream",
     "text": [
      "/var/folders/d5/5prsm7lx46zd_rbpq02ct2m80000gn/T/ipykernel_30083/717746464.py:10: ConstantInputWarning: An input array is constant; the correlation coefficient is not defined.\n",
      "  res = stats.pearsonr(mturk_processed_df[input_col].values, mturk_processed_df[target_col].values)\n"
     ]
    }
   ],
   "source": [
    "input_cols = [\n",
    "    'demo_age',\n",
    "] + sorted([col for col in mturk_processed_df.columns if 'acc_' in col and 'norm' in col])\n",
    "\n",
    "target_cols = ['value_overall_norm']\n",
    "\n",
    "for input_col in input_cols:\n",
    "    for target_col in target_cols:\n",
    "        try:\n",
    "            res = stats.pearsonr(mturk_processed_df[input_col].values, mturk_processed_df[target_col].values)\n",
    "            # print('{} -> {}: {} (p: {})'.format(input_col, target_col, round(res.rvalue**2, 4), round(res.pvalue**2, 4)))\n",
    "            print('{} -> {}: {} (p: {})'.format(input_col, target_col, round(res.statistic, 4), round(res.pvalue, 4)))\n",
    "        except:\n",
    "            print('{} -> {}: None [cannot perform linear test (all values identical)]'.format(input_col, target_col))"
   ]
  },
  {
   "cell_type": "code",
   "execution_count": null,
   "metadata": {},
   "outputs": [],
   "source": []
  },
  {
   "cell_type": "code",
   "execution_count": null,
   "metadata": {},
   "outputs": [],
   "source": []
  },
  {
   "cell_type": "code",
   "execution_count": null,
   "metadata": {},
   "outputs": [],
   "source": []
  },
  {
   "cell_type": "code",
   "execution_count": null,
   "metadata": {},
   "outputs": [],
   "source": []
  },
  {
   "cell_type": "code",
   "execution_count": null,
   "metadata": {},
   "outputs": [],
   "source": []
  },
  {
   "cell_type": "code",
   "execution_count": 250,
   "metadata": {},
   "outputs": [],
   "source": [
    "# mturk_raw_data[['Input.ads_id', 'acc_th3_atypicality', 'acc_raw_atypicality', 'acc_th3_pc', 'acc_raw_pc', 'value_overall', 'demo_age']].to_csv(mturk_data_dir + 'subset_0.5/sample_acc_th3_pc.csv', index = False)"
   ]
  },
  {
   "cell_type": "code",
   "execution_count": 13,
   "metadata": {},
   "outputs": [],
   "source": [
    "# import math \n",
    "# 2.929 * (math.pi)**(1/2) * 2 / math.e, 12 / math.pi"
   ]
  },
  {
   "cell_type": "code",
   "execution_count": 10,
   "metadata": {},
   "outputs": [
    {
     "data": {
      "text/plain": [
       "6"
      ]
     },
     "execution_count": 10,
     "metadata": {},
     "output_type": "execute_result"
    }
   ],
   "source": [
    "# update qualification \n",
    "worker_df = pd.read_csv(mturk_data_dir + 'workers/workers_0514_v2.csv')\n",
    "# worker_df[\"UPDATE-Rosie's White List\"] = worker_df.apply(lambda x: 2 if x['Worker ID'] in mturk_raw_data.WorkerId.values else x[\"UPDATE-Rosie's White List\"], axis = 1)\n",
    "# worker_df = worker_df[[\"UPDATE-Rosie's White List\", 'Worker ID']]\n",
    "sum(worker_df[\"CURRENT-Rosie's White List\"] == 2)"
   ]
  },
  {
   "cell_type": "code",
   "execution_count": 14,
   "metadata": {},
   "outputs": [
    {
     "data": {
      "text/plain": [
       "5"
      ]
     },
     "execution_count": 14,
     "metadata": {},
     "output_type": "execute_result"
    }
   ],
   "source": [
    "sum(worker_df[\"CURRENT-Rosie's White List\"] == 1)"
   ]
  },
  {
   "cell_type": "code",
   "execution_count": 503,
   "metadata": {},
   "outputs": [
    {
     "data": {
      "text/plain": [
       "CURRENT-Rosie's White List    11.0\n",
       "dtype: float64"
      ]
     },
     "execution_count": 503,
     "metadata": {},
     "output_type": "execute_result"
    }
   ],
   "source": [
    "worker_df[[\"CURRENT-Rosie's White List\"]].sum()"
   ]
  },
  {
   "cell_type": "code",
   "execution_count": 494,
   "metadata": {},
   "outputs": [],
   "source": [
    "# worker_df.to_csv(mturk_data_dir + 'workers/workers_0514_v1_updated.csv', index = False)"
   ]
  },
  {
   "cell_type": "code",
   "execution_count": 497,
   "metadata": {},
   "outputs": [
    {
     "data": {
      "text/html": [
       "<div>\n",
       "<style scoped>\n",
       "    .dataframe tbody tr th:only-of-type {\n",
       "        vertical-align: middle;\n",
       "    }\n",
       "\n",
       "    .dataframe tbody tr th {\n",
       "        vertical-align: top;\n",
       "    }\n",
       "\n",
       "    .dataframe thead th {\n",
       "        text-align: right;\n",
       "    }\n",
       "</style>\n",
       "<table border=\"1\" class=\"dataframe\">\n",
       "  <thead>\n",
       "    <tr style=\"text-align: right;\">\n",
       "      <th></th>\n",
       "      <th>Worker ID</th>\n",
       "      <th>Link to Individual Worker Page</th>\n",
       "      <th>Number of HITs approved or rejected - Lifetime</th>\n",
       "      <th>Number of HITs approved - Lifetime</th>\n",
       "      <th>Your Lifetime approval rate</th>\n",
       "      <th>Number of HITs approved or rejected - Last 30 days</th>\n",
       "      <th>Number of HITs approved - Last 30 days</th>\n",
       "      <th>Your Last 30 days approval rate</th>\n",
       "      <th>Number of HITs approved or rejected - Last 7 days</th>\n",
       "      <th>Number of HITs approved - Last 7 days</th>\n",
       "      <th>...</th>\n",
       "      <th>UPDATE-self</th>\n",
       "      <th>CURRENT-Rosie's White List</th>\n",
       "      <th>UPDATE-Rosie's White List</th>\n",
       "      <th>CURRENT-Ads Creativity - v2</th>\n",
       "      <th>UPDATE-Ads Creativity - v2</th>\n",
       "      <th>CURRENT-Ads Creativity - Good</th>\n",
       "      <th>UPDATE-Ads Creativity - Good</th>\n",
       "      <th>CURRENT BlockStatus</th>\n",
       "      <th>UPDATE BlockStatus</th>\n",
       "      <th>BlockReason</th>\n",
       "    </tr>\n",
       "  </thead>\n",
       "  <tbody>\n",
       "    <tr>\n",
       "      <th>10</th>\n",
       "      <td>A16184N1RO5OJV</td>\n",
       "      <td>https://requester.mturk.com/workers/A16184N1RO...</td>\n",
       "      <td>0</td>\n",
       "      <td>0</td>\n",
       "      <td>0.00%</td>\n",
       "      <td>0</td>\n",
       "      <td>0</td>\n",
       "      <td>0.00%</td>\n",
       "      <td>0</td>\n",
       "      <td>0</td>\n",
       "      <td>...</td>\n",
       "      <td>NaN</td>\n",
       "      <td>1.0</td>\n",
       "      <td>2.0</td>\n",
       "      <td>NaN</td>\n",
       "      <td>NaN</td>\n",
       "      <td>NaN</td>\n",
       "      <td>NaN</td>\n",
       "      <td>Never Blocked</td>\n",
       "      <td>NaN</td>\n",
       "      <td>NaN</td>\n",
       "    </tr>\n",
       "  </tbody>\n",
       "</table>\n",
       "<p>1 rows × 22 columns</p>\n",
       "</div>"
      ],
      "text/plain": [
       "         Worker ID                     Link to Individual Worker Page  \\\n",
       "10  A16184N1RO5OJV  https://requester.mturk.com/workers/A16184N1RO...   \n",
       "\n",
       "    Number of HITs approved or rejected - Lifetime  \\\n",
       "10                                               0   \n",
       "\n",
       "    Number of HITs approved - Lifetime Your Lifetime approval rate  \\\n",
       "10                                   0                       0.00%   \n",
       "\n",
       "    Number of HITs approved or rejected - Last 30 days  \\\n",
       "10                                                  0    \n",
       "\n",
       "    Number of HITs approved - Last 30 days Your Last 30 days approval rate  \\\n",
       "10                                       0                           0.00%   \n",
       "\n",
       "    Number of HITs approved or rejected - Last 7 days  \\\n",
       "10                                                  0   \n",
       "\n",
       "    Number of HITs approved - Last 7 days  ... UPDATE-self  \\\n",
       "10                                      0  ...         NaN   \n",
       "\n",
       "    CURRENT-Rosie's White List  UPDATE-Rosie's White List  \\\n",
       "10                         1.0                        2.0   \n",
       "\n",
       "    CURRENT-Ads Creativity - v2  UPDATE-Ads Creativity - v2  \\\n",
       "10                          NaN                         NaN   \n",
       "\n",
       "    CURRENT-Ads Creativity - Good  UPDATE-Ads Creativity - Good  \\\n",
       "10                            NaN                           NaN   \n",
       "\n",
       "    CURRENT BlockStatus  UPDATE BlockStatus BlockReason  \n",
       "10        Never Blocked                 NaN         NaN  \n",
       "\n",
       "[1 rows x 22 columns]"
      ]
     },
     "execution_count": 497,
     "metadata": {},
     "output_type": "execute_result"
    }
   ],
   "source": [
    "worker_df.loc[worker_df['Worker ID'] == 'A16184N1RO5OJV']"
   ]
  },
  {
   "cell_type": "code",
   "execution_count": 498,
   "metadata": {},
   "outputs": [
    {
     "data": {
      "text/plain": [
       "array(['A1TTSDPGBHOO9P', 'A3NGN0SM7SBYB9', 'A2Y7FD1D7PUGBL',\n",
       "       'ACI8PUCF5OPDC', 'A16184N1RO5OJV', 'A1DMXEJGJY02E1',\n",
       "       'A3W0SCW5UYEB0F', 'AFPMG8TLP1TND', 'A41APS6V2Z1FJ',\n",
       "       'A3RVHUY67SVXQV', 'A2I4PRZ9IZMKON'], dtype=object)"
      ]
     },
     "execution_count": 498,
     "metadata": {},
     "output_type": "execute_result"
    }
   ],
   "source": [
    "mturk_raw_data.WorkerId.unique()"
   ]
  },
  {
   "cell_type": "code",
   "execution_count": null,
   "metadata": {},
   "outputs": [],
   "source": []
  },
  {
   "cell_type": "code",
   "execution_count": null,
   "metadata": {},
   "outputs": [],
   "source": []
  },
  {
   "cell_type": "markdown",
   "metadata": {},
   "source": [
    "## 3.2 Worker Job Counts (for Bonus)"
   ]
  },
  {
   "cell_type": "code",
   "execution_count": null,
   "metadata": {},
   "outputs": [],
   "source": []
  },
  {
   "cell_type": "code",
   "execution_count": 29,
   "metadata": {},
   "outputs": [],
   "source": [
    "existing_bonus = pd.read_csv(mturk_data_dir + 'subset_1.1/worker_job_counts_1113.csv')\n",
    "existing_bonus_dict = dict(zip(existing_bonus.WorkerId.values, existing_bonus.bonus.values))\n",
    "# existing_bonus_dict = {\n",
    "#     'A1KWITRMPO7BUQ': 0.5,\n",
    "#     'A3NGN0SM7SBYB9': 0.5,\n",
    "#     'A1TTSDPGBHOO9P': 0.5,\n",
    "#     'A19Z68L0RHQVWL': 0.5,\n",
    "#     'AKQAI78JTXXC9': 0.5\n",
    "# }\n",
    "\n",
    "bonus_per_hit = 0.1\n",
    "data_version = '1.1'"
   ]
  },
  {
   "cell_type": "code",
   "execution_count": 30,
   "metadata": {},
   "outputs": [],
   "source": [
    "assignment_dict = dict(zip(mturk_raw_data['WorkerId'].values, mturk_raw_data['AssignmentId'].values))\n",
    "worker_job_counts = mturk_raw_data[['WorkerId', 'Input.ads_id', 'AssignmentId']].groupby('WorkerId').agg('count')\n",
    "worker_job_counts['WorkerId'] = worker_job_counts.index\n",
    "worker_job_counts['bonus'] = worker_job_counts['Input.ads_id'].apply(lambda x: x * bonus_per_hit)\n",
    "\n",
    "def find_bonus(x):\n",
    "    if x['WorkerId'] in existing_bonus_dict:\n",
    "        return x['Input.ads_id'] * bonus_per_hit - existing_bonus_dict[x['WorkerId']]\n",
    "    else:\n",
    "        return x['Input.ads_id'] * bonus_per_hit\n",
    "worker_job_counts['extra_bonus'] = worker_job_counts.apply(find_bonus, axis = 1)\n",
    "worker_job_counts['AssignmentId'] = [assignment_dict[worker_id] for worker_id in worker_job_counts.index]"
   ]
  },
  {
   "cell_type": "code",
   "execution_count": 31,
   "metadata": {},
   "outputs": [
    {
     "data": {
      "text/html": [
       "<div>\n",
       "<style scoped>\n",
       "    .dataframe tbody tr th:only-of-type {\n",
       "        vertical-align: middle;\n",
       "    }\n",
       "\n",
       "    .dataframe tbody tr th {\n",
       "        vertical-align: top;\n",
       "    }\n",
       "\n",
       "    .dataframe thead th {\n",
       "        text-align: right;\n",
       "    }\n",
       "</style>\n",
       "<table border=\"1\" class=\"dataframe\">\n",
       "  <thead>\n",
       "    <tr style=\"text-align: right;\">\n",
       "      <th></th>\n",
       "      <th>Input.ads_id</th>\n",
       "      <th>AssignmentId</th>\n",
       "      <th>WorkerId</th>\n",
       "      <th>bonus</th>\n",
       "      <th>extra_bonus</th>\n",
       "    </tr>\n",
       "    <tr>\n",
       "      <th>WorkerId</th>\n",
       "      <th></th>\n",
       "      <th></th>\n",
       "      <th></th>\n",
       "      <th></th>\n",
       "      <th></th>\n",
       "    </tr>\n",
       "  </thead>\n",
       "  <tbody>\n",
       "    <tr>\n",
       "      <th>A15X8ATAWSRXIF</th>\n",
       "      <td>30</td>\n",
       "      <td>3AQF3RZ55SY38584TPYFEOVNWMH6FV</td>\n",
       "      <td>A15X8ATAWSRXIF</td>\n",
       "      <td>3.0</td>\n",
       "      <td>0.000000e+00</td>\n",
       "    </tr>\n",
       "    <tr>\n",
       "      <th>A16184N1RO5OJV</th>\n",
       "      <td>30</td>\n",
       "      <td>36ZN444YTBED72GYUTQUYLT5TROOIX</td>\n",
       "      <td>A16184N1RO5OJV</td>\n",
       "      <td>3.0</td>\n",
       "      <td>0.000000e+00</td>\n",
       "    </tr>\n",
       "    <tr>\n",
       "      <th>A19Z68L0RHQVWL</th>\n",
       "      <td>22</td>\n",
       "      <td>34QN5IT0TJ7ZFFC2JMCSVV4ACIN806</td>\n",
       "      <td>A19Z68L0RHQVWL</td>\n",
       "      <td>2.2</td>\n",
       "      <td>7.000000e-01</td>\n",
       "    </tr>\n",
       "    <tr>\n",
       "      <th>A1DMXEJGJY02E1</th>\n",
       "      <td>30</td>\n",
       "      <td>30BUDKLTXXBFJN8UTV4440VMKQY5EW</td>\n",
       "      <td>A1DMXEJGJY02E1</td>\n",
       "      <td>3.0</td>\n",
       "      <td>0.000000e+00</td>\n",
       "    </tr>\n",
       "    <tr>\n",
       "      <th>A1KTASRQIPL490</th>\n",
       "      <td>28</td>\n",
       "      <td>32M8BPYGAD2PFPZ06ADMTCL4MNDIG7</td>\n",
       "      <td>A1KTASRQIPL490</td>\n",
       "      <td>2.8</td>\n",
       "      <td>2.800000e+00</td>\n",
       "    </tr>\n",
       "    <tr>\n",
       "      <th>A1KWITRMPO7BUQ</th>\n",
       "      <td>5</td>\n",
       "      <td>3V26SBZTBXUB1WJFW6PXEE40CN5ZZJ</td>\n",
       "      <td>A1KWITRMPO7BUQ</td>\n",
       "      <td>0.5</td>\n",
       "      <td>0.000000e+00</td>\n",
       "    </tr>\n",
       "    <tr>\n",
       "      <th>A1OZPLHNIU1519</th>\n",
       "      <td>30</td>\n",
       "      <td>3EQHHY4HQC8D314LZQUS43HZ4V05GO</td>\n",
       "      <td>A1OZPLHNIU1519</td>\n",
       "      <td>3.0</td>\n",
       "      <td>0.000000e+00</td>\n",
       "    </tr>\n",
       "    <tr>\n",
       "      <th>A1TTSDPGBHOO9P</th>\n",
       "      <td>1</td>\n",
       "      <td>3CTOC39K3R62H785VPUSZ0MAGC97JY</td>\n",
       "      <td>A1TTSDPGBHOO9P</td>\n",
       "      <td>0.1</td>\n",
       "      <td>0.000000e+00</td>\n",
       "    </tr>\n",
       "    <tr>\n",
       "      <th>A21HRQPSI3REF9</th>\n",
       "      <td>8</td>\n",
       "      <td>323Q6SJS82WJ5USLP8PJBFKDMRFHFO</td>\n",
       "      <td>A21HRQPSI3REF9</td>\n",
       "      <td>0.8</td>\n",
       "      <td>8.000000e-01</td>\n",
       "    </tr>\n",
       "    <tr>\n",
       "      <th>A2BGAJTWL8F232</th>\n",
       "      <td>22</td>\n",
       "      <td>39O5D9O87D8X8A1CJLAGZFY065RC3F</td>\n",
       "      <td>A2BGAJTWL8F232</td>\n",
       "      <td>2.2</td>\n",
       "      <td>2.200000e+00</td>\n",
       "    </tr>\n",
       "    <tr>\n",
       "      <th>A2C9HJC2RDU10C</th>\n",
       "      <td>30</td>\n",
       "      <td>3JAOYWH7V2KCQGKYD74PTBQ8FTAL92</td>\n",
       "      <td>A2C9HJC2RDU10C</td>\n",
       "      <td>3.0</td>\n",
       "      <td>0.000000e+00</td>\n",
       "    </tr>\n",
       "    <tr>\n",
       "      <th>A2COPP4Y0UYN0B</th>\n",
       "      <td>3</td>\n",
       "      <td>3OUYGIZWRREKL7BJ53E3HHZ0ZO7P0H</td>\n",
       "      <td>A2COPP4Y0UYN0B</td>\n",
       "      <td>0.3</td>\n",
       "      <td>5.551115e-17</td>\n",
       "    </tr>\n",
       "    <tr>\n",
       "      <th>A2FP41BSPG0Y4A</th>\n",
       "      <td>30</td>\n",
       "      <td>31QTRG6Q2DTHI274DBPC99SJTAWYPY</td>\n",
       "      <td>A2FP41BSPG0Y4A</td>\n",
       "      <td>3.0</td>\n",
       "      <td>0.000000e+00</td>\n",
       "    </tr>\n",
       "    <tr>\n",
       "      <th>A2R1GDWV4RLIUY</th>\n",
       "      <td>30</td>\n",
       "      <td>33F859I56QTTSDG5K63NSPTSP4GBHX</td>\n",
       "      <td>A2R1GDWV4RLIUY</td>\n",
       "      <td>3.0</td>\n",
       "      <td>0.000000e+00</td>\n",
       "    </tr>\n",
       "    <tr>\n",
       "      <th>A2RBF3IIJP15IH</th>\n",
       "      <td>30</td>\n",
       "      <td>3VD82FOHKA4MUZUY2JU8NIWBNXROCE</td>\n",
       "      <td>A2RBF3IIJP15IH</td>\n",
       "      <td>3.0</td>\n",
       "      <td>0.000000e+00</td>\n",
       "    </tr>\n",
       "    <tr>\n",
       "      <th>A2VO8C41JJIQY9</th>\n",
       "      <td>30</td>\n",
       "      <td>3HFNH7HEM1U2WNNJJIIV2EBPTHWQG1</td>\n",
       "      <td>A2VO8C41JJIQY9</td>\n",
       "      <td>3.0</td>\n",
       "      <td>0.000000e+00</td>\n",
       "    </tr>\n",
       "    <tr>\n",
       "      <th>A2XZLEY2RCF5VM</th>\n",
       "      <td>30</td>\n",
       "      <td>3PEIJLRY6D9I26EVK1H5IPT6KIDXWS</td>\n",
       "      <td>A2XZLEY2RCF5VM</td>\n",
       "      <td>3.0</td>\n",
       "      <td>0.000000e+00</td>\n",
       "    </tr>\n",
       "    <tr>\n",
       "      <th>A34YDGVZKRJ0LZ</th>\n",
       "      <td>30</td>\n",
       "      <td>3L4D84MILJ8ZAWEH8YG4QDB4U4IJH3</td>\n",
       "      <td>A34YDGVZKRJ0LZ</td>\n",
       "      <td>3.0</td>\n",
       "      <td>0.000000e+00</td>\n",
       "    </tr>\n",
       "    <tr>\n",
       "      <th>A374VECA56GM56</th>\n",
       "      <td>30</td>\n",
       "      <td>3TPZPLC3MKSG2ZAGOQWMJFX7WEF3P0</td>\n",
       "      <td>A374VECA56GM56</td>\n",
       "      <td>3.0</td>\n",
       "      <td>0.000000e+00</td>\n",
       "    </tr>\n",
       "    <tr>\n",
       "      <th>A377LTGWJKY2IW</th>\n",
       "      <td>30</td>\n",
       "      <td>3YMU66OBI7OPJUOG0SV1T0JO2DLGHI</td>\n",
       "      <td>A377LTGWJKY2IW</td>\n",
       "      <td>3.0</td>\n",
       "      <td>0.000000e+00</td>\n",
       "    </tr>\n",
       "    <tr>\n",
       "      <th>A3I9XLIHPPWPN1</th>\n",
       "      <td>30</td>\n",
       "      <td>324G5B4FBNOVF17J9HKMHV7EHU770D</td>\n",
       "      <td>A3I9XLIHPPWPN1</td>\n",
       "      <td>3.0</td>\n",
       "      <td>0.000000e+00</td>\n",
       "    </tr>\n",
       "    <tr>\n",
       "      <th>A3NGN0SM7SBYB9</th>\n",
       "      <td>1</td>\n",
       "      <td>379J5II418WTLCBFLIKBLPRJ6OHELS</td>\n",
       "      <td>A3NGN0SM7SBYB9</td>\n",
       "      <td>0.1</td>\n",
       "      <td>0.000000e+00</td>\n",
       "    </tr>\n",
       "    <tr>\n",
       "      <th>A3RVHUY67SVXQV</th>\n",
       "      <td>30</td>\n",
       "      <td>33F859I56QTTSDG5K63NSPSROYAHBH</td>\n",
       "      <td>A3RVHUY67SVXQV</td>\n",
       "      <td>3.0</td>\n",
       "      <td>0.000000e+00</td>\n",
       "    </tr>\n",
       "    <tr>\n",
       "      <th>A3W0SCW5UYEB0F</th>\n",
       "      <td>29</td>\n",
       "      <td>324G5B4FBNOVF17J9HKMHV7EHPV70R</td>\n",
       "      <td>A3W0SCW5UYEB0F</td>\n",
       "      <td>2.9</td>\n",
       "      <td>4.440892e-16</td>\n",
       "    </tr>\n",
       "    <tr>\n",
       "      <th>A41APS6V2Z1FJ</th>\n",
       "      <td>30</td>\n",
       "      <td>3A4NIXBJ7QFRX03S2G8UYXXTPASMLQ</td>\n",
       "      <td>A41APS6V2Z1FJ</td>\n",
       "      <td>3.0</td>\n",
       "      <td>0.000000e+00</td>\n",
       "    </tr>\n",
       "    <tr>\n",
       "      <th>A5WWHKD82I8UE</th>\n",
       "      <td>30</td>\n",
       "      <td>3H8DHMCCWTRD90FX4NXQ07XKTQ1KDZ</td>\n",
       "      <td>A5WWHKD82I8UE</td>\n",
       "      <td>3.0</td>\n",
       "      <td>0.000000e+00</td>\n",
       "    </tr>\n",
       "    <tr>\n",
       "      <th>ABO9F0JD9NN54</th>\n",
       "      <td>30</td>\n",
       "      <td>3300DTYQTMX4C9RSDNS72BRELM6EQB</td>\n",
       "      <td>ABO9F0JD9NN54</td>\n",
       "      <td>3.0</td>\n",
       "      <td>0.000000e+00</td>\n",
       "    </tr>\n",
       "    <tr>\n",
       "      <th>ACI8PUCF5OPDC</th>\n",
       "      <td>30</td>\n",
       "      <td>3YGXWBAF7KXIQ6KGJZFZ9KP5Z1MC43</td>\n",
       "      <td>ACI8PUCF5OPDC</td>\n",
       "      <td>3.0</td>\n",
       "      <td>0.000000e+00</td>\n",
       "    </tr>\n",
       "    <tr>\n",
       "      <th>AKQAI78JTXXC9</th>\n",
       "      <td>1</td>\n",
       "      <td>3STRJBFXOG7KQPBUQDX55BE5K0MKTC</td>\n",
       "      <td>AKQAI78JTXXC9</td>\n",
       "      <td>0.1</td>\n",
       "      <td>0.000000e+00</td>\n",
       "    </tr>\n",
       "    <tr>\n",
       "      <th>ATR6RB1RULOC0</th>\n",
       "      <td>30</td>\n",
       "      <td>39PAAFCOD6GY6056PHBC7KQN70YTVQ</td>\n",
       "      <td>ATR6RB1RULOC0</td>\n",
       "      <td>3.0</td>\n",
       "      <td>0.000000e+00</td>\n",
       "    </tr>\n",
       "    <tr>\n",
       "      <th>AZLZA0Q87TJZO</th>\n",
       "      <td>30</td>\n",
       "      <td>351SEKWQSKX8ZOF0PZA6FKPOC78MD0</td>\n",
       "      <td>AZLZA0Q87TJZO</td>\n",
       "      <td>3.0</td>\n",
       "      <td>0.000000e+00</td>\n",
       "    </tr>\n",
       "  </tbody>\n",
       "</table>\n",
       "</div>"
      ],
      "text/plain": [
       "                Input.ads_id                    AssignmentId        WorkerId  \\\n",
       "WorkerId                                                                       \n",
       "A15X8ATAWSRXIF            30  3AQF3RZ55SY38584TPYFEOVNWMH6FV  A15X8ATAWSRXIF   \n",
       "A16184N1RO5OJV            30  36ZN444YTBED72GYUTQUYLT5TROOIX  A16184N1RO5OJV   \n",
       "A19Z68L0RHQVWL            22  34QN5IT0TJ7ZFFC2JMCSVV4ACIN806  A19Z68L0RHQVWL   \n",
       "A1DMXEJGJY02E1            30  30BUDKLTXXBFJN8UTV4440VMKQY5EW  A1DMXEJGJY02E1   \n",
       "A1KTASRQIPL490            28  32M8BPYGAD2PFPZ06ADMTCL4MNDIG7  A1KTASRQIPL490   \n",
       "A1KWITRMPO7BUQ             5  3V26SBZTBXUB1WJFW6PXEE40CN5ZZJ  A1KWITRMPO7BUQ   \n",
       "A1OZPLHNIU1519            30  3EQHHY4HQC8D314LZQUS43HZ4V05GO  A1OZPLHNIU1519   \n",
       "A1TTSDPGBHOO9P             1  3CTOC39K3R62H785VPUSZ0MAGC97JY  A1TTSDPGBHOO9P   \n",
       "A21HRQPSI3REF9             8  323Q6SJS82WJ5USLP8PJBFKDMRFHFO  A21HRQPSI3REF9   \n",
       "A2BGAJTWL8F232            22  39O5D9O87D8X8A1CJLAGZFY065RC3F  A2BGAJTWL8F232   \n",
       "A2C9HJC2RDU10C            30  3JAOYWH7V2KCQGKYD74PTBQ8FTAL92  A2C9HJC2RDU10C   \n",
       "A2COPP4Y0UYN0B             3  3OUYGIZWRREKL7BJ53E3HHZ0ZO7P0H  A2COPP4Y0UYN0B   \n",
       "A2FP41BSPG0Y4A            30  31QTRG6Q2DTHI274DBPC99SJTAWYPY  A2FP41BSPG0Y4A   \n",
       "A2R1GDWV4RLIUY            30  33F859I56QTTSDG5K63NSPTSP4GBHX  A2R1GDWV4RLIUY   \n",
       "A2RBF3IIJP15IH            30  3VD82FOHKA4MUZUY2JU8NIWBNXROCE  A2RBF3IIJP15IH   \n",
       "A2VO8C41JJIQY9            30  3HFNH7HEM1U2WNNJJIIV2EBPTHWQG1  A2VO8C41JJIQY9   \n",
       "A2XZLEY2RCF5VM            30  3PEIJLRY6D9I26EVK1H5IPT6KIDXWS  A2XZLEY2RCF5VM   \n",
       "A34YDGVZKRJ0LZ            30  3L4D84MILJ8ZAWEH8YG4QDB4U4IJH3  A34YDGVZKRJ0LZ   \n",
       "A374VECA56GM56            30  3TPZPLC3MKSG2ZAGOQWMJFX7WEF3P0  A374VECA56GM56   \n",
       "A377LTGWJKY2IW            30  3YMU66OBI7OPJUOG0SV1T0JO2DLGHI  A377LTGWJKY2IW   \n",
       "A3I9XLIHPPWPN1            30  324G5B4FBNOVF17J9HKMHV7EHU770D  A3I9XLIHPPWPN1   \n",
       "A3NGN0SM7SBYB9             1  379J5II418WTLCBFLIKBLPRJ6OHELS  A3NGN0SM7SBYB9   \n",
       "A3RVHUY67SVXQV            30  33F859I56QTTSDG5K63NSPSROYAHBH  A3RVHUY67SVXQV   \n",
       "A3W0SCW5UYEB0F            29  324G5B4FBNOVF17J9HKMHV7EHPV70R  A3W0SCW5UYEB0F   \n",
       "A41APS6V2Z1FJ             30  3A4NIXBJ7QFRX03S2G8UYXXTPASMLQ   A41APS6V2Z1FJ   \n",
       "A5WWHKD82I8UE             30  3H8DHMCCWTRD90FX4NXQ07XKTQ1KDZ   A5WWHKD82I8UE   \n",
       "ABO9F0JD9NN54             30  3300DTYQTMX4C9RSDNS72BRELM6EQB   ABO9F0JD9NN54   \n",
       "ACI8PUCF5OPDC             30  3YGXWBAF7KXIQ6KGJZFZ9KP5Z1MC43   ACI8PUCF5OPDC   \n",
       "AKQAI78JTXXC9              1  3STRJBFXOG7KQPBUQDX55BE5K0MKTC   AKQAI78JTXXC9   \n",
       "ATR6RB1RULOC0             30  39PAAFCOD6GY6056PHBC7KQN70YTVQ   ATR6RB1RULOC0   \n",
       "AZLZA0Q87TJZO             30  351SEKWQSKX8ZOF0PZA6FKPOC78MD0   AZLZA0Q87TJZO   \n",
       "\n",
       "                bonus   extra_bonus  \n",
       "WorkerId                             \n",
       "A15X8ATAWSRXIF    3.0  0.000000e+00  \n",
       "A16184N1RO5OJV    3.0  0.000000e+00  \n",
       "A19Z68L0RHQVWL    2.2  7.000000e-01  \n",
       "A1DMXEJGJY02E1    3.0  0.000000e+00  \n",
       "A1KTASRQIPL490    2.8  2.800000e+00  \n",
       "A1KWITRMPO7BUQ    0.5  0.000000e+00  \n",
       "A1OZPLHNIU1519    3.0  0.000000e+00  \n",
       "A1TTSDPGBHOO9P    0.1  0.000000e+00  \n",
       "A21HRQPSI3REF9    0.8  8.000000e-01  \n",
       "A2BGAJTWL8F232    2.2  2.200000e+00  \n",
       "A2C9HJC2RDU10C    3.0  0.000000e+00  \n",
       "A2COPP4Y0UYN0B    0.3  5.551115e-17  \n",
       "A2FP41BSPG0Y4A    3.0  0.000000e+00  \n",
       "A2R1GDWV4RLIUY    3.0  0.000000e+00  \n",
       "A2RBF3IIJP15IH    3.0  0.000000e+00  \n",
       "A2VO8C41JJIQY9    3.0  0.000000e+00  \n",
       "A2XZLEY2RCF5VM    3.0  0.000000e+00  \n",
       "A34YDGVZKRJ0LZ    3.0  0.000000e+00  \n",
       "A374VECA56GM56    3.0  0.000000e+00  \n",
       "A377LTGWJKY2IW    3.0  0.000000e+00  \n",
       "A3I9XLIHPPWPN1    3.0  0.000000e+00  \n",
       "A3NGN0SM7SBYB9    0.1  0.000000e+00  \n",
       "A3RVHUY67SVXQV    3.0  0.000000e+00  \n",
       "A3W0SCW5UYEB0F    2.9  4.440892e-16  \n",
       "A41APS6V2Z1FJ     3.0  0.000000e+00  \n",
       "A5WWHKD82I8UE     3.0  0.000000e+00  \n",
       "ABO9F0JD9NN54     3.0  0.000000e+00  \n",
       "ACI8PUCF5OPDC     3.0  0.000000e+00  \n",
       "AKQAI78JTXXC9     0.1  0.000000e+00  \n",
       "ATR6RB1RULOC0     3.0  0.000000e+00  \n",
       "AZLZA0Q87TJZO     3.0  0.000000e+00  "
      ]
     },
     "execution_count": 31,
     "metadata": {},
     "output_type": "execute_result"
    }
   ],
   "source": [
    "worker_job_counts.to_csv(mturk_data_dir + 'subset_{}/worker_job_counts_1118.csv'.format(data_version))\n",
    "worker_job_counts"
   ]
  },
  {
   "cell_type": "code",
   "execution_count": 32,
   "metadata": {},
   "outputs": [
    {
     "data": {
      "text/plain": [
       "(31, 5)"
      ]
     },
     "execution_count": 32,
     "metadata": {},
     "output_type": "execute_result"
    }
   ],
   "source": [
    "worker_job_counts.shape"
   ]
  },
  {
   "cell_type": "code",
   "execution_count": 74,
   "metadata": {},
   "outputs": [
    {
     "data": {
      "text/plain": [
       "0.75"
      ]
     },
     "execution_count": 74,
     "metadata": {},
     "output_type": "execute_result"
    }
   ],
   "source": [
    "18 / (60 / 2.5)"
   ]
  },
  {
   "cell_type": "code",
   "execution_count": 136,
   "metadata": {},
   "outputs": [
    {
     "data": {
      "text/plain": [
       "24.0"
      ]
     },
     "execution_count": 136,
     "metadata": {},
     "output_type": "execute_result"
    }
   ],
   "source": [
    "(0.5 / 1.25) * 60"
   ]
  },
  {
   "cell_type": "code",
   "execution_count": 186,
   "metadata": {},
   "outputs": [
    {
     "data": {
      "text/plain": [
       "20.0"
      ]
     },
     "execution_count": 186,
     "metadata": {},
     "output_type": "execute_result"
    }
   ],
   "source": [
    "(0.5 / 1.5) * 60"
   ]
  },
  {
   "cell_type": "code",
   "execution_count": 187,
   "metadata": {},
   "outputs": [
    {
     "data": {
      "text/plain": [
       "15.0"
      ]
     },
     "execution_count": 187,
     "metadata": {},
     "output_type": "execute_result"
    }
   ],
   "source": [
    "(0.5 / 2) * 60"
   ]
  },
  {
   "cell_type": "code",
   "execution_count": null,
   "metadata": {},
   "outputs": [],
   "source": []
  },
  {
   "cell_type": "code",
   "execution_count": null,
   "metadata": {},
   "outputs": [],
   "source": []
  },
  {
   "cell_type": "code",
   "execution_count": null,
   "metadata": {},
   "outputs": [],
   "source": []
  },
  {
   "cell_type": "code",
   "execution_count": null,
   "metadata": {},
   "outputs": [],
   "source": []
  },
  {
   "cell_type": "code",
   "execution_count": null,
   "metadata": {},
   "outputs": [],
   "source": []
  },
  {
   "cell_type": "markdown",
   "metadata": {},
   "source": [
    "# Archived "
   ]
  },
  {
   "cell_type": "markdown",
   "metadata": {},
   "source": [
    "## 3.2 Hourly Rate"
   ]
  },
  {
   "cell_type": "code",
   "execution_count": 44,
   "metadata": {},
   "outputs": [],
   "source": [
    "# batch_result_df = pd.read_csv('../mturk/mturk_raw_results.0.3.csv')\n",
    "# batch_result_df.head(2)"
   ]
  },
  {
   "cell_type": "code",
   "execution_count": 179,
   "metadata": {},
   "outputs": [],
   "source": [
    "# # work time for good worker\n",
    "# good_worker_time = batch_result_df.loc[batch_result_df.WorkerId.apply(lambda x: x in good_turker_id)].WorkTimeInSeconds#.apply(lambda x: x / 60)\n",
    "# sns.displot(good_worker_time)"
   ]
  },
  {
   "cell_type": "code",
   "execution_count": 180,
   "metadata": {},
   "outputs": [],
   "source": [
    "id_2_count_dict = dict(batch_result_df.groupby('WorkerId').agg('count')['CreationTime']) #.sort_values(ascending=False).values[:20]"
   ]
  },
  {
   "cell_type": "code",
   "execution_count": 181,
   "metadata": {},
   "outputs": [
    {
     "data": {
      "text/html": [
       "<div>\n",
       "<style scoped>\n",
       "    .dataframe tbody tr th:only-of-type {\n",
       "        vertical-align: middle;\n",
       "    }\n",
       "\n",
       "    .dataframe tbody tr th {\n",
       "        vertical-align: top;\n",
       "    }\n",
       "\n",
       "    .dataframe thead th {\n",
       "        text-align: right;\n",
       "    }\n",
       "</style>\n",
       "<table border=\"1\" class=\"dataframe\">\n",
       "  <thead>\n",
       "    <tr style=\"text-align: right;\">\n",
       "      <th></th>\n",
       "      <th>WorkerId</th>\n",
       "      <th>AcceptTime</th>\n",
       "      <th>SubmitTime</th>\n",
       "      <th>WorkTimeInSeconds</th>\n",
       "    </tr>\n",
       "  </thead>\n",
       "  <tbody>\n",
       "    <tr>\n",
       "      <th>2</th>\n",
       "      <td>A2Z2ERN56ZH745</td>\n",
       "      <td>Mon May 06 20:37:23 PDT 2024</td>\n",
       "      <td>Mon May 06 20:44:01 PDT 2024</td>\n",
       "      <td>398</td>\n",
       "    </tr>\n",
       "    <tr>\n",
       "      <th>49</th>\n",
       "      <td>A2Z2ERN56ZH745</td>\n",
       "      <td>Mon May 06 21:37:37 PDT 2024</td>\n",
       "      <td>Mon May 06 21:47:45 PDT 2024</td>\n",
       "      <td>608</td>\n",
       "    </tr>\n",
       "    <tr>\n",
       "      <th>79</th>\n",
       "      <td>A2Z2ERN56ZH745</td>\n",
       "      <td>Mon May 06 20:37:33 PDT 2024</td>\n",
       "      <td>Mon May 06 21:19:51 PDT 2024</td>\n",
       "      <td>2538</td>\n",
       "    </tr>\n",
       "    <tr>\n",
       "      <th>39</th>\n",
       "      <td>APT8G4J3TGDWK</td>\n",
       "      <td>Mon May 06 20:58:11 PDT 2024</td>\n",
       "      <td>Mon May 06 21:22:11 PDT 2024</td>\n",
       "      <td>1440</td>\n",
       "    </tr>\n",
       "    <tr>\n",
       "      <th>59</th>\n",
       "      <td>APT8G4J3TGDWK</td>\n",
       "      <td>Mon May 06 20:37:33 PDT 2024</td>\n",
       "      <td>Mon May 06 21:20:38 PDT 2024</td>\n",
       "      <td>2585</td>\n",
       "    </tr>\n",
       "    <tr>\n",
       "      <th>43</th>\n",
       "      <td>AB76VPCQT7N7L</td>\n",
       "      <td>Mon May 06 20:37:33 PDT 2024</td>\n",
       "      <td>Mon May 06 21:14:44 PDT 2024</td>\n",
       "      <td>2231</td>\n",
       "    </tr>\n",
       "    <tr>\n",
       "      <th>54</th>\n",
       "      <td>AB76VPCQT7N7L</td>\n",
       "      <td>Mon May 06 21:16:27 PDT 2024</td>\n",
       "      <td>Mon May 06 21:45:44 PDT 2024</td>\n",
       "      <td>1757</td>\n",
       "    </tr>\n",
       "    <tr>\n",
       "      <th>38</th>\n",
       "      <td>A2XHF4RYEIYWR0</td>\n",
       "      <td>Mon May 06 20:37:23 PDT 2024</td>\n",
       "      <td>Mon May 06 21:16:09 PDT 2024</td>\n",
       "      <td>2326</td>\n",
       "    </tr>\n",
       "    <tr>\n",
       "      <th>89</th>\n",
       "      <td>A2XHF4RYEIYWR0</td>\n",
       "      <td>Mon May 06 20:25:24 PDT 2024</td>\n",
       "      <td>Mon May 06 21:15:29 PDT 2024</td>\n",
       "      <td>3005</td>\n",
       "    </tr>\n",
       "    <tr>\n",
       "      <th>15</th>\n",
       "      <td>A2X85AAWK4C003</td>\n",
       "      <td>Mon May 06 19:37:08 PDT 2024</td>\n",
       "      <td>Mon May 06 19:39:56 PDT 2024</td>\n",
       "      <td>168</td>\n",
       "    </tr>\n",
       "    <tr>\n",
       "      <th>27</th>\n",
       "      <td>A2X85AAWK4C003</td>\n",
       "      <td>Mon May 06 19:37:10 PDT 2024</td>\n",
       "      <td>Mon May 06 19:48:39 PDT 2024</td>\n",
       "      <td>689</td>\n",
       "    </tr>\n",
       "  </tbody>\n",
       "</table>\n",
       "</div>"
      ],
      "text/plain": [
       "          WorkerId                    AcceptTime  \\\n",
       "2   A2Z2ERN56ZH745  Mon May 06 20:37:23 PDT 2024   \n",
       "49  A2Z2ERN56ZH745  Mon May 06 21:37:37 PDT 2024   \n",
       "79  A2Z2ERN56ZH745  Mon May 06 20:37:33 PDT 2024   \n",
       "39   APT8G4J3TGDWK  Mon May 06 20:58:11 PDT 2024   \n",
       "59   APT8G4J3TGDWK  Mon May 06 20:37:33 PDT 2024   \n",
       "43   AB76VPCQT7N7L  Mon May 06 20:37:33 PDT 2024   \n",
       "54   AB76VPCQT7N7L  Mon May 06 21:16:27 PDT 2024   \n",
       "38  A2XHF4RYEIYWR0  Mon May 06 20:37:23 PDT 2024   \n",
       "89  A2XHF4RYEIYWR0  Mon May 06 20:25:24 PDT 2024   \n",
       "15  A2X85AAWK4C003  Mon May 06 19:37:08 PDT 2024   \n",
       "27  A2X85AAWK4C003  Mon May 06 19:37:10 PDT 2024   \n",
       "\n",
       "                      SubmitTime  WorkTimeInSeconds  \n",
       "2   Mon May 06 20:44:01 PDT 2024                398  \n",
       "49  Mon May 06 21:47:45 PDT 2024                608  \n",
       "79  Mon May 06 21:19:51 PDT 2024               2538  \n",
       "39  Mon May 06 21:22:11 PDT 2024               1440  \n",
       "59  Mon May 06 21:20:38 PDT 2024               2585  \n",
       "43  Mon May 06 21:14:44 PDT 2024               2231  \n",
       "54  Mon May 06 21:45:44 PDT 2024               1757  \n",
       "38  Mon May 06 21:16:09 PDT 2024               2326  \n",
       "89  Mon May 06 21:15:29 PDT 2024               3005  \n",
       "15  Mon May 06 19:39:56 PDT 2024                168  \n",
       "27  Mon May 06 19:48:39 PDT 2024                689  "
      ]
     },
     "execution_count": 181,
     "metadata": {},
     "output_type": "execute_result"
    }
   ],
   "source": [
    "batch_result_df['count'] = batch_result_df.WorkerId.apply(lambda x: id_2_count_dict[x])\n",
    "batch_result_df.query('count > 1').sort_values(by = ['count', 'WorkerId'], ascending= False)[['WorkerId', 'AcceptTime', 'SubmitTime', 'WorkTimeInSeconds']]"
   ]
  },
  {
   "cell_type": "code",
   "execution_count": 183,
   "metadata": {},
   "outputs": [],
   "source": [
    "# good_worker_df = copy.deepcopy(batch_result_df.loc[batch_result_df.WorkerId.apply(lambda x: x in good_turker_id)])\n",
    "# good_worker_df.shape"
   ]
  },
  {
   "cell_type": "code",
   "execution_count": 184,
   "metadata": {},
   "outputs": [],
   "source": [
    "# good_worker_df[['WorkerId', 'AcceptTime', 'SubmitTime', 'WorkTimeInSeconds']].sort_values(by = 'WorkerId')\n"
   ]
  },
  {
   "cell_type": "code",
   "execution_count": null,
   "metadata": {},
   "outputs": [],
   "source": []
  },
  {
   "cell_type": "code",
   "execution_count": 185,
   "metadata": {},
   "outputs": [
    {
     "data": {
      "text/plain": [
       "36    0.154683\n",
       "64    0.156160\n",
       "74    0.156658\n",
       "9     0.158870\n",
       "92    0.160190\n",
       "        ...   \n",
       "67    4.251969\n",
       "95    4.655172\n",
       "25    6.136364\n",
       "24    7.826087\n",
       "82    7.941176\n",
       "Name: hr_rate, Length: 100, dtype: float64"
      ]
     },
     "execution_count": 185,
     "metadata": {},
     "output_type": "execute_result"
    }
   ],
   "source": [
    "batch_result_df['hr_rate'] = batch_result_df['WorkTimeInSeconds'].apply(lambda x: 0.15 / (x / 3600))\n",
    "batch_result_df.hr_rate.sort_values()"
   ]
  },
  {
   "cell_type": "code",
   "execution_count": null,
   "metadata": {},
   "outputs": [],
   "source": []
  },
  {
   "cell_type": "code",
   "execution_count": 186,
   "metadata": {},
   "outputs": [],
   "source": [
    "# good_worker_time.mean()"
   ]
  },
  {
   "cell_type": "code",
   "execution_count": 187,
   "metadata": {},
   "outputs": [],
   "source": [
    "# sns.displot(batch_result_df.hr_rate)"
   ]
  },
  {
   "cell_type": "code",
   "execution_count": 188,
   "metadata": {},
   "outputs": [
    {
     "data": {
      "text/plain": [
       "Index(['HITId', 'HITTypeId', 'Title', 'Description', 'Keywords', 'Reward',\n",
       "       'CreationTime', 'MaxAssignments', 'RequesterAnnotation',\n",
       "       'AssignmentDurationInSeconds', 'AutoApprovalDelayInSeconds',\n",
       "       'Expiration', 'NumberOfSimilarHITs', 'LifetimeInSeconds',\n",
       "       'AssignmentId', 'WorkerId', 'AssignmentStatus', 'AcceptTime',\n",
       "       'SubmitTime', 'AutoApprovalTime', 'ApprovalTime', 'RejectionTime',\n",
       "       'RequesterFeedback', 'WorkTimeInSeconds', 'LifetimeApprovalRate',\n",
       "       'Last30DaysApprovalRate', 'Last7DaysApprovalRate', 'Input.image_url',\n",
       "       'Input.topic', 'Input.action_a', 'Input.action_b', 'Input.action_c',\n",
       "       'Input.action_d', 'Input.action_e', 'Input.ads_id', 'Input.atypical',\n",
       "       'Input.example_1', 'Input.example_2', 'Input.action_correct',\n",
       "       'Answer.artistic_1.agree', 'Answer.artistic_1.disagree',\n",
       "       'Answer.artistic_1.neutral', 'Answer.artistic_2.agree',\n",
       "       'Answer.artistic_2.disagree', 'Answer.artistic_2.neutral',\n",
       "       'Answer.artistic_3.agree', 'Answer.artistic_3.disagree',\n",
       "       'Answer.artistic_3.neutral', 'Answer.atypicality_1.agree',\n",
       "       'Answer.atypicality_1.disagree', 'Answer.atypicality_1.neutral',\n",
       "       'Answer.atypicality_2.agree', 'Answer.atypicality_2.disagree',\n",
       "       'Answer.atypicality_2.neutral', 'Answer.atypicality_3.agree',\n",
       "       'Answer.atypicality_3.disagree', 'Answer.atypicality_3.neutral',\n",
       "       'Answer.effectiveness.a', 'Answer.effectiveness.b',\n",
       "       'Answer.effectiveness.c', 'Answer.effectiveness.d',\n",
       "       'Answer.effectiveness.e', 'Answer.overall.1', 'Answer.overall.2',\n",
       "       'Answer.overall.3', 'Answer.overall.4', 'Answer.overall.5',\n",
       "       'Answer.pc_1.agree', 'Answer.pc_1.disagree', 'Answer.pc_1.neutral',\n",
       "       'Answer.pc_2.agree', 'Answer.pc_2.disagree', 'Answer.pc_2.neutral',\n",
       "       'Answer.pc_3.agree', 'Answer.pc_3.disagree', 'Answer.pc_3.neutral',\n",
       "       'Approve', 'Reject', 'count', 'hr_rate'],\n",
       "      dtype='object')"
      ]
     },
     "execution_count": 188,
     "metadata": {},
     "output_type": "execute_result"
    }
   ],
   "source": [
    "batch_result_df.columns"
   ]
  },
  {
   "cell_type": "code",
   "execution_count": 189,
   "metadata": {},
   "outputs": [],
   "source": [
    "# batch_result_df[['AcceptTime', 'SubmitTime', 'WorkTimeInSeconds']]"
   ]
  },
  {
   "cell_type": "markdown",
   "metadata": {},
   "source": [
    "## 3.3 Agreement - Old Data"
   ]
  },
  {
   "cell_type": "code",
   "execution_count": 3,
   "metadata": {},
   "outputs": [
    {
     "data": {
      "text/plain": [
       "(100, 58)"
      ]
     },
     "execution_count": 3,
     "metadata": {},
     "output_type": "execute_result"
    }
   ],
   "source": [
    "mturk_data = pd.read_csv('../mturk/mturk.0.2.csv')\n",
    "mturk_data.shape"
   ]
  },
  {
   "cell_type": "code",
   "execution_count": 126,
   "metadata": {},
   "outputs": [
    {
     "data": {
      "text/plain": [
       "array([3, 2, 5, 4, 1])"
      ]
     },
     "execution_count": 126,
     "metadata": {},
     "output_type": "execute_result"
    }
   ],
   "source": [
    "####### clean data #######\n",
    "mturk_results = []\n",
    "for i in range(mturk_data.shape[0]):\n",
    "    row = mturk_data.iloc[i]\n",
    "    atypical = row['Answer.atypicality.yes']\n",
    "    atypical_reason = row['Answer.atypicality_reason']\n",
    "\n",
    "    pc = row['Answer.peer_comparison.yes']\n",
    "    pc_reason = row['Answer.peer_comparison_reason']\n",
    "\n",
    "    effectiveness = ''\n",
    "    for choice in ['a', 'b', 'c', 'd', 'e']:\n",
    "        if row['Answer.effectiveness.{}'.format(choice)]:\n",
    "            effectiveness = choice\n",
    "            break\n",
    "\n",
    "    overall = ''\n",
    "    for choice in [1, 2, 3, 4, 5]:\n",
    "        if bool(row['Answer.overall.{}'.format(choice)]):\n",
    "            overall = choice\n",
    "            break\n",
    "        if overall == '':\n",
    "            overall = 3 # HARD FIX!\n",
    "    mturk_results.append({\n",
    "        'atypical': atypical,\n",
    "        'atypical_reason': atypical_reason,\n",
    "        'pc': pc,\n",
    "        'pc_reason': pc_reason,\n",
    "        'effectiveness': effectiveness,\n",
    "        'effectiveness_true': row['Input.action_correct'],\n",
    "        'overall': overall,\n",
    "        'HITId': row['HITId'],\n",
    "        'ads_id': row['Input.image_url'].replace('https://people.cs.pitt.edu/~mzhang/image_ads/', '')\n",
    "    })\n",
    "mturk_results = pd.DataFrame(mturk_results)\n",
    "mturk_results.overall.unique()"
   ]
  },
  {
   "cell_type": "code",
   "execution_count": 127,
   "metadata": {},
   "outputs": [],
   "source": [
    "mturk_results = mturk_results.query('overall != \"\"')"
   ]
  },
  {
   "cell_type": "code",
   "execution_count": 128,
   "metadata": {},
   "outputs": [
    {
     "data": {
      "text/plain": [
       "(0, (100, 9))"
      ]
     },
     "execution_count": 128,
     "metadata": {},
     "output_type": "execute_result"
    }
   ],
   "source": [
    "sum(mturk_results.overall == ''), mturk_results.shape"
   ]
  },
  {
   "cell_type": "code",
   "execution_count": 129,
   "metadata": {},
   "outputs": [],
   "source": [
    "# !pip install statsmodels"
   ]
  },
  {
   "cell_type": "code",
   "execution_count": 130,
   "metadata": {},
   "outputs": [],
   "source": [
    "import statsmodels.stats.inter_rater"
   ]
  },
  {
   "cell_type": "code",
   "execution_count": 220,
   "metadata": {},
   "outputs": [],
   "source": [
    "unique_values_dict = {\n",
    "    'atypical': [True, False],\n",
    "    'overall': [1, 2, 3, 4, 5],\n",
    "    'pc': [True, False],\n",
    "    'effectiveness': ['a', 'b', 'c', 'd', 'e', 'uk']\n",
    "}\n",
    "def mturk_get_kappa_data(mturk_results, column):\n",
    "    # N = mturk_results['ads_id'].nunique()\n",
    "    # n = int(mturk_results.shape[0] / N)\n",
    "    # k = mturk_results[column].unique()\n",
    "    unique_values = unique_values_dict[column] # list(mturk_results[column].unique())\n",
    "    def count_kappa(data, keys):\n",
    "        result = {k: 0 for k in keys}\n",
    "        for v in data.values:\n",
    "            if v in result:\n",
    "                result[v] += 1\n",
    "        return result\n",
    "    kappa_data = mturk_results[[column, 'ads_id']].groupby('ads_id').agg(lambda data: count_kappa(data, keys = unique_values))[column].values\n",
    "    kappa_data = pd.DataFrame(list(kappa_data))\n",
    "    return kappa_data"
   ]
  },
  {
   "cell_type": "code",
   "execution_count": null,
   "metadata": {},
   "outputs": [],
   "source": []
  },
  {
   "cell_type": "markdown",
   "metadata": {},
   "source": [
    "### 3.3.1 effectiveness"
   ]
  },
  {
   "cell_type": "code",
   "execution_count": 132,
   "metadata": {},
   "outputs": [],
   "source": [
    "mturk_results.effectiveness = mturk_results.effectiveness.apply(lambda x: x if x != '' else 'uk')"
   ]
  },
  {
   "cell_type": "code",
   "execution_count": 133,
   "metadata": {},
   "outputs": [],
   "source": [
    "# kappa_data_atypical"
   ]
  },
  {
   "cell_type": "code",
   "execution_count": 134,
   "metadata": {},
   "outputs": [],
   "source": [
    "# kappa_data_atypical.sum()"
   ]
  },
  {
   "cell_type": "code",
   "execution_count": 135,
   "metadata": {},
   "outputs": [
    {
     "name": "stdout",
     "output_type": "stream",
     "text": [
      "-0.12 0.16\n"
     ]
    }
   ],
   "source": [
    "kappa_data_atypical = mturk_get_kappa_data(mturk_results, 'atypical')\n",
    "fleiss_kappa_atypical = round(statsmodels.stats.inter_rater.fleiss_kappa(kappa_data_atypical, 'fleiss'), 4)\n",
    "randolph_kappa_atypical = round(statsmodels.stats.inter_rater.fleiss_kappa(kappa_data_atypical, 'randolph'), 4)\n",
    "\n",
    "print(fleiss_kappa_atypical, randolph_kappa_atypical)"
   ]
  },
  {
   "cell_type": "code",
   "execution_count": 142,
   "metadata": {},
   "outputs": [
    {
     "data": {
      "text/html": [
       "<div>\n",
       "<style scoped>\n",
       "    .dataframe tbody tr th:only-of-type {\n",
       "        vertical-align: middle;\n",
       "    }\n",
       "\n",
       "    .dataframe tbody tr th {\n",
       "        vertical-align: top;\n",
       "    }\n",
       "\n",
       "    .dataframe thead th {\n",
       "        text-align: right;\n",
       "    }\n",
       "</style>\n",
       "<table border=\"1\" class=\"dataframe\">\n",
       "  <thead>\n",
       "    <tr style=\"text-align: right;\">\n",
       "      <th></th>\n",
       "      <th>True</th>\n",
       "      <th>False</th>\n",
       "    </tr>\n",
       "  </thead>\n",
       "  <tbody>\n",
       "    <tr>\n",
       "      <th>0</th>\n",
       "      <td>4</td>\n",
       "      <td>1</td>\n",
       "    </tr>\n",
       "    <tr>\n",
       "      <th>1</th>\n",
       "      <td>3</td>\n",
       "      <td>2</td>\n",
       "    </tr>\n",
       "    <tr>\n",
       "      <th>2</th>\n",
       "      <td>5</td>\n",
       "      <td>0</td>\n",
       "    </tr>\n",
       "    <tr>\n",
       "      <th>3</th>\n",
       "      <td>3</td>\n",
       "      <td>2</td>\n",
       "    </tr>\n",
       "    <tr>\n",
       "      <th>4</th>\n",
       "      <td>4</td>\n",
       "      <td>1</td>\n",
       "    </tr>\n",
       "    <tr>\n",
       "      <th>5</th>\n",
       "      <td>3</td>\n",
       "      <td>2</td>\n",
       "    </tr>\n",
       "    <tr>\n",
       "      <th>6</th>\n",
       "      <td>4</td>\n",
       "      <td>1</td>\n",
       "    </tr>\n",
       "    <tr>\n",
       "      <th>7</th>\n",
       "      <td>4</td>\n",
       "      <td>1</td>\n",
       "    </tr>\n",
       "    <tr>\n",
       "      <th>8</th>\n",
       "      <td>4</td>\n",
       "      <td>1</td>\n",
       "    </tr>\n",
       "    <tr>\n",
       "      <th>9</th>\n",
       "      <td>2</td>\n",
       "      <td>3</td>\n",
       "    </tr>\n",
       "    <tr>\n",
       "      <th>10</th>\n",
       "      <td>4</td>\n",
       "      <td>1</td>\n",
       "    </tr>\n",
       "    <tr>\n",
       "      <th>11</th>\n",
       "      <td>3</td>\n",
       "      <td>2</td>\n",
       "    </tr>\n",
       "    <tr>\n",
       "      <th>12</th>\n",
       "      <td>4</td>\n",
       "      <td>1</td>\n",
       "    </tr>\n",
       "    <tr>\n",
       "      <th>13</th>\n",
       "      <td>4</td>\n",
       "      <td>1</td>\n",
       "    </tr>\n",
       "    <tr>\n",
       "      <th>14</th>\n",
       "      <td>5</td>\n",
       "      <td>0</td>\n",
       "    </tr>\n",
       "    <tr>\n",
       "      <th>15</th>\n",
       "      <td>3</td>\n",
       "      <td>2</td>\n",
       "    </tr>\n",
       "    <tr>\n",
       "      <th>16</th>\n",
       "      <td>4</td>\n",
       "      <td>1</td>\n",
       "    </tr>\n",
       "    <tr>\n",
       "      <th>17</th>\n",
       "      <td>4</td>\n",
       "      <td>1</td>\n",
       "    </tr>\n",
       "    <tr>\n",
       "      <th>18</th>\n",
       "      <td>4</td>\n",
       "      <td>1</td>\n",
       "    </tr>\n",
       "    <tr>\n",
       "      <th>19</th>\n",
       "      <td>4</td>\n",
       "      <td>1</td>\n",
       "    </tr>\n",
       "  </tbody>\n",
       "</table>\n",
       "</div>"
      ],
      "text/plain": [
       "    True   False\n",
       "0       4      1\n",
       "1       3      2\n",
       "2       5      0\n",
       "3       3      2\n",
       "4       4      1\n",
       "5       3      2\n",
       "6       4      1\n",
       "7       4      1\n",
       "8       4      1\n",
       "9       2      3\n",
       "10      4      1\n",
       "11      3      2\n",
       "12      4      1\n",
       "13      4      1\n",
       "14      5      0\n",
       "15      3      2\n",
       "16      4      1\n",
       "17      4      1\n",
       "18      4      1\n",
       "19      4      1"
      ]
     },
     "execution_count": 142,
     "metadata": {},
     "output_type": "execute_result"
    }
   ],
   "source": [
    "kappa_data_atypical"
   ]
  },
  {
   "cell_type": "code",
   "execution_count": 136,
   "metadata": {},
   "outputs": [
    {
     "name": "stdout",
     "output_type": "stream",
     "text": [
      "-0.1413 0.06\n"
     ]
    }
   ],
   "source": [
    "kappa_data_pc = mturk_get_kappa_data(mturk_results, 'pc')\n",
    "fleiss_kappa_pc = round(statsmodels.stats.inter_rater.fleiss_kappa(kappa_data_pc), 4)\n",
    "randolph_kappa_pc = round(statsmodels.stats.inter_rater.fleiss_kappa(kappa_data_pc, 'randolph'), 4)\n",
    "\n",
    "print(fleiss_kappa_pc, randolph_kappa_pc)"
   ]
  },
  {
   "cell_type": "code",
   "execution_count": 143,
   "metadata": {},
   "outputs": [
    {
     "data": {
      "text/html": [
       "<div>\n",
       "<style scoped>\n",
       "    .dataframe tbody tr th:only-of-type {\n",
       "        vertical-align: middle;\n",
       "    }\n",
       "\n",
       "    .dataframe tbody tr th {\n",
       "        vertical-align: top;\n",
       "    }\n",
       "\n",
       "    .dataframe thead th {\n",
       "        text-align: right;\n",
       "    }\n",
       "</style>\n",
       "<table border=\"1\" class=\"dataframe\">\n",
       "  <thead>\n",
       "    <tr style=\"text-align: right;\">\n",
       "      <th></th>\n",
       "      <th>True</th>\n",
       "      <th>False</th>\n",
       "    </tr>\n",
       "  </thead>\n",
       "  <tbody>\n",
       "    <tr>\n",
       "      <th>0</th>\n",
       "      <td>2</td>\n",
       "      <td>3</td>\n",
       "    </tr>\n",
       "    <tr>\n",
       "      <th>1</th>\n",
       "      <td>2</td>\n",
       "      <td>3</td>\n",
       "    </tr>\n",
       "    <tr>\n",
       "      <th>2</th>\n",
       "      <td>3</td>\n",
       "      <td>2</td>\n",
       "    </tr>\n",
       "    <tr>\n",
       "      <th>3</th>\n",
       "      <td>4</td>\n",
       "      <td>1</td>\n",
       "    </tr>\n",
       "    <tr>\n",
       "      <th>4</th>\n",
       "      <td>4</td>\n",
       "      <td>1</td>\n",
       "    </tr>\n",
       "    <tr>\n",
       "      <th>5</th>\n",
       "      <td>3</td>\n",
       "      <td>2</td>\n",
       "    </tr>\n",
       "    <tr>\n",
       "      <th>6</th>\n",
       "      <td>4</td>\n",
       "      <td>1</td>\n",
       "    </tr>\n",
       "    <tr>\n",
       "      <th>7</th>\n",
       "      <td>3</td>\n",
       "      <td>2</td>\n",
       "    </tr>\n",
       "    <tr>\n",
       "      <th>8</th>\n",
       "      <td>4</td>\n",
       "      <td>1</td>\n",
       "    </tr>\n",
       "    <tr>\n",
       "      <th>9</th>\n",
       "      <td>3</td>\n",
       "      <td>2</td>\n",
       "    </tr>\n",
       "    <tr>\n",
       "      <th>10</th>\n",
       "      <td>4</td>\n",
       "      <td>1</td>\n",
       "    </tr>\n",
       "    <tr>\n",
       "      <th>11</th>\n",
       "      <td>4</td>\n",
       "      <td>1</td>\n",
       "    </tr>\n",
       "    <tr>\n",
       "      <th>12</th>\n",
       "      <td>3</td>\n",
       "      <td>2</td>\n",
       "    </tr>\n",
       "    <tr>\n",
       "      <th>13</th>\n",
       "      <td>4</td>\n",
       "      <td>1</td>\n",
       "    </tr>\n",
       "    <tr>\n",
       "      <th>14</th>\n",
       "      <td>4</td>\n",
       "      <td>1</td>\n",
       "    </tr>\n",
       "    <tr>\n",
       "      <th>15</th>\n",
       "      <td>4</td>\n",
       "      <td>1</td>\n",
       "    </tr>\n",
       "    <tr>\n",
       "      <th>16</th>\n",
       "      <td>4</td>\n",
       "      <td>1</td>\n",
       "    </tr>\n",
       "    <tr>\n",
       "      <th>17</th>\n",
       "      <td>4</td>\n",
       "      <td>1</td>\n",
       "    </tr>\n",
       "    <tr>\n",
       "      <th>18</th>\n",
       "      <td>4</td>\n",
       "      <td>1</td>\n",
       "    </tr>\n",
       "    <tr>\n",
       "      <th>19</th>\n",
       "      <td>4</td>\n",
       "      <td>1</td>\n",
       "    </tr>\n",
       "  </tbody>\n",
       "</table>\n",
       "</div>"
      ],
      "text/plain": [
       "    True   False\n",
       "0       2      3\n",
       "1       2      3\n",
       "2       3      2\n",
       "3       4      1\n",
       "4       4      1\n",
       "5       3      2\n",
       "6       4      1\n",
       "7       3      2\n",
       "8       4      1\n",
       "9       3      2\n",
       "10      4      1\n",
       "11      4      1\n",
       "12      3      2\n",
       "13      4      1\n",
       "14      4      1\n",
       "15      4      1\n",
       "16      4      1\n",
       "17      4      1\n",
       "18      4      1\n",
       "19      4      1"
      ]
     },
     "execution_count": 143,
     "metadata": {},
     "output_type": "execute_result"
    }
   ],
   "source": [
    "kappa_data_pc"
   ]
  },
  {
   "cell_type": "code",
   "execution_count": 137,
   "metadata": {},
   "outputs": [
    {
     "name": "stdout",
     "output_type": "stream",
     "text": [
      "-0.1174 0.0312\n"
     ]
    }
   ],
   "source": [
    "kappa_data_overall = mturk_get_kappa_data(mturk_results, 'overall')\n",
    "fleiss_kappa_overall = round(statsmodels.stats.inter_rater.fleiss_kappa(kappa_data_overall), 4)\n",
    "randolph_kappa_overall = round(statsmodels.stats.inter_rater.fleiss_kappa(kappa_data_overall, 'randolph'), 4)\n",
    "\n",
    "print(fleiss_kappa_overall, randolph_kappa_overall)"
   ]
  },
  {
   "cell_type": "code",
   "execution_count": 144,
   "metadata": {},
   "outputs": [
    {
     "data": {
      "text/html": [
       "<div>\n",
       "<style scoped>\n",
       "    .dataframe tbody tr th:only-of-type {\n",
       "        vertical-align: middle;\n",
       "    }\n",
       "\n",
       "    .dataframe tbody tr th {\n",
       "        vertical-align: top;\n",
       "    }\n",
       "\n",
       "    .dataframe thead th {\n",
       "        text-align: right;\n",
       "    }\n",
       "</style>\n",
       "<table border=\"1\" class=\"dataframe\">\n",
       "  <thead>\n",
       "    <tr style=\"text-align: right;\">\n",
       "      <th></th>\n",
       "      <th>1</th>\n",
       "      <th>2</th>\n",
       "      <th>3</th>\n",
       "      <th>4</th>\n",
       "      <th>5</th>\n",
       "    </tr>\n",
       "  </thead>\n",
       "  <tbody>\n",
       "    <tr>\n",
       "      <th>0</th>\n",
       "      <td>0</td>\n",
       "      <td>0</td>\n",
       "      <td>2</td>\n",
       "      <td>1</td>\n",
       "      <td>2</td>\n",
       "    </tr>\n",
       "    <tr>\n",
       "      <th>1</th>\n",
       "      <td>2</td>\n",
       "      <td>0</td>\n",
       "      <td>0</td>\n",
       "      <td>1</td>\n",
       "      <td>2</td>\n",
       "    </tr>\n",
       "    <tr>\n",
       "      <th>2</th>\n",
       "      <td>0</td>\n",
       "      <td>0</td>\n",
       "      <td>1</td>\n",
       "      <td>2</td>\n",
       "      <td>2</td>\n",
       "    </tr>\n",
       "    <tr>\n",
       "      <th>3</th>\n",
       "      <td>1</td>\n",
       "      <td>0</td>\n",
       "      <td>1</td>\n",
       "      <td>2</td>\n",
       "      <td>1</td>\n",
       "    </tr>\n",
       "    <tr>\n",
       "      <th>4</th>\n",
       "      <td>0</td>\n",
       "      <td>0</td>\n",
       "      <td>2</td>\n",
       "      <td>1</td>\n",
       "      <td>2</td>\n",
       "    </tr>\n",
       "    <tr>\n",
       "      <th>5</th>\n",
       "      <td>1</td>\n",
       "      <td>0</td>\n",
       "      <td>1</td>\n",
       "      <td>1</td>\n",
       "      <td>2</td>\n",
       "    </tr>\n",
       "    <tr>\n",
       "      <th>6</th>\n",
       "      <td>0</td>\n",
       "      <td>1</td>\n",
       "      <td>2</td>\n",
       "      <td>1</td>\n",
       "      <td>1</td>\n",
       "    </tr>\n",
       "    <tr>\n",
       "      <th>7</th>\n",
       "      <td>0</td>\n",
       "      <td>0</td>\n",
       "      <td>1</td>\n",
       "      <td>2</td>\n",
       "      <td>2</td>\n",
       "    </tr>\n",
       "    <tr>\n",
       "      <th>8</th>\n",
       "      <td>0</td>\n",
       "      <td>0</td>\n",
       "      <td>2</td>\n",
       "      <td>2</td>\n",
       "      <td>1</td>\n",
       "    </tr>\n",
       "    <tr>\n",
       "      <th>9</th>\n",
       "      <td>1</td>\n",
       "      <td>0</td>\n",
       "      <td>1</td>\n",
       "      <td>2</td>\n",
       "      <td>1</td>\n",
       "    </tr>\n",
       "    <tr>\n",
       "      <th>10</th>\n",
       "      <td>0</td>\n",
       "      <td>1</td>\n",
       "      <td>0</td>\n",
       "      <td>3</td>\n",
       "      <td>1</td>\n",
       "    </tr>\n",
       "    <tr>\n",
       "      <th>11</th>\n",
       "      <td>0</td>\n",
       "      <td>0</td>\n",
       "      <td>0</td>\n",
       "      <td>3</td>\n",
       "      <td>2</td>\n",
       "    </tr>\n",
       "    <tr>\n",
       "      <th>12</th>\n",
       "      <td>0</td>\n",
       "      <td>0</td>\n",
       "      <td>0</td>\n",
       "      <td>3</td>\n",
       "      <td>2</td>\n",
       "    </tr>\n",
       "    <tr>\n",
       "      <th>13</th>\n",
       "      <td>0</td>\n",
       "      <td>0</td>\n",
       "      <td>0</td>\n",
       "      <td>2</td>\n",
       "      <td>3</td>\n",
       "    </tr>\n",
       "    <tr>\n",
       "      <th>14</th>\n",
       "      <td>0</td>\n",
       "      <td>0</td>\n",
       "      <td>2</td>\n",
       "      <td>2</td>\n",
       "      <td>1</td>\n",
       "    </tr>\n",
       "    <tr>\n",
       "      <th>15</th>\n",
       "      <td>0</td>\n",
       "      <td>0</td>\n",
       "      <td>2</td>\n",
       "      <td>1</td>\n",
       "      <td>2</td>\n",
       "    </tr>\n",
       "    <tr>\n",
       "      <th>16</th>\n",
       "      <td>0</td>\n",
       "      <td>0</td>\n",
       "      <td>1</td>\n",
       "      <td>1</td>\n",
       "      <td>3</td>\n",
       "    </tr>\n",
       "    <tr>\n",
       "      <th>17</th>\n",
       "      <td>0</td>\n",
       "      <td>0</td>\n",
       "      <td>1</td>\n",
       "      <td>2</td>\n",
       "      <td>2</td>\n",
       "    </tr>\n",
       "    <tr>\n",
       "      <th>18</th>\n",
       "      <td>0</td>\n",
       "      <td>0</td>\n",
       "      <td>1</td>\n",
       "      <td>2</td>\n",
       "      <td>2</td>\n",
       "    </tr>\n",
       "    <tr>\n",
       "      <th>19</th>\n",
       "      <td>0</td>\n",
       "      <td>0</td>\n",
       "      <td>1</td>\n",
       "      <td>3</td>\n",
       "      <td>1</td>\n",
       "    </tr>\n",
       "  </tbody>\n",
       "</table>\n",
       "</div>"
      ],
      "text/plain": [
       "    1  2  3  4  5\n",
       "0   0  0  2  1  2\n",
       "1   2  0  0  1  2\n",
       "2   0  0  1  2  2\n",
       "3   1  0  1  2  1\n",
       "4   0  0  2  1  2\n",
       "5   1  0  1  1  2\n",
       "6   0  1  2  1  1\n",
       "7   0  0  1  2  2\n",
       "8   0  0  2  2  1\n",
       "9   1  0  1  2  1\n",
       "10  0  1  0  3  1\n",
       "11  0  0  0  3  2\n",
       "12  0  0  0  3  2\n",
       "13  0  0  0  2  3\n",
       "14  0  0  2  2  1\n",
       "15  0  0  2  1  2\n",
       "16  0  0  1  1  3\n",
       "17  0  0  1  2  2\n",
       "18  0  0  1  2  2\n",
       "19  0  0  1  3  1"
      ]
     },
     "execution_count": 144,
     "metadata": {},
     "output_type": "execute_result"
    }
   ],
   "source": [
    "kappa_data_overall"
   ]
  },
  {
   "cell_type": "code",
   "execution_count": 138,
   "metadata": {},
   "outputs": [
    {
     "name": "stdout",
     "output_type": "stream",
     "text": [
      "0.2489 0.322\n"
     ]
    }
   ],
   "source": [
    "kappa_data_effectiveness = mturk_get_kappa_data(mturk_results, 'effectiveness')\n",
    "fleiss_kappa_effectiveness = round(statsmodels.stats.inter_rater.fleiss_kappa(kappa_data_effectiveness), 4)\n",
    "randolph_kappa_effectiveness = round(statsmodels.stats.inter_rater.fleiss_kappa(kappa_data_effectiveness, 'randolph'), 4)\n",
    "\n",
    "print(fleiss_kappa_effectiveness, randolph_kappa_effectiveness)"
   ]
  },
  {
   "cell_type": "code",
   "execution_count": 145,
   "metadata": {},
   "outputs": [
    {
     "data": {
      "text/html": [
       "<div>\n",
       "<style scoped>\n",
       "    .dataframe tbody tr th:only-of-type {\n",
       "        vertical-align: middle;\n",
       "    }\n",
       "\n",
       "    .dataframe tbody tr th {\n",
       "        vertical-align: top;\n",
       "    }\n",
       "\n",
       "    .dataframe thead th {\n",
       "        text-align: right;\n",
       "    }\n",
       "</style>\n",
       "<table border=\"1\" class=\"dataframe\">\n",
       "  <thead>\n",
       "    <tr style=\"text-align: right;\">\n",
       "      <th></th>\n",
       "      <th>a</th>\n",
       "      <th>b</th>\n",
       "      <th>c</th>\n",
       "      <th>d</th>\n",
       "      <th>e</th>\n",
       "      <th>uk</th>\n",
       "    </tr>\n",
       "  </thead>\n",
       "  <tbody>\n",
       "    <tr>\n",
       "      <th>0</th>\n",
       "      <td>0</td>\n",
       "      <td>2</td>\n",
       "      <td>3</td>\n",
       "      <td>0</td>\n",
       "      <td>0</td>\n",
       "      <td>0</td>\n",
       "    </tr>\n",
       "    <tr>\n",
       "      <th>1</th>\n",
       "      <td>0</td>\n",
       "      <td>1</td>\n",
       "      <td>2</td>\n",
       "      <td>2</td>\n",
       "      <td>0</td>\n",
       "      <td>0</td>\n",
       "    </tr>\n",
       "    <tr>\n",
       "      <th>2</th>\n",
       "      <td>1</td>\n",
       "      <td>1</td>\n",
       "      <td>1</td>\n",
       "      <td>2</td>\n",
       "      <td>0</td>\n",
       "      <td>0</td>\n",
       "    </tr>\n",
       "    <tr>\n",
       "      <th>3</th>\n",
       "      <td>3</td>\n",
       "      <td>0</td>\n",
       "      <td>2</td>\n",
       "      <td>0</td>\n",
       "      <td>0</td>\n",
       "      <td>0</td>\n",
       "    </tr>\n",
       "    <tr>\n",
       "      <th>4</th>\n",
       "      <td>2</td>\n",
       "      <td>1</td>\n",
       "      <td>0</td>\n",
       "      <td>2</td>\n",
       "      <td>0</td>\n",
       "      <td>0</td>\n",
       "    </tr>\n",
       "    <tr>\n",
       "      <th>5</th>\n",
       "      <td>1</td>\n",
       "      <td>0</td>\n",
       "      <td>0</td>\n",
       "      <td>1</td>\n",
       "      <td>3</td>\n",
       "      <td>0</td>\n",
       "    </tr>\n",
       "    <tr>\n",
       "      <th>6</th>\n",
       "      <td>0</td>\n",
       "      <td>1</td>\n",
       "      <td>3</td>\n",
       "      <td>1</td>\n",
       "      <td>0</td>\n",
       "      <td>0</td>\n",
       "    </tr>\n",
       "    <tr>\n",
       "      <th>7</th>\n",
       "      <td>0</td>\n",
       "      <td>0</td>\n",
       "      <td>1</td>\n",
       "      <td>4</td>\n",
       "      <td>0</td>\n",
       "      <td>0</td>\n",
       "    </tr>\n",
       "    <tr>\n",
       "      <th>8</th>\n",
       "      <td>0</td>\n",
       "      <td>0</td>\n",
       "      <td>0</td>\n",
       "      <td>4</td>\n",
       "      <td>1</td>\n",
       "      <td>0</td>\n",
       "    </tr>\n",
       "    <tr>\n",
       "      <th>9</th>\n",
       "      <td>0</td>\n",
       "      <td>0</td>\n",
       "      <td>5</td>\n",
       "      <td>0</td>\n",
       "      <td>0</td>\n",
       "      <td>0</td>\n",
       "    </tr>\n",
       "    <tr>\n",
       "      <th>10</th>\n",
       "      <td>0</td>\n",
       "      <td>0</td>\n",
       "      <td>1</td>\n",
       "      <td>4</td>\n",
       "      <td>0</td>\n",
       "      <td>0</td>\n",
       "    </tr>\n",
       "    <tr>\n",
       "      <th>11</th>\n",
       "      <td>0</td>\n",
       "      <td>3</td>\n",
       "      <td>2</td>\n",
       "      <td>0</td>\n",
       "      <td>0</td>\n",
       "      <td>0</td>\n",
       "    </tr>\n",
       "    <tr>\n",
       "      <th>12</th>\n",
       "      <td>3</td>\n",
       "      <td>1</td>\n",
       "      <td>0</td>\n",
       "      <td>1</td>\n",
       "      <td>0</td>\n",
       "      <td>0</td>\n",
       "    </tr>\n",
       "    <tr>\n",
       "      <th>13</th>\n",
       "      <td>0</td>\n",
       "      <td>0</td>\n",
       "      <td>0</td>\n",
       "      <td>1</td>\n",
       "      <td>4</td>\n",
       "      <td>0</td>\n",
       "    </tr>\n",
       "    <tr>\n",
       "      <th>14</th>\n",
       "      <td>0</td>\n",
       "      <td>4</td>\n",
       "      <td>1</td>\n",
       "      <td>0</td>\n",
       "      <td>0</td>\n",
       "      <td>0</td>\n",
       "    </tr>\n",
       "    <tr>\n",
       "      <th>15</th>\n",
       "      <td>0</td>\n",
       "      <td>0</td>\n",
       "      <td>4</td>\n",
       "      <td>1</td>\n",
       "      <td>0</td>\n",
       "      <td>0</td>\n",
       "    </tr>\n",
       "    <tr>\n",
       "      <th>16</th>\n",
       "      <td>0</td>\n",
       "      <td>3</td>\n",
       "      <td>2</td>\n",
       "      <td>0</td>\n",
       "      <td>0</td>\n",
       "      <td>0</td>\n",
       "    </tr>\n",
       "    <tr>\n",
       "      <th>17</th>\n",
       "      <td>0</td>\n",
       "      <td>3</td>\n",
       "      <td>2</td>\n",
       "      <td>0</td>\n",
       "      <td>0</td>\n",
       "      <td>0</td>\n",
       "    </tr>\n",
       "    <tr>\n",
       "      <th>18</th>\n",
       "      <td>0</td>\n",
       "      <td>0</td>\n",
       "      <td>3</td>\n",
       "      <td>2</td>\n",
       "      <td>0</td>\n",
       "      <td>0</td>\n",
       "    </tr>\n",
       "    <tr>\n",
       "      <th>19</th>\n",
       "      <td>0</td>\n",
       "      <td>1</td>\n",
       "      <td>1</td>\n",
       "      <td>3</td>\n",
       "      <td>0</td>\n",
       "      <td>0</td>\n",
       "    </tr>\n",
       "  </tbody>\n",
       "</table>\n",
       "</div>"
      ],
      "text/plain": [
       "    a  b  c  d  e  uk\n",
       "0   0  2  3  0  0   0\n",
       "1   0  1  2  2  0   0\n",
       "2   1  1  1  2  0   0\n",
       "3   3  0  2  0  0   0\n",
       "4   2  1  0  2  0   0\n",
       "5   1  0  0  1  3   0\n",
       "6   0  1  3  1  0   0\n",
       "7   0  0  1  4  0   0\n",
       "8   0  0  0  4  1   0\n",
       "9   0  0  5  0  0   0\n",
       "10  0  0  1  4  0   0\n",
       "11  0  3  2  0  0   0\n",
       "12  3  1  0  1  0   0\n",
       "13  0  0  0  1  4   0\n",
       "14  0  4  1  0  0   0\n",
       "15  0  0  4  1  0   0\n",
       "16  0  3  2  0  0   0\n",
       "17  0  3  2  0  0   0\n",
       "18  0  0  3  2  0   0\n",
       "19  0  1  1  3  0   0"
      ]
     },
     "execution_count": 145,
     "metadata": {},
     "output_type": "execute_result"
    }
   ],
   "source": [
    "kappa_data_effectiveness"
   ]
  },
  {
   "cell_type": "code",
   "execution_count": 139,
   "metadata": {},
   "outputs": [
    {
     "data": {
      "text/plain": [
       "0.64"
      ]
     },
     "execution_count": 139,
     "metadata": {},
     "output_type": "execute_result"
    }
   ],
   "source": [
    "acc = sum(mturk_results['effectiveness'] == mturk_results['effectiveness_true']) / mturk_results.shape[0]\n",
    "acc"
   ]
  },
  {
   "cell_type": "code",
   "execution_count": null,
   "metadata": {},
   "outputs": [],
   "source": []
  },
  {
   "cell_type": "code",
   "execution_count": null,
   "metadata": {},
   "outputs": [],
   "source": []
  },
  {
   "cell_type": "code",
   "execution_count": null,
   "metadata": {},
   "outputs": [],
   "source": []
  },
  {
   "cell_type": "code",
   "execution_count": 148,
   "metadata": {},
   "outputs": [
    {
     "name": "stderr",
     "output_type": "stream",
     "text": [
      "/var/folders/d5/5prsm7lx46zd_rbpq02ct2m80000gn/T/ipykernel_26895/39352988.py:2: FutureWarning: The provided callable <function sum at 0x106880c10> is currently using SeriesGroupBy.sum. In a future version of pandas, the provided callable will be used directly. To keep current behavior pass the string \"sum\" instead.\n",
      "  agg_data = mturk_results.groupby('ads_id').agg({'atypical': np.sum, 'overall': np.mean, 'pc': np.sum, 'effectiveness_correct': np.sum})\n",
      "/var/folders/d5/5prsm7lx46zd_rbpq02ct2m80000gn/T/ipykernel_26895/39352988.py:2: FutureWarning: The provided callable <function mean at 0x106884b80> is currently using SeriesGroupBy.mean. In a future version of pandas, the provided callable will be used directly. To keep current behavior pass the string \"mean\" instead.\n",
      "  agg_data = mturk_results.groupby('ads_id').agg({'atypical': np.sum, 'overall': np.mean, 'pc': np.sum, 'effectiveness_correct': np.sum})\n",
      "/var/folders/d5/5prsm7lx46zd_rbpq02ct2m80000gn/T/ipykernel_26895/39352988.py:2: FutureWarning: The provided callable <function sum at 0x106880c10> is currently using SeriesGroupBy.sum. In a future version of pandas, the provided callable will be used directly. To keep current behavior pass the string \"sum\" instead.\n",
      "  agg_data = mturk_results.groupby('ads_id').agg({'atypical': np.sum, 'overall': np.mean, 'pc': np.sum, 'effectiveness_correct': np.sum})\n"
     ]
    },
    {
     "data": {
      "text/html": [
       "<div>\n",
       "<style scoped>\n",
       "    .dataframe tbody tr th:only-of-type {\n",
       "        vertical-align: middle;\n",
       "    }\n",
       "\n",
       "    .dataframe tbody tr th {\n",
       "        vertical-align: top;\n",
       "    }\n",
       "\n",
       "    .dataframe thead th {\n",
       "        text-align: right;\n",
       "    }\n",
       "</style>\n",
       "<table border=\"1\" class=\"dataframe\">\n",
       "  <thead>\n",
       "    <tr style=\"text-align: right;\">\n",
       "      <th></th>\n",
       "      <th>atypical</th>\n",
       "      <th>overall</th>\n",
       "      <th>pc</th>\n",
       "      <th>effectiveness_correct</th>\n",
       "    </tr>\n",
       "    <tr>\n",
       "      <th>ads_id</th>\n",
       "      <th></th>\n",
       "      <th></th>\n",
       "      <th></th>\n",
       "      <th></th>\n",
       "    </tr>\n",
       "  </thead>\n",
       "  <tbody>\n",
       "    <tr>\n",
       "      <th>0/102380.jpg</th>\n",
       "      <td>4</td>\n",
       "      <td>4.0</td>\n",
       "      <td>2</td>\n",
       "      <td>3</td>\n",
       "    </tr>\n",
       "    <tr>\n",
       "      <th>0/103300.jpg</th>\n",
       "      <td>3</td>\n",
       "      <td>3.2</td>\n",
       "      <td>2</td>\n",
       "      <td>2</td>\n",
       "    </tr>\n",
       "  </tbody>\n",
       "</table>\n",
       "</div>"
      ],
      "text/plain": [
       "              atypical  overall  pc  effectiveness_correct\n",
       "ads_id                                                    \n",
       "0/102380.jpg         4      4.0   2                      3\n",
       "0/103300.jpg         3      3.2   2                      2"
      ]
     },
     "execution_count": 148,
     "metadata": {},
     "output_type": "execute_result"
    }
   ],
   "source": [
    "mturk_results['effectiveness_correct'] = mturk_results['effectiveness'] == mturk_results['effectiveness_true']\n",
    "agg_data = mturk_results.groupby('ads_id').agg({'atypical': np.sum, 'overall': np.mean, 'pc': np.sum, 'effectiveness_correct': np.sum})\n",
    "agg_data.head(2)"
   ]
  },
  {
   "cell_type": "code",
   "execution_count": 149,
   "metadata": {},
   "outputs": [
    {
     "name": "stdout",
     "output_type": "stream",
     "text": [
      "atypical overall r: 0.438 p: 0.053\n",
      "atypical pc r: 0.187 p: 0.429\n",
      "atypical effectiveness_correct r: -0.329 p: 0.157\n",
      "overall pc r: 0.263 p: 0.263\n",
      "overall effectiveness_correct r: -0.06 p: 0.802\n",
      "pc effectiveness_correct r: 0.24 p: 0.308\n"
     ]
    }
   ],
   "source": [
    "# check correlation\n",
    "from scipy import stats\n",
    "\n",
    "all_corr_results = {}\n",
    "for col_1 in agg_data.columns:\n",
    "    for col_2 in agg_data.columns:\n",
    "        if col_1 == col_2 or (col_2, col_1) in all_corr_results:\n",
    "            continue\n",
    "        corr_result = stats.pearsonr(agg_data[col_1].values, agg_data[col_2].values)\n",
    "        all_corr_results[(col_1, col_2)] = corr_result\n",
    "\n",
    "for pair in all_corr_results:\n",
    "    print(pair[0], pair[1], 'r:', round(all_corr_results[pair].statistic, 3), 'p:', round(all_corr_results[pair].pvalue, 3))"
   ]
  },
  {
   "cell_type": "code",
   "execution_count": null,
   "metadata": {},
   "outputs": [],
   "source": []
  },
  {
   "cell_type": "markdown",
   "metadata": {},
   "source": [
    "## 3.4 Agreement - V2"
   ]
  },
  {
   "cell_type": "markdown",
   "metadata": {},
   "source": [
    "### 3.4.0 Validity (correctness of \"effectiveness\" question)"
   ]
  },
  {
   "cell_type": "code",
   "execution_count": 253,
   "metadata": {},
   "outputs": [
    {
     "data": {
      "text/plain": [
       "(98, 88)"
      ]
     },
     "execution_count": 253,
     "metadata": {},
     "output_type": "execute_result"
    }
   ],
   "source": [
    "# # mturk_groundtruth = pd.read_csv(mturk_data_dir + 'subset_0.3/mturk_groundtruth.0.3.csv')\n",
    "# # mturk_groundtruth['valid'] = True\n",
    "# mturk_data = pd.read_csv(mturk_data_dir + 'subset_0.5/mturk_raw_results.0.5.csv')\n",
    "# mturk_data.shape #, mturk_groundtruth.shape"
   ]
  },
  {
   "cell_type": "code",
   "execution_count": 35,
   "metadata": {},
   "outputs": [
    {
     "data": {
      "text/plain": [
       "37"
      ]
     },
     "execution_count": 35,
     "metadata": {},
     "output_type": "execute_result"
    }
   ],
   "source": [
    "mturk_raw_data.WorkerId.nunique()"
   ]
  },
  {
   "cell_type": "code",
   "execution_count": 43,
   "metadata": {},
   "outputs": [],
   "source": [
    "# def mturk_accumulate_annotation(raw_mturk_data, column, meta_columns = ['Input.ads_id', 'WorkerId']):\n",
    "#     related_columns = meta_columns + [col for col in mturk_data.columns if 'Answer.' + column in col]\n",
    "#     data_copy = copy.deepcopy(raw_mturk_data[related_columns])\n",
    "    \n",
    "#     ## conversion\n",
    "#     data_copy[column + '_agree'] = (sum([data_copy[col] for col in related_columns if 'agree' in col]))\n",
    "#     # data_copy[column + '_agree'] = (sum([data_copy[col] for col in related_columns if 'agree' in col])).apply(lambda x: x if x <= 1 else 2) # convert [0, 1, 2, 3] to [0, 1, 2]\n",
    "#     # data_copy[column + '_agree'] = (sum([data_copy[col] for col in related_columns if 'agree' in col])).apply(lambda x: 0 if x == 0 else 1) # convert [0, 1, 2, 3] to [0, 1, 2]\n",
    "    \n",
    "    \n",
    "#     data_copy = data_copy[meta_columns + [column + '_agree']]\n",
    "#     return data_copy\n",
    "\n",
    "# def mturk_accumulate_all(raw_mturk_data, columns = ['pc', 'atypicality', 'artistic'], meta_columns = ['Input.ads_id', 'WorkerId']):\n",
    "#     tmp_df = raw_mturk_data[meta_columns]\n",
    "#     for col in columns:\n",
    "#         tmp_df = tmp_df.merge(mturk_accumulate_annotation(raw_mturk_data, col, meta_columns))\n",
    "#     return tmp_df\n",
    "\n",
    "# def mturk_validation(raw_mturk_data, raw_mturk_groundtruth, columns = ['pc', 'atypicality', 'artistic', 'effectiveness'], effective_only = False):\n",
    "#     # effectiveness\n",
    "#     effectiveness_correct = raw_mturk_data.apply(lambda x: x['Answer.effectiveness.' + x['Input.action_correct']], axis = 1)\n",
    "#     raw_mturk_data['effectiveness_valid'] = effectiveness_correct\n",
    "#     effectiveness_acc = sum(effectiveness_correct.values) / raw_mturk_data.shape[0]\n",
    "#     effectiveness_correct_dict = dict(zip(raw_mturk_data['WorkerId'].values, effectiveness_correct.values))\n",
    "    \n",
    "#     print('effectiveness accuracy:', effectiveness_acc)\n",
    "#     print('correct prediction {} (out of {})'.format(sum(effectiveness_correct.values), raw_mturk_data.shape[0]))\n",
    "#     if effective_only:\n",
    "#         return raw_mturk_data\n",
    "        \n",
    "#     # other columns\n",
    "#     accumulated_data = mturk_accumulate_all(raw_mturk_data)\n",
    "#     accumulated_groundtruth = mturk_accumulate_all(raw_mturk_groundtruth, meta_columns = ['Input.ads_id'])\n",
    "#     accumulated_groundtruth.index = accumulated_groundtruth['Input.ads_id']\n",
    "#     for col in accumulated_data.columns:\n",
    "#         if '_agree' not in col: continue \n",
    "#         accumulated_data[col] = accumulated_data.apply(lambda row: abs(row[col] - accumulated_groundtruth[col][row['Input.ads_id']]) <= 1, axis = 1)\n",
    "    \n",
    "    \n",
    "#     # append to data\n",
    "#     accumulated_data['other_valid'] = sum([accumulated_data[col] for col in accumulated_data.columns if '_agree' in col])\n",
    "#     # accumulated_data['other_valid'] = accumulated_data['other_valid'].apply(lambda x: x >= 3)\n",
    "#     accumulated_data['effectiveness_valid'] = accumulated_data.WorkerId.apply(lambda x: effectiveness_correct_dict[x])\n",
    "\n",
    "#     # accumulated_data['overall_valid'] = accumulated_data.apply(lambda row: row.other_valid and row.effectiveness_valid, axis = 1)\n",
    "#     return accumulated_data"
   ]
  },
  {
   "cell_type": "code",
   "execution_count": 42,
   "metadata": {},
   "outputs": [],
   "source": [
    "# mturk_groundtruth = None\n",
    "# accumulated_data = mturk_validation(mturk_data, mturk_groundtruth)"
   ]
  },
  {
   "cell_type": "code",
   "execution_count": 39,
   "metadata": {},
   "outputs": [
    {
     "data": {
      "text/html": [
       "<div>\n",
       "<style scoped>\n",
       "    .dataframe tbody tr th:only-of-type {\n",
       "        vertical-align: middle;\n",
       "    }\n",
       "\n",
       "    .dataframe tbody tr th {\n",
       "        vertical-align: top;\n",
       "    }\n",
       "\n",
       "    .dataframe thead th {\n",
       "        text-align: right;\n",
       "    }\n",
       "</style>\n",
       "<table border=\"1\" class=\"dataframe\">\n",
       "  <thead>\n",
       "    <tr style=\"text-align: right;\">\n",
       "      <th></th>\n",
       "      <th>HITId</th>\n",
       "      <th>HITTypeId</th>\n",
       "      <th>Title</th>\n",
       "      <th>Description</th>\n",
       "      <th>Keywords</th>\n",
       "      <th>Reward</th>\n",
       "      <th>CreationTime</th>\n",
       "      <th>MaxAssignments</th>\n",
       "      <th>RequesterAnnotation</th>\n",
       "      <th>AssignmentDurationInSeconds</th>\n",
       "      <th>...</th>\n",
       "      <th>Answer.gender.not_say</th>\n",
       "      <th>Answer.growing_up</th>\n",
       "      <th>Answer.race.american_indian</th>\n",
       "      <th>Answer.race.asian</th>\n",
       "      <th>Answer.race.black</th>\n",
       "      <th>Answer.race.hawaiian</th>\n",
       "      <th>Answer.race.not_say</th>\n",
       "      <th>Answer.race.other_race</th>\n",
       "      <th>Answer.race.white</th>\n",
       "      <th>demo_age</th>\n",
       "    </tr>\n",
       "  </thead>\n",
       "  <tbody>\n",
       "    <tr>\n",
       "      <th>0</th>\n",
       "      <td>3WPCIUYH2TO9QZ7Q8U6GCEOMIHRTDG</td>\n",
       "      <td>3Z53LF8QZYO9RUSU66CXVKJUIBFFCR</td>\n",
       "      <td>Is this advertisement creative?</td>\n",
       "      <td>Rate the level of creativity of a given ad ima...</td>\n",
       "      <td>survey, creativity, advertisement</td>\n",
       "      <td>$0.24</td>\n",
       "      <td>Wed May 15 12:23:40 PDT 2024</td>\n",
       "      <td>20</td>\n",
       "      <td>BatchId:5222481;OriginalHitTemplateId:928390912;</td>\n",
       "      <td>3600</td>\n",
       "      <td>...</td>\n",
       "      <td>NaN</td>\n",
       "      <td>NaN</td>\n",
       "      <td>NaN</td>\n",
       "      <td>NaN</td>\n",
       "      <td>NaN</td>\n",
       "      <td>NaN</td>\n",
       "      <td>NaN</td>\n",
       "      <td>NaN</td>\n",
       "      <td>NaN</td>\n",
       "      <td>35~44</td>\n",
       "    </tr>\n",
       "    <tr>\n",
       "      <th>1</th>\n",
       "      <td>3WPCIUYH2TO9QZ7Q8U6GCEOMIHRTDG</td>\n",
       "      <td>3Z53LF8QZYO9RUSU66CXVKJUIBFFCR</td>\n",
       "      <td>Is this advertisement creative?</td>\n",
       "      <td>Rate the level of creativity of a given ad ima...</td>\n",
       "      <td>survey, creativity, advertisement</td>\n",
       "      <td>$0.24</td>\n",
       "      <td>Wed May 15 12:23:40 PDT 2024</td>\n",
       "      <td>20</td>\n",
       "      <td>BatchId:5222481;OriginalHitTemplateId:928390912;</td>\n",
       "      <td>3600</td>\n",
       "      <td>...</td>\n",
       "      <td>NaN</td>\n",
       "      <td>NaN</td>\n",
       "      <td>NaN</td>\n",
       "      <td>NaN</td>\n",
       "      <td>NaN</td>\n",
       "      <td>NaN</td>\n",
       "      <td>NaN</td>\n",
       "      <td>NaN</td>\n",
       "      <td>NaN</td>\n",
       "      <td>35~44</td>\n",
       "    </tr>\n",
       "    <tr>\n",
       "      <th>2</th>\n",
       "      <td>3WPCIUYH2TO9QZ7Q8U6GCEOMIHRTDG</td>\n",
       "      <td>3Z53LF8QZYO9RUSU66CXVKJUIBFFCR</td>\n",
       "      <td>Is this advertisement creative?</td>\n",
       "      <td>Rate the level of creativity of a given ad ima...</td>\n",
       "      <td>survey, creativity, advertisement</td>\n",
       "      <td>$0.24</td>\n",
       "      <td>Wed May 15 12:23:40 PDT 2024</td>\n",
       "      <td>20</td>\n",
       "      <td>BatchId:5222481;OriginalHitTemplateId:928390912;</td>\n",
       "      <td>3600</td>\n",
       "      <td>...</td>\n",
       "      <td>NaN</td>\n",
       "      <td>NaN</td>\n",
       "      <td>NaN</td>\n",
       "      <td>NaN</td>\n",
       "      <td>NaN</td>\n",
       "      <td>NaN</td>\n",
       "      <td>NaN</td>\n",
       "      <td>NaN</td>\n",
       "      <td>NaN</td>\n",
       "      <td>45~54</td>\n",
       "    </tr>\n",
       "    <tr>\n",
       "      <th>3</th>\n",
       "      <td>3WPCIUYH2TO9QZ7Q8U6GCEOMIHRTDG</td>\n",
       "      <td>3Z53LF8QZYO9RUSU66CXVKJUIBFFCR</td>\n",
       "      <td>Is this advertisement creative?</td>\n",
       "      <td>Rate the level of creativity of a given ad ima...</td>\n",
       "      <td>survey, creativity, advertisement</td>\n",
       "      <td>$0.24</td>\n",
       "      <td>Wed May 15 12:23:40 PDT 2024</td>\n",
       "      <td>20</td>\n",
       "      <td>BatchId:5222481;OriginalHitTemplateId:928390912;</td>\n",
       "      <td>3600</td>\n",
       "      <td>...</td>\n",
       "      <td>NaN</td>\n",
       "      <td>NaN</td>\n",
       "      <td>NaN</td>\n",
       "      <td>NaN</td>\n",
       "      <td>NaN</td>\n",
       "      <td>NaN</td>\n",
       "      <td>NaN</td>\n",
       "      <td>NaN</td>\n",
       "      <td>NaN</td>\n",
       "      <td>45~54</td>\n",
       "    </tr>\n",
       "    <tr>\n",
       "      <th>4</th>\n",
       "      <td>3WPCIUYH2TO9QZ7Q8U6GCEOMIHRTDG</td>\n",
       "      <td>3Z53LF8QZYO9RUSU66CXVKJUIBFFCR</td>\n",
       "      <td>Is this advertisement creative?</td>\n",
       "      <td>Rate the level of creativity of a given ad ima...</td>\n",
       "      <td>survey, creativity, advertisement</td>\n",
       "      <td>$0.24</td>\n",
       "      <td>Wed May 15 12:23:40 PDT 2024</td>\n",
       "      <td>20</td>\n",
       "      <td>BatchId:5222481;OriginalHitTemplateId:928390912;</td>\n",
       "      <td>3600</td>\n",
       "      <td>...</td>\n",
       "      <td>NaN</td>\n",
       "      <td>NaN</td>\n",
       "      <td>NaN</td>\n",
       "      <td>NaN</td>\n",
       "      <td>NaN</td>\n",
       "      <td>NaN</td>\n",
       "      <td>NaN</td>\n",
       "      <td>NaN</td>\n",
       "      <td>NaN</td>\n",
       "      <td>35~44</td>\n",
       "    </tr>\n",
       "    <tr>\n",
       "      <th>...</th>\n",
       "      <td>...</td>\n",
       "      <td>...</td>\n",
       "      <td>...</td>\n",
       "      <td>...</td>\n",
       "      <td>...</td>\n",
       "      <td>...</td>\n",
       "      <td>...</td>\n",
       "      <td>...</td>\n",
       "      <td>...</td>\n",
       "      <td>...</td>\n",
       "      <td>...</td>\n",
       "      <td>...</td>\n",
       "      <td>...</td>\n",
       "      <td>...</td>\n",
       "      <td>...</td>\n",
       "      <td>...</td>\n",
       "      <td>...</td>\n",
       "      <td>...</td>\n",
       "      <td>...</td>\n",
       "      <td>...</td>\n",
       "      <td>...</td>\n",
       "    </tr>\n",
       "    <tr>\n",
       "      <th>1103</th>\n",
       "      <td>3LOJFQ4BPGVANGH3ELSOBN1Q3H2KDX</td>\n",
       "      <td>3MFWWXCWBLOD81ZJ5D9T1E6HQEFC6T</td>\n",
       "      <td>Is this advertisement creative?</td>\n",
       "      <td>Rate the level of creativity of a given ad ima...</td>\n",
       "      <td>survey, creativity, advertisement</td>\n",
       "      <td>$0.40</td>\n",
       "      <td>Tue Oct 22 11:35:12 PDT 2024</td>\n",
       "      <td>25</td>\n",
       "      <td>BatchId:5263776;OriginalHitTemplateId:928390912;</td>\n",
       "      <td>3600</td>\n",
       "      <td>...</td>\n",
       "      <td>False</td>\n",
       "      <td>Canada</td>\n",
       "      <td>False</td>\n",
       "      <td>False</td>\n",
       "      <td>False</td>\n",
       "      <td>False</td>\n",
       "      <td>False</td>\n",
       "      <td>True</td>\n",
       "      <td>False</td>\n",
       "      <td>35~44</td>\n",
       "    </tr>\n",
       "    <tr>\n",
       "      <th>1104</th>\n",
       "      <td>3LOJFQ4BPGVANGH3ELSOBN1Q3H2KDX</td>\n",
       "      <td>3MFWWXCWBLOD81ZJ5D9T1E6HQEFC6T</td>\n",
       "      <td>Is this advertisement creative?</td>\n",
       "      <td>Rate the level of creativity of a given ad ima...</td>\n",
       "      <td>survey, creativity, advertisement</td>\n",
       "      <td>$0.40</td>\n",
       "      <td>Tue Oct 22 11:35:12 PDT 2024</td>\n",
       "      <td>25</td>\n",
       "      <td>BatchId:5263776;OriginalHitTemplateId:928390912;</td>\n",
       "      <td>3600</td>\n",
       "      <td>...</td>\n",
       "      <td>False</td>\n",
       "      <td>USA</td>\n",
       "      <td>False</td>\n",
       "      <td>False</td>\n",
       "      <td>False</td>\n",
       "      <td>False</td>\n",
       "      <td>False</td>\n",
       "      <td>False</td>\n",
       "      <td>True</td>\n",
       "      <td>Above 65</td>\n",
       "    </tr>\n",
       "    <tr>\n",
       "      <th>1105</th>\n",
       "      <td>3LOJFQ4BPGVANGH3ELSOBN1Q3H2KDX</td>\n",
       "      <td>3MFWWXCWBLOD81ZJ5D9T1E6HQEFC6T</td>\n",
       "      <td>Is this advertisement creative?</td>\n",
       "      <td>Rate the level of creativity of a given ad ima...</td>\n",
       "      <td>survey, creativity, advertisement</td>\n",
       "      <td>$0.40</td>\n",
       "      <td>Tue Oct 22 11:35:12 PDT 2024</td>\n",
       "      <td>25</td>\n",
       "      <td>BatchId:5263776;OriginalHitTemplateId:928390912;</td>\n",
       "      <td>3600</td>\n",
       "      <td>...</td>\n",
       "      <td>False</td>\n",
       "      <td>NaN</td>\n",
       "      <td>False</td>\n",
       "      <td>False</td>\n",
       "      <td>False</td>\n",
       "      <td>False</td>\n",
       "      <td>False</td>\n",
       "      <td>False</td>\n",
       "      <td>False</td>\n",
       "      <td>NaN</td>\n",
       "    </tr>\n",
       "    <tr>\n",
       "      <th>1106</th>\n",
       "      <td>3LOJFQ4BPGVANGH3ELSOBN1Q3H2KDX</td>\n",
       "      <td>3MFWWXCWBLOD81ZJ5D9T1E6HQEFC6T</td>\n",
       "      <td>Is this advertisement creative?</td>\n",
       "      <td>Rate the level of creativity of a given ad ima...</td>\n",
       "      <td>survey, creativity, advertisement</td>\n",
       "      <td>$0.40</td>\n",
       "      <td>Tue Oct 22 11:35:12 PDT 2024</td>\n",
       "      <td>25</td>\n",
       "      <td>BatchId:5263776;OriginalHitTemplateId:928390912;</td>\n",
       "      <td>3600</td>\n",
       "      <td>...</td>\n",
       "      <td>False</td>\n",
       "      <td>NaN</td>\n",
       "      <td>False</td>\n",
       "      <td>False</td>\n",
       "      <td>False</td>\n",
       "      <td>False</td>\n",
       "      <td>False</td>\n",
       "      <td>False</td>\n",
       "      <td>False</td>\n",
       "      <td>NaN</td>\n",
       "    </tr>\n",
       "    <tr>\n",
       "      <th>1107</th>\n",
       "      <td>3LOJFQ4BPGVANGH3ELSOBN1Q3H2KDX</td>\n",
       "      <td>3MFWWXCWBLOD81ZJ5D9T1E6HQEFC6T</td>\n",
       "      <td>Is this advertisement creative?</td>\n",
       "      <td>Rate the level of creativity of a given ad ima...</td>\n",
       "      <td>survey, creativity, advertisement</td>\n",
       "      <td>$0.40</td>\n",
       "      <td>Tue Oct 22 11:35:12 PDT 2024</td>\n",
       "      <td>25</td>\n",
       "      <td>BatchId:5263776;OriginalHitTemplateId:928390912;</td>\n",
       "      <td>3600</td>\n",
       "      <td>...</td>\n",
       "      <td>False</td>\n",
       "      <td>NaN</td>\n",
       "      <td>False</td>\n",
       "      <td>False</td>\n",
       "      <td>False</td>\n",
       "      <td>False</td>\n",
       "      <td>False</td>\n",
       "      <td>False</td>\n",
       "      <td>False</td>\n",
       "      <td>NaN</td>\n",
       "    </tr>\n",
       "  </tbody>\n",
       "</table>\n",
       "<p>1108 rows × 106 columns</p>\n",
       "</div>"
      ],
      "text/plain": [
       "                               HITId                       HITTypeId  \\\n",
       "0     3WPCIUYH2TO9QZ7Q8U6GCEOMIHRTDG  3Z53LF8QZYO9RUSU66CXVKJUIBFFCR   \n",
       "1     3WPCIUYH2TO9QZ7Q8U6GCEOMIHRTDG  3Z53LF8QZYO9RUSU66CXVKJUIBFFCR   \n",
       "2     3WPCIUYH2TO9QZ7Q8U6GCEOMIHRTDG  3Z53LF8QZYO9RUSU66CXVKJUIBFFCR   \n",
       "3     3WPCIUYH2TO9QZ7Q8U6GCEOMIHRTDG  3Z53LF8QZYO9RUSU66CXVKJUIBFFCR   \n",
       "4     3WPCIUYH2TO9QZ7Q8U6GCEOMIHRTDG  3Z53LF8QZYO9RUSU66CXVKJUIBFFCR   \n",
       "...                              ...                             ...   \n",
       "1103  3LOJFQ4BPGVANGH3ELSOBN1Q3H2KDX  3MFWWXCWBLOD81ZJ5D9T1E6HQEFC6T   \n",
       "1104  3LOJFQ4BPGVANGH3ELSOBN1Q3H2KDX  3MFWWXCWBLOD81ZJ5D9T1E6HQEFC6T   \n",
       "1105  3LOJFQ4BPGVANGH3ELSOBN1Q3H2KDX  3MFWWXCWBLOD81ZJ5D9T1E6HQEFC6T   \n",
       "1106  3LOJFQ4BPGVANGH3ELSOBN1Q3H2KDX  3MFWWXCWBLOD81ZJ5D9T1E6HQEFC6T   \n",
       "1107  3LOJFQ4BPGVANGH3ELSOBN1Q3H2KDX  3MFWWXCWBLOD81ZJ5D9T1E6HQEFC6T   \n",
       "\n",
       "                                Title  \\\n",
       "0     Is this advertisement creative?   \n",
       "1     Is this advertisement creative?   \n",
       "2     Is this advertisement creative?   \n",
       "3     Is this advertisement creative?   \n",
       "4     Is this advertisement creative?   \n",
       "...                               ...   \n",
       "1103  Is this advertisement creative?   \n",
       "1104  Is this advertisement creative?   \n",
       "1105  Is this advertisement creative?   \n",
       "1106  Is this advertisement creative?   \n",
       "1107  Is this advertisement creative?   \n",
       "\n",
       "                                            Description  \\\n",
       "0     Rate the level of creativity of a given ad ima...   \n",
       "1     Rate the level of creativity of a given ad ima...   \n",
       "2     Rate the level of creativity of a given ad ima...   \n",
       "3     Rate the level of creativity of a given ad ima...   \n",
       "4     Rate the level of creativity of a given ad ima...   \n",
       "...                                                 ...   \n",
       "1103  Rate the level of creativity of a given ad ima...   \n",
       "1104  Rate the level of creativity of a given ad ima...   \n",
       "1105  Rate the level of creativity of a given ad ima...   \n",
       "1106  Rate the level of creativity of a given ad ima...   \n",
       "1107  Rate the level of creativity of a given ad ima...   \n",
       "\n",
       "                               Keywords Reward                  CreationTime  \\\n",
       "0     survey, creativity, advertisement  $0.24  Wed May 15 12:23:40 PDT 2024   \n",
       "1     survey, creativity, advertisement  $0.24  Wed May 15 12:23:40 PDT 2024   \n",
       "2     survey, creativity, advertisement  $0.24  Wed May 15 12:23:40 PDT 2024   \n",
       "3     survey, creativity, advertisement  $0.24  Wed May 15 12:23:40 PDT 2024   \n",
       "4     survey, creativity, advertisement  $0.24  Wed May 15 12:23:40 PDT 2024   \n",
       "...                                 ...    ...                           ...   \n",
       "1103  survey, creativity, advertisement  $0.40  Tue Oct 22 11:35:12 PDT 2024   \n",
       "1104  survey, creativity, advertisement  $0.40  Tue Oct 22 11:35:12 PDT 2024   \n",
       "1105  survey, creativity, advertisement  $0.40  Tue Oct 22 11:35:12 PDT 2024   \n",
       "1106  survey, creativity, advertisement  $0.40  Tue Oct 22 11:35:12 PDT 2024   \n",
       "1107  survey, creativity, advertisement  $0.40  Tue Oct 22 11:35:12 PDT 2024   \n",
       "\n",
       "      MaxAssignments                               RequesterAnnotation  \\\n",
       "0                 20  BatchId:5222481;OriginalHitTemplateId:928390912;   \n",
       "1                 20  BatchId:5222481;OriginalHitTemplateId:928390912;   \n",
       "2                 20  BatchId:5222481;OriginalHitTemplateId:928390912;   \n",
       "3                 20  BatchId:5222481;OriginalHitTemplateId:928390912;   \n",
       "4                 20  BatchId:5222481;OriginalHitTemplateId:928390912;   \n",
       "...              ...                                               ...   \n",
       "1103              25  BatchId:5263776;OriginalHitTemplateId:928390912;   \n",
       "1104              25  BatchId:5263776;OriginalHitTemplateId:928390912;   \n",
       "1105              25  BatchId:5263776;OriginalHitTemplateId:928390912;   \n",
       "1106              25  BatchId:5263776;OriginalHitTemplateId:928390912;   \n",
       "1107              25  BatchId:5263776;OriginalHitTemplateId:928390912;   \n",
       "\n",
       "      AssignmentDurationInSeconds  ...  Answer.gender.not_say  \\\n",
       "0                            3600  ...                    NaN   \n",
       "1                            3600  ...                    NaN   \n",
       "2                            3600  ...                    NaN   \n",
       "3                            3600  ...                    NaN   \n",
       "4                            3600  ...                    NaN   \n",
       "...                           ...  ...                    ...   \n",
       "1103                         3600  ...                  False   \n",
       "1104                         3600  ...                  False   \n",
       "1105                         3600  ...                  False   \n",
       "1106                         3600  ...                  False   \n",
       "1107                         3600  ...                  False   \n",
       "\n",
       "     Answer.growing_up  Answer.race.american_indian  Answer.race.asian  \\\n",
       "0                  NaN                          NaN                NaN   \n",
       "1                  NaN                          NaN                NaN   \n",
       "2                  NaN                          NaN                NaN   \n",
       "3                  NaN                          NaN                NaN   \n",
       "4                  NaN                          NaN                NaN   \n",
       "...                ...                          ...                ...   \n",
       "1103            Canada                        False              False   \n",
       "1104               USA                        False              False   \n",
       "1105               NaN                        False              False   \n",
       "1106               NaN                        False              False   \n",
       "1107               NaN                        False              False   \n",
       "\n",
       "     Answer.race.black Answer.race.hawaiian Answer.race.not_say  \\\n",
       "0                  NaN                  NaN                 NaN   \n",
       "1                  NaN                  NaN                 NaN   \n",
       "2                  NaN                  NaN                 NaN   \n",
       "3                  NaN                  NaN                 NaN   \n",
       "4                  NaN                  NaN                 NaN   \n",
       "...                ...                  ...                 ...   \n",
       "1103             False                False               False   \n",
       "1104             False                False               False   \n",
       "1105             False                False               False   \n",
       "1106             False                False               False   \n",
       "1107             False                False               False   \n",
       "\n",
       "     Answer.race.other_race Answer.race.white  demo_age  \n",
       "0                       NaN               NaN     35~44  \n",
       "1                       NaN               NaN     35~44  \n",
       "2                       NaN               NaN     45~54  \n",
       "3                       NaN               NaN     45~54  \n",
       "4                       NaN               NaN     35~44  \n",
       "...                     ...               ...       ...  \n",
       "1103                   True             False     35~44  \n",
       "1104                  False              True  Above 65  \n",
       "1105                  False             False       NaN  \n",
       "1106                  False             False       NaN  \n",
       "1107                  False             False       NaN  \n",
       "\n",
       "[1108 rows x 106 columns]"
      ]
     },
     "execution_count": 39,
     "metadata": {},
     "output_type": "execute_result"
    }
   ],
   "source": [
    "mturk_raw_data"
   ]
  },
  {
   "cell_type": "code",
   "execution_count": null,
   "metadata": {},
   "outputs": [],
   "source": []
  },
  {
   "cell_type": "code",
   "execution_count": 40,
   "metadata": {},
   "outputs": [
    {
     "ename": "NameError",
     "evalue": "name 'mturk_data' is not defined",
     "output_type": "error",
     "traceback": [
      "\u001b[0;31m---------------------------------------------------------------------------\u001b[0m",
      "\u001b[0;31mNameError\u001b[0m                                 Traceback (most recent call last)",
      "Cell \u001b[0;32mIn[40], line 1\u001b[0m\n\u001b[0;32m----> 1\u001b[0m accumulated_data \u001b[38;5;241m=\u001b[39m mturk_accumulate_all(\u001b[43mmturk_data\u001b[49m)\u001b[38;5;66;03m#, effective_only = True)\u001b[39;00m\n\u001b[1;32m      2\u001b[0m accumulated_data\n",
      "\u001b[0;31mNameError\u001b[0m: name 'mturk_data' is not defined"
     ]
    }
   ],
   "source": [
    "\n",
    "accumulated_data = mturk_accumulate_all(mturk_data)#, effective_only = True)\n",
    "accumulated_data"
   ]
  },
  {
   "cell_type": "code",
   "execution_count": 263,
   "metadata": {},
   "outputs": [],
   "source": [
    "# accumulated_data.groupby('Input.ads_id').agg('count')['WorkerId'] # ids_to_drop = [\"0/52390.jpg\", \"0/85300.jpg\"]"
   ]
  },
  {
   "cell_type": "code",
   "execution_count": 266,
   "metadata": {},
   "outputs": [
    {
     "data": {
      "text/plain": [
       "(90, 5)"
      ]
     },
     "execution_count": 266,
     "metadata": {},
     "output_type": "execute_result"
    }
   ],
   "source": [
    "# ids_to_drop = []\n",
    "ids_to_drop = [\"0/52390.jpg\", \"0/85300.jpg\"]\n",
    "accumulated_data = accumulated_data.loc[accumulated_data['Input.ads_id'].apply(lambda x: x not in ids_to_drop)].reset_index(drop=True)\n",
    "accumulated_data.shape"
   ]
  },
  {
   "cell_type": "code",
   "execution_count": 252,
   "metadata": {},
   "outputs": [],
   "source": [
    "# def find_accuracy(s):\n",
    "#     return str(round(sum(s) / len(s), 2)) + ', ' + str(sum(s))\n",
    "# accumulated_data[['WorkerId', 'effectiveness_valid']].groupby('WorkerId').agg(find_accuracy).sort_values('effectiveness_valid').to_csv(mturk_data_dir + 'subset_0.4/worker_effectiveness_validity.0.4.csv')"
   ]
  },
  {
   "cell_type": "code",
   "execution_count": null,
   "metadata": {},
   "outputs": [],
   "source": []
  },
  {
   "cell_type": "code",
   "execution_count": 268,
   "metadata": {},
   "outputs": [],
   "source": [
    "# accumulated_data.query('effectiveness_valid == True').WorkerId.nunique()"
   ]
  },
  {
   "cell_type": "code",
   "execution_count": 10,
   "metadata": {},
   "outputs": [
    {
     "data": {
      "text/plain": [
       "13"
      ]
     },
     "execution_count": 10,
     "metadata": {},
     "output_type": "execute_result"
    }
   ],
   "source": [
    "accumulated_data.query('other_valid == True').WorkerId.nunique()"
   ]
  },
  {
   "cell_type": "code",
   "execution_count": 11,
   "metadata": {},
   "outputs": [
    {
     "data": {
      "text/plain": [
       "72"
      ]
     },
     "execution_count": 11,
     "metadata": {},
     "output_type": "execute_result"
    }
   ],
   "source": [
    "accumulated_data.query('other_valid >= 2').WorkerId.nunique()"
   ]
  },
  {
   "cell_type": "code",
   "execution_count": 12,
   "metadata": {},
   "outputs": [
    {
     "data": {
      "text/plain": [
       "50"
      ]
     },
     "execution_count": 12,
     "metadata": {},
     "output_type": "execute_result"
    }
   ],
   "source": [
    "accumulated_data.query('other_valid >= 3').WorkerId.nunique()"
   ]
  },
  {
   "cell_type": "code",
   "execution_count": 45,
   "metadata": {},
   "outputs": [
    {
     "data": {
      "text/plain": [
       "29"
      ]
     },
     "execution_count": 45,
     "metadata": {},
     "output_type": "execute_result"
    }
   ],
   "source": [
    "accumulated_data.query('(other_valid >= 3) & (effectiveness_valid == True)').WorkerId.nunique()"
   ]
  },
  {
   "cell_type": "code",
   "execution_count": 14,
   "metadata": {},
   "outputs": [],
   "source": [
    "good_turker_id = accumulated_data.query('(other_valid >= 2) & (effectiveness_valid == True)').WorkerId.values"
   ]
  },
  {
   "cell_type": "code",
   "execution_count": 16,
   "metadata": {},
   "outputs": [],
   "source": [
    "# save good workers' id \n",
    "\n",
    "# accumulated_data.query('(other_valid >= 2) & (effectiveness_valid == True)')[['WorkerId']].to_csv(mturk_data_dir + 'subset_0.3/good_workers_id.0.3.1.csv', index = False)"
   ]
  },
  {
   "cell_type": "code",
   "execution_count": 21,
   "metadata": {},
   "outputs": [
    {
     "data": {
      "text/plain": [
       "(44, 18)"
      ]
     },
     "execution_count": 21,
     "metadata": {},
     "output_type": "execute_result"
    }
   ],
   "source": [
    "worker_df = pd.read_csv(mturk_data_dir + 'subset_0.3/User_2207121_workers copy.csv')\n",
    "worker_df = worker_df.loc[worker_df['Worker ID'].apply(lambda x: x in good_turker_id)]\n",
    "worker_df.shape"
   ]
  },
  {
   "cell_type": "code",
   "execution_count": 98,
   "metadata": {},
   "outputs": [],
   "source": [
    "# worker_df"
   ]
  },
  {
   "cell_type": "code",
   "execution_count": null,
   "metadata": {},
   "outputs": [],
   "source": []
  },
  {
   "cell_type": "code",
   "execution_count": 93,
   "metadata": {},
   "outputs": [
    {
     "data": {
      "text/plain": [
       "(181, 18)"
      ]
     },
     "execution_count": 93,
     "metadata": {},
     "output_type": "execute_result"
    }
   ],
   "source": [
    "worker_df = pd.read_csv(mturk_data_dir + 'subset_0.3/User_2207121_workers.csv')\n",
    "worker_df.shape"
   ]
  },
  {
   "cell_type": "code",
   "execution_count": 94,
   "metadata": {},
   "outputs": [
    {
     "data": {
      "text/plain": [
       "50"
      ]
     },
     "execution_count": 94,
     "metadata": {},
     "output_type": "execute_result"
    }
   ],
   "source": [
    "qualified_workers = accumulated_data.query('(other_valid >= 2) & (effectiveness_valid == True)')['WorkerId'].values\n",
    "len(qualified_workers)"
   ]
  },
  {
   "cell_type": "code",
   "execution_count": 80,
   "metadata": {},
   "outputs": [],
   "source": [
    "worker_df['UPDATE-Ads Creativity - v2'] = worker_df['Worker ID'].apply(lambda x: 90 if x in qualified_workers else 0)\n",
    "worker_df.to_csv(mturk_data_dir + 'subset_0.3/User_2207121_workers_updated.csv', index = False)"
   ]
  },
  {
   "cell_type": "code",
   "execution_count": 81,
   "metadata": {},
   "outputs": [
    {
     "data": {
      "text/html": [
       "<div>\n",
       "<style scoped>\n",
       "    .dataframe tbody tr th:only-of-type {\n",
       "        vertical-align: middle;\n",
       "    }\n",
       "\n",
       "    .dataframe tbody tr th {\n",
       "        vertical-align: top;\n",
       "    }\n",
       "\n",
       "    .dataframe thead th {\n",
       "        text-align: right;\n",
       "    }\n",
       "</style>\n",
       "<table border=\"1\" class=\"dataframe\">\n",
       "  <thead>\n",
       "    <tr style=\"text-align: right;\">\n",
       "      <th></th>\n",
       "      <th>Worker ID</th>\n",
       "      <th>Link to Individual Worker Page</th>\n",
       "      <th>Number of HITs approved or rejected - Lifetime</th>\n",
       "      <th>Number of HITs approved - Lifetime</th>\n",
       "      <th>Your Lifetime approval rate</th>\n",
       "      <th>Number of HITs approved or rejected - Last 30 days</th>\n",
       "      <th>Number of HITs approved - Last 30 days</th>\n",
       "      <th>Your Last 30 days approval rate</th>\n",
       "      <th>Number of HITs approved or rejected - Last 7 days</th>\n",
       "      <th>Number of HITs approved - Last 7 days</th>\n",
       "      <th>Your Last 7 days approval rate</th>\n",
       "      <th>CURRENT-Ads Creativity - v2</th>\n",
       "      <th>UPDATE-Ads Creativity - v2</th>\n",
       "      <th>CURRENT-Ads Creativity - Good</th>\n",
       "      <th>UPDATE-Ads Creativity - Good</th>\n",
       "      <th>CURRENT BlockStatus</th>\n",
       "      <th>UPDATE BlockStatus</th>\n",
       "      <th>BlockReason</th>\n",
       "    </tr>\n",
       "  </thead>\n",
       "  <tbody>\n",
       "    <tr>\n",
       "      <th>0</th>\n",
       "      <td>A101LLRXLKADXL</td>\n",
       "      <td>https://gamma-requester.mturk.com/workers/A101...</td>\n",
       "      <td>0</td>\n",
       "      <td>0</td>\n",
       "      <td>0.00%</td>\n",
       "      <td>0</td>\n",
       "      <td>0</td>\n",
       "      <td>0.00%</td>\n",
       "      <td>0</td>\n",
       "      <td>0</td>\n",
       "      <td>0.00%</td>\n",
       "      <td>NaN</td>\n",
       "      <td>90</td>\n",
       "      <td>NaN</td>\n",
       "      <td>NaN</td>\n",
       "      <td>Never Blocked</td>\n",
       "      <td>NaN</td>\n",
       "      <td>NaN</td>\n",
       "    </tr>\n",
       "    <tr>\n",
       "      <th>1</th>\n",
       "      <td>A10UB0AA26KEQS</td>\n",
       "      <td>https://gamma-requester.mturk.com/workers/A10U...</td>\n",
       "      <td>0</td>\n",
       "      <td>0</td>\n",
       "      <td>0.00%</td>\n",
       "      <td>0</td>\n",
       "      <td>0</td>\n",
       "      <td>0.00%</td>\n",
       "      <td>0</td>\n",
       "      <td>0</td>\n",
       "      <td>0.00%</td>\n",
       "      <td>NaN</td>\n",
       "      <td>0</td>\n",
       "      <td>NaN</td>\n",
       "      <td>NaN</td>\n",
       "      <td>Never Blocked</td>\n",
       "      <td>NaN</td>\n",
       "      <td>NaN</td>\n",
       "    </tr>\n",
       "  </tbody>\n",
       "</table>\n",
       "</div>"
      ],
      "text/plain": [
       "        Worker ID                     Link to Individual Worker Page  \\\n",
       "0  A101LLRXLKADXL  https://gamma-requester.mturk.com/workers/A101...   \n",
       "1  A10UB0AA26KEQS  https://gamma-requester.mturk.com/workers/A10U...   \n",
       "\n",
       "   Number of HITs approved or rejected - Lifetime  \\\n",
       "0                                               0   \n",
       "1                                               0   \n",
       "\n",
       "   Number of HITs approved - Lifetime Your Lifetime approval rate  \\\n",
       "0                                   0                       0.00%   \n",
       "1                                   0                       0.00%   \n",
       "\n",
       "   Number of HITs approved or rejected - Last 30 days  \\\n",
       "0                                                  0    \n",
       "1                                                  0    \n",
       "\n",
       "   Number of HITs approved - Last 30 days Your Last 30 days approval rate  \\\n",
       "0                                       0                           0.00%   \n",
       "1                                       0                           0.00%   \n",
       "\n",
       "   Number of HITs approved or rejected - Last 7 days  \\\n",
       "0                                                  0   \n",
       "1                                                  0   \n",
       "\n",
       "   Number of HITs approved - Last 7 days Your Last 7 days approval rate  \\\n",
       "0                                      0                          0.00%   \n",
       "1                                      0                          0.00%   \n",
       "\n",
       "   CURRENT-Ads Creativity - v2  UPDATE-Ads Creativity - v2  \\\n",
       "0                          NaN                          90   \n",
       "1                          NaN                           0   \n",
       "\n",
       "   CURRENT-Ads Creativity - Good  UPDATE-Ads Creativity - Good  \\\n",
       "0                            NaN                           NaN   \n",
       "1                            NaN                           NaN   \n",
       "\n",
       "  CURRENT BlockStatus  UPDATE BlockStatus  BlockReason  \n",
       "0       Never Blocked                 NaN          NaN  \n",
       "1       Never Blocked                 NaN          NaN  "
      ]
     },
     "execution_count": 81,
     "metadata": {},
     "output_type": "execute_result"
    }
   ],
   "source": [
    "worker_df.head(2)"
   ]
  },
  {
   "cell_type": "code",
   "execution_count": null,
   "metadata": {},
   "outputs": [],
   "source": []
  },
  {
   "cell_type": "markdown",
   "metadata": {},
   "source": [
    "### 3.4.1 Individual Question Agreement"
   ]
  },
  {
   "cell_type": "code",
   "execution_count": null,
   "metadata": {},
   "outputs": [],
   "source": [
    "# # ids_to_drop = []\n",
    "# ids_to_drop = [\"0/52390.jpg\", \"0/85300.jpg\"]\n",
    "# accumulated_data = accumulated_data.loc[accumulated_data['Input.ads_id'].apply(lambda x: x not in ids_to_drop)].reset_index(drop=True)\n",
    "# accumulated_data.shape"
   ]
  },
  {
   "cell_type": "code",
   "execution_count": 36,
   "metadata": {},
   "outputs": [
    {
     "ename": "NameError",
     "evalue": "name 'mturk_data' is not defined",
     "output_type": "error",
     "traceback": [
      "\u001b[0;31m---------------------------------------------------------------------------\u001b[0m",
      "\u001b[0;31mNameError\u001b[0m                                 Traceback (most recent call last)",
      "Cell \u001b[0;32mIn[36], line 2\u001b[0m\n\u001b[1;32m      1\u001b[0m \u001b[38;5;66;03m# mturk_data.columns\u001b[39;00m\n\u001b[0;32m----> 2\u001b[0m mturk_data_cleaned \u001b[38;5;241m=\u001b[39m \u001b[43mmturk_data\u001b[49m\u001b[38;5;241m.\u001b[39mloc[mturk_data[\u001b[38;5;124m'\u001b[39m\u001b[38;5;124mInput.ads_id\u001b[39m\u001b[38;5;124m'\u001b[39m]\u001b[38;5;241m.\u001b[39mapply(\u001b[38;5;28;01mlambda\u001b[39;00m x: x \u001b[38;5;129;01mnot\u001b[39;00m \u001b[38;5;129;01min\u001b[39;00m ids_to_drop)]\u001b[38;5;241m.\u001b[39mreset_index(drop\u001b[38;5;241m=\u001b[39m\u001b[38;5;28;01mTrue\u001b[39;00m)\n\u001b[1;32m      3\u001b[0m mturk_data_cleaned\u001b[38;5;241m.\u001b[39mshape\n",
      "\u001b[0;31mNameError\u001b[0m: name 'mturk_data' is not defined"
     ]
    }
   ],
   "source": [
    "# mturk_data.columns\n",
    "mturk_data_cleaned = mturk_data.loc[mturk_data['Input.ads_id'].apply(lambda x: x not in ids_to_drop)].reset_index(drop=True)\n",
    "mturk_data_cleaned.shape"
   ]
  },
  {
   "cell_type": "code",
   "execution_count": 404,
   "metadata": {},
   "outputs": [
    {
     "data": {
      "text/plain": [
       "0.07776530039303785"
      ]
     },
     "execution_count": 404,
     "metadata": {},
     "output_type": "execute_result"
    }
   ],
   "source": [
    "artistic_data_1 = mturk_data_cleaned[['Input.ads_id'] + [col for col in mturk_data_cleaned.columns if 'Answer.artistic_1' in col]].groupby('Input.ads_id').agg('sum')\n",
    "statsmodels.stats.inter_rater.fleiss_kappa(artistic_data_1, 'fleiss')"
   ]
  },
  {
   "cell_type": "code",
   "execution_count": 405,
   "metadata": {},
   "outputs": [
    {
     "data": {
      "text/html": [
       "<div>\n",
       "<style scoped>\n",
       "    .dataframe tbody tr th:only-of-type {\n",
       "        vertical-align: middle;\n",
       "    }\n",
       "\n",
       "    .dataframe tbody tr th {\n",
       "        vertical-align: top;\n",
       "    }\n",
       "\n",
       "    .dataframe thead th {\n",
       "        text-align: right;\n",
       "    }\n",
       "</style>\n",
       "<table border=\"1\" class=\"dataframe\">\n",
       "  <thead>\n",
       "    <tr style=\"text-align: right;\">\n",
       "      <th></th>\n",
       "      <th>Answer.artistic_1.agree</th>\n",
       "      <th>Answer.artistic_1.disagree</th>\n",
       "      <th>Answer.artistic_1.neutral</th>\n",
       "    </tr>\n",
       "    <tr>\n",
       "      <th>Input.ads_id</th>\n",
       "      <th></th>\n",
       "      <th></th>\n",
       "      <th></th>\n",
       "    </tr>\n",
       "  </thead>\n",
       "  <tbody>\n",
       "    <tr>\n",
       "      <th>0/109120.jpg</th>\n",
       "      <td>5</td>\n",
       "      <td>0</td>\n",
       "      <td>0</td>\n",
       "    </tr>\n",
       "    <tr>\n",
       "      <th>0/139270.jpg</th>\n",
       "      <td>3</td>\n",
       "      <td>0</td>\n",
       "      <td>2</td>\n",
       "    </tr>\n",
       "    <tr>\n",
       "      <th>0/159310.jpg</th>\n",
       "      <td>4</td>\n",
       "      <td>0</td>\n",
       "      <td>1</td>\n",
       "    </tr>\n",
       "    <tr>\n",
       "      <th>0/25580.jpg</th>\n",
       "      <td>5</td>\n",
       "      <td>0</td>\n",
       "      <td>0</td>\n",
       "    </tr>\n",
       "    <tr>\n",
       "      <th>0/81460.jpg</th>\n",
       "      <td>5</td>\n",
       "      <td>0</td>\n",
       "      <td>0</td>\n",
       "    </tr>\n",
       "    <tr>\n",
       "      <th>0/84620.jpg</th>\n",
       "      <td>4</td>\n",
       "      <td>0</td>\n",
       "      <td>1</td>\n",
       "    </tr>\n",
       "    <tr>\n",
       "      <th>0/95250.jpg</th>\n",
       "      <td>5</td>\n",
       "      <td>0</td>\n",
       "      <td>0</td>\n",
       "    </tr>\n",
       "    <tr>\n",
       "      <th>1/108011.jpg</th>\n",
       "      <td>4</td>\n",
       "      <td>0</td>\n",
       "      <td>1</td>\n",
       "    </tr>\n",
       "    <tr>\n",
       "      <th>1/112831.jpg</th>\n",
       "      <td>5</td>\n",
       "      <td>0</td>\n",
       "      <td>0</td>\n",
       "    </tr>\n",
       "    <tr>\n",
       "      <th>1/116521.jpg</th>\n",
       "      <td>3</td>\n",
       "      <td>1</td>\n",
       "      <td>1</td>\n",
       "    </tr>\n",
       "    <tr>\n",
       "      <th>1/119501.jpg</th>\n",
       "      <td>3</td>\n",
       "      <td>1</td>\n",
       "      <td>1</td>\n",
       "    </tr>\n",
       "    <tr>\n",
       "      <th>1/121071.jpg</th>\n",
       "      <td>4</td>\n",
       "      <td>1</td>\n",
       "      <td>0</td>\n",
       "    </tr>\n",
       "    <tr>\n",
       "      <th>1/130741.jpg</th>\n",
       "      <td>4</td>\n",
       "      <td>1</td>\n",
       "      <td>0</td>\n",
       "    </tr>\n",
       "    <tr>\n",
       "      <th>1/84431.jpg</th>\n",
       "      <td>2</td>\n",
       "      <td>2</td>\n",
       "      <td>1</td>\n",
       "    </tr>\n",
       "    <tr>\n",
       "      <th>2/122412.jpg</th>\n",
       "      <td>3</td>\n",
       "      <td>0</td>\n",
       "      <td>2</td>\n",
       "    </tr>\n",
       "    <tr>\n",
       "      <th>2/124812.jpg</th>\n",
       "      <td>2</td>\n",
       "      <td>3</td>\n",
       "      <td>0</td>\n",
       "    </tr>\n",
       "    <tr>\n",
       "      <th>2/18052.jpg</th>\n",
       "      <td>1</td>\n",
       "      <td>3</td>\n",
       "      <td>1</td>\n",
       "    </tr>\n",
       "    <tr>\n",
       "      <th>2/69422.jpg</th>\n",
       "      <td>3</td>\n",
       "      <td>0</td>\n",
       "      <td>2</td>\n",
       "    </tr>\n",
       "  </tbody>\n",
       "</table>\n",
       "</div>"
      ],
      "text/plain": [
       "              Answer.artistic_1.agree  Answer.artistic_1.disagree  \\\n",
       "Input.ads_id                                                        \n",
       "0/109120.jpg                        5                           0   \n",
       "0/139270.jpg                        3                           0   \n",
       "0/159310.jpg                        4                           0   \n",
       "0/25580.jpg                         5                           0   \n",
       "0/81460.jpg                         5                           0   \n",
       "0/84620.jpg                         4                           0   \n",
       "0/95250.jpg                         5                           0   \n",
       "1/108011.jpg                        4                           0   \n",
       "1/112831.jpg                        5                           0   \n",
       "1/116521.jpg                        3                           1   \n",
       "1/119501.jpg                        3                           1   \n",
       "1/121071.jpg                        4                           1   \n",
       "1/130741.jpg                        4                           1   \n",
       "1/84431.jpg                         2                           2   \n",
       "2/122412.jpg                        3                           0   \n",
       "2/124812.jpg                        2                           3   \n",
       "2/18052.jpg                         1                           3   \n",
       "2/69422.jpg                         3                           0   \n",
       "\n",
       "              Answer.artistic_1.neutral  \n",
       "Input.ads_id                             \n",
       "0/109120.jpg                          0  \n",
       "0/139270.jpg                          2  \n",
       "0/159310.jpg                          1  \n",
       "0/25580.jpg                           0  \n",
       "0/81460.jpg                           0  \n",
       "0/84620.jpg                           1  \n",
       "0/95250.jpg                           0  \n",
       "1/108011.jpg                          1  \n",
       "1/112831.jpg                          0  \n",
       "1/116521.jpg                          1  \n",
       "1/119501.jpg                          1  \n",
       "1/121071.jpg                          0  \n",
       "1/130741.jpg                          0  \n",
       "1/84431.jpg                           1  \n",
       "2/122412.jpg                          2  \n",
       "2/124812.jpg                          0  \n",
       "2/18052.jpg                           1  \n",
       "2/69422.jpg                           2  "
      ]
     },
     "execution_count": 405,
     "metadata": {},
     "output_type": "execute_result"
    }
   ],
   "source": [
    "artistic_data_1"
   ]
  },
  {
   "cell_type": "code",
   "execution_count": 274,
   "metadata": {},
   "outputs": [
    {
     "data": {
      "text/plain": [
       "0.012086827824371205"
      ]
     },
     "execution_count": 274,
     "metadata": {},
     "output_type": "execute_result"
    }
   ],
   "source": [
    "artistic_data_1 = mturk_data_cleaned[['Input.ads_id'] + [col for col in mturk_data_cleaned.columns if 'Answer.atypicality_1' in col]].groupby('Input.ads_id').agg('sum')\n",
    "statsmodels.stats.inter_rater.fleiss_kappa(artistic_data_1, 'fleiss')"
   ]
  },
  {
   "cell_type": "code",
   "execution_count": 275,
   "metadata": {},
   "outputs": [
    {
     "data": {
      "text/plain": [
       "0.03350515463917534"
      ]
     },
     "execution_count": 275,
     "metadata": {},
     "output_type": "execute_result"
    }
   ],
   "source": [
    "artistic_data_1 = mturk_data_cleaned[['Input.ads_id'] + [col for col in mturk_data_cleaned.columns if 'Answer.atypicality_2' in col]].groupby('Input.ads_id').agg('sum')\n",
    "statsmodels.stats.inter_rater.fleiss_kappa(artistic_data_1, 'fleiss')"
   ]
  },
  {
   "cell_type": "code",
   "execution_count": 276,
   "metadata": {},
   "outputs": [
    {
     "data": {
      "text/plain": [
       "0.024964672633066565"
      ]
     },
     "execution_count": 276,
     "metadata": {},
     "output_type": "execute_result"
    }
   ],
   "source": [
    "artistic_data_1 = mturk_data_cleaned[['Input.ads_id'] + [col for col in mturk_data_cleaned.columns if 'Answer.atypicality_3' in col]].groupby('Input.ads_id').agg('sum')\n",
    "statsmodels.stats.inter_rater.fleiss_kappa(artistic_data_1, 'fleiss')"
   ]
  },
  {
   "cell_type": "code",
   "execution_count": 277,
   "metadata": {},
   "outputs": [
    {
     "data": {
      "text/plain": [
       "0.968354430379747"
      ]
     },
     "execution_count": 277,
     "metadata": {},
     "output_type": "execute_result"
    }
   ],
   "source": [
    "artistic_data_1 = mturk_data_cleaned[['Input.ads_id'] + [col for col in mturk_data_cleaned.columns if 'Answer.effectiveness' in col]].groupby('Input.ads_id').agg('sum')\n",
    "statsmodels.stats.inter_rater.fleiss_kappa(artistic_data_1, 'fleiss')"
   ]
  },
  {
   "cell_type": "code",
   "execution_count": 278,
   "metadata": {},
   "outputs": [
    {
     "data": {
      "text/plain": [
       "-0.03534511503834618"
      ]
     },
     "execution_count": 278,
     "metadata": {},
     "output_type": "execute_result"
    }
   ],
   "source": [
    "artistic_data_1 = mturk_data_cleaned[['Input.ads_id'] + [col for col in mturk_data_cleaned.columns if 'Answer.overall' in col]].groupby('Input.ads_id').agg('sum')\n",
    "statsmodels.stats.inter_rater.fleiss_kappa(artistic_data_1, 'fleiss')"
   ]
  },
  {
   "cell_type": "code",
   "execution_count": 279,
   "metadata": {},
   "outputs": [
    {
     "data": {
      "text/plain": [
       "0.09212445308701993"
      ]
     },
     "execution_count": 279,
     "metadata": {},
     "output_type": "execute_result"
    }
   ],
   "source": [
    "artistic_data_1 = mturk_data_cleaned[['Input.ads_id'] + [col for col in mturk_data_cleaned.columns if 'Answer.pc_1' in col]].groupby('Input.ads_id').agg('sum')\n",
    "statsmodels.stats.inter_rater.fleiss_kappa(artistic_data_1, 'fleiss')\n"
   ]
  },
  {
   "cell_type": "code",
   "execution_count": 280,
   "metadata": {},
   "outputs": [
    {
     "data": {
      "text/plain": [
       "0.08366533864541838"
      ]
     },
     "execution_count": 280,
     "metadata": {},
     "output_type": "execute_result"
    }
   ],
   "source": [
    "artistic_data_1 = mturk_data_cleaned[['Input.ads_id'] + [col for col in mturk_data_cleaned.columns if 'Answer.pc_2' in col]].groupby('Input.ads_id').agg('sum')\n",
    "statsmodels.stats.inter_rater.fleiss_kappa(artistic_data_1, 'fleiss')"
   ]
  },
  {
   "cell_type": "code",
   "execution_count": 281,
   "metadata": {},
   "outputs": [
    {
     "data": {
      "text/plain": [
       "0.10922217047042397"
      ]
     },
     "execution_count": 281,
     "metadata": {},
     "output_type": "execute_result"
    }
   ],
   "source": [
    "artistic_data_1 = mturk_data_cleaned[['Input.ads_id'] + [col for col in mturk_data_cleaned.columns if 'Answer.pc_3' in col]].groupby('Input.ads_id').agg('sum')\n",
    "statsmodels.stats.inter_rater.fleiss_kappa(artistic_data_1, 'fleiss')"
   ]
  },
  {
   "cell_type": "code",
   "execution_count": null,
   "metadata": {},
   "outputs": [],
   "source": []
  },
  {
   "cell_type": "code",
   "execution_count": null,
   "metadata": {},
   "outputs": [],
   "source": []
  },
  {
   "cell_type": "markdown",
   "metadata": {},
   "source": [
    "### 3.4.2 Accumulated Agreement"
   ]
  },
  {
   "cell_type": "code",
   "execution_count": 286,
   "metadata": {},
   "outputs": [
    {
     "data": {
      "text/plain": [
       "0     2\n",
       "1     2\n",
       "2     2\n",
       "3     1\n",
       "4     2\n",
       "     ..\n",
       "85    2\n",
       "86    2\n",
       "87    2\n",
       "88    2\n",
       "89    1\n",
       "Length: 90, dtype: int64"
      ]
     },
     "execution_count": 286,
     "metadata": {},
     "output_type": "execute_result"
    }
   ],
   "source": [
    "tmp_col = 'pc'\n",
    "related_columns = ['Input.ads_id'] + [col for col in mturk_data_cleaned.columns if 'Answer.' + tmp_col in col]\n",
    "data_copy = copy.deepcopy(mturk_data_cleaned[related_columns])\n",
    "(sum([data_copy[col] for col in related_columns if 'agree' in col])).apply(lambda x: x if x <= 1 else 2)"
   ]
  },
  {
   "cell_type": "code",
   "execution_count": 297,
   "metadata": {},
   "outputs": [],
   "source": [
    "def mturk_get_kappa_data(accumulate_data, column, data_maping = {0: 0, 1: 0, 2: 0, 3: 1}):\n",
    "    # unique_values = accumulate_data[column + '_agree'].unique()\n",
    "    def count_kappa(data, data_maping):\n",
    "        # unique_values = data.unique()\n",
    "        result = {k: 0 for k in list(data_maping.values())}\n",
    "        for v in data.values:\n",
    "            # if v in result:\n",
    "            if v in data_maping:\n",
    "                v = data_maping[v]\n",
    "                result[v] += 1\n",
    "        return result\n",
    "    kappa_data = accumulate_data[[column + '_agree', 'Input.ads_id']].groupby('Input.ads_id').agg(lambda data: count_kappa(data, data_maping = data_maping))[column + '_agree'].values\n",
    "    kappa_data = pd.DataFrame(list(kappa_data))\n",
    "    return kappa_data"
   ]
  },
  {
   "cell_type": "code",
   "execution_count": 298,
   "metadata": {},
   "outputs": [
    {
     "data": {
      "text/plain": [
       "0.09090909090909119"
      ]
     },
     "execution_count": 298,
     "metadata": {},
     "output_type": "execute_result"
    }
   ],
   "source": [
    "mturk_data_pc = mturk_get_kappa_data(mturk_accumulate_annotation(mturk_data_cleaned, 'pc'), column = 'pc')\n",
    "statsmodels.stats.inter_rater.fleiss_kappa(mturk_data_pc, 'fleiss')"
   ]
  },
  {
   "cell_type": "code",
   "execution_count": 299,
   "metadata": {},
   "outputs": [
    {
     "data": {
      "text/html": [
       "<div>\n",
       "<style scoped>\n",
       "    .dataframe tbody tr th:only-of-type {\n",
       "        vertical-align: middle;\n",
       "    }\n",
       "\n",
       "    .dataframe tbody tr th {\n",
       "        vertical-align: top;\n",
       "    }\n",
       "\n",
       "    .dataframe thead th {\n",
       "        text-align: right;\n",
       "    }\n",
       "</style>\n",
       "<table border=\"1\" class=\"dataframe\">\n",
       "  <thead>\n",
       "    <tr style=\"text-align: right;\">\n",
       "      <th></th>\n",
       "      <th>0</th>\n",
       "      <th>1</th>\n",
       "    </tr>\n",
       "  </thead>\n",
       "  <tbody>\n",
       "    <tr>\n",
       "      <th>0</th>\n",
       "      <td>2</td>\n",
       "      <td>3</td>\n",
       "    </tr>\n",
       "    <tr>\n",
       "      <th>1</th>\n",
       "      <td>2</td>\n",
       "      <td>3</td>\n",
       "    </tr>\n",
       "    <tr>\n",
       "      <th>2</th>\n",
       "      <td>1</td>\n",
       "      <td>4</td>\n",
       "    </tr>\n",
       "    <tr>\n",
       "      <th>3</th>\n",
       "      <td>0</td>\n",
       "      <td>5</td>\n",
       "    </tr>\n",
       "    <tr>\n",
       "      <th>4</th>\n",
       "      <td>0</td>\n",
       "      <td>5</td>\n",
       "    </tr>\n",
       "    <tr>\n",
       "      <th>5</th>\n",
       "      <td>1</td>\n",
       "      <td>4</td>\n",
       "    </tr>\n",
       "    <tr>\n",
       "      <th>6</th>\n",
       "      <td>0</td>\n",
       "      <td>5</td>\n",
       "    </tr>\n",
       "    <tr>\n",
       "      <th>7</th>\n",
       "      <td>1</td>\n",
       "      <td>4</td>\n",
       "    </tr>\n",
       "    <tr>\n",
       "      <th>8</th>\n",
       "      <td>0</td>\n",
       "      <td>5</td>\n",
       "    </tr>\n",
       "    <tr>\n",
       "      <th>9</th>\n",
       "      <td>2</td>\n",
       "      <td>3</td>\n",
       "    </tr>\n",
       "    <tr>\n",
       "      <th>10</th>\n",
       "      <td>4</td>\n",
       "      <td>1</td>\n",
       "    </tr>\n",
       "    <tr>\n",
       "      <th>11</th>\n",
       "      <td>3</td>\n",
       "      <td>2</td>\n",
       "    </tr>\n",
       "    <tr>\n",
       "      <th>12</th>\n",
       "      <td>1</td>\n",
       "      <td>4</td>\n",
       "    </tr>\n",
       "    <tr>\n",
       "      <th>13</th>\n",
       "      <td>0</td>\n",
       "      <td>5</td>\n",
       "    </tr>\n",
       "    <tr>\n",
       "      <th>14</th>\n",
       "      <td>1</td>\n",
       "      <td>4</td>\n",
       "    </tr>\n",
       "    <tr>\n",
       "      <th>15</th>\n",
       "      <td>2</td>\n",
       "      <td>3</td>\n",
       "    </tr>\n",
       "    <tr>\n",
       "      <th>16</th>\n",
       "      <td>1</td>\n",
       "      <td>4</td>\n",
       "    </tr>\n",
       "    <tr>\n",
       "      <th>17</th>\n",
       "      <td>3</td>\n",
       "      <td>2</td>\n",
       "    </tr>\n",
       "  </tbody>\n",
       "</table>\n",
       "</div>"
      ],
      "text/plain": [
       "    0  1\n",
       "0   2  3\n",
       "1   2  3\n",
       "2   1  4\n",
       "3   0  5\n",
       "4   0  5\n",
       "5   1  4\n",
       "6   0  5\n",
       "7   1  4\n",
       "8   0  5\n",
       "9   2  3\n",
       "10  4  1\n",
       "11  3  2\n",
       "12  1  4\n",
       "13  0  5\n",
       "14  1  4\n",
       "15  2  3\n",
       "16  1  4\n",
       "17  3  2"
      ]
     },
     "execution_count": 299,
     "metadata": {},
     "output_type": "execute_result"
    }
   ],
   "source": [
    "mturk_data_pc"
   ]
  },
  {
   "cell_type": "code",
   "execution_count": 304,
   "metadata": {},
   "outputs": [
    {
     "data": {
      "text/plain": [
       "-0.09285714285714289"
      ]
     },
     "execution_count": 304,
     "metadata": {},
     "output_type": "execute_result"
    }
   ],
   "source": [
    "mturk_data_atypicality = mturk_get_kappa_data(mturk_accumulate_annotation(mturk_data_cleaned, 'atypicality'), column = 'atypicality')\n",
    "statsmodels.stats.inter_rater.fleiss_kappa(mturk_data_atypicality, 'fleiss')"
   ]
  },
  {
   "cell_type": "code",
   "execution_count": 305,
   "metadata": {},
   "outputs": [
    {
     "data": {
      "text/html": [
       "<div>\n",
       "<style scoped>\n",
       "    .dataframe tbody tr th:only-of-type {\n",
       "        vertical-align: middle;\n",
       "    }\n",
       "\n",
       "    .dataframe tbody tr th {\n",
       "        vertical-align: top;\n",
       "    }\n",
       "\n",
       "    .dataframe thead th {\n",
       "        text-align: right;\n",
       "    }\n",
       "</style>\n",
       "<table border=\"1\" class=\"dataframe\">\n",
       "  <thead>\n",
       "    <tr style=\"text-align: right;\">\n",
       "      <th></th>\n",
       "      <th>0</th>\n",
       "      <th>1</th>\n",
       "    </tr>\n",
       "  </thead>\n",
       "  <tbody>\n",
       "    <tr>\n",
       "      <th>0</th>\n",
       "      <td>1</td>\n",
       "      <td>4</td>\n",
       "    </tr>\n",
       "    <tr>\n",
       "      <th>1</th>\n",
       "      <td>1</td>\n",
       "      <td>4</td>\n",
       "    </tr>\n",
       "    <tr>\n",
       "      <th>2</th>\n",
       "      <td>1</td>\n",
       "      <td>4</td>\n",
       "    </tr>\n",
       "    <tr>\n",
       "      <th>3</th>\n",
       "      <td>0</td>\n",
       "      <td>5</td>\n",
       "    </tr>\n",
       "    <tr>\n",
       "      <th>4</th>\n",
       "      <td>0</td>\n",
       "      <td>5</td>\n",
       "    </tr>\n",
       "    <tr>\n",
       "      <th>5</th>\n",
       "      <td>1</td>\n",
       "      <td>4</td>\n",
       "    </tr>\n",
       "    <tr>\n",
       "      <th>6</th>\n",
       "      <td>2</td>\n",
       "      <td>3</td>\n",
       "    </tr>\n",
       "    <tr>\n",
       "      <th>7</th>\n",
       "      <td>1</td>\n",
       "      <td>4</td>\n",
       "    </tr>\n",
       "    <tr>\n",
       "      <th>8</th>\n",
       "      <td>1</td>\n",
       "      <td>4</td>\n",
       "    </tr>\n",
       "    <tr>\n",
       "      <th>9</th>\n",
       "      <td>2</td>\n",
       "      <td>3</td>\n",
       "    </tr>\n",
       "    <tr>\n",
       "      <th>10</th>\n",
       "      <td>0</td>\n",
       "      <td>5</td>\n",
       "    </tr>\n",
       "    <tr>\n",
       "      <th>11</th>\n",
       "      <td>2</td>\n",
       "      <td>3</td>\n",
       "    </tr>\n",
       "    <tr>\n",
       "      <th>12</th>\n",
       "      <td>2</td>\n",
       "      <td>3</td>\n",
       "    </tr>\n",
       "    <tr>\n",
       "      <th>13</th>\n",
       "      <td>0</td>\n",
       "      <td>5</td>\n",
       "    </tr>\n",
       "    <tr>\n",
       "      <th>14</th>\n",
       "      <td>1</td>\n",
       "      <td>4</td>\n",
       "    </tr>\n",
       "    <tr>\n",
       "      <th>15</th>\n",
       "      <td>1</td>\n",
       "      <td>4</td>\n",
       "    </tr>\n",
       "    <tr>\n",
       "      <th>16</th>\n",
       "      <td>2</td>\n",
       "      <td>3</td>\n",
       "    </tr>\n",
       "    <tr>\n",
       "      <th>17</th>\n",
       "      <td>2</td>\n",
       "      <td>3</td>\n",
       "    </tr>\n",
       "  </tbody>\n",
       "</table>\n",
       "</div>"
      ],
      "text/plain": [
       "    0  1\n",
       "0   1  4\n",
       "1   1  4\n",
       "2   1  4\n",
       "3   0  5\n",
       "4   0  5\n",
       "5   1  4\n",
       "6   2  3\n",
       "7   1  4\n",
       "8   1  4\n",
       "9   2  3\n",
       "10  0  5\n",
       "11  2  3\n",
       "12  2  3\n",
       "13  0  5\n",
       "14  1  4\n",
       "15  1  4\n",
       "16  2  3\n",
       "17  2  3"
      ]
     },
     "execution_count": 305,
     "metadata": {},
     "output_type": "execute_result"
    }
   ],
   "source": [
    "mturk_data_atypicality"
   ]
  },
  {
   "cell_type": "code",
   "execution_count": 306,
   "metadata": {},
   "outputs": [
    {
     "data": {
      "text/plain": [
       "0.041558441558441475"
      ]
     },
     "execution_count": 306,
     "metadata": {},
     "output_type": "execute_result"
    }
   ],
   "source": [
    "mturk_data_artistic = mturk_get_kappa_data(mturk_accumulate_annotation(mturk_data_cleaned, 'artistic'), column = 'artistic')\n",
    "statsmodels.stats.inter_rater.fleiss_kappa(mturk_data_artistic, 'fleiss')"
   ]
  },
  {
   "cell_type": "code",
   "execution_count": 307,
   "metadata": {},
   "outputs": [
    {
     "data": {
      "text/html": [
       "<div>\n",
       "<style scoped>\n",
       "    .dataframe tbody tr th:only-of-type {\n",
       "        vertical-align: middle;\n",
       "    }\n",
       "\n",
       "    .dataframe tbody tr th {\n",
       "        vertical-align: top;\n",
       "    }\n",
       "\n",
       "    .dataframe thead th {\n",
       "        text-align: right;\n",
       "    }\n",
       "</style>\n",
       "<table border=\"1\" class=\"dataframe\">\n",
       "  <thead>\n",
       "    <tr style=\"text-align: right;\">\n",
       "      <th></th>\n",
       "      <th>0</th>\n",
       "      <th>1</th>\n",
       "    </tr>\n",
       "  </thead>\n",
       "  <tbody>\n",
       "    <tr>\n",
       "      <th>0</th>\n",
       "      <td>2</td>\n",
       "      <td>3</td>\n",
       "    </tr>\n",
       "    <tr>\n",
       "      <th>1</th>\n",
       "      <td>2</td>\n",
       "      <td>3</td>\n",
       "    </tr>\n",
       "    <tr>\n",
       "      <th>2</th>\n",
       "      <td>1</td>\n",
       "      <td>4</td>\n",
       "    </tr>\n",
       "    <tr>\n",
       "      <th>3</th>\n",
       "      <td>2</td>\n",
       "      <td>3</td>\n",
       "    </tr>\n",
       "    <tr>\n",
       "      <th>4</th>\n",
       "      <td>1</td>\n",
       "      <td>4</td>\n",
       "    </tr>\n",
       "    <tr>\n",
       "      <th>5</th>\n",
       "      <td>2</td>\n",
       "      <td>3</td>\n",
       "    </tr>\n",
       "    <tr>\n",
       "      <th>6</th>\n",
       "      <td>0</td>\n",
       "      <td>5</td>\n",
       "    </tr>\n",
       "    <tr>\n",
       "      <th>7</th>\n",
       "      <td>2</td>\n",
       "      <td>3</td>\n",
       "    </tr>\n",
       "    <tr>\n",
       "      <th>8</th>\n",
       "      <td>1</td>\n",
       "      <td>4</td>\n",
       "    </tr>\n",
       "    <tr>\n",
       "      <th>9</th>\n",
       "      <td>3</td>\n",
       "      <td>2</td>\n",
       "    </tr>\n",
       "    <tr>\n",
       "      <th>10</th>\n",
       "      <td>2</td>\n",
       "      <td>3</td>\n",
       "    </tr>\n",
       "    <tr>\n",
       "      <th>11</th>\n",
       "      <td>4</td>\n",
       "      <td>1</td>\n",
       "    </tr>\n",
       "    <tr>\n",
       "      <th>12</th>\n",
       "      <td>1</td>\n",
       "      <td>4</td>\n",
       "    </tr>\n",
       "    <tr>\n",
       "      <th>13</th>\n",
       "      <td>2</td>\n",
       "      <td>3</td>\n",
       "    </tr>\n",
       "    <tr>\n",
       "      <th>14</th>\n",
       "      <td>4</td>\n",
       "      <td>1</td>\n",
       "    </tr>\n",
       "    <tr>\n",
       "      <th>15</th>\n",
       "      <td>0</td>\n",
       "      <td>5</td>\n",
       "    </tr>\n",
       "    <tr>\n",
       "      <th>16</th>\n",
       "      <td>2</td>\n",
       "      <td>3</td>\n",
       "    </tr>\n",
       "    <tr>\n",
       "      <th>17</th>\n",
       "      <td>4</td>\n",
       "      <td>1</td>\n",
       "    </tr>\n",
       "  </tbody>\n",
       "</table>\n",
       "</div>"
      ],
      "text/plain": [
       "    0  1\n",
       "0   2  3\n",
       "1   2  3\n",
       "2   1  4\n",
       "3   2  3\n",
       "4   1  4\n",
       "5   2  3\n",
       "6   0  5\n",
       "7   2  3\n",
       "8   1  4\n",
       "9   3  2\n",
       "10  2  3\n",
       "11  4  1\n",
       "12  1  4\n",
       "13  2  3\n",
       "14  4  1\n",
       "15  0  5\n",
       "16  2  3\n",
       "17  4  1"
      ]
     },
     "execution_count": 307,
     "metadata": {},
     "output_type": "execute_result"
    }
   ],
   "source": [
    "mturk_data_artistic"
   ]
  },
  {
   "cell_type": "code",
   "execution_count": null,
   "metadata": {},
   "outputs": [],
   "source": []
  },
  {
   "cell_type": "code",
   "execution_count": null,
   "metadata": {},
   "outputs": [],
   "source": []
  },
  {
   "cell_type": "markdown",
   "metadata": {},
   "source": [
    "### 3.4.3 good workers v.s. me"
   ]
  },
  {
   "cell_type": "code",
   "execution_count": 187,
   "metadata": {},
   "outputs": [
    {
     "data": {
      "text/plain": [
       "(100, 78)"
      ]
     },
     "execution_count": 187,
     "metadata": {},
     "output_type": "execute_result"
    }
   ],
   "source": [
    "mturk_groundtruth = pd.read_csv(mturk_data_dir + 'subset_0.4/mturk_groundtruth.0.4.csv')\n",
    "mturk_groundtruth['valid'] = True\n",
    "mturk_groundtruth.index = mturk_groundtruth['Input.ads_id']\n",
    "\n",
    "available_ads_ids = mturk_groundtruth['Input.ads_id'].values\n",
    "\n",
    "mturk_data = pd.read_csv(mturk_data_dir + 'subset_0.4/mturk_raw_results.0.4.csv')\n",
    "\n",
    "worker_effectiveness_validity = pd.read_csv(mturk_data_dir + 'subset_0.4/worker_effectiveness_validity.0.4.csv').dropna()\n",
    "\n",
    "mturk_data.shape #, mturk_groundtruth.shape"
   ]
  },
  {
   "cell_type": "code",
   "execution_count": 188,
   "metadata": {},
   "outputs": [
    {
     "data": {
      "text/plain": [
       "(50, 78)"
      ]
     },
     "execution_count": 188,
     "metadata": {},
     "output_type": "execute_result"
    }
   ],
   "source": [
    "valid_worker_results = mturk_data.loc[mturk_data.WorkerId.apply(lambda x: x in worker_effectiveness_validity.WorkerId.values)]\n",
    "valid_worker_results = valid_worker_results.loc[valid_worker_results['Input.ads_id'].apply(lambda x: x in available_ads_ids)]\n",
    "valid_worker_results = valid_worker_results.reset_index(drop=True)\n",
    "valid_worker_results.shape"
   ]
  },
  {
   "cell_type": "code",
   "execution_count": 189,
   "metadata": {},
   "outputs": [
    {
     "data": {
      "text/html": [
       "<div>\n",
       "<style scoped>\n",
       "    .dataframe tbody tr th:only-of-type {\n",
       "        vertical-align: middle;\n",
       "    }\n",
       "\n",
       "    .dataframe tbody tr th {\n",
       "        vertical-align: top;\n",
       "    }\n",
       "\n",
       "    .dataframe thead th {\n",
       "        text-align: right;\n",
       "    }\n",
       "</style>\n",
       "<table border=\"1\" class=\"dataframe\">\n",
       "  <thead>\n",
       "    <tr style=\"text-align: right;\">\n",
       "      <th></th>\n",
       "      <th>HITId</th>\n",
       "      <th>HITTypeId</th>\n",
       "      <th>Title</th>\n",
       "      <th>Description</th>\n",
       "      <th>Keywords</th>\n",
       "      <th>Reward</th>\n",
       "      <th>CreationTime</th>\n",
       "      <th>MaxAssignments</th>\n",
       "      <th>RequesterAnnotation</th>\n",
       "      <th>AssignmentDurationInSeconds</th>\n",
       "      <th>...</th>\n",
       "      <th>Answer.pc_1.neutral</th>\n",
       "      <th>Answer.pc_2.agree</th>\n",
       "      <th>Answer.pc_2.disagree</th>\n",
       "      <th>Answer.pc_2.neutral</th>\n",
       "      <th>Answer.pc_3.agree</th>\n",
       "      <th>Answer.pc_3.disagree</th>\n",
       "      <th>Answer.pc_3.neutral</th>\n",
       "      <th>Approve</th>\n",
       "      <th>Reject</th>\n",
       "      <th>valid</th>\n",
       "    </tr>\n",
       "    <tr>\n",
       "      <th>Input.ads_id</th>\n",
       "      <th></th>\n",
       "      <th></th>\n",
       "      <th></th>\n",
       "      <th></th>\n",
       "      <th></th>\n",
       "      <th></th>\n",
       "      <th></th>\n",
       "      <th></th>\n",
       "      <th></th>\n",
       "      <th></th>\n",
       "      <th></th>\n",
       "      <th></th>\n",
       "      <th></th>\n",
       "      <th></th>\n",
       "      <th></th>\n",
       "      <th></th>\n",
       "      <th></th>\n",
       "      <th></th>\n",
       "      <th></th>\n",
       "      <th></th>\n",
       "      <th></th>\n",
       "    </tr>\n",
       "  </thead>\n",
       "  <tbody>\n",
       "    <tr>\n",
       "      <th>0/38520.jpg</th>\n",
       "      <td>3EAWOID6NCDKCQ0XBD3C5H8L4ZC0V3</td>\n",
       "      <td>3QO1BWENXC2K680R2948RY9YA6JZ5W</td>\n",
       "      <td>Is this advertisement creative?</td>\n",
       "      <td>Rate the level of creativity of a given ad ima...</td>\n",
       "      <td>survey, creativity, advertisement</td>\n",
       "      <td>$0.15</td>\n",
       "      <td>Sun May 12 12:54:50 PDT 2024</td>\n",
       "      <td>5</td>\n",
       "      <td>BatchId:403055;OriginalHitTemplateId:921587278;</td>\n",
       "      <td>3600</td>\n",
       "      <td>...</td>\n",
       "      <td>False</td>\n",
       "      <td>True</td>\n",
       "      <td>False</td>\n",
       "      <td>False</td>\n",
       "      <td>True</td>\n",
       "      <td>False</td>\n",
       "      <td>False</td>\n",
       "      <td>NaN</td>\n",
       "      <td>NaN</td>\n",
       "      <td>True</td>\n",
       "    </tr>\n",
       "  </tbody>\n",
       "</table>\n",
       "<p>1 rows × 79 columns</p>\n",
       "</div>"
      ],
      "text/plain": [
       "                                       HITId                       HITTypeId  \\\n",
       "Input.ads_id                                                                   \n",
       "0/38520.jpg   3EAWOID6NCDKCQ0XBD3C5H8L4ZC0V3  3QO1BWENXC2K680R2948RY9YA6JZ5W   \n",
       "\n",
       "                                        Title  \\\n",
       "Input.ads_id                                    \n",
       "0/38520.jpg   Is this advertisement creative?   \n",
       "\n",
       "                                                    Description  \\\n",
       "Input.ads_id                                                      \n",
       "0/38520.jpg   Rate the level of creativity of a given ad ima...   \n",
       "\n",
       "                                       Keywords Reward  \\\n",
       "Input.ads_id                                             \n",
       "0/38520.jpg   survey, creativity, advertisement  $0.15   \n",
       "\n",
       "                              CreationTime  MaxAssignments  \\\n",
       "Input.ads_id                                                 \n",
       "0/38520.jpg   Sun May 12 12:54:50 PDT 2024               5   \n",
       "\n",
       "                                          RequesterAnnotation  \\\n",
       "Input.ads_id                                                    \n",
       "0/38520.jpg   BatchId:403055;OriginalHitTemplateId:921587278;   \n",
       "\n",
       "              AssignmentDurationInSeconds  ...  Answer.pc_1.neutral  \\\n",
       "Input.ads_id                               ...                        \n",
       "0/38520.jpg                          3600  ...                False   \n",
       "\n",
       "             Answer.pc_2.agree  Answer.pc_2.disagree  Answer.pc_2.neutral  \\\n",
       "Input.ads_id                                                                \n",
       "0/38520.jpg               True                 False                False   \n",
       "\n",
       "             Answer.pc_3.agree Answer.pc_3.disagree Answer.pc_3.neutral  \\\n",
       "Input.ads_id                                                              \n",
       "0/38520.jpg               True                False               False   \n",
       "\n",
       "             Approve Reject valid  \n",
       "Input.ads_id                       \n",
       "0/38520.jpg      NaN    NaN  True  \n",
       "\n",
       "[1 rows x 79 columns]"
      ]
     },
     "execution_count": 189,
     "metadata": {},
     "output_type": "execute_result"
    }
   ],
   "source": [
    "mturk_groundtruth.loc[['0/38520.jpg']]"
   ]
  },
  {
   "cell_type": "code",
   "execution_count": 190,
   "metadata": {},
   "outputs": [
    {
     "data": {
      "text/plain": [
       "(50, 80)"
      ]
     },
     "execution_count": 190,
     "metadata": {},
     "output_type": "execute_result"
    }
   ],
   "source": [
    "stacked_groundtruth_df = pd.concat([mturk_groundtruth.loc[[ads_id]] for ads_id in valid_worker_results['Input.ads_id'].values])\n",
    "ads_id_in_order = valid_worker_results['Input.ads_id'].values\n",
    "stacked_groundtruth_df['unique_id'] = [ads_id_in_order[i] + '_' + str(i) for i in range(len(ads_id_in_order))]\n",
    "valid_worker_results['unique_id'] = [ads_id_in_order[i] + '_' + str(i) for i in range(len(ads_id_in_order))]\n",
    "\n",
    "stacked_groundtruth_df.shape"
   ]
  },
  {
   "cell_type": "code",
   "execution_count": 191,
   "metadata": {},
   "outputs": [
    {
     "data": {
      "text/plain": [
       "(100, 80)"
      ]
     },
     "execution_count": 191,
     "metadata": {},
     "output_type": "execute_result"
    }
   ],
   "source": [
    "all_combined = pd.concat([stacked_groundtruth_df, valid_worker_results])\n",
    "all_combined.shape"
   ]
  },
  {
   "cell_type": "code",
   "execution_count": 195,
   "metadata": {},
   "outputs": [
    {
     "name": "stdout",
     "output_type": "stream",
     "text": [
      "Answer.artistic_1 -0.06428267347807554\n",
      "Answer.artistic_2 -0.22277416889568216\n",
      "Answer.artistic_3 -0.20738636363636379\n",
      "Answer.atypical_1 nan\n",
      "Answer.atypical_2 nan\n",
      "Answer.atypical_3 nan\n",
      "Answer.pc_1 0.07366563740626375\n",
      "Answer.pc_2 0.2510699001426531\n",
      "Answer.pc_3 0.021891010712622432\n",
      "Answer.effectiveness 0.8947645356485135\n",
      "Answer.overall -0.1277135607555681\n"
     ]
    },
    {
     "name": "stderr",
     "output_type": "stream",
     "text": [
      "/Users/joeyhou/anaconda3/envs/dsml39/lib/python3.9/site-packages/statsmodels/stats/inter_rater.py:258: RuntimeWarning: invalid value encountered in divide\n",
      "  p_rat = (table2.sum(1) - n_rat) / (n_rat * (n_rat - 1.))\n",
      "/Users/joeyhou/anaconda3/envs/dsml39/lib/python3.9/site-packages/statsmodels/stats/inter_rater.py:258: RuntimeWarning: invalid value encountered in divide\n",
      "  p_rat = (table2.sum(1) - n_rat) / (n_rat * (n_rat - 1.))\n",
      "/Users/joeyhou/anaconda3/envs/dsml39/lib/python3.9/site-packages/statsmodels/stats/inter_rater.py:258: RuntimeWarning: invalid value encountered in divide\n",
      "  p_rat = (table2.sum(1) - n_rat) / (n_rat * (n_rat - 1.))\n"
     ]
    }
   ],
   "source": [
    "question_lst = [\n",
    "    'Answer.artistic_1',\n",
    "    'Answer.artistic_2',\n",
    "    'Answer.artistic_3',\n",
    "    'Answer.atypical_1',\n",
    "    'Answer.atypical_2',\n",
    "    'Answer.atypical_3',\n",
    "    'Answer.pc_1',\n",
    "    'Answer.pc_2',\n",
    "    'Answer.pc_3',\n",
    "    'Answer.effectiveness',\n",
    "    'Answer.overall',\n",
    "]\n",
    "\n",
    "for question in question_lst:\n",
    "    kappa_data = all_combined[['unique_id'] + [col for col in all_combined.columns if question in col]].groupby('unique_id').agg('sum')\n",
    "    print(question, statsmodels.stats.inter_rater.fleiss_kappa(kappa_data, 'fleiss'))"
   ]
  },
  {
   "cell_type": "code",
   "execution_count": null,
   "metadata": {},
   "outputs": [],
   "source": []
  },
  {
   "cell_type": "code",
   "execution_count": null,
   "metadata": {},
   "outputs": [],
   "source": []
  },
  {
   "cell_type": "code",
   "execution_count": 192,
   "metadata": {},
   "outputs": [],
   "source": [
    "# # add ground truth answers\n",
    "# for col in valid_worker_results.columns:\n",
    "#     if 'Answer' in col and '.groundtruth' not in col:\n",
    "#         tmp_answers = []\n",
    "#         for i in range(valid_worker_results.shape[0]):\n",
    "#             tmp_ads_id = valid_worker_results['Input.ads_id'][i]\n",
    "#             groundtruth = mturk_groundtruth.loc[tmp_ads_id][col]\n",
    "#             tmp_answers.append(groundtruth)\n",
    "#         valid_worker_results[col + '.groundtruth'] = tmp_answers"
   ]
  },
  {
   "cell_type": "code",
   "execution_count": 193,
   "metadata": {},
   "outputs": [],
   "source": [
    "# col_name = 'pc_1'\n",
    "# mturk_groundtruth"
   ]
  },
  {
   "cell_type": "markdown",
   "metadata": {},
   "source": [
    "### 3.4.4 Add Whitelist workers"
   ]
  },
  {
   "cell_type": "code",
   "execution_count": 216,
   "metadata": {},
   "outputs": [
    {
     "data": {
      "text/plain": [
       "((263, 22), (64, 1))"
      ]
     },
     "execution_count": 216,
     "metadata": {},
     "output_type": "execute_result"
    }
   ],
   "source": [
    "whitelist_df = pd.read_csv(mturk_data_dir + 'workers/whitelist_rosie.csv')\n",
    "worker_df = pd.read_csv(mturk_data_dir + 'workers/workers_0513_v1.csv')\n",
    "worker_df.shape, whitelist_df.shape"
   ]
  },
  {
   "cell_type": "code",
   "execution_count": 217,
   "metadata": {},
   "outputs": [
    {
     "data": {
      "text/plain": [
       "(327, 22)"
      ]
     },
     "execution_count": 217,
     "metadata": {},
     "output_type": "execute_result"
    }
   ],
   "source": [
    "empty_worker_df = copy.deepcopy(worker_df.iloc[[0]])\n",
    "all_new_worker_df = []\n",
    "for new_worker_id in whitelist_df.WorkerId.values:\n",
    "    tmp_empty_worker_df = copy.deepcopy(empty_worker_df)\n",
    "    tmp_empty_worker_df['Worker ID'] = new_worker_id\n",
    "    tmp_empty_worker_df['Link to Individual Worker Page'] = 'https://requester.mturk.com/workers/' + new_worker_id\n",
    "    tmp_empty_worker_df[\"UPDATE-Rosie's White List\"] = 100\n",
    "    for col in tmp_empty_worker_df.columns:\n",
    "        if 'Number of' in col: tmp_empty_worker_df[col] = 0\n",
    "        if 'approval rate' in col: tmp_empty_worker_df[col] = '0.00%'\n",
    "    all_new_worker_df.append(tmp_empty_worker_df)\n",
    "new_worker_df = pd.concat(all_new_worker_df)\n",
    "complete_worker_df = pd.concat([new_worker_df, worker_df])\n",
    "complete_worker_df.shape"
   ]
  },
  {
   "cell_type": "code",
   "execution_count": 218,
   "metadata": {},
   "outputs": [],
   "source": [
    "# complete_worker_df.to_csv(mturk_data_dir + 'workers/workers_0513_v1_updated.csv', index=False)"
   ]
  },
  {
   "cell_type": "code",
   "execution_count": 215,
   "metadata": {},
   "outputs": [
    {
     "data": {
      "text/html": [
       "<div>\n",
       "<style scoped>\n",
       "    .dataframe tbody tr th:only-of-type {\n",
       "        vertical-align: middle;\n",
       "    }\n",
       "\n",
       "    .dataframe tbody tr th {\n",
       "        vertical-align: top;\n",
       "    }\n",
       "\n",
       "    .dataframe thead th {\n",
       "        text-align: right;\n",
       "    }\n",
       "</style>\n",
       "<table border=\"1\" class=\"dataframe\">\n",
       "  <thead>\n",
       "    <tr style=\"text-align: right;\">\n",
       "      <th></th>\n",
       "      <th>Worker ID</th>\n",
       "      <th>Link to Individual Worker Page</th>\n",
       "      <th>Number of HITs approved or rejected - Lifetime</th>\n",
       "      <th>Number of HITs approved - Lifetime</th>\n",
       "      <th>Your Lifetime approval rate</th>\n",
       "      <th>Number of HITs approved or rejected - Last 30 days</th>\n",
       "      <th>Number of HITs approved - Last 30 days</th>\n",
       "      <th>Your Last 30 days approval rate</th>\n",
       "      <th>Number of HITs approved or rejected - Last 7 days</th>\n",
       "      <th>Number of HITs approved - Last 7 days</th>\n",
       "      <th>...</th>\n",
       "      <th>UPDATE-self</th>\n",
       "      <th>CURRENT-Rosie's White List</th>\n",
       "      <th>UPDATE-Rosie's White List</th>\n",
       "      <th>CURRENT-Ads Creativity - v2</th>\n",
       "      <th>UPDATE-Ads Creativity - v2</th>\n",
       "      <th>CURRENT-Ads Creativity - Good</th>\n",
       "      <th>UPDATE-Ads Creativity - Good</th>\n",
       "      <th>CURRENT BlockStatus</th>\n",
       "      <th>UPDATE BlockStatus</th>\n",
       "      <th>BlockReason</th>\n",
       "    </tr>\n",
       "  </thead>\n",
       "  <tbody>\n",
       "    <tr>\n",
       "      <th>0</th>\n",
       "      <td>A2Y7FD1D7PUGBL</td>\n",
       "      <td>https://requester.mturk.com/workers/A2Y7FD1D7P...</td>\n",
       "      <td>0</td>\n",
       "      <td>0</td>\n",
       "      <td>0.00%</td>\n",
       "      <td>0</td>\n",
       "      <td>0</td>\n",
       "      <td>0.00%</td>\n",
       "      <td>0</td>\n",
       "      <td>0</td>\n",
       "      <td>...</td>\n",
       "      <td>NaN</td>\n",
       "      <td>NaN</td>\n",
       "      <td>100.0</td>\n",
       "      <td>0</td>\n",
       "      <td>NaN</td>\n",
       "      <td>NaN</td>\n",
       "      <td>NaN</td>\n",
       "      <td>Never Blocked</td>\n",
       "      <td>NaN</td>\n",
       "      <td>NaN</td>\n",
       "    </tr>\n",
       "    <tr>\n",
       "      <th>0</th>\n",
       "      <td>A2VO8C41JJIQY9</td>\n",
       "      <td>https://requester.mturk.com/workers/A2VO8C41JJ...</td>\n",
       "      <td>0</td>\n",
       "      <td>0</td>\n",
       "      <td>0.00%</td>\n",
       "      <td>0</td>\n",
       "      <td>0</td>\n",
       "      <td>0.00%</td>\n",
       "      <td>0</td>\n",
       "      <td>0</td>\n",
       "      <td>...</td>\n",
       "      <td>NaN</td>\n",
       "      <td>NaN</td>\n",
       "      <td>100.0</td>\n",
       "      <td>0</td>\n",
       "      <td>NaN</td>\n",
       "      <td>NaN</td>\n",
       "      <td>NaN</td>\n",
       "      <td>Never Blocked</td>\n",
       "      <td>NaN</td>\n",
       "      <td>NaN</td>\n",
       "    </tr>\n",
       "    <tr>\n",
       "      <th>0</th>\n",
       "      <td>A48WNR6C4CI3J</td>\n",
       "      <td>https://requester.mturk.com/workers/A48WNR6C4CI3J</td>\n",
       "      <td>0</td>\n",
       "      <td>0</td>\n",
       "      <td>0.00%</td>\n",
       "      <td>0</td>\n",
       "      <td>0</td>\n",
       "      <td>0.00%</td>\n",
       "      <td>0</td>\n",
       "      <td>0</td>\n",
       "      <td>...</td>\n",
       "      <td>NaN</td>\n",
       "      <td>NaN</td>\n",
       "      <td>100.0</td>\n",
       "      <td>0</td>\n",
       "      <td>NaN</td>\n",
       "      <td>NaN</td>\n",
       "      <td>NaN</td>\n",
       "      <td>Never Blocked</td>\n",
       "      <td>NaN</td>\n",
       "      <td>NaN</td>\n",
       "    </tr>\n",
       "    <tr>\n",
       "      <th>0</th>\n",
       "      <td>A3BUWQ5C39GRQC</td>\n",
       "      <td>https://requester.mturk.com/workers/A3BUWQ5C39...</td>\n",
       "      <td>0</td>\n",
       "      <td>0</td>\n",
       "      <td>0.00%</td>\n",
       "      <td>0</td>\n",
       "      <td>0</td>\n",
       "      <td>0.00%</td>\n",
       "      <td>0</td>\n",
       "      <td>0</td>\n",
       "      <td>...</td>\n",
       "      <td>NaN</td>\n",
       "      <td>NaN</td>\n",
       "      <td>100.0</td>\n",
       "      <td>0</td>\n",
       "      <td>NaN</td>\n",
       "      <td>NaN</td>\n",
       "      <td>NaN</td>\n",
       "      <td>Never Blocked</td>\n",
       "      <td>NaN</td>\n",
       "      <td>NaN</td>\n",
       "    </tr>\n",
       "    <tr>\n",
       "      <th>0</th>\n",
       "      <td>A3B7TNVOISSZ2O</td>\n",
       "      <td>https://requester.mturk.com/workers/A3B7TNVOIS...</td>\n",
       "      <td>0</td>\n",
       "      <td>0</td>\n",
       "      <td>0.00%</td>\n",
       "      <td>0</td>\n",
       "      <td>0</td>\n",
       "      <td>0.00%</td>\n",
       "      <td>0</td>\n",
       "      <td>0</td>\n",
       "      <td>...</td>\n",
       "      <td>NaN</td>\n",
       "      <td>NaN</td>\n",
       "      <td>100.0</td>\n",
       "      <td>0</td>\n",
       "      <td>NaN</td>\n",
       "      <td>NaN</td>\n",
       "      <td>NaN</td>\n",
       "      <td>Never Blocked</td>\n",
       "      <td>NaN</td>\n",
       "      <td>NaN</td>\n",
       "    </tr>\n",
       "    <tr>\n",
       "      <th>...</th>\n",
       "      <td>...</td>\n",
       "      <td>...</td>\n",
       "      <td>...</td>\n",
       "      <td>...</td>\n",
       "      <td>...</td>\n",
       "      <td>...</td>\n",
       "      <td>...</td>\n",
       "      <td>...</td>\n",
       "      <td>...</td>\n",
       "      <td>...</td>\n",
       "      <td>...</td>\n",
       "      <td>...</td>\n",
       "      <td>...</td>\n",
       "      <td>...</td>\n",
       "      <td>...</td>\n",
       "      <td>...</td>\n",
       "      <td>...</td>\n",
       "      <td>...</td>\n",
       "      <td>...</td>\n",
       "      <td>...</td>\n",
       "      <td>...</td>\n",
       "    </tr>\n",
       "    <tr>\n",
       "      <th>258</th>\n",
       "      <td>AXKXVUS9RU633</td>\n",
       "      <td>https://requester.mturk.com/workers/AXKXVUS9RU633</td>\n",
       "      <td>1</td>\n",
       "      <td>1</td>\n",
       "      <td>100.00%</td>\n",
       "      <td>1</td>\n",
       "      <td>1</td>\n",
       "      <td>100.00%</td>\n",
       "      <td>1</td>\n",
       "      <td>1</td>\n",
       "      <td>...</td>\n",
       "      <td>NaN</td>\n",
       "      <td>NaN</td>\n",
       "      <td>NaN</td>\n",
       "      <td>0</td>\n",
       "      <td>NaN</td>\n",
       "      <td>NaN</td>\n",
       "      <td>NaN</td>\n",
       "      <td>Never Blocked</td>\n",
       "      <td>NaN</td>\n",
       "      <td>NaN</td>\n",
       "    </tr>\n",
       "    <tr>\n",
       "      <th>259</th>\n",
       "      <td>AXMHKU12SV7YV</td>\n",
       "      <td>https://requester.mturk.com/workers/AXMHKU12SV7YV</td>\n",
       "      <td>2</td>\n",
       "      <td>2</td>\n",
       "      <td>100.00%</td>\n",
       "      <td>2</td>\n",
       "      <td>2</td>\n",
       "      <td>100.00%</td>\n",
       "      <td>2</td>\n",
       "      <td>2</td>\n",
       "      <td>...</td>\n",
       "      <td>NaN</td>\n",
       "      <td>NaN</td>\n",
       "      <td>NaN</td>\n",
       "      <td>0</td>\n",
       "      <td>NaN</td>\n",
       "      <td>NaN</td>\n",
       "      <td>NaN</td>\n",
       "      <td>Never Blocked</td>\n",
       "      <td>NaN</td>\n",
       "      <td>NaN</td>\n",
       "    </tr>\n",
       "    <tr>\n",
       "      <th>260</th>\n",
       "      <td>AXZXKNWM4WCJL</td>\n",
       "      <td>https://requester.mturk.com/workers/AXZXKNWM4WCJL</td>\n",
       "      <td>1</td>\n",
       "      <td>1</td>\n",
       "      <td>100.00%</td>\n",
       "      <td>1</td>\n",
       "      <td>1</td>\n",
       "      <td>100.00%</td>\n",
       "      <td>1</td>\n",
       "      <td>1</td>\n",
       "      <td>...</td>\n",
       "      <td>NaN</td>\n",
       "      <td>NaN</td>\n",
       "      <td>NaN</td>\n",
       "      <td>0</td>\n",
       "      <td>NaN</td>\n",
       "      <td>NaN</td>\n",
       "      <td>NaN</td>\n",
       "      <td>Never Blocked</td>\n",
       "      <td>NaN</td>\n",
       "      <td>NaN</td>\n",
       "    </tr>\n",
       "    <tr>\n",
       "      <th>261</th>\n",
       "      <td>AY9IJLAPO4JMC</td>\n",
       "      <td>https://requester.mturk.com/workers/AY9IJLAPO4JMC</td>\n",
       "      <td>1</td>\n",
       "      <td>1</td>\n",
       "      <td>100.00%</td>\n",
       "      <td>1</td>\n",
       "      <td>1</td>\n",
       "      <td>100.00%</td>\n",
       "      <td>1</td>\n",
       "      <td>1</td>\n",
       "      <td>...</td>\n",
       "      <td>NaN</td>\n",
       "      <td>NaN</td>\n",
       "      <td>NaN</td>\n",
       "      <td>0</td>\n",
       "      <td>NaN</td>\n",
       "      <td>NaN</td>\n",
       "      <td>NaN</td>\n",
       "      <td>Never Blocked</td>\n",
       "      <td>NaN</td>\n",
       "      <td>NaN</td>\n",
       "    </tr>\n",
       "    <tr>\n",
       "      <th>262</th>\n",
       "      <td>AYLB3I3ZL84K1</td>\n",
       "      <td>https://requester.mturk.com/workers/AYLB3I3ZL84K1</td>\n",
       "      <td>1</td>\n",
       "      <td>1</td>\n",
       "      <td>100.00%</td>\n",
       "      <td>1</td>\n",
       "      <td>1</td>\n",
       "      <td>100.00%</td>\n",
       "      <td>1</td>\n",
       "      <td>1</td>\n",
       "      <td>...</td>\n",
       "      <td>NaN</td>\n",
       "      <td>NaN</td>\n",
       "      <td>NaN</td>\n",
       "      <td>0</td>\n",
       "      <td>NaN</td>\n",
       "      <td>NaN</td>\n",
       "      <td>NaN</td>\n",
       "      <td>Never Blocked</td>\n",
       "      <td>NaN</td>\n",
       "      <td>NaN</td>\n",
       "    </tr>\n",
       "  </tbody>\n",
       "</table>\n",
       "<p>327 rows × 22 columns</p>\n",
       "</div>"
      ],
      "text/plain": [
       "          Worker ID                     Link to Individual Worker Page  \\\n",
       "0    A2Y7FD1D7PUGBL  https://requester.mturk.com/workers/A2Y7FD1D7P...   \n",
       "0    A2VO8C41JJIQY9  https://requester.mturk.com/workers/A2VO8C41JJ...   \n",
       "0     A48WNR6C4CI3J  https://requester.mturk.com/workers/A48WNR6C4CI3J   \n",
       "0    A3BUWQ5C39GRQC  https://requester.mturk.com/workers/A3BUWQ5C39...   \n",
       "0    A3B7TNVOISSZ2O  https://requester.mturk.com/workers/A3B7TNVOIS...   \n",
       "..              ...                                                ...   \n",
       "258   AXKXVUS9RU633  https://requester.mturk.com/workers/AXKXVUS9RU633   \n",
       "259   AXMHKU12SV7YV  https://requester.mturk.com/workers/AXMHKU12SV7YV   \n",
       "260   AXZXKNWM4WCJL  https://requester.mturk.com/workers/AXZXKNWM4WCJL   \n",
       "261   AY9IJLAPO4JMC  https://requester.mturk.com/workers/AY9IJLAPO4JMC   \n",
       "262   AYLB3I3ZL84K1  https://requester.mturk.com/workers/AYLB3I3ZL84K1   \n",
       "\n",
       "     Number of HITs approved or rejected - Lifetime  \\\n",
       "0                                                 0   \n",
       "0                                                 0   \n",
       "0                                                 0   \n",
       "0                                                 0   \n",
       "0                                                 0   \n",
       "..                                              ...   \n",
       "258                                               1   \n",
       "259                                               2   \n",
       "260                                               1   \n",
       "261                                               1   \n",
       "262                                               1   \n",
       "\n",
       "     Number of HITs approved - Lifetime Your Lifetime approval rate  \\\n",
       "0                                     0                       0.00%   \n",
       "0                                     0                       0.00%   \n",
       "0                                     0                       0.00%   \n",
       "0                                     0                       0.00%   \n",
       "0                                     0                       0.00%   \n",
       "..                                  ...                         ...   \n",
       "258                                   1                     100.00%   \n",
       "259                                   2                     100.00%   \n",
       "260                                   1                     100.00%   \n",
       "261                                   1                     100.00%   \n",
       "262                                   1                     100.00%   \n",
       "\n",
       "     Number of HITs approved or rejected - Last 30 days  \\\n",
       "0                                                    0    \n",
       "0                                                    0    \n",
       "0                                                    0    \n",
       "0                                                    0    \n",
       "0                                                    0    \n",
       "..                                                 ...    \n",
       "258                                                  1    \n",
       "259                                                  2    \n",
       "260                                                  1    \n",
       "261                                                  1    \n",
       "262                                                  1    \n",
       "\n",
       "     Number of HITs approved - Last 30 days Your Last 30 days approval rate  \\\n",
       "0                                         0                           0.00%   \n",
       "0                                         0                           0.00%   \n",
       "0                                         0                           0.00%   \n",
       "0                                         0                           0.00%   \n",
       "0                                         0                           0.00%   \n",
       "..                                      ...                             ...   \n",
       "258                                       1                         100.00%   \n",
       "259                                       2                         100.00%   \n",
       "260                                       1                         100.00%   \n",
       "261                                       1                         100.00%   \n",
       "262                                       1                         100.00%   \n",
       "\n",
       "     Number of HITs approved or rejected - Last 7 days  \\\n",
       "0                                                    0   \n",
       "0                                                    0   \n",
       "0                                                    0   \n",
       "0                                                    0   \n",
       "0                                                    0   \n",
       "..                                                 ...   \n",
       "258                                                  1   \n",
       "259                                                  2   \n",
       "260                                                  1   \n",
       "261                                                  1   \n",
       "262                                                  1   \n",
       "\n",
       "     Number of HITs approved - Last 7 days  ... UPDATE-self  \\\n",
       "0                                        0  ...         NaN   \n",
       "0                                        0  ...         NaN   \n",
       "0                                        0  ...         NaN   \n",
       "0                                        0  ...         NaN   \n",
       "0                                        0  ...         NaN   \n",
       "..                                     ...  ...         ...   \n",
       "258                                      1  ...         NaN   \n",
       "259                                      2  ...         NaN   \n",
       "260                                      1  ...         NaN   \n",
       "261                                      1  ...         NaN   \n",
       "262                                      1  ...         NaN   \n",
       "\n",
       "     CURRENT-Rosie's White List  UPDATE-Rosie's White List  \\\n",
       "0                           NaN                      100.0   \n",
       "0                           NaN                      100.0   \n",
       "0                           NaN                      100.0   \n",
       "0                           NaN                      100.0   \n",
       "0                           NaN                      100.0   \n",
       "..                          ...                        ...   \n",
       "258                         NaN                        NaN   \n",
       "259                         NaN                        NaN   \n",
       "260                         NaN                        NaN   \n",
       "261                         NaN                        NaN   \n",
       "262                         NaN                        NaN   \n",
       "\n",
       "     CURRENT-Ads Creativity - v2  UPDATE-Ads Creativity - v2  \\\n",
       "0                              0                         NaN   \n",
       "0                              0                         NaN   \n",
       "0                              0                         NaN   \n",
       "0                              0                         NaN   \n",
       "0                              0                         NaN   \n",
       "..                           ...                         ...   \n",
       "258                            0                         NaN   \n",
       "259                            0                         NaN   \n",
       "260                            0                         NaN   \n",
       "261                            0                         NaN   \n",
       "262                            0                         NaN   \n",
       "\n",
       "     CURRENT-Ads Creativity - Good  UPDATE-Ads Creativity - Good  \\\n",
       "0                              NaN                           NaN   \n",
       "0                              NaN                           NaN   \n",
       "0                              NaN                           NaN   \n",
       "0                              NaN                           NaN   \n",
       "0                              NaN                           NaN   \n",
       "..                             ...                           ...   \n",
       "258                            NaN                           NaN   \n",
       "259                            NaN                           NaN   \n",
       "260                            NaN                           NaN   \n",
       "261                            NaN                           NaN   \n",
       "262                            NaN                           NaN   \n",
       "\n",
       "     CURRENT BlockStatus  UPDATE BlockStatus BlockReason  \n",
       "0          Never Blocked                 NaN         NaN  \n",
       "0          Never Blocked                 NaN         NaN  \n",
       "0          Never Blocked                 NaN         NaN  \n",
       "0          Never Blocked                 NaN         NaN  \n",
       "0          Never Blocked                 NaN         NaN  \n",
       "..                   ...                 ...         ...  \n",
       "258        Never Blocked                 NaN         NaN  \n",
       "259        Never Blocked                 NaN         NaN  \n",
       "260        Never Blocked                 NaN         NaN  \n",
       "261        Never Blocked                 NaN         NaN  \n",
       "262        Never Blocked                 NaN         NaN  \n",
       "\n",
       "[327 rows x 22 columns]"
      ]
     },
     "execution_count": 215,
     "metadata": {},
     "output_type": "execute_result"
    }
   ],
   "source": [
    "complete_worker_df"
   ]
  },
  {
   "cell_type": "code",
   "execution_count": null,
   "metadata": {},
   "outputs": [],
   "source": []
  }
 ],
 "metadata": {
  "kernelspec": {
   "display_name": "Python 3",
   "language": "python",
   "name": "python3"
  },
  "language_info": {
   "codemirror_mode": {
    "name": "ipython",
    "version": 3
   },
   "file_extension": ".py",
   "mimetype": "text/x-python",
   "name": "python",
   "nbconvert_exporter": "python",
   "pygments_lexer": "ipython3",
   "version": "3.10.15"
  }
 },
 "nbformat": 4,
 "nbformat_minor": 2
}
