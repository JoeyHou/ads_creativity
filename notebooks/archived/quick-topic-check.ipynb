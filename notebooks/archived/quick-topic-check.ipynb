{
 "cells": [
  {
   "cell_type": "code",
   "execution_count": 12,
   "metadata": {},
   "outputs": [],
   "source": [
    "import pandas as pd\n",
    "import json \n",
    "import numpy as np\n",
    "\n",
    "def load_json(filename):\n",
    "    \"\"\"\n",
    "    Load a JSON file given a filename\n",
    "    If the file doesn't exist, then return an empty dictionary instead\n",
    "    \"\"\"\n",
    "    try:\n",
    "        with open(filename, 'r') as f:\n",
    "            return json.load(f)\n",
    "    except FileNotFoundError:\n",
    "        return {}\n",
    "    \n",
    "def get_majority(lst):\n",
    "    unique_values, counts = np.unique(lst, return_counts = True)\n",
    "    return sorted(list(zip(unique_values, counts)), key = lambda p: p[1], reverse = True)[0][0]\n",
    "\n",
    "# get_majority([0, 0, 1, 2, 2, 2])"
   ]
  },
  {
   "cell_type": "code",
   "execution_count": 4,
   "metadata": {},
   "outputs": [
    {
     "data": {
      "text/html": [
       "<div>\n",
       "<style scoped>\n",
       "    .dataframe tbody tr th:only-of-type {\n",
       "        vertical-align: middle;\n",
       "    }\n",
       "\n",
       "    .dataframe tbody tr th {\n",
       "        vertical-align: top;\n",
       "    }\n",
       "\n",
       "    .dataframe thead th {\n",
       "        text-align: right;\n",
       "    }\n",
       "</style>\n",
       "<table border=\"1\" class=\"dataframe\">\n",
       "  <thead>\n",
       "    <tr style=\"text-align: right;\">\n",
       "      <th></th>\n",
       "      <th>ads_id</th>\n",
       "      <th>atypical</th>\n",
       "      <th>image_url</th>\n",
       "      <th>topic</th>\n",
       "      <th>example_1</th>\n",
       "      <th>example_2</th>\n",
       "      <th>action_a</th>\n",
       "      <th>action_b</th>\n",
       "      <th>action_c</th>\n",
       "      <th>action_d</th>\n",
       "      <th>action_e</th>\n",
       "      <th>action_correct</th>\n",
       "    </tr>\n",
       "  </thead>\n",
       "  <tbody>\n",
       "    <tr>\n",
       "      <th>0</th>\n",
       "      <td>0/84620.jpg</td>\n",
       "      <td>True</td>\n",
       "      <td>https://people.cs.pitt.edu/~mzhang/image_ads/0...</td>\n",
       "      <td>\"Media and arts (TV shows, movies, musicals, b...</td>\n",
       "      <td>https://people.cs.pitt.edu/~mzhang/image_ads/1...</td>\n",
       "      <td>https://people.cs.pitt.edu/~mzhang/image_ads/0...</td>\n",
       "      <td>I should get a porsche</td>\n",
       "      <td>I should get some tap shoes.</td>\n",
       "      <td>i should try this product</td>\n",
       "      <td>I should eat kfc</td>\n",
       "      <td>i should want to go here</td>\n",
       "      <td>b</td>\n",
       "    </tr>\n",
       "    <tr>\n",
       "      <th>1</th>\n",
       "      <td>0/85300.jpg</td>\n",
       "      <td>False</td>\n",
       "      <td>https://people.cs.pitt.edu/~mzhang/image_ads/0...</td>\n",
       "      <td>\"Vacation and travel (airlines, cruises, theme...</td>\n",
       "      <td>https://people.cs.pitt.edu/~mzhang/image_ads/1...</td>\n",
       "      <td>https://people.cs.pitt.edu/~mzhang/image_ads/0...</td>\n",
       "      <td>I should visit this place</td>\n",
       "      <td>I should buy these undergarments.</td>\n",
       "      <td>I should take photos when I travel.</td>\n",
       "      <td>I should buy this product because it provides ...</td>\n",
       "      <td>I should use Olay soap</td>\n",
       "      <td>c</td>\n",
       "    </tr>\n",
       "  </tbody>\n",
       "</table>\n",
       "</div>"
      ],
      "text/plain": [
       "        ads_id  atypical                                          image_url  \\\n",
       "0  0/84620.jpg      True  https://people.cs.pitt.edu/~mzhang/image_ads/0...   \n",
       "1  0/85300.jpg     False  https://people.cs.pitt.edu/~mzhang/image_ads/0...   \n",
       "\n",
       "                                               topic  \\\n",
       "0  \"Media and arts (TV shows, movies, musicals, b...   \n",
       "1  \"Vacation and travel (airlines, cruises, theme...   \n",
       "\n",
       "                                           example_1  \\\n",
       "0  https://people.cs.pitt.edu/~mzhang/image_ads/1...   \n",
       "1  https://people.cs.pitt.edu/~mzhang/image_ads/1...   \n",
       "\n",
       "                                           example_2  \\\n",
       "0  https://people.cs.pitt.edu/~mzhang/image_ads/0...   \n",
       "1  https://people.cs.pitt.edu/~mzhang/image_ads/0...   \n",
       "\n",
       "                    action_a                           action_b  \\\n",
       "0     I should get a porsche       I should get some tap shoes.   \n",
       "1  I should visit this place  I should buy these undergarments.   \n",
       "\n",
       "                              action_c  \\\n",
       "0            i should try this product   \n",
       "1  I should take photos when I travel.   \n",
       "\n",
       "                                            action_d  \\\n",
       "0                                   I should eat kfc   \n",
       "1  I should buy this product because it provides ...   \n",
       "\n",
       "                   action_e action_correct  \n",
       "0  i should want to go here              b  \n",
       "1    I should use Olay soap              c  "
      ]
     },
     "execution_count": 4,
     "metadata": {},
     "output_type": "execute_result"
    }
   ],
   "source": [
    "mturk_data = pd.read_csv('../../pitt_ads/mturk_data/subset_0.5/subset_ads_data_0.5.csv')\n",
    "mturk_data.head(2)"
   ]
  },
  {
   "cell_type": "code",
   "execution_count": 8,
   "metadata": {},
   "outputs": [],
   "source": [
    "topic_data = load_json('../../pitt_ads/annotations_images/image/Topics.json')\n",
    "# topic_data"
   ]
  },
  {
   "cell_type": "code",
   "execution_count": 13,
   "metadata": {},
   "outputs": [],
   "source": [
    "mturk_data['topic'] = mturk_data.ads_id.apply(lambda x: get_majority(topic_data[x]))"
   ]
  },
  {
   "cell_type": "code",
   "execution_count": 17,
   "metadata": {},
   "outputs": [
    {
     "data": {
      "text/plain": [
       "topic\n",
       "19    4\n",
       "9     3\n",
       "17    3\n",
       "1     2\n",
       "10    2\n",
       "26    1\n",
       "25    1\n",
       "8     1\n",
       "3     1\n",
       "16    1\n",
       "31    1\n",
       "Name: count, dtype: int64"
      ]
     },
     "execution_count": 17,
     "metadata": {},
     "output_type": "execute_result"
    }
   ],
   "source": [
    "mturk_data['topic'].value_counts()"
   ]
  },
  {
   "cell_type": "code",
   "execution_count": 19,
   "metadata": {},
   "outputs": [],
   "source": [
    "all_topics = [get_majority(d) for d in topic_data.values()]"
   ]
  },
  {
   "cell_type": "code",
   "execution_count": 21,
   "metadata": {},
   "outputs": [
    {
     "data": {
      "text/plain": [
       "[('19', 8751),\n",
       " ('9', 7058),\n",
       " ('17', 6103),\n",
       " ('1', 4415),\n",
       " ('10', 4397),\n",
       " ('8', 4089),\n",
       " ('2', 3940),\n",
       " ('6', 2812),\n",
       " ('27', 2578),\n",
       " ('25', 2158),\n",
       " ('3', 1835),\n",
       " ('12', 1788),\n",
       " ('28', 1757),\n",
       " ('26', 1398),\n",
       " ('16', 1289),\n",
       " ('18', 1168),\n",
       " ('11', 851),\n",
       " ('4', 738),\n",
       " ('7', 714),\n",
       " ('31', 642),\n",
       " ('21', 630),\n",
       " ('34', 615),\n",
       " ('24', 600),\n",
       " ('33', 552),\n",
       " ('39', 551),\n",
       " ('30', 494),\n",
       " ('15', 439),\n",
       " ('32', 299),\n",
       " ('23', 297),\n",
       " ('35', 239),\n",
       " ('13', 236),\n",
       " ('36', 229),\n",
       " ('22', 221),\n",
       " ('20', 105),\n",
       " ('14', 85),\n",
       " ('38', 84),\n",
       " ('37', 71),\n",
       " ('5', 36),\n",
       " ('29', 32),\n",
       " ('', 7),\n",
       " ('Tobacco', 5),\n",
       " ('Bread', 3),\n",
       " ('Boats', 2),\n",
       " ('Lighters', 2),\n",
       " ('Office Supplies', 2),\n",
       " ('firearms', 2),\n",
       " ('office supplies', 2),\n",
       " (' Utility companies ', 1),\n",
       " ('Airplane sales ', 1),\n",
       " ('Bacon', 1),\n",
       " ('Building materials', 1),\n",
       " ('Carter Ink', 1),\n",
       " ('Drug abuse', 1),\n",
       " ('Drumsticks', 1),\n",
       " ('Event', 1),\n",
       " ('Food', 1),\n",
       " ('Glue', 1),\n",
       " ('Meat', 1),\n",
       " ('Pen ad', 1),\n",
       " ('Real Estate: Apartments and Homes', 1),\n",
       " ('Seafood', 1),\n",
       " ('US Army', 1),\n",
       " ('drug paraphernalia ', 1),\n",
       " ('fast meal, vegetables, frozen food', 1),\n",
       " ('furniture', 1),\n",
       " ('motorcycles', 1)]"
      ]
     },
     "execution_count": 21,
     "metadata": {},
     "output_type": "execute_result"
    }
   ],
   "source": [
    "unique_values, counts = np.unique(all_topics, return_counts= True)\n",
    "sorted(list(zip(unique_values, counts)), key = lambda p: p[1], reverse = True)"
   ]
  },
  {
   "cell_type": "code",
   "execution_count": null,
   "metadata": {},
   "outputs": [],
   "source": []
  },
  {
   "cell_type": "code",
   "execution_count": 1,
   "metadata": {},
   "outputs": [],
   "source": [
    "import pickle \n"
   ]
  },
  {
   "cell_type": "code",
   "execution_count": 9,
   "metadata": {},
   "outputs": [
    {
     "name": "stdout",
     "output_type": "stream",
     "text": [
      "Score: 1\n",
      "\n",
      "Reasoning: The advertisement appears to be quite typical for an outdoor apparel brand. It features a person engaging in mountain climbing, dressed in gear that is being promoted for its breathability and suitability for extreme conditions. The brand logo is prominently displayed, and there is a clear marketing message highlighting the product's functionality. The setting is appropriate for the product being advertised, and there are no unusual or abnormal objects or atypical connotations present. It's a standard, expected form of advertisement for such products.\n",
      "++++++++++\n",
      "Score: 4\n",
      "\n",
      "Reasoning: The advertisement features an anthropomorphic bottle of Coca-Cola, with a human face superimposed on the neck of the bottle. This is unusual because it combines a human face with an inanimate object in a way that is not typically seen in either real life or standard advertising; it's a creative personification that leans towards the surreal. Additionally, the facial expression and the bottle cap as a sort of hat contribute to a whimsical, if not slightly uncanny, appearance. This level of anthropomorphism in product advertising is not commonplace, hence the higher score on the scale of unusualness.\n",
      "++++++++++\n",
      "Score: 4\n",
      "\n",
      "Reasoning: The advertisement features a prosthetic arm holding a beer can, which is not a common or typical image you'd see in an advertisement, especially for an automotive company like Volkswagen. The use of a prosthetic limb suggests a focus on responsibility and the potential consequences of driving under the influence, which is a serious and important narrative but is presented in a way that is likely to catch the viewer off guard. The abnormality lies in the shock value of the prosthetic limb and the unexpected juxtaposition of a common symbol of alcohol consumption with a message of vehicle safety and driver responsibility. This makes the advertisement more memorable and powerful in delivering its message, but also unusual in comparison to more straightforward automotive safety ads.\n",
      "++++++++++\n"
     ]
    }
   ],
   "source": [
    "batch_pred_gpt4 = pickle.load(open('../../crc/batch_pred_gpt4.pkl', 'rb'))\n",
    "for dp in batch_pred_gpt4['intrinsic']['atypicality'][:3]:\n",
    "    print(dp['labels'][1])\n",
    "    print('++++++++++')"
   ]
  },
  {
   "cell_type": "code",
   "execution_count": null,
   "metadata": {},
   "outputs": [],
   "source": []
  },
  {
   "cell_type": "code",
   "execution_count": null,
   "metadata": {},
   "outputs": [],
   "source": []
  }
 ],
 "metadata": {
  "kernelspec": {
   "display_name": "dsml39",
   "language": "python",
   "name": "python3"
  },
  "language_info": {
   "codemirror_mode": {
    "name": "ipython",
    "version": 3
   },
   "file_extension": ".py",
   "mimetype": "text/x-python",
   "name": "python",
   "nbconvert_exporter": "python",
   "pygments_lexer": "ipython3",
   "version": "3.9.18"
  }
 },
 "nbformat": 4,
 "nbformat_minor": 2
}
