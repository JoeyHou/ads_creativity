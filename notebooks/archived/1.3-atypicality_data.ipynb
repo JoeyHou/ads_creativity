{
 "cells": [
  {
   "cell_type": "code",
   "execution_count": 65,
   "metadata": {},
   "outputs": [],
   "source": [
    "import json\n",
    "import jsonlines\n",
    "# from datetime import datetime\n",
    "import numpy as np\n",
    "import pandas as pd\n",
    "import seaborn as sns\n",
    "import random\n",
    "random.seed(1)\n",
    "from tqdm import tqdm \n",
    "\n",
    "import math \n",
    "import statsmodels.stats.inter_rater\n",
    "from scipy import stats\n",
    "from sklearn.metrics import accuracy_score\n",
    "\n",
    "import copy\n",
    "import pickle\n",
    "import os\n",
    "import re\n",
    "\n",
    "import sys \n",
    "sys.path.insert(1, '../src/')\n",
    "from utils import (\n",
    "    load_json,\n",
    "    write_json,\n",
    "    load_jsonl,\n",
    "    write_jsonl,\n",
    "    openai_call\n",
    ")\n",
    "data_dir = '../../pitt_ads/'\n",
    "mturk_data_dir = '../../pitt_ads/mturk_data/'\n",
    "annotation_dir = data_dir + 'annotations_images/image/'"
   ]
  },
  {
   "cell_type": "markdown",
   "metadata": {},
   "source": [
    "# 1 Load Data"
   ]
  },
  {
   "cell_type": "code",
   "execution_count": 93,
   "metadata": {},
   "outputs": [],
   "source": [
    "sampled_ads_id_200 = pickle.load(open(mturk_data_dir + 'sampled_ads_id_200.pkl', 'rb'))\n",
    "atypicality_df = pd.read_csv(data_dir + 'atypicality_annotations_final_csv.csv').dropna(subset = ['image_url'])"
   ]
  },
  {
   "cell_type": "code",
   "execution_count": 94,
   "metadata": {},
   "outputs": [],
   "source": [
    "# atypicality_df.ads_id.nunique()"
   ]
  },
  {
   "cell_type": "code",
   "execution_count": 68,
   "metadata": {},
   "outputs": [],
   "source": [
    "qa_action_json = load_json(annotation_dir + 'QA_Action.json')\n",
    "# qa_action_json.keys()\n",
    "\n",
    "annotation_data = {}\n",
    "annotation_data['sentiment'] = load_json(annotation_dir + 'Sentiments.json')\n",
    "annotation_data['symbol'] = load_json(annotation_dir + 'Symbols.json')\n",
    "annotation_data['topic'] = load_json(annotation_dir + 'Topics.json')\n",
    "annotation_data['action_reason'] = load_json(annotation_dir + 'QA_Combined_Action_Reason.json')\n",
    "annotation_data['action'] = load_json(annotation_dir + 'QA_Action.json')\n",
    "annotation_data['reason'] = load_json(annotation_dir + 'QA_Reason.json')\n",
    "annotation_data['slogan'] = load_json(annotation_dir + 'Slogans.json')\n",
    "\n",
    "def parse_list(list_file):\n",
    "    data_dict = {}\n",
    "    with open(list_file, 'r', encoding='unicode_escape') as f:\n",
    "        for line in f.readlines():\n",
    "            if line.strip() == '':\n",
    "                continue\n",
    "            # get number\n",
    "            # print(line)\n",
    "            idx, label = line.split('. ')\n",
    "            # re.match(pattern='\\d{1,2}', string=line).group()\n",
    "            # get key\n",
    "            # label = re.sub('[^A-Za-z]', '', line.split('ABBREVIATION')[1])\n",
    "            data_dict[idx] = label\n",
    "    return data_dict\n",
    "\n",
    "def get_most_frequent(lst):\n",
    "    label, counts = np.unique(lst, return_counts = True)\n",
    "    return sorted(zip(label, counts), key = lambda x: x[1], reverse = True)[0][0].strip()\n",
    "\n",
    "def get_longest(lst):\n",
    "    length = [len(label) for label in lst]\n",
    "    return sorted(zip(lst, length), key = lambda x: x[1], reverse = True)[0][0].strip()\n",
    "\n",
    "def get_ads_data(ads_key):\n",
    "    ads_data = {'ads_id': ads_key}\n",
    "    for key in annotation_data.keys():\n",
    "        # print('key:', key)\n",
    "        try:\n",
    "            ads_data[key] = annotation_data[key][ads_key]\n",
    "            if key == 'sentiment':\n",
    "                ads_data[key] = [sentiment_key[l[0]] for l in ads_data[key]]\n",
    "            if key == 'topic':\n",
    "                ads_data[key] = [topic_key[i] for i in ads_data[key]]\n",
    "        except:\n",
    "            pass\n",
    "    return ads_data\n",
    "# get_image_data(\"10/170741.png\")\n",
    "\n",
    "sentiment_key = parse_list(annotation_dir + 'Sentiments_List.txt')\n",
    "topic_key = parse_list(annotation_dir + 'topics.txt')\n",
    "# topic_key\n",
    "# sentiment_key"
   ]
  },
  {
   "cell_type": "code",
   "execution_count": null,
   "metadata": {},
   "outputs": [],
   "source": []
  },
  {
   "cell_type": "markdown",
   "metadata": {},
   "source": [
    "# 2 Atypicality Data "
   ]
  },
  {
   "cell_type": "markdown",
   "metadata": {},
   "source": [
    "## 2.1 Instrinsic"
   ]
  },
  {
   "cell_type": "code",
   "execution_count": 116,
   "metadata": {},
   "outputs": [
    {
     "data": {
      "text/plain": [
       "array(['2', 'Regular_Object', '8', '3', '9', '5', '1', '6', '4', '7'],\n",
       "      dtype=object)"
      ]
     },
     "execution_count": 116,
     "metadata": {},
     "output_type": "execute_result"
    }
   ],
   "source": [
    "atypicality_df['ads_id'] = atypicality_df['image_url'].apply(lambda x: x.replace('https://people.cs.pitt.edu/~mzhang/image_ads/', ''))\n",
    "atypicality_df['atypicality'] = atypicality_df.category.apply(lambda x: 0 if x == 'Regular_Object' else 1)\n",
    "atypicality_df.category.unique()"
   ]
  },
  {
   "cell_type": "code",
   "execution_count": 117,
   "metadata": {},
   "outputs": [
    {
     "data": {
      "text/plain": [
       "4072"
      ]
     },
     "execution_count": 117,
     "metadata": {},
     "output_type": "execute_result"
    }
   ],
   "source": [
    "all_ads_id = list(atypicality_df.ads_id.unique())\n",
    "test_ads_id = [i[0] for i in sampled_ads_id_200]\n",
    "all_ads_id = [i for i in all_ads_id if i not in test_ads_id]\n",
    "len(all_ads_id)"
   ]
  },
  {
   "cell_type": "code",
   "execution_count": 118,
   "metadata": {},
   "outputs": [
    {
     "data": {
      "text/plain": [
       "2574"
      ]
     },
     "execution_count": 118,
     "metadata": {},
     "output_type": "execute_result"
    }
   ],
   "source": [
    "train_ads_id = list(atypicality_df[['ads_id', 'category']].groupby('ads_id').agg('count').query('category == 3').index)\n",
    "train_ads_id = [i for i in train_ads_id if i not in test_ads_id]\n",
    "len(train_ads_id)"
   ]
  },
  {
   "cell_type": "code",
   "execution_count": 119,
   "metadata": {},
   "outputs": [],
   "source": [
    "train_ads_id = random.sample(train_ads_id, 300)\n",
    "# train_ads_id"
   ]
  },
  {
   "cell_type": "code",
   "execution_count": 121,
   "metadata": {},
   "outputs": [
    {
     "data": {
      "text/plain": [
       "(900, 7)"
      ]
     },
     "execution_count": 121,
     "metadata": {},
     "output_type": "execute_result"
    }
   ],
   "source": [
    "atypicality_train_df = atypicality_df.loc[atypicality_df.ads_id.apply(lambda x: x in train_ads_id)].reset_index(drop = True)\n",
    "atypicality_train_df.shape"
   ]
  },
  {
   "cell_type": "code",
   "execution_count": 155,
   "metadata": {},
   "outputs": [
    {
     "data": {
      "text/plain": [
       "0.4088888888888889"
      ]
     },
     "execution_count": 155,
     "metadata": {},
     "output_type": "execute_result"
    }
   ],
   "source": [
    "atypicality_train_df.atypicality.sum() / 900"
   ]
  },
  {
   "cell_type": "code",
   "execution_count": 152,
   "metadata": {},
   "outputs": [
    {
     "data": {
      "text/plain": [
       "(115, 1)"
      ]
     },
     "execution_count": 152,
     "metadata": {},
     "output_type": "execute_result"
    }
   ],
   "source": [
    "atypicality_train_df[['ads_id', 'atypicality']].groupby('ads_id').agg('sum').query('atypicality == 0').shape"
   ]
  },
  {
   "cell_type": "code",
   "execution_count": 154,
   "metadata": {},
   "outputs": [
    {
     "data": {
      "text/plain": [
       "0.6166666666666667"
      ]
     },
     "execution_count": 154,
     "metadata": {},
     "output_type": "execute_result"
    }
   ],
   "source": [
    "(300 - 115) / 300"
   ]
  },
  {
   "cell_type": "code",
   "execution_count": null,
   "metadata": {},
   "outputs": [],
   "source": []
  },
  {
   "cell_type": "code",
   "execution_count": 150,
   "metadata": {},
   "outputs": [
    {
     "data": {
      "text/html": [
       "<div>\n",
       "<style scoped>\n",
       "    .dataframe tbody tr th:only-of-type {\n",
       "        vertical-align: middle;\n",
       "    }\n",
       "\n",
       "    .dataframe tbody tr th {\n",
       "        vertical-align: top;\n",
       "    }\n",
       "\n",
       "    .dataframe thead th {\n",
       "        text-align: right;\n",
       "    }\n",
       "</style>\n",
       "<table border=\"1\" class=\"dataframe\">\n",
       "  <thead>\n",
       "    <tr style=\"text-align: right;\">\n",
       "      <th></th>\n",
       "      <th>image_url</th>\n",
       "      <th>category</th>\n",
       "      <th>first_explaination</th>\n",
       "      <th>second_explanation</th>\n",
       "      <th>bounding_box</th>\n",
       "      <th>ads_id</th>\n",
       "      <th>atypicality</th>\n",
       "    </tr>\n",
       "  </thead>\n",
       "  <tbody>\n",
       "    <tr>\n",
       "      <th>0</th>\n",
       "      <td>https://people.cs.pitt.edu/~mzhang/image_ads/0...</td>\n",
       "      <td>Regular_Object</td>\n",
       "      <td>NaN</td>\n",
       "      <td>NaN</td>\n",
       "      <td>{}</td>\n",
       "      <td>0/100080.jpg</td>\n",
       "      <td>0</td>\n",
       "    </tr>\n",
       "    <tr>\n",
       "      <th>1</th>\n",
       "      <td>https://people.cs.pitt.edu/~mzhang/image_ads/0...</td>\n",
       "      <td>Regular_Object</td>\n",
       "      <td>NaN</td>\n",
       "      <td>NaN</td>\n",
       "      <td>{}</td>\n",
       "      <td>0/100080.jpg</td>\n",
       "      <td>0</td>\n",
       "    </tr>\n",
       "    <tr>\n",
       "      <th>2</th>\n",
       "      <td>https://people.cs.pitt.edu/~mzhang/image_ads/0...</td>\n",
       "      <td>Regular_Object</td>\n",
       "      <td>NaN</td>\n",
       "      <td>NaN</td>\n",
       "      <td>[{\"left\":311-\"top\":136-\"width\":90-\"height\":90-...</td>\n",
       "      <td>0/100080.jpg</td>\n",
       "      <td>0</td>\n",
       "    </tr>\n",
       "    <tr>\n",
       "      <th>3</th>\n",
       "      <td>https://people.cs.pitt.edu/~mzhang/image_ads/0...</td>\n",
       "      <td>8</td>\n",
       "      <td>a chain inside a knee/leg</td>\n",
       "      <td>the knee</td>\n",
       "      <td>[{\"left\":57-\"top\":102-\"width\":139-\"height\":110...</td>\n",
       "      <td>0/100790.jpg</td>\n",
       "      <td>1</td>\n",
       "    </tr>\n",
       "    <tr>\n",
       "      <th>4</th>\n",
       "      <td>https://people.cs.pitt.edu/~mzhang/image_ads/0...</td>\n",
       "      <td>5</td>\n",
       "      <td>leg- scales</td>\n",
       "      <td>NaN</td>\n",
       "      <td>[{\"left\":55-\"top\":103-\"width\":128-\"height\":99-...</td>\n",
       "      <td>0/100790.jpg</td>\n",
       "      <td>1</td>\n",
       "    </tr>\n",
       "    <tr>\n",
       "      <th>...</th>\n",
       "      <td>...</td>\n",
       "      <td>...</td>\n",
       "      <td>...</td>\n",
       "      <td>...</td>\n",
       "      <td>...</td>\n",
       "      <td>...</td>\n",
       "      <td>...</td>\n",
       "    </tr>\n",
       "    <tr>\n",
       "      <th>895</th>\n",
       "      <td>https://people.cs.pitt.edu/~mzhang/image_ads/2...</td>\n",
       "      <td>Regular_Object</td>\n",
       "      <td>NaN</td>\n",
       "      <td>NaN</td>\n",
       "      <td>{}</td>\n",
       "      <td>2/9102.jpg</td>\n",
       "      <td>0</td>\n",
       "    </tr>\n",
       "    <tr>\n",
       "      <th>896</th>\n",
       "      <td>https://people.cs.pitt.edu/~mzhang/image_ads/2...</td>\n",
       "      <td>Regular_Object</td>\n",
       "      <td>NaN</td>\n",
       "      <td>NaN</td>\n",
       "      <td>{}</td>\n",
       "      <td>2/9102.jpg</td>\n",
       "      <td>0</td>\n",
       "    </tr>\n",
       "    <tr>\n",
       "      <th>897</th>\n",
       "      <td>https://people.cs.pitt.edu/~mzhang/image_ads/2...</td>\n",
       "      <td>Regular_Object</td>\n",
       "      <td>NaN</td>\n",
       "      <td>NaN</td>\n",
       "      <td>{}</td>\n",
       "      <td>2/93222.jpg</td>\n",
       "      <td>0</td>\n",
       "    </tr>\n",
       "    <tr>\n",
       "      <th>898</th>\n",
       "      <td>https://people.cs.pitt.edu/~mzhang/image_ads/2...</td>\n",
       "      <td>Regular_Object</td>\n",
       "      <td>NaN</td>\n",
       "      <td>NaN</td>\n",
       "      <td>[{\"left\":10-\"top\":6-\"width\":490-\"height\":442-\"...</td>\n",
       "      <td>2/93222.jpg</td>\n",
       "      <td>0</td>\n",
       "    </tr>\n",
       "    <tr>\n",
       "      <th>899</th>\n",
       "      <td>https://people.cs.pitt.edu/~mzhang/image_ads/2...</td>\n",
       "      <td>Regular_Object</td>\n",
       "      <td>NaN</td>\n",
       "      <td>NaN</td>\n",
       "      <td>{}</td>\n",
       "      <td>2/93222.jpg</td>\n",
       "      <td>0</td>\n",
       "    </tr>\n",
       "  </tbody>\n",
       "</table>\n",
       "<p>900 rows × 7 columns</p>\n",
       "</div>"
      ],
      "text/plain": [
       "                                             image_url        category  \\\n",
       "0    https://people.cs.pitt.edu/~mzhang/image_ads/0...  Regular_Object   \n",
       "1    https://people.cs.pitt.edu/~mzhang/image_ads/0...  Regular_Object   \n",
       "2    https://people.cs.pitt.edu/~mzhang/image_ads/0...  Regular_Object   \n",
       "3    https://people.cs.pitt.edu/~mzhang/image_ads/0...               8   \n",
       "4    https://people.cs.pitt.edu/~mzhang/image_ads/0...               5   \n",
       "..                                                 ...             ...   \n",
       "895  https://people.cs.pitt.edu/~mzhang/image_ads/2...  Regular_Object   \n",
       "896  https://people.cs.pitt.edu/~mzhang/image_ads/2...  Regular_Object   \n",
       "897  https://people.cs.pitt.edu/~mzhang/image_ads/2...  Regular_Object   \n",
       "898  https://people.cs.pitt.edu/~mzhang/image_ads/2...  Regular_Object   \n",
       "899  https://people.cs.pitt.edu/~mzhang/image_ads/2...  Regular_Object   \n",
       "\n",
       "            first_explaination second_explanation  \\\n",
       "0                          NaN                NaN   \n",
       "1                          NaN                NaN   \n",
       "2                          NaN                NaN   \n",
       "3    a chain inside a knee/leg           the knee   \n",
       "4                  leg- scales                NaN   \n",
       "..                         ...                ...   \n",
       "895                        NaN                NaN   \n",
       "896                        NaN                NaN   \n",
       "897                        NaN                NaN   \n",
       "898                        NaN                NaN   \n",
       "899                        NaN                NaN   \n",
       "\n",
       "                                          bounding_box        ads_id  \\\n",
       "0                                                   {}  0/100080.jpg   \n",
       "1                                                   {}  0/100080.jpg   \n",
       "2    [{\"left\":311-\"top\":136-\"width\":90-\"height\":90-...  0/100080.jpg   \n",
       "3    [{\"left\":57-\"top\":102-\"width\":139-\"height\":110...  0/100790.jpg   \n",
       "4    [{\"left\":55-\"top\":103-\"width\":128-\"height\":99-...  0/100790.jpg   \n",
       "..                                                 ...           ...   \n",
       "895                                                 {}    2/9102.jpg   \n",
       "896                                                 {}    2/9102.jpg   \n",
       "897                                                 {}   2/93222.jpg   \n",
       "898  [{\"left\":10-\"top\":6-\"width\":490-\"height\":442-\"...   2/93222.jpg   \n",
       "899                                                 {}   2/93222.jpg   \n",
       "\n",
       "     atypicality  \n",
       "0              0  \n",
       "1              0  \n",
       "2              0  \n",
       "3              1  \n",
       "4              1  \n",
       "..           ...  \n",
       "895            0  \n",
       "896            0  \n",
       "897            0  \n",
       "898            0  \n",
       "899            0  \n",
       "\n",
       "[900 rows x 7 columns]"
      ]
     },
     "execution_count": 150,
     "metadata": {},
     "output_type": "execute_result"
    }
   ],
   "source": [
    "atypicality_train_df"
   ]
  },
  {
   "cell_type": "code",
   "execution_count": 124,
   "metadata": {},
   "outputs": [
    {
     "data": {
      "text/html": [
       "<div>\n",
       "<style scoped>\n",
       "    .dataframe tbody tr th:only-of-type {\n",
       "        vertical-align: middle;\n",
       "    }\n",
       "\n",
       "    .dataframe tbody tr th {\n",
       "        vertical-align: top;\n",
       "    }\n",
       "\n",
       "    .dataframe thead th {\n",
       "        text-align: right;\n",
       "    }\n",
       "</style>\n",
       "<table border=\"1\" class=\"dataframe\">\n",
       "  <thead>\n",
       "    <tr style=\"text-align: right;\">\n",
       "      <th></th>\n",
       "      <th>ads_id</th>\n",
       "      <th>atypicality_distribution</th>\n",
       "      <th>atypicality_value_count</th>\n",
       "      <th>atypicality_average</th>\n",
       "      <th>atypicality_disagreement</th>\n",
       "      <th>atypicality_majority</th>\n",
       "      <th>atypicality_majority_percentage</th>\n",
       "    </tr>\n",
       "  </thead>\n",
       "  <tbody>\n",
       "    <tr>\n",
       "      <th>0</th>\n",
       "      <td>0/100080.jpg</td>\n",
       "      <td>[0, 0, 0]</td>\n",
       "      <td>{0: 3}</td>\n",
       "      <td>0.000000</td>\n",
       "      <td>0.000000</td>\n",
       "      <td>0</td>\n",
       "      <td>1.00</td>\n",
       "    </tr>\n",
       "    <tr>\n",
       "      <th>1</th>\n",
       "      <td>0/100790.jpg</td>\n",
       "      <td>[1, 1, 1]</td>\n",
       "      <td>{1: 3}</td>\n",
       "      <td>1.000000</td>\n",
       "      <td>0.000000</td>\n",
       "      <td>1</td>\n",
       "      <td>1.00</td>\n",
       "    </tr>\n",
       "    <tr>\n",
       "      <th>2</th>\n",
       "      <td>0/10200.jpg</td>\n",
       "      <td>[0, 0, 0]</td>\n",
       "      <td>{0: 3}</td>\n",
       "      <td>0.000000</td>\n",
       "      <td>0.000000</td>\n",
       "      <td>0</td>\n",
       "      <td>1.00</td>\n",
       "    </tr>\n",
       "    <tr>\n",
       "      <th>3</th>\n",
       "      <td>0/104190.jpg</td>\n",
       "      <td>[1, 1, 1]</td>\n",
       "      <td>{1: 3}</td>\n",
       "      <td>1.000000</td>\n",
       "      <td>0.000000</td>\n",
       "      <td>1</td>\n",
       "      <td>1.00</td>\n",
       "    </tr>\n",
       "    <tr>\n",
       "      <th>4</th>\n",
       "      <td>0/10430.jpg</td>\n",
       "      <td>[0, 1, 0]</td>\n",
       "      <td>{0: 2, 1: 1}</td>\n",
       "      <td>0.333333</td>\n",
       "      <td>0.222222</td>\n",
       "      <td>0</td>\n",
       "      <td>0.67</td>\n",
       "    </tr>\n",
       "  </tbody>\n",
       "</table>\n",
       "</div>"
      ],
      "text/plain": [
       "         ads_id atypicality_distribution atypicality_value_count  \\\n",
       "0  0/100080.jpg                [0, 0, 0]                  {0: 3}   \n",
       "1  0/100790.jpg                [1, 1, 1]                  {1: 3}   \n",
       "2   0/10200.jpg                [0, 0, 0]                  {0: 3}   \n",
       "3  0/104190.jpg                [1, 1, 1]                  {1: 3}   \n",
       "4   0/10430.jpg                [0, 1, 0]            {0: 2, 1: 1}   \n",
       "\n",
       "   atypicality_average  atypicality_disagreement  atypicality_majority  \\\n",
       "0             0.000000                  0.000000                     0   \n",
       "1             1.000000                  0.000000                     1   \n",
       "2             0.000000                  0.000000                     0   \n",
       "3             1.000000                  0.000000                     1   \n",
       "4             0.333333                  0.222222                     0   \n",
       "\n",
       "   atypicality_majority_percentage  \n",
       "0                             1.00  \n",
       "1                             1.00  \n",
       "2                             1.00  \n",
       "3                             1.00  \n",
       "4                             0.67  "
      ]
     },
     "execution_count": 124,
     "metadata": {},
     "output_type": "execute_result"
    }
   ],
   "source": [
    "# process single task \n",
    "tmp_task_col = 'atypicality' \n",
    "\n",
    "def get_score_distribution(s, offset = 3):\n",
    "    return [i + offset for i in s.values]\n",
    "\n",
    "def get_value_counts(lst):\n",
    "    unique_values, counts = np.unique(lst, return_counts=True)\n",
    "    return dict(zip(unique_values, counts))\n",
    "\n",
    "def get_majority(value_counts):\n",
    "    return sorted(value_counts.items(), key = lambda x: x[1], reverse = True)[0][0] # majority label \n",
    "\n",
    "def get_majority_percentage(value_counts):\n",
    "    majority_count = sorted(value_counts.items(), key = lambda x: x[1], reverse = True)[0][1] \n",
    "    return round(majority_count / sum(value_counts.values()), 2)\n",
    "\n",
    "\n",
    "# all_instrinsic_data = None\n",
    "\n",
    "tmp_distribution_data = atypicality_train_df[['ads_id', tmp_task_col]].groupby('ads_id').agg(lambda x: get_score_distribution(x, 0))[tmp_task_col]\n",
    "tmp_value_count_data = tmp_distribution_data.apply(get_value_counts)\n",
    "tmp_average_data = tmp_distribution_data.apply(lambda x: np.mean(x))\n",
    "tmp_disagreement_data = tmp_distribution_data.apply(lambda x: np.var(x))\n",
    "tmp_majority_data = tmp_value_count_data.apply(get_majority)\n",
    "tmp_majority_percentage_data = tmp_value_count_data.apply(get_majority_percentage)\n",
    "\n",
    "tmp_instrinsic_data = pd.DataFrame({\n",
    "    'ads_id': tmp_distribution_data.index,\n",
    "    tmp_task_col + '_distribution': tmp_distribution_data.values,\n",
    "    tmp_task_col + '_value_count': tmp_value_count_data.values,\n",
    "    tmp_task_col + '_average': tmp_average_data.values ,\n",
    "    tmp_task_col + '_disagreement': tmp_disagreement_data.values,\n",
    "    tmp_task_col + '_majority': tmp_majority_data.values,\n",
    "    tmp_task_col + '_majority_percentage': tmp_majority_percentage_data.values\n",
    "})\n",
    "# if all_instrinsic_data is None:\n",
    "#     all_instrinsic_data = tmp_instrinsic_data\n",
    "# else:\n",
    "#     all_instrinsic_data = all_instrinsic_data.merge(tmp_instrinsic_data, on = 'ads_id')\n",
    "# all_instrinsic_data.append(tmp_instrinsic_data)\n",
    "\n",
    "tmp_instrinsic_data.head()"
   ]
  },
  {
   "cell_type": "code",
   "execution_count": 157,
   "metadata": {},
   "outputs": [
    {
     "data": {
      "text/plain": [
       "0.8713"
      ]
     },
     "execution_count": 157,
     "metadata": {},
     "output_type": "execute_result"
    }
   ],
   "source": [
    "tmp_instrinsic_data.atypicality_majority_percentage.mean()"
   ]
  },
  {
   "cell_type": "code",
   "execution_count": null,
   "metadata": {},
   "outputs": [],
   "source": []
  },
  {
   "cell_type": "code",
   "execution_count": null,
   "metadata": {},
   "outputs": [],
   "source": []
  },
  {
   "cell_type": "code",
   "execution_count": null,
   "metadata": {},
   "outputs": [],
   "source": []
  },
  {
   "cell_type": "code",
   "execution_count": 78,
   "metadata": {},
   "outputs": [],
   "source": [
    "random.seed(1)"
   ]
  },
  {
   "cell_type": "code",
   "execution_count": 125,
   "metadata": {},
   "outputs": [
    {
     "data": {
      "text/html": [
       "<div>\n",
       "<style scoped>\n",
       "    .dataframe tbody tr th:only-of-type {\n",
       "        vertical-align: middle;\n",
       "    }\n",
       "\n",
       "    .dataframe tbody tr th {\n",
       "        vertical-align: top;\n",
       "    }\n",
       "\n",
       "    .dataframe thead th {\n",
       "        text-align: right;\n",
       "    }\n",
       "</style>\n",
       "<table border=\"1\" class=\"dataframe\">\n",
       "  <thead>\n",
       "    <tr style=\"text-align: right;\">\n",
       "      <th></th>\n",
       "      <th>ads_id</th>\n",
       "      <th>atypicality_distribution</th>\n",
       "      <th>atypicality_value_count</th>\n",
       "      <th>atypicality_average</th>\n",
       "      <th>atypicality_disagreement</th>\n",
       "      <th>atypicality_majority</th>\n",
       "      <th>atypicality_majority_percentage</th>\n",
       "      <th>dataset</th>\n",
       "    </tr>\n",
       "  </thead>\n",
       "  <tbody>\n",
       "    <tr>\n",
       "      <th>0</th>\n",
       "      <td>0/100080.jpg</td>\n",
       "      <td>[0, 0, 0]</td>\n",
       "      <td>{0: 3}</td>\n",
       "      <td>0.0</td>\n",
       "      <td>0.0</td>\n",
       "      <td>0</td>\n",
       "      <td>1.0</td>\n",
       "      <td>train</td>\n",
       "    </tr>\n",
       "    <tr>\n",
       "      <th>1</th>\n",
       "      <td>0/100790.jpg</td>\n",
       "      <td>[1, 1, 1]</td>\n",
       "      <td>{1: 3}</td>\n",
       "      <td>1.0</td>\n",
       "      <td>0.0</td>\n",
       "      <td>1</td>\n",
       "      <td>1.0</td>\n",
       "      <td>train</td>\n",
       "    </tr>\n",
       "  </tbody>\n",
       "</table>\n",
       "</div>"
      ],
      "text/plain": [
       "         ads_id atypicality_distribution atypicality_value_count  \\\n",
       "0  0/100080.jpg                [0, 0, 0]                  {0: 3}   \n",
       "1  0/100790.jpg                [1, 1, 1]                  {1: 3}   \n",
       "\n",
       "   atypicality_average  atypicality_disagreement  atypicality_majority  \\\n",
       "0                  0.0                       0.0                     0   \n",
       "1                  1.0                       0.0                     1   \n",
       "\n",
       "   atypicality_majority_percentage dataset  \n",
       "0                              1.0   train  \n",
       "1                              1.0   train  "
      ]
     },
     "execution_count": 125,
     "metadata": {},
     "output_type": "execute_result"
    }
   ],
   "source": [
    "tmp_instrinsic_data['dataset'] = tmp_instrinsic_data.ads_id.apply(lambda x: \"test\" if x in sampled_ads_id_200 else \"train\")\n",
    "tmp_instrinsic_data = tmp_instrinsic_data.query('dataset == \"train\"')\n",
    "# tmp_instrinsic_data = tmp_instrinsic_data.sample(100).reset_index(drop = True)\n",
    "tmp_instrinsic_data.head(2)"
   ]
  },
  {
   "cell_type": "code",
   "execution_count": 143,
   "metadata": {},
   "outputs": [
    {
     "data": {
      "text/plain": [
       "array([0.        , 0.22222222])"
      ]
     },
     "execution_count": 143,
     "metadata": {},
     "output_type": "execute_result"
    }
   ],
   "source": [
    "tmp_instrinsic_data.atypicality_disagreement.unique()"
   ]
  },
  {
   "cell_type": "code",
   "execution_count": 126,
   "metadata": {},
   "outputs": [
    {
     "data": {
      "text/plain": [
       "(300, 8)"
      ]
     },
     "execution_count": 126,
     "metadata": {},
     "output_type": "execute_result"
    }
   ],
   "source": [
    "tmp_instrinsic_data.shape"
   ]
  },
  {
   "cell_type": "code",
   "execution_count": 128,
   "metadata": {},
   "outputs": [],
   "source": [
    "tmp_instrinsic_data.to_csv(mturk_data_dir + 'modeling_instrinsic_atypicality_train.csv', index = False)"
   ]
  },
  {
   "cell_type": "code",
   "execution_count": 146,
   "metadata": {},
   "outputs": [],
   "source": [
    "# atypicality training data\n",
    "import os \n",
    "\n",
    "os.makedirs(mturk_data_dir + 'atypicality_train/', exist_ok=True)\n",
    "for ads_id in tmp_instrinsic_data.ads_id.values:\n",
    "    tmp_dir = mturk_data_dir + 'atypicality_train/' + ads_id.split('/')[0]\n",
    "    os.makedirs(tmp_dir, exist_ok=True)\n",
    "    os.system('cp {} {}'.format(\n",
    "        mturk_data_dir + '../original_data/' + ads_id, \n",
    "        mturk_data_dir + 'atypicality_train/' + ads_id\n",
    "    ))"
   ]
  },
  {
   "cell_type": "code",
   "execution_count": 144,
   "metadata": {},
   "outputs": [],
   "source": [
    "# tmp_instrinsic_data.atypicality_average.unique()"
   ]
  },
  {
   "cell_type": "code",
   "execution_count": 145,
   "metadata": {},
   "outputs": [
    {
     "data": {
      "text/html": [
       "<div>\n",
       "<style scoped>\n",
       "    .dataframe tbody tr th:only-of-type {\n",
       "        vertical-align: middle;\n",
       "    }\n",
       "\n",
       "    .dataframe tbody tr th {\n",
       "        vertical-align: top;\n",
       "    }\n",
       "\n",
       "    .dataframe thead th {\n",
       "        text-align: right;\n",
       "    }\n",
       "</style>\n",
       "<table border=\"1\" class=\"dataframe\">\n",
       "  <thead>\n",
       "    <tr style=\"text-align: right;\">\n",
       "      <th></th>\n",
       "      <th>ads_id</th>\n",
       "      <th>atypicality_distribution</th>\n",
       "      <th>atypicality_value_count</th>\n",
       "      <th>atypicality_average</th>\n",
       "      <th>atypicality_disagreement</th>\n",
       "      <th>atypicality_majority</th>\n",
       "      <th>atypicality_majority_percentage</th>\n",
       "      <th>dataset</th>\n",
       "    </tr>\n",
       "  </thead>\n",
       "  <tbody>\n",
       "    <tr>\n",
       "      <th>0</th>\n",
       "      <td>0/100080.jpg</td>\n",
       "      <td>[0, 0, 0]</td>\n",
       "      <td>{0: 3}</td>\n",
       "      <td>0.000000</td>\n",
       "      <td>0.000000</td>\n",
       "      <td>0</td>\n",
       "      <td>1.00</td>\n",
       "      <td>train</td>\n",
       "    </tr>\n",
       "    <tr>\n",
       "      <th>1</th>\n",
       "      <td>0/100790.jpg</td>\n",
       "      <td>[1, 1, 1]</td>\n",
       "      <td>{1: 3}</td>\n",
       "      <td>1.000000</td>\n",
       "      <td>0.000000</td>\n",
       "      <td>1</td>\n",
       "      <td>1.00</td>\n",
       "      <td>train</td>\n",
       "    </tr>\n",
       "    <tr>\n",
       "      <th>2</th>\n",
       "      <td>0/10200.jpg</td>\n",
       "      <td>[0, 0, 0]</td>\n",
       "      <td>{0: 3}</td>\n",
       "      <td>0.000000</td>\n",
       "      <td>0.000000</td>\n",
       "      <td>0</td>\n",
       "      <td>1.00</td>\n",
       "      <td>train</td>\n",
       "    </tr>\n",
       "    <tr>\n",
       "      <th>3</th>\n",
       "      <td>0/104190.jpg</td>\n",
       "      <td>[1, 1, 1]</td>\n",
       "      <td>{1: 3}</td>\n",
       "      <td>1.000000</td>\n",
       "      <td>0.000000</td>\n",
       "      <td>1</td>\n",
       "      <td>1.00</td>\n",
       "      <td>train</td>\n",
       "    </tr>\n",
       "    <tr>\n",
       "      <th>4</th>\n",
       "      <td>0/10430.jpg</td>\n",
       "      <td>[0, 1, 0]</td>\n",
       "      <td>{0: 2, 1: 1}</td>\n",
       "      <td>0.333333</td>\n",
       "      <td>0.222222</td>\n",
       "      <td>0</td>\n",
       "      <td>0.67</td>\n",
       "      <td>train</td>\n",
       "    </tr>\n",
       "    <tr>\n",
       "      <th>...</th>\n",
       "      <td>...</td>\n",
       "      <td>...</td>\n",
       "      <td>...</td>\n",
       "      <td>...</td>\n",
       "      <td>...</td>\n",
       "      <td>...</td>\n",
       "      <td>...</td>\n",
       "      <td>...</td>\n",
       "    </tr>\n",
       "    <tr>\n",
       "      <th>295</th>\n",
       "      <td>2/87792.jpg</td>\n",
       "      <td>[1, 1, 1]</td>\n",
       "      <td>{1: 3}</td>\n",
       "      <td>1.000000</td>\n",
       "      <td>0.000000</td>\n",
       "      <td>1</td>\n",
       "      <td>1.00</td>\n",
       "      <td>train</td>\n",
       "    </tr>\n",
       "    <tr>\n",
       "      <th>296</th>\n",
       "      <td>2/88052.jpg</td>\n",
       "      <td>[0, 0, 0]</td>\n",
       "      <td>{0: 3}</td>\n",
       "      <td>0.000000</td>\n",
       "      <td>0.000000</td>\n",
       "      <td>0</td>\n",
       "      <td>1.00</td>\n",
       "      <td>train</td>\n",
       "    </tr>\n",
       "    <tr>\n",
       "      <th>297</th>\n",
       "      <td>2/90392.jpg</td>\n",
       "      <td>[1, 0, 1]</td>\n",
       "      <td>{0: 1, 1: 2}</td>\n",
       "      <td>0.666667</td>\n",
       "      <td>0.222222</td>\n",
       "      <td>1</td>\n",
       "      <td>0.67</td>\n",
       "      <td>train</td>\n",
       "    </tr>\n",
       "    <tr>\n",
       "      <th>298</th>\n",
       "      <td>2/9102.jpg</td>\n",
       "      <td>[0, 0, 0]</td>\n",
       "      <td>{0: 3}</td>\n",
       "      <td>0.000000</td>\n",
       "      <td>0.000000</td>\n",
       "      <td>0</td>\n",
       "      <td>1.00</td>\n",
       "      <td>train</td>\n",
       "    </tr>\n",
       "    <tr>\n",
       "      <th>299</th>\n",
       "      <td>2/93222.jpg</td>\n",
       "      <td>[0, 0, 0]</td>\n",
       "      <td>{0: 3}</td>\n",
       "      <td>0.000000</td>\n",
       "      <td>0.000000</td>\n",
       "      <td>0</td>\n",
       "      <td>1.00</td>\n",
       "      <td>train</td>\n",
       "    </tr>\n",
       "  </tbody>\n",
       "</table>\n",
       "<p>300 rows × 8 columns</p>\n",
       "</div>"
      ],
      "text/plain": [
       "           ads_id atypicality_distribution atypicality_value_count  \\\n",
       "0    0/100080.jpg                [0, 0, 0]                  {0: 3}   \n",
       "1    0/100790.jpg                [1, 1, 1]                  {1: 3}   \n",
       "2     0/10200.jpg                [0, 0, 0]                  {0: 3}   \n",
       "3    0/104190.jpg                [1, 1, 1]                  {1: 3}   \n",
       "4     0/10430.jpg                [0, 1, 0]            {0: 2, 1: 1}   \n",
       "..            ...                      ...                     ...   \n",
       "295   2/87792.jpg                [1, 1, 1]                  {1: 3}   \n",
       "296   2/88052.jpg                [0, 0, 0]                  {0: 3}   \n",
       "297   2/90392.jpg                [1, 0, 1]            {0: 1, 1: 2}   \n",
       "298    2/9102.jpg                [0, 0, 0]                  {0: 3}   \n",
       "299   2/93222.jpg                [0, 0, 0]                  {0: 3}   \n",
       "\n",
       "     atypicality_average  atypicality_disagreement  atypicality_majority  \\\n",
       "0               0.000000                  0.000000                     0   \n",
       "1               1.000000                  0.000000                     1   \n",
       "2               0.000000                  0.000000                     0   \n",
       "3               1.000000                  0.000000                     1   \n",
       "4               0.333333                  0.222222                     0   \n",
       "..                   ...                       ...                   ...   \n",
       "295             1.000000                  0.000000                     1   \n",
       "296             0.000000                  0.000000                     0   \n",
       "297             0.666667                  0.222222                     1   \n",
       "298             0.000000                  0.000000                     0   \n",
       "299             0.000000                  0.000000                     0   \n",
       "\n",
       "     atypicality_majority_percentage dataset  \n",
       "0                               1.00   train  \n",
       "1                               1.00   train  \n",
       "2                               1.00   train  \n",
       "3                               1.00   train  \n",
       "4                               0.67   train  \n",
       "..                               ...     ...  \n",
       "295                             1.00   train  \n",
       "296                             1.00   train  \n",
       "297                             0.67   train  \n",
       "298                             1.00   train  \n",
       "299                             1.00   train  \n",
       "\n",
       "[300 rows x 8 columns]"
      ]
     },
     "execution_count": 145,
     "metadata": {},
     "output_type": "execute_result"
    }
   ],
   "source": [
    "tmp_instrinsic_data"
   ]
  },
  {
   "cell_type": "markdown",
   "metadata": {},
   "source": [
    "## 2.2 Pairwise"
   ]
  },
  {
   "cell_type": "code",
   "execution_count": 137,
   "metadata": {},
   "outputs": [
    {
     "name": "stdout",
     "output_type": "stream",
     "text": [
      "atypicality_average 0\n"
     ]
    }
   ],
   "source": [
    "all_pairwise_data = []\n",
    "\n",
    "tmp_task_col = 'atypicality_average'\n",
    "tmp_average_data = tmp_instrinsic_data[tmp_task_col].values \n",
    "tmp_ads_id = tmp_instrinsic_data[\"ads_id\"].values \n",
    "\n",
    "tmp_all_diff = []\n",
    "counter = 0\n",
    "for i in range(len(tmp_ads_id)):\n",
    "    for j in range(i + 1, len(tmp_ads_id)):\n",
    "        tmp_all_diff.append({\n",
    "            'ads_pair': tmp_ads_id[i] + ', ' + tmp_ads_id[j],\n",
    "            tmp_task_col + '_diff': tmp_average_data[i] - tmp_average_data[j]\n",
    "        })\n",
    "        if abs(tmp_average_data[i] - tmp_average_data[j]) > 1:\n",
    "            counter += 1\n",
    "print(tmp_task_col, counter)\n",
    "tmp_diff_df = pd.DataFrame(tmp_all_diff)\n",
    "\n",
    "#### IMPORTANT: saving data file ####\n",
    "tmp_diff_df.to_csv(mturk_data_dir + 'modeling_atypicality_diff_train.csv', index = False)\n",
    "    "
   ]
  },
  {
   "cell_type": "code",
   "execution_count": 138,
   "metadata": {},
   "outputs": [
    {
     "data": {
      "text/plain": [
       "(44850, 2)"
      ]
     },
     "execution_count": 138,
     "metadata": {},
     "output_type": "execute_result"
    }
   ],
   "source": [
    "tmp_diff_df.shape"
   ]
  },
  {
   "cell_type": "code",
   "execution_count": 139,
   "metadata": {},
   "outputs": [],
   "source": [
    "# tmp_diff_df"
   ]
  },
  {
   "cell_type": "code",
   "execution_count": 140,
   "metadata": {},
   "outputs": [
    {
     "data": {
      "text/plain": [
       "array([-1.        , -0.66666667,  1.        ,  0.66666667, -0.66666667,\n",
       "        0.66666667])"
      ]
     },
     "execution_count": 140,
     "metadata": {},
     "output_type": "execute_result"
    }
   ],
   "source": [
    "tmp_diff_df.query('abs(atypicality_average_diff) > 0.5').atypicality_average_diff.unique()"
   ]
  },
  {
   "cell_type": "code",
   "execution_count": 141,
   "metadata": {},
   "outputs": [
    {
     "data": {
      "text/plain": [
       "(17985, 2)"
      ]
     },
     "execution_count": 141,
     "metadata": {},
     "output_type": "execute_result"
    }
   ],
   "source": [
    "tmp_diff_df.query('abs(atypicality_average_diff) > 0.5').shape"
   ]
  },
  {
   "cell_type": "code",
   "execution_count": 142,
   "metadata": {},
   "outputs": [
    {
     "data": {
      "text/plain": [
       "0.40100334448160535"
      ]
     },
     "execution_count": 142,
     "metadata": {},
     "output_type": "execute_result"
    }
   ],
   "source": [
    "17985 / 44850"
   ]
  },
  {
   "cell_type": "code",
   "execution_count": null,
   "metadata": {},
   "outputs": [],
   "source": []
  }
 ],
 "metadata": {
  "kernelspec": {
   "display_name": "dsml39",
   "language": "python",
   "name": "python3"
  },
  "language_info": {
   "codemirror_mode": {
    "name": "ipython",
    "version": 3
   },
   "file_extension": ".py",
   "mimetype": "text/x-python",
   "name": "python",
   "nbconvert_exporter": "python",
   "pygments_lexer": "ipython3",
   "version": "3.9.18"
  }
 },
 "nbformat": 4,
 "nbformat_minor": 2
}
