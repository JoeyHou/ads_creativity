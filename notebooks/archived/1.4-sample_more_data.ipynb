{
 "cells": [
  {
   "cell_type": "code",
   "execution_count": 1,
   "metadata": {},
   "outputs": [],
   "source": [
    "import pandas as pd\n",
    "import json \n",
    "import numpy as np\n",
    "\n",
    "def load_json(filename):\n",
    "    \"\"\"\n",
    "    Load a JSON file given a filename\n",
    "    If the file doesn't exist, then return an empty dictionary instead\n",
    "    \"\"\"\n",
    "    try:\n",
    "        with open(filename, 'r') as f:\n",
    "            return json.load(f)\n",
    "    except FileNotFoundError:\n",
    "        return {}\n",
    "    \n",
    "def get_majority(lst):\n",
    "    unique_values, counts = np.unique(lst, return_counts = True)\n",
    "    return sorted(list(zip(unique_values, counts)), key = lambda p: p[1], reverse = True)[0][0]\n",
    "\n",
    "def get_lst_overlap(lst1, lst2):\n",
    "    lst3 = [value for value in lst1 if value in lst2]\n",
    "    return lst3\n",
    "\n",
    "# get_majority([0, 0, 1, 2, 2, 2])"
   ]
  },
  {
   "cell_type": "code",
   "execution_count": null,
   "metadata": {},
   "outputs": [],
   "source": []
  },
  {
   "cell_type": "markdown",
   "metadata": {},
   "source": [
    "# 1 Load Existing Data"
   ]
  },
  {
   "cell_type": "markdown",
   "metadata": {},
   "source": [
    "- Existing Annotated Ads"
   ]
  },
  {
   "cell_type": "code",
   "execution_count": 2,
   "metadata": {},
   "outputs": [
    {
     "data": {
      "text/plain": [
       "393"
      ]
     },
     "execution_count": 2,
     "metadata": {},
     "output_type": "execute_result"
    }
   ],
   "source": [
    "## get existing ads ids \n",
    "existing_ids = []\n",
    "for i in range(1, 6):\n",
    "    tmp_df = pd.read_csv('../../pitt_ads/mturk_data/subset_0.{}/subset_ads_data_0.{}.csv'.format(i, i))\n",
    "    existing_ids.extend(list(tmp_df.ads_id))\n",
    "len(existing_ids)\n",
    "\n",
    "modeling_instrinsic_atypicality_train = pd.read_csv('../../pitt_ads/mturk_data/modeling_instrinsic_atypicality_train.csv')\n",
    "existing_ids.extend(list(modeling_instrinsic_atypicality_train.ads_id.values))\n",
    "\n",
    "existing_ids = list(set(existing_ids))\n",
    "len(existing_ids)"
   ]
  },
  {
   "cell_type": "markdown",
   "metadata": {},
   "source": [
    "- Current Topic Distribution"
   ]
  },
  {
   "cell_type": "code",
   "execution_count": 3,
   "metadata": {},
   "outputs": [
    {
     "data": {
      "text/plain": [
       "topic\n",
       "19    4\n",
       "9     3\n",
       "17    3\n",
       "1     2\n",
       "10    2\n",
       "26    1\n",
       "25    1\n",
       "8     1\n",
       "3     1\n",
       "16    1\n",
       "31    1\n",
       "Name: count, dtype: int64"
      ]
     },
     "execution_count": 3,
     "metadata": {},
     "output_type": "execute_result"
    }
   ],
   "source": [
    "mturk_data = pd.read_csv('../../pitt_ads/mturk_data/subset_0.5/subset_ads_data_0.5.csv')\n",
    "mturk_data.head(2)\n",
    "\n",
    "topic_data = load_json('../../pitt_ads/annotations_images/image/Topics.json')\n",
    "# topic_data\n",
    "mturk_data['topic'] = mturk_data.ads_id.apply(lambda x: get_majority(topic_data[x]))\n",
    "mturk_data['topic'].value_counts()"
   ]
  },
  {
   "cell_type": "code",
   "execution_count": 17,
   "metadata": {},
   "outputs": [
    {
     "data": {
      "text/plain": [
       "{'19': 4,\n",
       " '9': 3,\n",
       " '17': 3,\n",
       " '1': 2,\n",
       " '10': 2,\n",
       " '26': 1,\n",
       " '25': 1,\n",
       " '8': 1,\n",
       " '3': 1,\n",
       " '16': 1,\n",
       " '31': 1}"
      ]
     },
     "execution_count": 17,
     "metadata": {},
     "output_type": "execute_result"
    }
   ],
   "source": [
    "dict(mturk_data['topic'].value_counts())"
   ]
  },
  {
   "cell_type": "markdown",
   "metadata": {},
   "source": [
    "- load other annotations"
   ]
  },
  {
   "cell_type": "code",
   "execution_count": 4,
   "metadata": {},
   "outputs": [
    {
     "data": {
      "text/plain": [
       "(4000, 30340, 64340)"
      ]
     },
     "execution_count": 4,
     "metadata": {},
     "output_type": "execute_result"
    }
   ],
   "source": [
    "strategy_data = load_json('../../pitt_ads/annotations_images/image/Strategies.json')\n",
    "sentiments_data = load_json('../../pitt_ads/annotations_images/image/Sentiments.json')\n",
    "len(strategy_data), len(sentiments_data), len(topic_data)"
   ]
  },
  {
   "cell_type": "code",
   "execution_count": 5,
   "metadata": {},
   "outputs": [
    {
     "data": {
      "text/plain": [
       "4000"
      ]
     },
     "execution_count": 5,
     "metadata": {},
     "output_type": "execute_result"
    }
   ],
   "source": [
    "overlapping_ads_id = get_lst_overlap(list(strategy_data.keys()), list(topic_data.keys()))\n",
    "overlapping_ads_id = get_lst_overlap(overlapping_ads_id, list(sentiments_data.keys()))\n",
    "len(overlapping_ads_id)"
   ]
  },
  {
   "cell_type": "markdown",
   "metadata": {},
   "source": [
    "- Available Ads (with atypicality annotations)"
   ]
  },
  {
   "cell_type": "code",
   "execution_count": 6,
   "metadata": {},
   "outputs": [
    {
     "data": {
      "text/plain": [
       "4000"
      ]
     },
     "execution_count": 6,
     "metadata": {},
     "output_type": "execute_result"
    }
   ],
   "source": [
    "## get available ads \n",
    "# atypicality_annotation_df = pd.read_csv('../../pitt_ads/atypicality_annotations_final_csv.csv')\n",
    "# atypicality_annotation_df = atypicality_annotation_df.dropna(subset=['image_url'])\n",
    "# atypicality_annotation_df['ads_id'] = atypicality_annotation_df.image_url.apply(lambda x: '/'.join(x.split('/')[-2:]))\n",
    "\n",
    "available_ads = overlapping_ads_id # list(set(atypicality_annotation_df.ads_id.values))\n",
    "len(available_ads)"
   ]
  },
  {
   "cell_type": "code",
   "execution_count": 7,
   "metadata": {},
   "outputs": [
    {
     "data": {
      "text/plain": [
       "(0, 0, 4000)"
      ]
     },
     "execution_count": 7,
     "metadata": {},
     "output_type": "execute_result"
    }
   ],
   "source": [
    "duplicate_count = 0\n",
    "no_data_count = 0\n",
    "to_remove = []\n",
    "for ads_id in available_ads:\n",
    "    if ads_id in existing_ids:\n",
    "        duplicate_count += 1\n",
    "        to_remove.append(ads_id)\n",
    "    if ads_id not in topic_data:\n",
    "        no_data_count += 1\n",
    "        to_remove.append(ads_id)\n",
    "for ads_id in set(to_remove):\n",
    "    available_ads.remove(ads_id)\n",
    "    \n",
    "duplicate_count, no_data_count, len(available_ads)"
   ]
  },
  {
   "cell_type": "code",
   "execution_count": 8,
   "metadata": {},
   "outputs": [
    {
     "data": {
      "text/html": [
       "<div>\n",
       "<style scoped>\n",
       "    .dataframe tbody tr th:only-of-type {\n",
       "        vertical-align: middle;\n",
       "    }\n",
       "\n",
       "    .dataframe tbody tr th {\n",
       "        vertical-align: top;\n",
       "    }\n",
       "\n",
       "    .dataframe thead th {\n",
       "        text-align: right;\n",
       "    }\n",
       "</style>\n",
       "<table border=\"1\" class=\"dataframe\">\n",
       "  <thead>\n",
       "    <tr style=\"text-align: right;\">\n",
       "      <th></th>\n",
       "      <th>ads_id</th>\n",
       "      <th>topic</th>\n",
       "    </tr>\n",
       "  </thead>\n",
       "  <tbody>\n",
       "    <tr>\n",
       "      <th>0</th>\n",
       "      <td>10/170489.png</td>\n",
       "      <td>2</td>\n",
       "    </tr>\n",
       "    <tr>\n",
       "      <th>1</th>\n",
       "      <td>10/173962.png</td>\n",
       "      <td>7</td>\n",
       "    </tr>\n",
       "    <tr>\n",
       "      <th>2</th>\n",
       "      <td>10/170037.png</td>\n",
       "      <td>19</td>\n",
       "    </tr>\n",
       "    <tr>\n",
       "      <th>3</th>\n",
       "      <td>10/171489.png</td>\n",
       "      <td>18</td>\n",
       "    </tr>\n",
       "    <tr>\n",
       "      <th>4</th>\n",
       "      <td>10/170720.png</td>\n",
       "      <td>1</td>\n",
       "    </tr>\n",
       "  </tbody>\n",
       "</table>\n",
       "</div>"
      ],
      "text/plain": [
       "          ads_id  topic\n",
       "0  10/170489.png      2\n",
       "1  10/173962.png      7\n",
       "2  10/170037.png     19\n",
       "3  10/171489.png     18\n",
       "4  10/170720.png      1"
      ]
     },
     "execution_count": 8,
     "metadata": {},
     "output_type": "execute_result"
    }
   ],
   "source": [
    "available_ads_topics = [get_majority(topic_data[ads_id]) for ads_id in available_ads]\n",
    "available_ads_df = pd.DataFrame({'ads_id': available_ads, 'topic': available_ads_topics})\n",
    "def clean_topic(t):\n",
    "    try:\n",
    "        return int(t)\n",
    "    except:\n",
    "        return\n",
    "available_ads_df.topic = available_ads_df.topic.apply(clean_topic)\n",
    "available_ads_df = available_ads_df.dropna().reset_index(drop = True)\n",
    "available_ads_df.head()"
   ]
  },
  {
   "cell_type": "code",
   "execution_count": 9,
   "metadata": {},
   "outputs": [
    {
     "data": {
      "text/plain": [
       "(4000, 2)"
      ]
     },
     "execution_count": 9,
     "metadata": {},
     "output_type": "execute_result"
    }
   ],
   "source": [
    "available_ads_df.shape"
   ]
  },
  {
   "cell_type": "code",
   "execution_count": null,
   "metadata": {},
   "outputs": [],
   "source": []
  },
  {
   "cell_type": "code",
   "execution_count": null,
   "metadata": {},
   "outputs": [],
   "source": []
  },
  {
   "cell_type": "markdown",
   "metadata": {},
   "source": [
    "# 2 Topic Sampling\n",
    "food\n",
    "1. \"Restaurants, cafe, fast food\" (ABBREVIATION: \"restaurant\")\n",
    "2. \"Chocolate, cookies, candy, ice cream\" (ABBREVIATION: \"chocolate\")\n",
    "3. \"Chips, snacks, nuts, fruit, gum, cereal, yogurt, soups\" (ABBREVIATION: \"chips\")\n",
    "4. \"Seasoning, condiments, ketchup\" (ABBREVIATION: \"seasoning\")\n",
    "\n",
    "5. \"Pet food\" (ABBREVIATION: \"petfood\")\n",
    "\n",
    "drinks\n",
    "6. \"Alcohol\" (ABBREVIATION: \"alcohol\")\n",
    "7. \"Coffee, tea\" (ABBREVIATION: \"coffee\")\n",
    "8. \"Soda, juice, milk, energy drinks, water\" (ABBREVIATION: \"soda\")\n",
    "\n",
    "cars\n",
    "9. \"Cars, automobiles (car sales, auto parts, car insurance, car repair, gas, motor oil, etc.)\" (ABBREVIATION: \"cars\")\n",
    "\n",
    "electronics\n",
    "10. \"Electronics (computers, laptops, tablets, cellphones, TVs, etc.)\" (ABBREVIATION: \"electronics\")\n",
    "\n",
    "services\n",
    "11. \"Phone, TV and internet service providers\" (ABBREVIATION: \"phone_tv_internet_providers\")\n",
    "12. \"Financial services (banks, credit cards, investment firms, etc.)\" (ABBREVIATION: \"financial\")\n",
    "14. \"Security and safety services (anti-theft, safety courses, etc.)\" (ABBREVIATION: \"security\")\n",
    "15. \"Software (internet radio, streaming, job search website, grammar correction, travel planning, etc.)\" (ABBREVIATION: \"software\")\n",
    "16. \"Other services (dating, tax, legal, loan, religious, printing, catering, etc.)\" (ABBREVIATION: \"other_service\")\n",
    "\n",
    "education\n",
    "13. \"Education (universities, colleges, kindergarten, online degrees, etc.)\" (ABBREVIATION: \"education\")\n",
    "\n",
    "beauty\n",
    "17. \"Beauty products and cosmetics (deodorants, toothpaste, makeup, hair products, laser hair removal, etc.)\" (ABBREVIATION: \"beauty\")\n",
    "\n",
    "healthcare\n",
    "18. \"Healthcare and medications (hospitals, health insurance, allergy, cold remedy, home tests, vitamins)\" (ABBREVIATION: \"healthcare\")\n",
    "\n",
    "clothing\n",
    "19. \"Clothing and accessories (jeans, shoes, eye glasses, handbags, watches, jewelry)\" (ABBREVIATION: \"clothing\")\n",
    "\n",
    "home\n",
    "22. \"Cleaning products (detergents, fabric softeners, soap, tissues, paper towels, etc.)\" (ABBREVIATION: \"cleaning\")\n",
    "23. \"Home improvements and repairs (furniture, decoration, lawn care, plumbing, etc.)\" (ABBREVIATION: \"home_improvement\")\n",
    "24. \"Home appliances (coffee makers, dishwashers, cookware, vacuum cleaners, heaters, music players, etc.)\" (ABBREVIATION: \"home_appliance\")\n",
    "20. \"Baby products (baby food, sippy cups, diapers, etc.)\" (ABBREVIATION: \"baby\")\n",
    "\n",
    "leisure\n",
    "21. \"Games and toys (including video and mobile games)\" (ABBREVIATION: \"game\")\n",
    "25. \"Vacation and travel (airlines, cruises, theme parks, hotels, travel agents, etc.)\" (ABBREVIATION: \"travel\")\n",
    "26. \"Media and arts (TV shows, movies, musicals, books, audio books, etc.)\" (ABBREVIATION: \"media\")\n",
    "27. \"Sports equipment and activities\" (ABBREVIATION: \"sports\")\n",
    "29. \"Gambling (lotteries, casinos, etc.)\" (ABBREVIATION: \"gambling\")\n",
    "\n",
    "shopping\n",
    "28. \"Shopping (department stores, drug stores, groceries, etc.)\" (ABBREVIATION: \"shopping\")\n",
    "\n",
    "social goods\n",
    "30. \"Environment, nature, pollution, wildlife\" (ABBREVIATION: \"environment\")\n",
    "31. \"Animal rights, animal abuse\" (ABBREVIATION: \"animal_right\")\n",
    "32. \"Human rights\" (ABBREVIATION: \"human_right\")\n",
    "33. \"Safety, safe driving, fire safety\" (ABBREVIATION: \"safety\")\n",
    "34. \"Smoking, alcohol abuse\" (ABBREVIATION: \"smoking_alcohol_abuse\")\n",
    "35. \"Domestic violence\" (ABBREVIATION: \"domestic_violence\")\n",
    "36. \"Self esteem, bullying, cyber bullying\" (ABBREVIATION: \"self_esteem\")\n",
    "38. \"Charities\" (ABBREVIATION: \"charities\")\n",
    "\n",
    "37. \"Political candidates (support or opposition)\" (ABBREVIATION: \"political\")\n",
    "39. \"Unclear\""
   ]
  },
  {
   "cell_type": "code",
   "execution_count": 10,
   "metadata": {},
   "outputs": [],
   "source": [
    "cat2topics = {\n",
    "    'food': [1, 2, 3, 4],\n",
    "    'pet': [5],\n",
    "    'drinks': [6, 7, 8],\n",
    "    'automobile':[9],\n",
    "    'electronics': [10],\n",
    "    'service': [11, 12, 14, 15, 16],\n",
    "    'education': [13],\n",
    "    'beauty': [17],\n",
    "    'healthcare': [18],\n",
    "    'clothing': [19],\n",
    "    'home': [20, 22, 23, 24],\n",
    "    'leisure': [21, 25, 26, 27, 29],\n",
    "    'shopping': [28],\n",
    "    'non-commercial': [30, 31, 32, 33, 34, 35, 36, 37, 38],\n",
    "    'Unclear': [39]\n",
    "}\n",
    "topics2cat = {}\n",
    "for cat in cat2topics:\n",
    "    for topic in cat2topics[cat]:\n",
    "        topics2cat[topic] = cat \n",
    "# topics2cat"
   ]
  },
  {
   "cell_type": "code",
   "execution_count": 11,
   "metadata": {},
   "outputs": [],
   "source": [
    "topic2text = {}\n",
    "with open('../../pitt_ads/annotations_images/image/topics.txt', 'r') as f:\n",
    "    for line in f.readlines():\n",
    "        topic = int(line.split('.')[0])\n",
    "        topic_text = line.split('.')[1].split('(ABBREVIATION:')[0].strip()\n",
    "        topic2text[topic] = topic_text \n",
    "# topic2text"
   ]
  },
  {
   "cell_type": "code",
   "execution_count": 12,
   "metadata": {},
   "outputs": [
    {
     "name": "stdout",
     "output_type": "stream",
     "text": [
      "food: [\"Restaurants, cafe, fast food\", \"Chocolate, cookies, candy, ice cream\", \"Chips, snacks, nuts, fruit, gum, cereal, yogurt, soups\", \"Seasoning, condiments, ketchup\"]\n",
      "pet: [\"Pet food\"]\n",
      "drinks: [\"Alcohol\", \"Coffee, tea\", \"Soda, juice, milk, energy drinks, water\"]\n",
      "automobile: [\"Cars, automobiles ]\n",
      "electronics: [\"Electronics ]\n",
      "service: [\"Phone, TV and internet service providers\", \"Financial services , \"Security and safety services , \"Software , \"Other services ]\n",
      "education: [\"Education ]\n",
      "beauty: [\"Beauty products and cosmetics ]\n",
      "healthcare: [\"Healthcare and medications ]\n",
      "clothing: [\"Clothing and accessories ]\n",
      "home: [\"Baby products , \"Cleaning products , \"Home improvements and repairs , \"Home appliances ]\n",
      "leisure: [\"Games and toys , \"Vacation and travel , \"Media and arts , \"Sports equipment and activities\", \"Gambling ]\n",
      "shopping: [\"Shopping ]\n",
      "non-commercial: [\"Environment, nature, pollution, wildlife\", \"Animal rights, animal abuse\", \"Human rights\", \"Safety, safe driving, fire safety\", \"Smoking, alcohol abuse\", \"Domestic violence\", \"Self esteem, bullying, cyber bullying\", \"Political candidates , \"Charities\"]\n",
      "Unclear: [\"Unclear\"]\n"
     ]
    }
   ],
   "source": [
    "for cat in cat2topics:\n",
    "    cat_str = cat + \": [\"\n",
    "    for topic in cat2topics[cat]:\n",
    "        cat_str += topic2text[topic].split('(')[0]\n",
    "        cat_str += ', '\n",
    "    cat_str = cat_str[:-2] + ']'\n",
    "    print(cat_str)"
   ]
  },
  {
   "cell_type": "code",
   "execution_count": null,
   "metadata": {},
   "outputs": [],
   "source": []
  },
  {
   "cell_type": "code",
   "execution_count": null,
   "metadata": {},
   "outputs": [],
   "source": []
  },
  {
   "cell_type": "code",
   "execution_count": null,
   "metadata": {},
   "outputs": [],
   "source": []
  },
  {
   "cell_type": "code",
   "execution_count": 13,
   "metadata": {},
   "outputs": [],
   "source": [
    "# existing super-topic stats\n",
    "mturk_data['super_topic'] = mturk_data['topic'].apply(lambda x: topics2cat[int(x)])\n",
    "existing_data_count = dict(mturk_data.super_topic.value_counts())"
   ]
  },
  {
   "cell_type": "code",
   "execution_count": 14,
   "metadata": {},
   "outputs": [],
   "source": [
    "available_ads_df['topic_text'] = available_ads_df['topic'].apply(lambda x: topic2text[int(x)])\n",
    "available_ads_df['super_topic'] = available_ads_df['topic'].apply(lambda x: topics2cat[int(x)])"
   ]
  },
  {
   "cell_type": "code",
   "execution_count": 15,
   "metadata": {},
   "outputs": [
    {
     "data": {
      "text/plain": [
       "super_topic\n",
       "food              1521\n",
       "drinks             408\n",
       "clothing           402\n",
       "non-commercial     370\n",
       "automobile         339\n",
       "beauty             333\n",
       "service            187\n",
       "leisure            105\n",
       "electronics         96\n",
       "healthcare          84\n",
       "Name: count, dtype: int64"
      ]
     },
     "execution_count": 15,
     "metadata": {},
     "output_type": "execute_result"
    }
   ],
   "source": [
    "available_ads_df.super_topic.value_counts().iloc[:10]"
   ]
  },
  {
   "cell_type": "code",
   "execution_count": 16,
   "metadata": {},
   "outputs": [],
   "source": [
    "# super_topic_list\n",
    "# pitt_ads/mturk_data/sampled_ads_id_200.pkl\n",
    "# available_ads_df.to_csv('available_ads_102024.csv', index = False)"
   ]
  },
  {
   "cell_type": "code",
   "execution_count": 132,
   "metadata": {},
   "outputs": [
    {
     "data": {
      "text/plain": [
       "80"
      ]
     },
     "execution_count": 132,
     "metadata": {},
     "output_type": "execute_result"
    }
   ],
   "source": [
    "super_topic_list = list(available_ads_df.super_topic.value_counts().iloc[:10].index)\n",
    "\n",
    "annotation_plan = {k: 10 for k in super_topic_list}\n",
    "for k in super_topic_list:\n",
    "    if k in existing_data_count:\n",
    "        annotation_plan[k] = 10 - existing_data_count[k]\n",
    "sum(annotation_plan.values())"
   ]
  },
  {
   "cell_type": "code",
   "execution_count": 133,
   "metadata": {},
   "outputs": [
    {
     "data": {
      "text/plain": [
       "{'food': 7,\n",
       " 'drinks': 9,\n",
       " 'clothing': 6,\n",
       " 'non-commercial': 9,\n",
       " 'automobile': 7,\n",
       " 'beauty': 7,\n",
       " 'service': 9,\n",
       " 'leisure': 8,\n",
       " 'electronics': 8,\n",
       " 'healthcare': 10}"
      ]
     },
     "execution_count": 133,
     "metadata": {},
     "output_type": "execute_result"
    }
   ],
   "source": [
    "annotation_plan"
   ]
  },
  {
   "cell_type": "code",
   "execution_count": 136,
   "metadata": {},
   "outputs": [],
   "source": [
    "import random"
   ]
  },
  {
   "cell_type": "code",
   "execution_count": 139,
   "metadata": {},
   "outputs": [
    {
     "data": {
      "text/plain": [
       "80"
      ]
     },
     "execution_count": 139,
     "metadata": {},
     "output_type": "execute_result"
    }
   ],
   "source": [
    "selected_ids = []\n",
    "for k in annotation_plan:\n",
    "    tmp_available_ids = list(available_ads_df.query('super_topic == \"{}\"'.format(k)).ads_id.values)\n",
    "    selected_ids.extend(random.sample(tmp_available_ids, k = annotation_plan[k]))\n",
    "len(selected_ids)"
   ]
  },
  {
   "cell_type": "code",
   "execution_count": 141,
   "metadata": {},
   "outputs": [
    {
     "data": {
      "text/plain": [
       "80"
      ]
     },
     "execution_count": 141,
     "metadata": {},
     "output_type": "execute_result"
    }
   ],
   "source": [
    "len(set(selected_ids))"
   ]
  },
  {
   "cell_type": "markdown",
   "metadata": {},
   "source": [
    "# 3 Ads Image Pair Sampling"
   ]
  },
  {
   "cell_type": "code",
   "execution_count": null,
   "metadata": {},
   "outputs": [],
   "source": []
  },
  {
   "cell_type": "code",
   "execution_count": null,
   "metadata": {},
   "outputs": [],
   "source": []
  }
 ],
 "metadata": {
  "kernelspec": {
   "display_name": "dsml39",
   "language": "python",
   "name": "python3"
  },
  "language_info": {
   "codemirror_mode": {
    "name": "ipython",
    "version": 3
   },
   "file_extension": ".py",
   "mimetype": "text/x-python",
   "name": "python",
   "nbconvert_exporter": "python",
   "pygments_lexer": "ipython3",
   "version": "3.9.18"
  }
 },
 "nbformat": 4,
 "nbformat_minor": 2
}
